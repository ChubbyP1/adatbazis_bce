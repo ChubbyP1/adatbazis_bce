{
    "metadata": {
        "kernelspec": {
            "name": "SQL",
            "display_name": "SQL",
            "language": "sql"
        },
        "language_info": {
            "name": "sql",
            "version": ""
        }
    },
    "nbformat_minor": 2,
    "nbformat": 4,
    "cells": [
        {
            "cell_type": "markdown",
            "source": [
                "Init ZH Féléves"
            ],
            "metadata": {
                "azdata_cell_guid": "5c2b3c3a-b356-4269-806c-257b9de7f0a9"
            },
            "attachments": {}
        }
    ]
}