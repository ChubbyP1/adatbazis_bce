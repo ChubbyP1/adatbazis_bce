{
    "metadata": {
        "kernelspec": {
            "name": "SQL",
            "display_name": "SQL",
            "language": "sql"
        },
        "language_info": {
            "name": "sql",
            "version": ""
        }
    },
    "nbformat_minor": 2,
    "nbformat": 4,
    "cells": [
        {
            "cell_type": "code",
            "source": [
                "SELECT NEV AS 'Név', EMAIL, SZUL_DAT\r\n",
                "FROM Vendeg\r\n",
                "WHERE YEAR(SZUL_DAT) = 1990 AND MONTH(SZUL_DAT) >= 6 AND DAY(SZUL_DAT) >= 15\r\n",
                "ORDER BY MONTH(SZUL_DAT) ASC"
            ],
            "metadata": {
                "azdata_cell_guid": "9eb4ef66-c683-434b-8ae8-e42ba83672f8",
                "language": "sql",
                "tags": []
            },
            "outputs": [
                {
                    "output_type": "display_data",
                    "data": {
                        "text/html": "(2 rows affected)"
                    },
                    "metadata": {}
                },
                {
                    "output_type": "display_data",
                    "data": {
                        "text/html": "Total execution time: 00:00:00.004"
                    },
                    "metadata": {}
                },
                {
                    "output_type": "execute_result",
                    "metadata": {},
                    "execution_count": 6,
                    "data": {
                        "application/vnd.dataresource+json": {
                            "schema": {
                                "fields": [
                                    {
                                        "name": "Név"
                                    },
                                    {
                                        "name": "EMAIL"
                                    },
                                    {
                                        "name": "SZUL_DAT"
                                    }
                                ]
                            },
                            "data": [
                                {
                                    "Név": "Bodor Szabolcs",
                                    "EMAIL": "szabolcs.bodor@mail.hu",
                                    "SZUL_DAT": "1990-07-16"
                                },
                                {
                                    "Név": "Szabó Julianna",
                                    "EMAIL": "julianna4@gmail.com",
                                    "SZUL_DAT": "1990-09-29"
                                }
                            ]
                        },
                        "text/html": [
                            "<table>",
                            "<tr><th>Név</th><th>EMAIL</th><th>SZUL_DAT</th></tr>",
                            "<tr><td>Bodor Szabolcs</td><td>szabolcs.bodor@mail.hu</td><td>1990-07-16</td></tr>",
                            "<tr><td>Szabó Julianna</td><td>julianna4@gmail.com</td><td>1990-09-29</td></tr>",
                            "</table>"
                        ]
                    }
                }
            ],
            "execution_count": 6
        },
        {
            "cell_type": "code",
            "source": [
                "SELECT SZOBA_FK AS 'Szoba száma', COUNT(SZOBA_FK) AS 'Szobánkkénti foglalások száma'\r\n",
                "FROM Foglalas\r\n",
                "WHERE FELNOTT_SZAM > GYERMEK_SZAM AND (FELNOTT_SZAM + GYERMEK_SZAM) > 2\r\n",
                "GROUP BY SZOBA_FK"
            ],
            "metadata": {
                "azdata_cell_guid": "a0a45f20-c1d1-4611-88c9-e33d5320fa92",
                "language": "sql"
            },
            "outputs": [
                {
                    "output_type": "display_data",
                    "data": {
                        "text/html": "(123 rows affected)"
                    },
                    "metadata": {}
                },
                {
                    "output_type": "display_data",
                    "data": {
                        "text/html": "Total execution time: 00:00:00.011"
                    },
                    "metadata": {}
                },
                {
                    "output_type": "execute_result",
                    "metadata": {},
                    "execution_count": 16,
                    "data": {
                        "application/vnd.dataresource+json": {
                            "schema": {
                                "fields": [
                                    {
                                        "name": "Szoba száma"
                                    },
                                    {
                                        "name": "Szobánkkénti foglalások száma"
                                    }
                                ]
                            },
                            "data": [
                                {
                                    "Szoba száma": "1",
                                    "Szobánkkénti foglalások száma": "4"
                                },
                                {
                                    "Szoba száma": "2",
                                    "Szobánkkénti foglalások száma": "2"
                                },
                                {
                                    "Szoba száma": "3",
                                    "Szobánkkénti foglalások száma": "2"
                                },
                                {
                                    "Szoba száma": "6",
                                    "Szobánkkénti foglalások száma": "2"
                                },
                                {
                                    "Szoba száma": "8",
                                    "Szobánkkénti foglalások száma": "2"
                                },
                                {
                                    "Szoba száma": "9",
                                    "Szobánkkénti foglalások száma": "3"
                                },
                                {
                                    "Szoba száma": "10",
                                    "Szobánkkénti foglalások száma": "1"
                                },
                                {
                                    "Szoba száma": "11",
                                    "Szobánkkénti foglalások száma": "2"
                                },
                                {
                                    "Szoba száma": "12",
                                    "Szobánkkénti foglalások száma": "3"
                                },
                                {
                                    "Szoba száma": "13",
                                    "Szobánkkénti foglalások száma": "3"
                                },
                                {
                                    "Szoba száma": "14",
                                    "Szobánkkénti foglalások száma": "3"
                                },
                                {
                                    "Szoba száma": "15",
                                    "Szobánkkénti foglalások száma": "2"
                                },
                                {
                                    "Szoba száma": "16",
                                    "Szobánkkénti foglalások száma": "1"
                                },
                                {
                                    "Szoba száma": "17",
                                    "Szobánkkénti foglalások száma": "2"
                                },
                                {
                                    "Szoba száma": "18",
                                    "Szobánkkénti foglalások száma": "2"
                                },
                                {
                                    "Szoba száma": "19",
                                    "Szobánkkénti foglalások száma": "2"
                                },
                                {
                                    "Szoba száma": "20",
                                    "Szobánkkénti foglalások száma": "4"
                                },
                                {
                                    "Szoba száma": "22",
                                    "Szobánkkénti foglalások száma": "1"
                                },
                                {
                                    "Szoba száma": "24",
                                    "Szobánkkénti foglalások száma": "2"
                                },
                                {
                                    "Szoba száma": "25",
                                    "Szobánkkénti foglalások száma": "1"
                                },
                                {
                                    "Szoba száma": "27",
                                    "Szobánkkénti foglalások száma": "5"
                                },
                                {
                                    "Szoba száma": "28",
                                    "Szobánkkénti foglalások száma": "1"
                                },
                                {
                                    "Szoba száma": "30",
                                    "Szobánkkénti foglalások száma": "1"
                                },
                                {
                                    "Szoba száma": "31",
                                    "Szobánkkénti foglalások száma": "1"
                                },
                                {
                                    "Szoba száma": "33",
                                    "Szobánkkénti foglalások száma": "2"
                                },
                                {
                                    "Szoba száma": "34",
                                    "Szobánkkénti foglalások száma": "1"
                                },
                                {
                                    "Szoba száma": "35",
                                    "Szobánkkénti foglalások száma": "3"
                                },
                                {
                                    "Szoba száma": "36",
                                    "Szobánkkénti foglalások száma": "3"
                                },
                                {
                                    "Szoba száma": "38",
                                    "Szobánkkénti foglalások száma": "2"
                                },
                                {
                                    "Szoba száma": "40",
                                    "Szobánkkénti foglalások száma": "2"
                                },
                                {
                                    "Szoba száma": "41",
                                    "Szobánkkénti foglalások száma": "1"
                                },
                                {
                                    "Szoba száma": "42",
                                    "Szobánkkénti foglalások száma": "2"
                                },
                                {
                                    "Szoba száma": "43",
                                    "Szobánkkénti foglalások száma": "1"
                                },
                                {
                                    "Szoba száma": "44",
                                    "Szobánkkénti foglalások száma": "6"
                                },
                                {
                                    "Szoba száma": "48",
                                    "Szobánkkénti foglalások száma": "5"
                                },
                                {
                                    "Szoba száma": "49",
                                    "Szobánkkénti foglalások száma": "3"
                                },
                                {
                                    "Szoba száma": "51",
                                    "Szobánkkénti foglalások száma": "1"
                                },
                                {
                                    "Szoba száma": "52",
                                    "Szobánkkénti foglalások száma": "1"
                                },
                                {
                                    "Szoba száma": "55",
                                    "Szobánkkénti foglalások száma": "2"
                                },
                                {
                                    "Szoba száma": "58",
                                    "Szobánkkénti foglalások száma": "3"
                                },
                                {
                                    "Szoba száma": "59",
                                    "Szobánkkénti foglalások száma": "2"
                                },
                                {
                                    "Szoba száma": "61",
                                    "Szobánkkénti foglalások száma": "3"
                                },
                                {
                                    "Szoba száma": "66",
                                    "Szobánkkénti foglalások száma": "3"
                                },
                                {
                                    "Szoba száma": "69",
                                    "Szobánkkénti foglalások száma": "1"
                                },
                                {
                                    "Szoba száma": "70",
                                    "Szobánkkénti foglalások száma": "4"
                                },
                                {
                                    "Szoba száma": "71",
                                    "Szobánkkénti foglalások száma": "2"
                                },
                                {
                                    "Szoba száma": "73",
                                    "Szobánkkénti foglalások száma": "1"
                                },
                                {
                                    "Szoba száma": "74",
                                    "Szobánkkénti foglalások száma": "7"
                                },
                                {
                                    "Szoba száma": "75",
                                    "Szobánkkénti foglalások száma": "1"
                                },
                                {
                                    "Szoba száma": "77",
                                    "Szobánkkénti foglalások száma": "1"
                                },
                                {
                                    "Szoba száma": "78",
                                    "Szobánkkénti foglalások száma": "1"
                                },
                                {
                                    "Szoba száma": "79",
                                    "Szobánkkénti foglalások száma": "3"
                                },
                                {
                                    "Szoba száma": "80",
                                    "Szobánkkénti foglalások száma": "1"
                                },
                                {
                                    "Szoba száma": "82",
                                    "Szobánkkénti foglalások száma": "4"
                                },
                                {
                                    "Szoba száma": "83",
                                    "Szobánkkénti foglalások száma": "3"
                                },
                                {
                                    "Szoba száma": "84",
                                    "Szobánkkénti foglalások száma": "1"
                                },
                                {
                                    "Szoba száma": "85",
                                    "Szobánkkénti foglalások száma": "1"
                                },
                                {
                                    "Szoba száma": "86",
                                    "Szobánkkénti foglalások száma": "1"
                                },
                                {
                                    "Szoba száma": "87",
                                    "Szobánkkénti foglalások száma": "3"
                                },
                                {
                                    "Szoba száma": "88",
                                    "Szobánkkénti foglalások száma": "4"
                                },
                                {
                                    "Szoba száma": "89",
                                    "Szobánkkénti foglalások száma": "6"
                                },
                                {
                                    "Szoba száma": "90",
                                    "Szobánkkénti foglalások száma": "2"
                                },
                                {
                                    "Szoba száma": "92",
                                    "Szobánkkénti foglalások száma": "5"
                                },
                                {
                                    "Szoba száma": "93",
                                    "Szobánkkénti foglalások száma": "2"
                                },
                                {
                                    "Szoba száma": "96",
                                    "Szobánkkénti foglalások száma": "4"
                                },
                                {
                                    "Szoba száma": "97",
                                    "Szobánkkénti foglalások száma": "3"
                                },
                                {
                                    "Szoba száma": "104",
                                    "Szobánkkénti foglalások száma": "2"
                                },
                                {
                                    "Szoba száma": "107",
                                    "Szobánkkénti foglalások száma": "2"
                                },
                                {
                                    "Szoba száma": "109",
                                    "Szobánkkénti foglalások száma": "1"
                                },
                                {
                                    "Szoba száma": "111",
                                    "Szobánkkénti foglalások száma": "1"
                                },
                                {
                                    "Szoba száma": "112",
                                    "Szobánkkénti foglalások száma": "4"
                                },
                                {
                                    "Szoba száma": "113",
                                    "Szobánkkénti foglalások száma": "2"
                                },
                                {
                                    "Szoba száma": "114",
                                    "Szobánkkénti foglalások száma": "1"
                                },
                                {
                                    "Szoba száma": "115",
                                    "Szobánkkénti foglalások száma": "4"
                                },
                                {
                                    "Szoba száma": "117",
                                    "Szobánkkénti foglalások száma": "3"
                                },
                                {
                                    "Szoba száma": "120",
                                    "Szobánkkénti foglalások száma": "1"
                                },
                                {
                                    "Szoba száma": "121",
                                    "Szobánkkénti foglalások száma": "1"
                                },
                                {
                                    "Szoba száma": "122",
                                    "Szobánkkénti foglalások száma": "3"
                                },
                                {
                                    "Szoba száma": "123",
                                    "Szobánkkénti foglalások száma": "3"
                                },
                                {
                                    "Szoba száma": "124",
                                    "Szobánkkénti foglalások száma": "3"
                                },
                                {
                                    "Szoba száma": "126",
                                    "Szobánkkénti foglalások száma": "1"
                                },
                                {
                                    "Szoba száma": "127",
                                    "Szobánkkénti foglalások száma": "2"
                                },
                                {
                                    "Szoba száma": "129",
                                    "Szobánkkénti foglalások száma": "2"
                                },
                                {
                                    "Szoba száma": "132",
                                    "Szobánkkénti foglalások száma": "3"
                                },
                                {
                                    "Szoba száma": "133",
                                    "Szobánkkénti foglalások száma": "3"
                                },
                                {
                                    "Szoba száma": "134",
                                    "Szobánkkénti foglalások száma": "3"
                                },
                                {
                                    "Szoba száma": "135",
                                    "Szobánkkénti foglalások száma": "1"
                                },
                                {
                                    "Szoba száma": "138",
                                    "Szobánkkénti foglalások száma": "4"
                                },
                                {
                                    "Szoba száma": "139",
                                    "Szobánkkénti foglalások száma": "2"
                                },
                                {
                                    "Szoba száma": "140",
                                    "Szobánkkénti foglalások száma": "2"
                                },
                                {
                                    "Szoba száma": "142",
                                    "Szobánkkénti foglalások száma": "1"
                                },
                                {
                                    "Szoba száma": "143",
                                    "Szobánkkénti foglalások száma": "3"
                                },
                                {
                                    "Szoba száma": "144",
                                    "Szobánkkénti foglalások száma": "2"
                                },
                                {
                                    "Szoba száma": "145",
                                    "Szobánkkénti foglalások száma": "1"
                                },
                                {
                                    "Szoba száma": "146",
                                    "Szobánkkénti foglalások száma": "3"
                                },
                                {
                                    "Szoba száma": "150",
                                    "Szobánkkénti foglalások száma": "3"
                                },
                                {
                                    "Szoba száma": "153",
                                    "Szobánkkénti foglalások száma": "3"
                                },
                                {
                                    "Szoba száma": "155",
                                    "Szobánkkénti foglalások száma": "1"
                                },
                                {
                                    "Szoba száma": "158",
                                    "Szobánkkénti foglalások száma": "3"
                                },
                                {
                                    "Szoba száma": "160",
                                    "Szobánkkénti foglalások száma": "2"
                                },
                                {
                                    "Szoba száma": "161",
                                    "Szobánkkénti foglalások száma": "1"
                                },
                                {
                                    "Szoba száma": "162",
                                    "Szobánkkénti foglalások száma": "2"
                                },
                                {
                                    "Szoba száma": "166",
                                    "Szobánkkénti foglalások száma": "1"
                                },
                                {
                                    "Szoba száma": "167",
                                    "Szobánkkénti foglalások száma": "1"
                                },
                                {
                                    "Szoba száma": "169",
                                    "Szobánkkénti foglalások száma": "1"
                                },
                                {
                                    "Szoba száma": "171",
                                    "Szobánkkénti foglalások száma": "1"
                                },
                                {
                                    "Szoba száma": "176",
                                    "Szobánkkénti foglalások száma": "2"
                                },
                                {
                                    "Szoba száma": "177",
                                    "Szobánkkénti foglalások száma": "1"
                                },
                                {
                                    "Szoba száma": "178",
                                    "Szobánkkénti foglalások száma": "1"
                                },
                                {
                                    "Szoba száma": "179",
                                    "Szobánkkénti foglalások száma": "2"
                                },
                                {
                                    "Szoba száma": "180",
                                    "Szobánkkénti foglalások száma": "1"
                                },
                                {
                                    "Szoba száma": "181",
                                    "Szobánkkénti foglalások száma": "5"
                                },
                                {
                                    "Szoba száma": "183",
                                    "Szobánkkénti foglalások száma": "2"
                                },
                                {
                                    "Szoba száma": "185",
                                    "Szobánkkénti foglalások száma": "9"
                                },
                                {
                                    "Szoba száma": "186",
                                    "Szobánkkénti foglalások száma": "1"
                                },
                                {
                                    "Szoba száma": "187",
                                    "Szobánkkénti foglalások száma": "4"
                                },
                                {
                                    "Szoba száma": "188",
                                    "Szobánkkénti foglalások száma": "2"
                                },
                                {
                                    "Szoba száma": "191",
                                    "Szobánkkénti foglalások száma": "1"
                                },
                                {
                                    "Szoba száma": "192",
                                    "Szobánkkénti foglalások száma": "1"
                                },
                                {
                                    "Szoba száma": "193",
                                    "Szobánkkénti foglalások száma": "2"
                                },
                                {
                                    "Szoba száma": "194",
                                    "Szobánkkénti foglalások száma": "1"
                                },
                                {
                                    "Szoba száma": "197",
                                    "Szobánkkénti foglalások száma": "5"
                                },
                                {
                                    "Szoba száma": "198",
                                    "Szobánkkénti foglalások száma": "5"
                                }
                            ]
                        },
                        "text/html": [
                            "<table>",
                            "<tr><th>Szoba száma</th><th>Szobánkkénti foglalások száma</th></tr>",
                            "<tr><td>1</td><td>4</td></tr>",
                            "<tr><td>2</td><td>2</td></tr>",
                            "<tr><td>3</td><td>2</td></tr>",
                            "<tr><td>6</td><td>2</td></tr>",
                            "<tr><td>8</td><td>2</td></tr>",
                            "<tr><td>9</td><td>3</td></tr>",
                            "<tr><td>10</td><td>1</td></tr>",
                            "<tr><td>11</td><td>2</td></tr>",
                            "<tr><td>12</td><td>3</td></tr>",
                            "<tr><td>13</td><td>3</td></tr>",
                            "<tr><td>14</td><td>3</td></tr>",
                            "<tr><td>15</td><td>2</td></tr>",
                            "<tr><td>16</td><td>1</td></tr>",
                            "<tr><td>17</td><td>2</td></tr>",
                            "<tr><td>18</td><td>2</td></tr>",
                            "<tr><td>19</td><td>2</td></tr>",
                            "<tr><td>20</td><td>4</td></tr>",
                            "<tr><td>22</td><td>1</td></tr>",
                            "<tr><td>24</td><td>2</td></tr>",
                            "<tr><td>25</td><td>1</td></tr>",
                            "<tr><td>27</td><td>5</td></tr>",
                            "<tr><td>28</td><td>1</td></tr>",
                            "<tr><td>30</td><td>1</td></tr>",
                            "<tr><td>31</td><td>1</td></tr>",
                            "<tr><td>33</td><td>2</td></tr>",
                            "<tr><td>34</td><td>1</td></tr>",
                            "<tr><td>35</td><td>3</td></tr>",
                            "<tr><td>36</td><td>3</td></tr>",
                            "<tr><td>38</td><td>2</td></tr>",
                            "<tr><td>40</td><td>2</td></tr>",
                            "<tr><td>41</td><td>1</td></tr>",
                            "<tr><td>42</td><td>2</td></tr>",
                            "<tr><td>43</td><td>1</td></tr>",
                            "<tr><td>44</td><td>6</td></tr>",
                            "<tr><td>48</td><td>5</td></tr>",
                            "<tr><td>49</td><td>3</td></tr>",
                            "<tr><td>51</td><td>1</td></tr>",
                            "<tr><td>52</td><td>1</td></tr>",
                            "<tr><td>55</td><td>2</td></tr>",
                            "<tr><td>58</td><td>3</td></tr>",
                            "<tr><td>59</td><td>2</td></tr>",
                            "<tr><td>61</td><td>3</td></tr>",
                            "<tr><td>66</td><td>3</td></tr>",
                            "<tr><td>69</td><td>1</td></tr>",
                            "<tr><td>70</td><td>4</td></tr>",
                            "<tr><td>71</td><td>2</td></tr>",
                            "<tr><td>73</td><td>1</td></tr>",
                            "<tr><td>74</td><td>7</td></tr>",
                            "<tr><td>75</td><td>1</td></tr>",
                            "<tr><td>77</td><td>1</td></tr>",
                            "<tr><td>78</td><td>1</td></tr>",
                            "<tr><td>79</td><td>3</td></tr>",
                            "<tr><td>80</td><td>1</td></tr>",
                            "<tr><td>82</td><td>4</td></tr>",
                            "<tr><td>83</td><td>3</td></tr>",
                            "<tr><td>84</td><td>1</td></tr>",
                            "<tr><td>85</td><td>1</td></tr>",
                            "<tr><td>86</td><td>1</td></tr>",
                            "<tr><td>87</td><td>3</td></tr>",
                            "<tr><td>88</td><td>4</td></tr>",
                            "<tr><td>89</td><td>6</td></tr>",
                            "<tr><td>90</td><td>2</td></tr>",
                            "<tr><td>92</td><td>5</td></tr>",
                            "<tr><td>93</td><td>2</td></tr>",
                            "<tr><td>96</td><td>4</td></tr>",
                            "<tr><td>97</td><td>3</td></tr>",
                            "<tr><td>104</td><td>2</td></tr>",
                            "<tr><td>107</td><td>2</td></tr>",
                            "<tr><td>109</td><td>1</td></tr>",
                            "<tr><td>111</td><td>1</td></tr>",
                            "<tr><td>112</td><td>4</td></tr>",
                            "<tr><td>113</td><td>2</td></tr>",
                            "<tr><td>114</td><td>1</td></tr>",
                            "<tr><td>115</td><td>4</td></tr>",
                            "<tr><td>117</td><td>3</td></tr>",
                            "<tr><td>120</td><td>1</td></tr>",
                            "<tr><td>121</td><td>1</td></tr>",
                            "<tr><td>122</td><td>3</td></tr>",
                            "<tr><td>123</td><td>3</td></tr>",
                            "<tr><td>124</td><td>3</td></tr>",
                            "<tr><td>126</td><td>1</td></tr>",
                            "<tr><td>127</td><td>2</td></tr>",
                            "<tr><td>129</td><td>2</td></tr>",
                            "<tr><td>132</td><td>3</td></tr>",
                            "<tr><td>133</td><td>3</td></tr>",
                            "<tr><td>134</td><td>3</td></tr>",
                            "<tr><td>135</td><td>1</td></tr>",
                            "<tr><td>138</td><td>4</td></tr>",
                            "<tr><td>139</td><td>2</td></tr>",
                            "<tr><td>140</td><td>2</td></tr>",
                            "<tr><td>142</td><td>1</td></tr>",
                            "<tr><td>143</td><td>3</td></tr>",
                            "<tr><td>144</td><td>2</td></tr>",
                            "<tr><td>145</td><td>1</td></tr>",
                            "<tr><td>146</td><td>3</td></tr>",
                            "<tr><td>150</td><td>3</td></tr>",
                            "<tr><td>153</td><td>3</td></tr>",
                            "<tr><td>155</td><td>1</td></tr>",
                            "<tr><td>158</td><td>3</td></tr>",
                            "<tr><td>160</td><td>2</td></tr>",
                            "<tr><td>161</td><td>1</td></tr>",
                            "<tr><td>162</td><td>2</td></tr>",
                            "<tr><td>166</td><td>1</td></tr>",
                            "<tr><td>167</td><td>1</td></tr>",
                            "<tr><td>169</td><td>1</td></tr>",
                            "<tr><td>171</td><td>1</td></tr>",
                            "<tr><td>176</td><td>2</td></tr>",
                            "<tr><td>177</td><td>1</td></tr>",
                            "<tr><td>178</td><td>1</td></tr>",
                            "<tr><td>179</td><td>2</td></tr>",
                            "<tr><td>180</td><td>1</td></tr>",
                            "<tr><td>181</td><td>5</td></tr>",
                            "<tr><td>183</td><td>2</td></tr>",
                            "<tr><td>185</td><td>9</td></tr>",
                            "<tr><td>186</td><td>1</td></tr>",
                            "<tr><td>187</td><td>4</td></tr>",
                            "<tr><td>188</td><td>2</td></tr>",
                            "<tr><td>191</td><td>1</td></tr>",
                            "<tr><td>192</td><td>1</td></tr>",
                            "<tr><td>193</td><td>2</td></tr>",
                            "<tr><td>194</td><td>1</td></tr>",
                            "<tr><td>197</td><td>5</td></tr>",
                            "<tr><td>198</td><td>5</td></tr>",
                            "</table>"
                        ]
                    }
                }
            ],
            "execution_count": 16
        },
        {
            "cell_type": "code",
            "source": [
                "SELECT sz.SZOBA_ID AS 'Szoba azonosító', YEAR(f.METTOL) AS 'Foglalás éve', COUNT(f.METTOL) AS 'Foglalások száma'\r\n",
                "FROM Foglalas AS f JOIN Szoba AS sz ON f.SZOBA_FK = sz.SZOBA_ID\r\n",
                "WHERE COUNT(f.METTOL) < 10\r\n",
                "GROUP BY sz.SZOBA_ID, YEAR(f.METTOL)"
            ],
            "metadata": {
                "azdata_cell_guid": "fd926946-0961-4388-a40a-ae6a15a9b5a3",
                "language": "sql",
                "tags": []
            },
            "outputs": [
                {
                    "output_type": "error",
                    "evalue": "Msg 147, Level 15, State 1, Line 3\r\nAn aggregate may not appear in the WHERE clause unless it is in a subquery contained in a HAVING clause or a select list, and the column being aggregated is an outer reference.",
                    "ename": "",
                    "traceback": []
                },
                {
                    "output_type": "display_data",
                    "data": {
                        "text/html": "Total execution time: 00:00:00.002"
                    },
                    "metadata": {}
                }
            ],
            "execution_count": 35
        }
    ]
}