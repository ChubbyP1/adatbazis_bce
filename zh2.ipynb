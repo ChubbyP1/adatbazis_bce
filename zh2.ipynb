{
    "metadata": {
        "kernelspec": {
            "name": "SQL",
            "display_name": "SQL",
            "language": "sql"
        },
        "language_info": {
            "name": "sql",
            "version": ""
        }
    },
    "nbformat_minor": 2,
    "nbformat": 4,
    "cells": [
        {
            "cell_type": "code",
            "source": [
                "SELECT \r\n",
                "    SZOBA_FK,\r\n",
                "    YEAR(METTOL) AS 'Foglalás éve',\r\n",
                "    COUNT(FOGLALAS_PK) AS 'Foglalasok száma',\r\n",
                "    SUM(FOGLALAS_PK) AS 'Részösszeg',\r\n",
                "    SUM(SUM(FOGLALAS_PK)) OVER (PARTITION BY SZOBA_FK) AS 'Végösszeg'\r\n",
                "FROM \r\n",
                "    FOGLALAS\r\n",
                "GROUP BY \r\n",
                "    SZOBA_FK,\r\n",
                "    YEAR(METTOL)\r\n",
                "HAVING \r\n",
                "    COUNT(FOGLALAS_PK) > 0;\r\n",
                ""
            ],
            "metadata": {
                "azdata_cell_guid": "76efc13c-be02-4023-ae61-4b2336cf1c82",
                "language": "sql"
            },
            "outputs": [
                {
                    "output_type": "display_data",
                    "data": {
                        "text/html": "(315 rows affected)"
                    },
                    "metadata": {}
                },
                {
                    "output_type": "display_data",
                    "data": {
                        "text/html": "Total execution time: 00:00:00.013"
                    },
                    "metadata": {}
                },
                {
                    "output_type": "execute_result",
                    "metadata": {},
                    "execution_count": 13,
                    "data": {
                        "application/vnd.dataresource+json": {
                            "schema": {
                                "fields": [
                                    {
                                        "name": "SZOBA_FK"
                                    },
                                    {
                                        "name": "Foglalás éve"
                                    },
                                    {
                                        "name": "Foglalasok száma"
                                    },
                                    {
                                        "name": "Részösszeg"
                                    },
                                    {
                                        "name": "Végösszeg"
                                    }
                                ]
                            },
                            "data": [
                                {
                                    "SZOBA_FK": "1",
                                    "Foglalás éve": "2016",
                                    "Foglalasok száma": "8",
                                    "Részösszeg": "8007",
                                    "Végösszeg": "8007"
                                },
                                {
                                    "SZOBA_FK": "2",
                                    "Foglalás éve": "2016",
                                    "Foglalasok száma": "4",
                                    "Részösszeg": "4259",
                                    "Végösszeg": "4259"
                                },
                                {
                                    "SZOBA_FK": "3",
                                    "Foglalás éve": "2016",
                                    "Foglalasok száma": "6",
                                    "Részösszeg": "5382",
                                    "Végösszeg": "8360"
                                },
                                {
                                    "SZOBA_FK": "3",
                                    "Foglalás éve": "2017",
                                    "Foglalasok száma": "2",
                                    "Részösszeg": "2978",
                                    "Végösszeg": "8360"
                                },
                                {
                                    "SZOBA_FK": "4",
                                    "Foglalás éve": "2016",
                                    "Foglalasok száma": "5",
                                    "Részösszeg": "4857",
                                    "Végösszeg": "6349"
                                },
                                {
                                    "SZOBA_FK": "4",
                                    "Foglalás éve": "2017",
                                    "Foglalasok száma": "1",
                                    "Részösszeg": "1492",
                                    "Végösszeg": "6349"
                                },
                                {
                                    "SZOBA_FK": "5",
                                    "Foglalás éve": "2016",
                                    "Foglalasok száma": "4",
                                    "Részösszeg": "3859",
                                    "Végösszeg": "3859"
                                },
                                {
                                    "SZOBA_FK": "6",
                                    "Foglalás éve": "2016",
                                    "Foglalasok száma": "6",
                                    "Részösszeg": "5144",
                                    "Végösszeg": "5144"
                                },
                                {
                                    "SZOBA_FK": "7",
                                    "Foglalás éve": "2016",
                                    "Foglalasok száma": "6",
                                    "Részösszeg": "6061",
                                    "Végösszeg": "6061"
                                },
                                {
                                    "SZOBA_FK": "8",
                                    "Foglalás éve": "2016",
                                    "Foglalasok száma": "5",
                                    "Részösszeg": "4173",
                                    "Végösszeg": "4173"
                                },
                                {
                                    "SZOBA_FK": "9",
                                    "Foglalás éve": "2016",
                                    "Foglalasok száma": "4",
                                    "Részösszeg": "4246",
                                    "Végösszeg": "7206"
                                },
                                {
                                    "SZOBA_FK": "9",
                                    "Foglalás éve": "2017",
                                    "Foglalasok száma": "2",
                                    "Részösszeg": "2960",
                                    "Végösszeg": "7206"
                                },
                                {
                                    "SZOBA_FK": "10",
                                    "Foglalás éve": "2016",
                                    "Foglalasok száma": "4",
                                    "Részösszeg": "3473",
                                    "Végösszeg": "3473"
                                },
                                {
                                    "SZOBA_FK": "11",
                                    "Foglalás éve": "2016",
                                    "Foglalasok száma": "3",
                                    "Részösszeg": "3277",
                                    "Végösszeg": "4800"
                                },
                                {
                                    "SZOBA_FK": "11",
                                    "Foglalás éve": "2017",
                                    "Foglalasok száma": "1",
                                    "Részösszeg": "1523",
                                    "Végösszeg": "4800"
                                },
                                {
                                    "SZOBA_FK": "12",
                                    "Foglalás éve": "2016",
                                    "Foglalasok száma": "8",
                                    "Részösszeg": "7593",
                                    "Végösszeg": "9023"
                                },
                                {
                                    "SZOBA_FK": "12",
                                    "Foglalás éve": "2017",
                                    "Foglalasok száma": "1",
                                    "Részösszeg": "1430",
                                    "Végösszeg": "9023"
                                },
                                {
                                    "SZOBA_FK": "13",
                                    "Foglalás éve": "2016",
                                    "Foglalasok száma": "3",
                                    "Részösszeg": "3154",
                                    "Végösszeg": "4623"
                                },
                                {
                                    "SZOBA_FK": "13",
                                    "Foglalás éve": "2017",
                                    "Foglalasok száma": "1",
                                    "Részösszeg": "1469",
                                    "Végösszeg": "4623"
                                },
                                {
                                    "SZOBA_FK": "14",
                                    "Foglalás éve": "2016",
                                    "Foglalasok száma": "2",
                                    "Részösszeg": "1476",
                                    "Végösszeg": "3018"
                                },
                                {
                                    "SZOBA_FK": "14",
                                    "Foglalás éve": "2017",
                                    "Foglalasok száma": "1",
                                    "Részösszeg": "1542",
                                    "Végösszeg": "3018"
                                },
                                {
                                    "SZOBA_FK": "15",
                                    "Foglalás éve": "2016",
                                    "Foglalasok száma": "4",
                                    "Részösszeg": "4192",
                                    "Végösszeg": "7052"
                                },
                                {
                                    "SZOBA_FK": "15",
                                    "Foglalás éve": "2017",
                                    "Foglalasok száma": "2",
                                    "Részösszeg": "2860",
                                    "Végösszeg": "7052"
                                },
                                {
                                    "SZOBA_FK": "16",
                                    "Foglalás éve": "2016",
                                    "Foglalasok száma": "4",
                                    "Részösszeg": "3412",
                                    "Végösszeg": "4910"
                                },
                                {
                                    "SZOBA_FK": "16",
                                    "Foglalás éve": "2017",
                                    "Foglalasok száma": "1",
                                    "Részösszeg": "1498",
                                    "Végösszeg": "4910"
                                },
                                {
                                    "SZOBA_FK": "17",
                                    "Foglalás éve": "2016",
                                    "Foglalasok száma": "5",
                                    "Részösszeg": "4291",
                                    "Végösszeg": "5840"
                                },
                                {
                                    "SZOBA_FK": "17",
                                    "Foglalás éve": "2017",
                                    "Foglalasok száma": "1",
                                    "Részösszeg": "1549",
                                    "Végösszeg": "5840"
                                },
                                {
                                    "SZOBA_FK": "18",
                                    "Foglalás éve": "2016",
                                    "Foglalasok száma": "5",
                                    "Részösszeg": "4799",
                                    "Végösszeg": "6304"
                                },
                                {
                                    "SZOBA_FK": "18",
                                    "Foglalás éve": "2017",
                                    "Foglalasok száma": "1",
                                    "Részösszeg": "1505",
                                    "Végösszeg": "6304"
                                },
                                {
                                    "SZOBA_FK": "19",
                                    "Foglalás éve": "2016",
                                    "Foglalasok száma": "5",
                                    "Részösszeg": "4798",
                                    "Végösszeg": "6331"
                                },
                                {
                                    "SZOBA_FK": "19",
                                    "Foglalás éve": "2017",
                                    "Foglalasok száma": "1",
                                    "Részösszeg": "1533",
                                    "Végösszeg": "6331"
                                },
                                {
                                    "SZOBA_FK": "20",
                                    "Foglalás éve": "2016",
                                    "Foglalasok száma": "5",
                                    "Részösszeg": "4865",
                                    "Végösszeg": "4865"
                                },
                                {
                                    "SZOBA_FK": "21",
                                    "Foglalás éve": "2016",
                                    "Foglalasok száma": "4",
                                    "Részösszeg": "3243",
                                    "Végösszeg": "3243"
                                },
                                {
                                    "SZOBA_FK": "22",
                                    "Foglalás éve": "2016",
                                    "Foglalasok száma": "6",
                                    "Részösszeg": "6729",
                                    "Végösszeg": "6729"
                                },
                                {
                                    "SZOBA_FK": "23",
                                    "Foglalás éve": "2016",
                                    "Foglalasok száma": "3",
                                    "Részösszeg": "2727",
                                    "Végösszeg": "2727"
                                },
                                {
                                    "SZOBA_FK": "24",
                                    "Foglalás éve": "2016",
                                    "Foglalasok száma": "2",
                                    "Részösszeg": "2019",
                                    "Végösszeg": "3434"
                                },
                                {
                                    "SZOBA_FK": "24",
                                    "Foglalás éve": "2017",
                                    "Foglalasok száma": "1",
                                    "Részösszeg": "1415",
                                    "Végösszeg": "3434"
                                },
                                {
                                    "SZOBA_FK": "25",
                                    "Foglalás éve": "2016",
                                    "Foglalasok száma": "2",
                                    "Részösszeg": "2414",
                                    "Végösszeg": "2414"
                                },
                                {
                                    "SZOBA_FK": "26",
                                    "Foglalás éve": "2016",
                                    "Foglalasok száma": "2",
                                    "Részösszeg": "2546",
                                    "Végösszeg": "2546"
                                },
                                {
                                    "SZOBA_FK": "27",
                                    "Foglalás éve": "2016",
                                    "Foglalasok száma": "6",
                                    "Részösszeg": "6330",
                                    "Végösszeg": "7806"
                                },
                                {
                                    "SZOBA_FK": "27",
                                    "Foglalás éve": "2017",
                                    "Foglalasok száma": "1",
                                    "Részösszeg": "1476",
                                    "Végösszeg": "7806"
                                },
                                {
                                    "SZOBA_FK": "28",
                                    "Foglalás éve": "2016",
                                    "Foglalasok száma": "5",
                                    "Részösszeg": "4534",
                                    "Végösszeg": "5993"
                                },
                                {
                                    "SZOBA_FK": "28",
                                    "Foglalás éve": "2017",
                                    "Foglalasok száma": "1",
                                    "Részösszeg": "1459",
                                    "Végösszeg": "5993"
                                },
                                {
                                    "SZOBA_FK": "29",
                                    "Foglalás éve": "2016",
                                    "Foglalasok száma": "5",
                                    "Részösszeg": "5001",
                                    "Végösszeg": "6569"
                                },
                                {
                                    "SZOBA_FK": "29",
                                    "Foglalás éve": "2017",
                                    "Foglalasok száma": "1",
                                    "Részösszeg": "1568",
                                    "Végösszeg": "6569"
                                },
                                {
                                    "SZOBA_FK": "30",
                                    "Foglalás éve": "2016",
                                    "Foglalasok száma": "3",
                                    "Részösszeg": "2763",
                                    "Végösszeg": "2763"
                                },
                                {
                                    "SZOBA_FK": "31",
                                    "Foglalás éve": "2016",
                                    "Foglalasok száma": "3",
                                    "Részösszeg": "1932",
                                    "Végösszeg": "1932"
                                },
                                {
                                    "SZOBA_FK": "32",
                                    "Foglalás éve": "2016",
                                    "Foglalasok száma": "1",
                                    "Részösszeg": "920",
                                    "Végösszeg": "920"
                                },
                                {
                                    "SZOBA_FK": "33",
                                    "Foglalás éve": "2016",
                                    "Foglalasok száma": "6",
                                    "Részösszeg": "6735",
                                    "Végösszeg": "6735"
                                },
                                {
                                    "SZOBA_FK": "34",
                                    "Foglalás éve": "2016",
                                    "Foglalasok száma": "4",
                                    "Részösszeg": "3372",
                                    "Végösszeg": "3372"
                                },
                                {
                                    "SZOBA_FK": "35",
                                    "Foglalás éve": "2016",
                                    "Foglalasok száma": "6",
                                    "Részösszeg": "5652",
                                    "Végösszeg": "10028"
                                },
                                {
                                    "SZOBA_FK": "35",
                                    "Foglalás éve": "2017",
                                    "Foglalasok száma": "3",
                                    "Részösszeg": "4376",
                                    "Végösszeg": "10028"
                                },
                                {
                                    "SZOBA_FK": "36",
                                    "Foglalás éve": "2016",
                                    "Foglalasok száma": "6",
                                    "Részösszeg": "5300",
                                    "Végösszeg": "5300"
                                },
                                {
                                    "SZOBA_FK": "37",
                                    "Foglalás éve": "2016",
                                    "Foglalasok száma": "3",
                                    "Részösszeg": "2728",
                                    "Végösszeg": "2728"
                                },
                                {
                                    "SZOBA_FK": "38",
                                    "Foglalás éve": "2016",
                                    "Foglalasok száma": "5",
                                    "Részösszeg": "5149",
                                    "Végösszeg": "9599"
                                },
                                {
                                    "SZOBA_FK": "38",
                                    "Foglalás éve": "2017",
                                    "Foglalasok száma": "3",
                                    "Részösszeg": "4450",
                                    "Végösszeg": "9599"
                                },
                                {
                                    "SZOBA_FK": "39",
                                    "Foglalás éve": "2016",
                                    "Foglalasok száma": "4",
                                    "Részösszeg": "4094",
                                    "Végösszeg": "8521"
                                },
                                {
                                    "SZOBA_FK": "39",
                                    "Foglalás éve": "2017",
                                    "Foglalasok száma": "3",
                                    "Részösszeg": "4427",
                                    "Végösszeg": "8521"
                                },
                                {
                                    "SZOBA_FK": "40",
                                    "Foglalás éve": "2016",
                                    "Foglalasok száma": "4",
                                    "Részösszeg": "3992",
                                    "Végösszeg": "3992"
                                },
                                {
                                    "SZOBA_FK": "41",
                                    "Foglalás éve": "2016",
                                    "Foglalasok száma": "2",
                                    "Részösszeg": "2104",
                                    "Végösszeg": "2104"
                                },
                                {
                                    "SZOBA_FK": "42",
                                    "Foglalás éve": "2016",
                                    "Foglalasok száma": "5",
                                    "Részösszeg": "4081",
                                    "Végösszeg": "5525"
                                },
                                {
                                    "SZOBA_FK": "42",
                                    "Foglalás éve": "2017",
                                    "Foglalasok száma": "1",
                                    "Részösszeg": "1444",
                                    "Végösszeg": "5525"
                                },
                                {
                                    "SZOBA_FK": "43",
                                    "Foglalás éve": "2016",
                                    "Foglalasok száma": "6",
                                    "Részösszeg": "6481",
                                    "Végösszeg": "9558"
                                },
                                {
                                    "SZOBA_FK": "43",
                                    "Foglalás éve": "2017",
                                    "Foglalasok száma": "2",
                                    "Részösszeg": "3077",
                                    "Végösszeg": "9558"
                                },
                                {
                                    "SZOBA_FK": "44",
                                    "Foglalás éve": "2016",
                                    "Foglalasok száma": "4",
                                    "Részösszeg": "3365",
                                    "Végösszeg": "6342"
                                },
                                {
                                    "SZOBA_FK": "44",
                                    "Foglalás éve": "2017",
                                    "Foglalasok száma": "2",
                                    "Részösszeg": "2977",
                                    "Végösszeg": "6342"
                                },
                                {
                                    "SZOBA_FK": "45",
                                    "Foglalás éve": "2016",
                                    "Foglalasok száma": "5",
                                    "Részösszeg": "4886",
                                    "Végösszeg": "4886"
                                },
                                {
                                    "SZOBA_FK": "46",
                                    "Foglalás éve": "2016",
                                    "Foglalasok száma": "3",
                                    "Részösszeg": "3230",
                                    "Végösszeg": "4745"
                                },
                                {
                                    "SZOBA_FK": "46",
                                    "Foglalás éve": "2017",
                                    "Foglalasok száma": "1",
                                    "Részösszeg": "1515",
                                    "Végösszeg": "4745"
                                },
                                {
                                    "SZOBA_FK": "47",
                                    "Foglalás éve": "2016",
                                    "Foglalasok száma": "2",
                                    "Részösszeg": "2011",
                                    "Végösszeg": "2011"
                                },
                                {
                                    "SZOBA_FK": "48",
                                    "Foglalás éve": "2016",
                                    "Foglalasok száma": "6",
                                    "Részösszeg": "5198",
                                    "Végösszeg": "9872"
                                },
                                {
                                    "SZOBA_FK": "48",
                                    "Foglalás éve": "2017",
                                    "Foglalasok száma": "3",
                                    "Részösszeg": "4674",
                                    "Végösszeg": "9872"
                                },
                                {
                                    "SZOBA_FK": "49",
                                    "Foglalás éve": "2016",
                                    "Foglalasok száma": "6",
                                    "Részösszeg": "5994",
                                    "Végösszeg": "7530"
                                },
                                {
                                    "SZOBA_FK": "49",
                                    "Foglalás éve": "2017",
                                    "Foglalasok száma": "1",
                                    "Részösszeg": "1536",
                                    "Végösszeg": "7530"
                                },
                                {
                                    "SZOBA_FK": "50",
                                    "Foglalás éve": "2016",
                                    "Foglalasok száma": "4",
                                    "Részösszeg": "4346",
                                    "Végösszeg": "4346"
                                },
                                {
                                    "SZOBA_FK": "51",
                                    "Foglalás éve": "2016",
                                    "Foglalasok száma": "3",
                                    "Részösszeg": "2841",
                                    "Végösszeg": "5868"
                                },
                                {
                                    "SZOBA_FK": "51",
                                    "Foglalás éve": "2017",
                                    "Foglalasok száma": "2",
                                    "Részösszeg": "3027",
                                    "Végösszeg": "5868"
                                },
                                {
                                    "SZOBA_FK": "52",
                                    "Foglalás éve": "2016",
                                    "Foglalasok száma": "3",
                                    "Részösszeg": "3282",
                                    "Végösszeg": "6247"
                                },
                                {
                                    "SZOBA_FK": "52",
                                    "Foglalás éve": "2017",
                                    "Foglalasok száma": "2",
                                    "Részösszeg": "2965",
                                    "Végösszeg": "6247"
                                },
                                {
                                    "SZOBA_FK": "53",
                                    "Foglalás éve": "2016",
                                    "Foglalasok száma": "2",
                                    "Részösszeg": "1842",
                                    "Végösszeg": "1842"
                                },
                                {
                                    "SZOBA_FK": "54",
                                    "Foglalás éve": "2016",
                                    "Foglalasok száma": "6",
                                    "Részösszeg": "5245",
                                    "Végösszeg": "5245"
                                },
                                {
                                    "SZOBA_FK": "55",
                                    "Foglalás éve": "2016",
                                    "Foglalasok száma": "6",
                                    "Részösszeg": "6928",
                                    "Végösszeg": "9960"
                                },
                                {
                                    "SZOBA_FK": "55",
                                    "Foglalás éve": "2017",
                                    "Foglalasok száma": "2",
                                    "Részösszeg": "3032",
                                    "Végösszeg": "9960"
                                },
                                {
                                    "SZOBA_FK": "56",
                                    "Foglalás éve": "2016",
                                    "Foglalasok száma": "2",
                                    "Részösszeg": "1773",
                                    "Végösszeg": "1773"
                                },
                                {
                                    "SZOBA_FK": "57",
                                    "Foglalás éve": "2016",
                                    "Foglalasok száma": "2",
                                    "Részösszeg": "2737",
                                    "Végösszeg": "5707"
                                },
                                {
                                    "SZOBA_FK": "57",
                                    "Foglalás éve": "2017",
                                    "Foglalasok száma": "2",
                                    "Részösszeg": "2970",
                                    "Végösszeg": "5707"
                                },
                                {
                                    "SZOBA_FK": "58",
                                    "Foglalás éve": "2016",
                                    "Foglalasok száma": "12",
                                    "Részösszeg": "13605",
                                    "Végösszeg": "15056"
                                },
                                {
                                    "SZOBA_FK": "58",
                                    "Foglalás éve": "2017",
                                    "Foglalasok száma": "1",
                                    "Részösszeg": "1451",
                                    "Végösszeg": "15056"
                                },
                                {
                                    "SZOBA_FK": "59",
                                    "Foglalás éve": "2016",
                                    "Foglalasok száma": "6",
                                    "Részösszeg": "7052",
                                    "Végösszeg": "8625"
                                },
                                {
                                    "SZOBA_FK": "59",
                                    "Foglalás éve": "2017",
                                    "Foglalasok száma": "1",
                                    "Részösszeg": "1573",
                                    "Végösszeg": "8625"
                                },
                                {
                                    "SZOBA_FK": "60",
                                    "Foglalás éve": "2016",
                                    "Foglalasok száma": "1",
                                    "Részösszeg": "676",
                                    "Végösszeg": "676"
                                },
                                {
                                    "SZOBA_FK": "61",
                                    "Foglalás éve": "2016",
                                    "Foglalasok száma": "4",
                                    "Részösszeg": "3823",
                                    "Végösszeg": "5319"
                                },
                                {
                                    "SZOBA_FK": "61",
                                    "Foglalás éve": "2017",
                                    "Foglalasok száma": "1",
                                    "Részösszeg": "1496",
                                    "Végösszeg": "5319"
                                },
                                {
                                    "SZOBA_FK": "62",
                                    "Foglalás éve": "2016",
                                    "Foglalasok száma": "4",
                                    "Részösszeg": "3657",
                                    "Végösszeg": "5083"
                                },
                                {
                                    "SZOBA_FK": "62",
                                    "Foglalás éve": "2017",
                                    "Foglalasok száma": "1",
                                    "Részösszeg": "1426",
                                    "Végösszeg": "5083"
                                },
                                {
                                    "SZOBA_FK": "63",
                                    "Foglalás éve": "2016",
                                    "Foglalasok száma": "4",
                                    "Részösszeg": "3130",
                                    "Végösszeg": "3130"
                                },
                                {
                                    "SZOBA_FK": "64",
                                    "Foglalás éve": "2016",
                                    "Foglalasok száma": "3",
                                    "Részösszeg": "3230",
                                    "Végösszeg": "7723"
                                },
                                {
                                    "SZOBA_FK": "64",
                                    "Foglalás éve": "2017",
                                    "Foglalasok száma": "3",
                                    "Részösszeg": "4493",
                                    "Végösszeg": "7723"
                                },
                                {
                                    "SZOBA_FK": "65",
                                    "Foglalás éve": "2016",
                                    "Foglalasok száma": "1",
                                    "Részösszeg": "650",
                                    "Végösszeg": "650"
                                },
                                {
                                    "SZOBA_FK": "66",
                                    "Foglalás éve": "2016",
                                    "Foglalasok száma": "4",
                                    "Részösszeg": "4184",
                                    "Végösszeg": "4184"
                                },
                                {
                                    "SZOBA_FK": "67",
                                    "Foglalás éve": "2016",
                                    "Foglalasok száma": "4",
                                    "Részösszeg": "3539",
                                    "Végösszeg": "6703"
                                },
                                {
                                    "SZOBA_FK": "67",
                                    "Foglalás éve": "2017",
                                    "Foglalasok száma": "2",
                                    "Részösszeg": "3164",
                                    "Végösszeg": "6703"
                                },
                                {
                                    "SZOBA_FK": "68",
                                    "Foglalás éve": "2016",
                                    "Foglalasok száma": "3",
                                    "Részösszeg": "2914",
                                    "Végösszeg": "2914"
                                },
                                {
                                    "SZOBA_FK": "69",
                                    "Foglalás éve": "2016",
                                    "Foglalasok száma": "4",
                                    "Részösszeg": "4411",
                                    "Végösszeg": "4411"
                                },
                                {
                                    "SZOBA_FK": "70",
                                    "Foglalás éve": "2016",
                                    "Foglalasok száma": "10",
                                    "Részösszeg": "10210",
                                    "Végösszeg": "11667"
                                },
                                {
                                    "SZOBA_FK": "70",
                                    "Foglalás éve": "2017",
                                    "Foglalasok száma": "1",
                                    "Részösszeg": "1457",
                                    "Végösszeg": "11667"
                                },
                                {
                                    "SZOBA_FK": "71",
                                    "Foglalás éve": "2016",
                                    "Foglalasok száma": "3",
                                    "Részösszeg": "2402",
                                    "Végösszeg": "2402"
                                },
                                {
                                    "SZOBA_FK": "72",
                                    "Foglalás éve": "2016",
                                    "Foglalasok száma": "4",
                                    "Részösszeg": "4577",
                                    "Végösszeg": "4577"
                                },
                                {
                                    "SZOBA_FK": "73",
                                    "Foglalás éve": "2016",
                                    "Foglalasok száma": "4",
                                    "Részösszeg": "4204",
                                    "Végösszeg": "4204"
                                },
                                {
                                    "SZOBA_FK": "74",
                                    "Foglalás éve": "2016",
                                    "Foglalasok száma": "9",
                                    "Részösszeg": "8121",
                                    "Végösszeg": "8121"
                                },
                                {
                                    "SZOBA_FK": "75",
                                    "Foglalás éve": "2016",
                                    "Foglalasok száma": "1",
                                    "Részösszeg": "1013",
                                    "Végösszeg": "3883"
                                },
                                {
                                    "SZOBA_FK": "75",
                                    "Foglalás éve": "2017",
                                    "Foglalasok száma": "2",
                                    "Részösszeg": "2870",
                                    "Végösszeg": "3883"
                                },
                                {
                                    "SZOBA_FK": "76",
                                    "Foglalás éve": "2016",
                                    "Foglalasok száma": "2",
                                    "Részösszeg": "1659",
                                    "Végösszeg": "3216"
                                },
                                {
                                    "SZOBA_FK": "76",
                                    "Foglalás éve": "2017",
                                    "Foglalasok száma": "1",
                                    "Részösszeg": "1557",
                                    "Végösszeg": "3216"
                                },
                                {
                                    "SZOBA_FK": "77",
                                    "Foglalás éve": "2016",
                                    "Foglalasok száma": "4",
                                    "Részösszeg": "3377",
                                    "Végösszeg": "6277"
                                },
                                {
                                    "SZOBA_FK": "77",
                                    "Foglalás éve": "2017",
                                    "Foglalasok száma": "2",
                                    "Részösszeg": "2900",
                                    "Végösszeg": "6277"
                                },
                                {
                                    "SZOBA_FK": "78",
                                    "Foglalás éve": "2016",
                                    "Foglalasok száma": "5",
                                    "Részösszeg": "4463",
                                    "Végösszeg": "6040"
                                },
                                {
                                    "SZOBA_FK": "78",
                                    "Foglalás éve": "2017",
                                    "Foglalasok száma": "1",
                                    "Részösszeg": "1577",
                                    "Végösszeg": "6040"
                                },
                                {
                                    "SZOBA_FK": "79",
                                    "Foglalás éve": "2016",
                                    "Foglalasok száma": "4",
                                    "Részösszeg": "4211",
                                    "Végösszeg": "5658"
                                },
                                {
                                    "SZOBA_FK": "79",
                                    "Foglalás éve": "2017",
                                    "Foglalasok száma": "1",
                                    "Részösszeg": "1447",
                                    "Végösszeg": "5658"
                                },
                                {
                                    "SZOBA_FK": "80",
                                    "Foglalás éve": "2016",
                                    "Foglalasok száma": "7",
                                    "Részösszeg": "7183",
                                    "Végösszeg": "7183"
                                },
                                {
                                    "SZOBA_FK": "81",
                                    "Foglalás éve": "2016",
                                    "Foglalasok száma": "1",
                                    "Részösszeg": "1366",
                                    "Végösszeg": "7341"
                                },
                                {
                                    "SZOBA_FK": "81",
                                    "Foglalás éve": "2017",
                                    "Foglalasok száma": "4",
                                    "Részösszeg": "5975",
                                    "Végösszeg": "7341"
                                },
                                {
                                    "SZOBA_FK": "82",
                                    "Foglalás éve": "2016",
                                    "Foglalasok száma": "6",
                                    "Részösszeg": "6754",
                                    "Végösszeg": "6754"
                                },
                                {
                                    "SZOBA_FK": "83",
                                    "Foglalás éve": "2016",
                                    "Foglalasok száma": "8",
                                    "Részösszeg": "7284",
                                    "Végösszeg": "7284"
                                },
                                {
                                    "SZOBA_FK": "84",
                                    "Foglalás éve": "2016",
                                    "Foglalasok száma": "4",
                                    "Részösszeg": "4533",
                                    "Végösszeg": "4533"
                                },
                                {
                                    "SZOBA_FK": "85",
                                    "Foglalás éve": "2016",
                                    "Foglalasok száma": "3",
                                    "Részösszeg": "3026",
                                    "Végösszeg": "4539"
                                },
                                {
                                    "SZOBA_FK": "85",
                                    "Foglalás éve": "2017",
                                    "Foglalasok száma": "1",
                                    "Részösszeg": "1513",
                                    "Végösszeg": "4539"
                                },
                                {
                                    "SZOBA_FK": "86",
                                    "Foglalás éve": "2016",
                                    "Foglalasok száma": "4",
                                    "Részösszeg": "4103",
                                    "Végösszeg": "5556"
                                },
                                {
                                    "SZOBA_FK": "86",
                                    "Foglalás éve": "2017",
                                    "Foglalasok száma": "1",
                                    "Részösszeg": "1453",
                                    "Végösszeg": "5556"
                                },
                                {
                                    "SZOBA_FK": "87",
                                    "Foglalás éve": "2016",
                                    "Foglalasok száma": "4",
                                    "Részösszeg": "3854",
                                    "Végösszeg": "5310"
                                },
                                {
                                    "SZOBA_FK": "87",
                                    "Foglalás éve": "2017",
                                    "Foglalasok száma": "1",
                                    "Részösszeg": "1456",
                                    "Végösszeg": "5310"
                                },
                                {
                                    "SZOBA_FK": "88",
                                    "Foglalás éve": "2016",
                                    "Foglalasok száma": "6",
                                    "Részösszeg": "6751",
                                    "Végösszeg": "9874"
                                },
                                {
                                    "SZOBA_FK": "88",
                                    "Foglalás éve": "2017",
                                    "Foglalasok száma": "2",
                                    "Részösszeg": "3123",
                                    "Végösszeg": "9874"
                                },
                                {
                                    "SZOBA_FK": "89",
                                    "Foglalás éve": "2016",
                                    "Foglalasok száma": "7",
                                    "Részösszeg": "8065",
                                    "Végösszeg": "9586"
                                },
                                {
                                    "SZOBA_FK": "89",
                                    "Foglalás éve": "2017",
                                    "Foglalasok száma": "1",
                                    "Részösszeg": "1521",
                                    "Végösszeg": "9586"
                                },
                                {
                                    "SZOBA_FK": "90",
                                    "Foglalás éve": "2016",
                                    "Foglalasok száma": "4",
                                    "Részösszeg": "4607",
                                    "Végösszeg": "4607"
                                },
                                {
                                    "SZOBA_FK": "91",
                                    "Foglalás éve": "2016",
                                    "Foglalasok száma": "4",
                                    "Részösszeg": "3978",
                                    "Végösszeg": "3978"
                                },
                                {
                                    "SZOBA_FK": "92",
                                    "Foglalás éve": "2016",
                                    "Foglalasok száma": "4",
                                    "Részösszeg": "3608",
                                    "Végösszeg": "6690"
                                },
                                {
                                    "SZOBA_FK": "92",
                                    "Foglalás éve": "2017",
                                    "Foglalasok száma": "2",
                                    "Részösszeg": "3082",
                                    "Végösszeg": "6690"
                                },
                                {
                                    "SZOBA_FK": "93",
                                    "Foglalás éve": "2016",
                                    "Foglalasok száma": "5",
                                    "Részösszeg": "5873",
                                    "Végösszeg": "5873"
                                },
                                {
                                    "SZOBA_FK": "94",
                                    "Foglalás éve": "2016",
                                    "Foglalasok száma": "8",
                                    "Részösszeg": "8209",
                                    "Végösszeg": "11291"
                                },
                                {
                                    "SZOBA_FK": "94",
                                    "Foglalás éve": "2017",
                                    "Foglalasok száma": "2",
                                    "Részösszeg": "3082",
                                    "Végösszeg": "11291"
                                },
                                {
                                    "SZOBA_FK": "95",
                                    "Foglalás éve": "2016",
                                    "Foglalasok száma": "3",
                                    "Részösszeg": "2801",
                                    "Végösszeg": "4344"
                                },
                                {
                                    "SZOBA_FK": "95",
                                    "Foglalás éve": "2017",
                                    "Foglalasok száma": "1",
                                    "Részösszeg": "1543",
                                    "Végösszeg": "4344"
                                },
                                {
                                    "SZOBA_FK": "96",
                                    "Foglalás éve": "2016",
                                    "Foglalasok száma": "5",
                                    "Részösszeg": "4059",
                                    "Végösszeg": "7066"
                                },
                                {
                                    "SZOBA_FK": "96",
                                    "Foglalás éve": "2017",
                                    "Foglalasok száma": "2",
                                    "Részösszeg": "3007",
                                    "Végösszeg": "7066"
                                },
                                {
                                    "SZOBA_FK": "97",
                                    "Foglalás éve": "2016",
                                    "Foglalasok száma": "5",
                                    "Részösszeg": "4310",
                                    "Végösszeg": "7255"
                                },
                                {
                                    "SZOBA_FK": "97",
                                    "Foglalás éve": "2017",
                                    "Foglalasok száma": "2",
                                    "Részösszeg": "2945",
                                    "Végösszeg": "7255"
                                },
                                {
                                    "SZOBA_FK": "98",
                                    "Foglalás éve": "2016",
                                    "Foglalasok száma": "4",
                                    "Részösszeg": "3967",
                                    "Végösszeg": "3967"
                                },
                                {
                                    "SZOBA_FK": "99",
                                    "Foglalás éve": "2016",
                                    "Foglalasok száma": "4",
                                    "Részösszeg": "3803",
                                    "Végösszeg": "5289"
                                },
                                {
                                    "SZOBA_FK": "99",
                                    "Foglalás éve": "2017",
                                    "Foglalasok száma": "1",
                                    "Részösszeg": "1486",
                                    "Végösszeg": "5289"
                                },
                                {
                                    "SZOBA_FK": "100",
                                    "Foglalás éve": "2016",
                                    "Foglalasok száma": "3",
                                    "Részösszeg": "2549",
                                    "Végösszeg": "4031"
                                },
                                {
                                    "SZOBA_FK": "100",
                                    "Foglalás éve": "2017",
                                    "Foglalasok száma": "1",
                                    "Részösszeg": "1482",
                                    "Végösszeg": "4031"
                                },
                                {
                                    "SZOBA_FK": "101",
                                    "Foglalás éve": "2016",
                                    "Foglalasok száma": "2",
                                    "Részösszeg": "2047",
                                    "Végösszeg": "3563"
                                },
                                {
                                    "SZOBA_FK": "101",
                                    "Foglalás éve": "2017",
                                    "Foglalasok száma": "1",
                                    "Részösszeg": "1516",
                                    "Végösszeg": "3563"
                                },
                                {
                                    "SZOBA_FK": "102",
                                    "Foglalás éve": "2016",
                                    "Foglalasok száma": "2",
                                    "Részösszeg": "2032",
                                    "Végösszeg": "2032"
                                },
                                {
                                    "SZOBA_FK": "103",
                                    "Foglalás éve": "2016",
                                    "Foglalasok száma": "3",
                                    "Részösszeg": "3362",
                                    "Végösszeg": "4847"
                                },
                                {
                                    "SZOBA_FK": "103",
                                    "Foglalás éve": "2017",
                                    "Foglalasok száma": "1",
                                    "Részösszeg": "1485",
                                    "Végösszeg": "4847"
                                },
                                {
                                    "SZOBA_FK": "104",
                                    "Foglalás éve": "2016",
                                    "Foglalasok száma": "2",
                                    "Részösszeg": "2017",
                                    "Végösszeg": "5071"
                                },
                                {
                                    "SZOBA_FK": "104",
                                    "Foglalás éve": "2017",
                                    "Foglalasok száma": "2",
                                    "Részösszeg": "3054",
                                    "Végösszeg": "5071"
                                },
                                {
                                    "SZOBA_FK": "105",
                                    "Foglalás éve": "2016",
                                    "Foglalasok száma": "1",
                                    "Részösszeg": "618",
                                    "Végösszeg": "2143"
                                },
                                {
                                    "SZOBA_FK": "105",
                                    "Foglalás éve": "2017",
                                    "Foglalasok száma": "1",
                                    "Részösszeg": "1525",
                                    "Végösszeg": "2143"
                                },
                                {
                                    "SZOBA_FK": "106",
                                    "Foglalás éve": "2016",
                                    "Foglalasok száma": "5",
                                    "Részösszeg": "5189",
                                    "Végösszeg": "6699"
                                },
                                {
                                    "SZOBA_FK": "106",
                                    "Foglalás éve": "2017",
                                    "Foglalasok száma": "1",
                                    "Részösszeg": "1510",
                                    "Végösszeg": "6699"
                                },
                                {
                                    "SZOBA_FK": "107",
                                    "Foglalás éve": "2016",
                                    "Foglalasok száma": "3",
                                    "Részösszeg": "3190",
                                    "Végösszeg": "6136"
                                },
                                {
                                    "SZOBA_FK": "107",
                                    "Foglalás éve": "2017",
                                    "Foglalasok száma": "2",
                                    "Részösszeg": "2946",
                                    "Végösszeg": "6136"
                                },
                                {
                                    "SZOBA_FK": "108",
                                    "Foglalás éve": "2016",
                                    "Foglalasok száma": "2",
                                    "Részösszeg": "2494",
                                    "Végösszeg": "2494"
                                },
                                {
                                    "SZOBA_FK": "109",
                                    "Foglalás éve": "2016",
                                    "Foglalasok száma": "6",
                                    "Részösszeg": "5080",
                                    "Végösszeg": "6640"
                                },
                                {
                                    "SZOBA_FK": "109",
                                    "Foglalás éve": "2017",
                                    "Foglalasok száma": "1",
                                    "Részösszeg": "1560",
                                    "Végösszeg": "6640"
                                },
                                {
                                    "SZOBA_FK": "110",
                                    "Foglalás éve": "2016",
                                    "Foglalasok száma": "6",
                                    "Részösszeg": "5892",
                                    "Végösszeg": "8805"
                                },
                                {
                                    "SZOBA_FK": "110",
                                    "Foglalás éve": "2017",
                                    "Foglalasok száma": "2",
                                    "Részösszeg": "2913",
                                    "Végösszeg": "8805"
                                },
                                {
                                    "SZOBA_FK": "111",
                                    "Foglalás éve": "2016",
                                    "Foglalasok száma": "5",
                                    "Részösszeg": "4999",
                                    "Végösszeg": "4999"
                                },
                                {
                                    "SZOBA_FK": "112",
                                    "Foglalás éve": "2016",
                                    "Foglalasok száma": "4",
                                    "Részösszeg": "3622",
                                    "Végösszeg": "5152"
                                },
                                {
                                    "SZOBA_FK": "112",
                                    "Foglalás éve": "2017",
                                    "Foglalasok száma": "1",
                                    "Részösszeg": "1530",
                                    "Végösszeg": "5152"
                                },
                                {
                                    "SZOBA_FK": "113",
                                    "Foglalás éve": "2016",
                                    "Foglalasok száma": "3",
                                    "Részösszeg": "3377",
                                    "Végösszeg": "6371"
                                },
                                {
                                    "SZOBA_FK": "113",
                                    "Foglalás éve": "2017",
                                    "Foglalasok száma": "2",
                                    "Részösszeg": "2994",
                                    "Végösszeg": "6371"
                                },
                                {
                                    "SZOBA_FK": "114",
                                    "Foglalás éve": "2016",
                                    "Foglalasok száma": "3",
                                    "Részösszeg": "2530",
                                    "Végösszeg": "4070"
                                },
                                {
                                    "SZOBA_FK": "114",
                                    "Foglalás éve": "2017",
                                    "Foglalasok száma": "1",
                                    "Részösszeg": "1540",
                                    "Végösszeg": "4070"
                                },
                                {
                                    "SZOBA_FK": "115",
                                    "Foglalás éve": "2016",
                                    "Foglalasok száma": "5",
                                    "Részösszeg": "5166",
                                    "Végösszeg": "8286"
                                },
                                {
                                    "SZOBA_FK": "115",
                                    "Foglalás éve": "2017",
                                    "Foglalasok száma": "2",
                                    "Részösszeg": "3120",
                                    "Végösszeg": "8286"
                                },
                                {
                                    "SZOBA_FK": "116",
                                    "Foglalás éve": "2017",
                                    "Foglalasok száma": "2",
                                    "Részösszeg": "2956",
                                    "Végösszeg": "2956"
                                },
                                {
                                    "SZOBA_FK": "117",
                                    "Foglalás éve": "2016",
                                    "Foglalasok száma": "7",
                                    "Részösszeg": "6585",
                                    "Végösszeg": "8053"
                                },
                                {
                                    "SZOBA_FK": "117",
                                    "Foglalás éve": "2017",
                                    "Foglalasok száma": "1",
                                    "Részösszeg": "1468",
                                    "Végösszeg": "8053"
                                },
                                {
                                    "SZOBA_FK": "118",
                                    "Foglalás éve": "2016",
                                    "Foglalasok száma": "5",
                                    "Részösszeg": "4944",
                                    "Végösszeg": "7897"
                                },
                                {
                                    "SZOBA_FK": "118",
                                    "Foglalás éve": "2017",
                                    "Foglalasok száma": "2",
                                    "Részösszeg": "2953",
                                    "Végösszeg": "7897"
                                },
                                {
                                    "SZOBA_FK": "119",
                                    "Foglalás éve": "2016",
                                    "Foglalasok száma": "3",
                                    "Részösszeg": "2454",
                                    "Végösszeg": "5355"
                                },
                                {
                                    "SZOBA_FK": "119",
                                    "Foglalás éve": "2017",
                                    "Foglalasok száma": "2",
                                    "Részösszeg": "2901",
                                    "Végösszeg": "5355"
                                },
                                {
                                    "SZOBA_FK": "120",
                                    "Foglalás éve": "2016",
                                    "Foglalasok száma": "4",
                                    "Részösszeg": "4188",
                                    "Végösszeg": "7164"
                                },
                                {
                                    "SZOBA_FK": "120",
                                    "Foglalás éve": "2017",
                                    "Foglalasok száma": "2",
                                    "Részösszeg": "2976",
                                    "Végösszeg": "7164"
                                },
                                {
                                    "SZOBA_FK": "121",
                                    "Foglalás éve": "2016",
                                    "Foglalasok száma": "8",
                                    "Részösszeg": "8490",
                                    "Végösszeg": "8490"
                                },
                                {
                                    "SZOBA_FK": "122",
                                    "Foglalás éve": "2016",
                                    "Foglalasok száma": "8",
                                    "Részösszeg": "9447",
                                    "Végösszeg": "10887"
                                },
                                {
                                    "SZOBA_FK": "122",
                                    "Foglalás éve": "2017",
                                    "Foglalasok száma": "1",
                                    "Részösszeg": "1440",
                                    "Végösszeg": "10887"
                                },
                                {
                                    "SZOBA_FK": "123",
                                    "Foglalás éve": "2016",
                                    "Foglalasok száma": "5",
                                    "Részösszeg": "4982",
                                    "Végösszeg": "4982"
                                },
                                {
                                    "SZOBA_FK": "124",
                                    "Foglalás éve": "2016",
                                    "Foglalasok száma": "4",
                                    "Részösszeg": "4804",
                                    "Végösszeg": "7754"
                                },
                                {
                                    "SZOBA_FK": "124",
                                    "Foglalás éve": "2017",
                                    "Foglalasok száma": "2",
                                    "Részösszeg": "2950",
                                    "Végösszeg": "7754"
                                },
                                {
                                    "SZOBA_FK": "125",
                                    "Foglalás éve": "2016",
                                    "Foglalasok száma": "1",
                                    "Részösszeg": "576",
                                    "Végösszeg": "576"
                                },
                                {
                                    "SZOBA_FK": "126",
                                    "Foglalás éve": "2016",
                                    "Foglalasok száma": "4",
                                    "Részösszeg": "4058",
                                    "Végösszeg": "6986"
                                },
                                {
                                    "SZOBA_FK": "126",
                                    "Foglalás éve": "2017",
                                    "Foglalasok száma": "2",
                                    "Részösszeg": "2928",
                                    "Végösszeg": "6986"
                                },
                                {
                                    "SZOBA_FK": "127",
                                    "Foglalás éve": "2016",
                                    "Foglalasok száma": "6",
                                    "Részösszeg": "5921",
                                    "Végösszeg": "7500"
                                },
                                {
                                    "SZOBA_FK": "127",
                                    "Foglalás éve": "2017",
                                    "Foglalasok száma": "1",
                                    "Részösszeg": "1579",
                                    "Végösszeg": "7500"
                                },
                                {
                                    "SZOBA_FK": "128",
                                    "Foglalás éve": "2016",
                                    "Foglalasok száma": "3",
                                    "Részösszeg": "2822",
                                    "Végösszeg": "5979"
                                },
                                {
                                    "SZOBA_FK": "128",
                                    "Foglalás éve": "2017",
                                    "Foglalasok száma": "2",
                                    "Részösszeg": "3157",
                                    "Végösszeg": "5979"
                                },
                                {
                                    "SZOBA_FK": "129",
                                    "Foglalás éve": "2016",
                                    "Foglalasok száma": "2",
                                    "Részösszeg": "2083",
                                    "Végösszeg": "5037"
                                },
                                {
                                    "SZOBA_FK": "129",
                                    "Foglalás éve": "2017",
                                    "Foglalasok száma": "2",
                                    "Részösszeg": "2954",
                                    "Végösszeg": "5037"
                                },
                                {
                                    "SZOBA_FK": "130",
                                    "Foglalás éve": "2016",
                                    "Foglalasok száma": "5",
                                    "Részösszeg": "3922",
                                    "Végösszeg": "5397"
                                },
                                {
                                    "SZOBA_FK": "130",
                                    "Foglalás éve": "2017",
                                    "Foglalasok száma": "1",
                                    "Részösszeg": "1475",
                                    "Végösszeg": "5397"
                                },
                                {
                                    "SZOBA_FK": "131",
                                    "Foglalás éve": "2016",
                                    "Foglalasok száma": "4",
                                    "Részösszeg": "2855",
                                    "Végösszeg": "4329"
                                },
                                {
                                    "SZOBA_FK": "131",
                                    "Foglalás éve": "2017",
                                    "Foglalasok száma": "1",
                                    "Részösszeg": "1474",
                                    "Végösszeg": "4329"
                                },
                                {
                                    "SZOBA_FK": "132",
                                    "Foglalás éve": "2016",
                                    "Foglalasok száma": "5",
                                    "Részösszeg": "5120",
                                    "Végösszeg": "6639"
                                },
                                {
                                    "SZOBA_FK": "132",
                                    "Foglalás éve": "2017",
                                    "Foglalasok száma": "1",
                                    "Részösszeg": "1519",
                                    "Végösszeg": "6639"
                                },
                                {
                                    "SZOBA_FK": "133",
                                    "Foglalás éve": "2016",
                                    "Foglalasok száma": "5",
                                    "Részösszeg": "5715",
                                    "Végösszeg": "7124"
                                },
                                {
                                    "SZOBA_FK": "133",
                                    "Foglalás éve": "2017",
                                    "Foglalasok száma": "1",
                                    "Részösszeg": "1409",
                                    "Végösszeg": "7124"
                                },
                                {
                                    "SZOBA_FK": "134",
                                    "Foglalás éve": "2016",
                                    "Foglalasok száma": "5",
                                    "Részösszeg": "5470",
                                    "Végösszeg": "7005"
                                },
                                {
                                    "SZOBA_FK": "134",
                                    "Foglalás éve": "2017",
                                    "Foglalasok száma": "1",
                                    "Részösszeg": "1535",
                                    "Végösszeg": "7005"
                                },
                                {
                                    "SZOBA_FK": "135",
                                    "Foglalás éve": "2016",
                                    "Foglalasok száma": "3",
                                    "Részösszeg": "2862",
                                    "Végösszeg": "2862"
                                },
                                {
                                    "SZOBA_FK": "136",
                                    "Foglalás éve": "2016",
                                    "Foglalasok száma": "3",
                                    "Részösszeg": "2291",
                                    "Végösszeg": "2291"
                                },
                                {
                                    "SZOBA_FK": "137",
                                    "Foglalás éve": "2016",
                                    "Foglalasok száma": "6",
                                    "Részösszeg": "5383",
                                    "Végösszeg": "5383"
                                },
                                {
                                    "SZOBA_FK": "138",
                                    "Foglalás éve": "2016",
                                    "Foglalasok száma": "7",
                                    "Részösszeg": "8125",
                                    "Végösszeg": "8125"
                                },
                                {
                                    "SZOBA_FK": "139",
                                    "Foglalás éve": "2016",
                                    "Foglalasok száma": "5",
                                    "Részösszeg": "4181",
                                    "Végösszeg": "7064"
                                },
                                {
                                    "SZOBA_FK": "139",
                                    "Foglalás éve": "2017",
                                    "Foglalasok száma": "2",
                                    "Részösszeg": "2883",
                                    "Végösszeg": "7064"
                                },
                                {
                                    "SZOBA_FK": "140",
                                    "Foglalás éve": "2016",
                                    "Foglalasok száma": "8",
                                    "Részösszeg": "9250",
                                    "Végösszeg": "9250"
                                },
                                {
                                    "SZOBA_FK": "141",
                                    "Foglalás éve": "2016",
                                    "Foglalasok száma": "6",
                                    "Részösszeg": "5673",
                                    "Végösszeg": "5673"
                                },
                                {
                                    "SZOBA_FK": "142",
                                    "Foglalás éve": "2016",
                                    "Foglalasok száma": "1",
                                    "Részösszeg": "1369",
                                    "Végösszeg": "2914"
                                },
                                {
                                    "SZOBA_FK": "142",
                                    "Foglalás éve": "2017",
                                    "Foglalasok száma": "1",
                                    "Részösszeg": "1545",
                                    "Végösszeg": "2914"
                                },
                                {
                                    "SZOBA_FK": "143",
                                    "Foglalás éve": "2016",
                                    "Foglalasok száma": "6",
                                    "Részösszeg": "7257",
                                    "Végösszeg": "8705"
                                },
                                {
                                    "SZOBA_FK": "143",
                                    "Foglalás éve": "2017",
                                    "Foglalasok száma": "1",
                                    "Részösszeg": "1448",
                                    "Végösszeg": "8705"
                                },
                                {
                                    "SZOBA_FK": "144",
                                    "Foglalás éve": "2016",
                                    "Foglalasok száma": "4",
                                    "Részösszeg": "4164",
                                    "Végösszeg": "5736"
                                },
                                {
                                    "SZOBA_FK": "144",
                                    "Foglalás éve": "2017",
                                    "Foglalasok száma": "1",
                                    "Részösszeg": "1572",
                                    "Végösszeg": "5736"
                                },
                                {
                                    "SZOBA_FK": "145",
                                    "Foglalás éve": "2016",
                                    "Foglalasok száma": "5",
                                    "Részösszeg": "5383",
                                    "Végösszeg": "6854"
                                },
                                {
                                    "SZOBA_FK": "145",
                                    "Foglalás éve": "2017",
                                    "Foglalasok száma": "1",
                                    "Részösszeg": "1471",
                                    "Végösszeg": "6854"
                                },
                                {
                                    "SZOBA_FK": "146",
                                    "Foglalás éve": "2016",
                                    "Foglalasok száma": "5",
                                    "Részösszeg": "4179",
                                    "Végösszeg": "5658"
                                },
                                {
                                    "SZOBA_FK": "146",
                                    "Foglalás éve": "2017",
                                    "Foglalasok száma": "1",
                                    "Részösszeg": "1479",
                                    "Végösszeg": "5658"
                                },
                                {
                                    "SZOBA_FK": "147",
                                    "Foglalás éve": "2016",
                                    "Foglalasok száma": "1",
                                    "Részösszeg": "771",
                                    "Végösszeg": "771"
                                },
                                {
                                    "SZOBA_FK": "148",
                                    "Foglalás éve": "2016",
                                    "Foglalasok száma": "5",
                                    "Részösszeg": "3846",
                                    "Végösszeg": "5424"
                                },
                                {
                                    "SZOBA_FK": "148",
                                    "Foglalás éve": "2017",
                                    "Foglalasok száma": "1",
                                    "Részösszeg": "1578",
                                    "Végösszeg": "5424"
                                },
                                {
                                    "SZOBA_FK": "149",
                                    "Foglalás éve": "2016",
                                    "Foglalasok száma": "6",
                                    "Részösszeg": "4899",
                                    "Végösszeg": "6413"
                                },
                                {
                                    "SZOBA_FK": "149",
                                    "Foglalás éve": "2017",
                                    "Foglalasok száma": "1",
                                    "Részösszeg": "1514",
                                    "Végösszeg": "6413"
                                },
                                {
                                    "SZOBA_FK": "150",
                                    "Foglalás éve": "2016",
                                    "Foglalasok száma": "5",
                                    "Részösszeg": "5226",
                                    "Végösszeg": "6658"
                                },
                                {
                                    "SZOBA_FK": "150",
                                    "Foglalás éve": "2017",
                                    "Foglalasok száma": "1",
                                    "Részösszeg": "1432",
                                    "Végösszeg": "6658"
                                },
                                {
                                    "SZOBA_FK": "151",
                                    "Foglalás éve": "2016",
                                    "Foglalasok száma": "3",
                                    "Részösszeg": "3066",
                                    "Végösszeg": "3066"
                                },
                                {
                                    "SZOBA_FK": "152",
                                    "Foglalás éve": "2016",
                                    "Foglalasok száma": "3",
                                    "Részösszeg": "3087",
                                    "Végösszeg": "4645"
                                },
                                {
                                    "SZOBA_FK": "152",
                                    "Foglalás éve": "2017",
                                    "Foglalasok száma": "1",
                                    "Részösszeg": "1558",
                                    "Végösszeg": "4645"
                                },
                                {
                                    "SZOBA_FK": "153",
                                    "Foglalás éve": "2016",
                                    "Foglalasok száma": "2",
                                    "Részösszeg": "1563",
                                    "Végösszeg": "6000"
                                },
                                {
                                    "SZOBA_FK": "153",
                                    "Foglalás éve": "2017",
                                    "Foglalasok száma": "3",
                                    "Részösszeg": "4437",
                                    "Végösszeg": "6000"
                                },
                                {
                                    "SZOBA_FK": "154",
                                    "Foglalás éve": "2016",
                                    "Foglalasok száma": "4",
                                    "Részösszeg": "4459",
                                    "Végösszeg": "5998"
                                },
                                {
                                    "SZOBA_FK": "154",
                                    "Foglalás éve": "2017",
                                    "Foglalasok száma": "1",
                                    "Részösszeg": "1539",
                                    "Végösszeg": "5998"
                                },
                                {
                                    "SZOBA_FK": "155",
                                    "Foglalás éve": "2016",
                                    "Foglalasok száma": "4",
                                    "Részösszeg": "3574",
                                    "Végösszeg": "5115"
                                },
                                {
                                    "SZOBA_FK": "155",
                                    "Foglalás éve": "2017",
                                    "Foglalasok száma": "1",
                                    "Részösszeg": "1541",
                                    "Végösszeg": "5115"
                                },
                                {
                                    "SZOBA_FK": "156",
                                    "Foglalás éve": "2016",
                                    "Foglalasok száma": "4",
                                    "Részösszeg": "3143",
                                    "Végösszeg": "7656"
                                },
                                {
                                    "SZOBA_FK": "156",
                                    "Foglalás éve": "2017",
                                    "Foglalasok száma": "3",
                                    "Részösszeg": "4513",
                                    "Végösszeg": "7656"
                                },
                                {
                                    "SZOBA_FK": "157",
                                    "Foglalás éve": "2016",
                                    "Foglalasok száma": "4",
                                    "Részösszeg": "3960",
                                    "Végösszeg": "5511"
                                },
                                {
                                    "SZOBA_FK": "157",
                                    "Foglalás éve": "2017",
                                    "Foglalasok száma": "1",
                                    "Részösszeg": "1551",
                                    "Végösszeg": "5511"
                                },
                                {
                                    "SZOBA_FK": "158",
                                    "Foglalás éve": "2016",
                                    "Foglalasok száma": "3",
                                    "Részösszeg": "2782",
                                    "Végösszeg": "2782"
                                },
                                {
                                    "SZOBA_FK": "160",
                                    "Foglalás éve": "2016",
                                    "Foglalasok száma": "4",
                                    "Részösszeg": "3502",
                                    "Végösszeg": "5067"
                                },
                                {
                                    "SZOBA_FK": "160",
                                    "Foglalás éve": "2017",
                                    "Foglalasok száma": "1",
                                    "Részösszeg": "1565",
                                    "Végösszeg": "5067"
                                },
                                {
                                    "SZOBA_FK": "161",
                                    "Foglalás éve": "2016",
                                    "Foglalasok száma": "5",
                                    "Részösszeg": "4461",
                                    "Végösszeg": "6032"
                                },
                                {
                                    "SZOBA_FK": "161",
                                    "Foglalás éve": "2017",
                                    "Foglalasok száma": "1",
                                    "Részösszeg": "1571",
                                    "Végösszeg": "6032"
                                },
                                {
                                    "SZOBA_FK": "162",
                                    "Foglalás éve": "2016",
                                    "Foglalasok száma": "3",
                                    "Részösszeg": "3204",
                                    "Végösszeg": "3204"
                                },
                                {
                                    "SZOBA_FK": "163",
                                    "Foglalás éve": "2016",
                                    "Foglalasok száma": "6",
                                    "Részösszeg": "5800",
                                    "Végösszeg": "7287"
                                },
                                {
                                    "SZOBA_FK": "163",
                                    "Foglalás éve": "2017",
                                    "Foglalasok száma": "1",
                                    "Részösszeg": "1487",
                                    "Végösszeg": "7287"
                                },
                                {
                                    "SZOBA_FK": "164",
                                    "Foglalás éve": "2016",
                                    "Foglalasok száma": "5",
                                    "Részösszeg": "4898",
                                    "Végösszeg": "4898"
                                },
                                {
                                    "SZOBA_FK": "165",
                                    "Foglalás éve": "2016",
                                    "Foglalasok száma": "7",
                                    "Részösszeg": "6702",
                                    "Végösszeg": "6702"
                                },
                                {
                                    "SZOBA_FK": "166",
                                    "Foglalás éve": "2016",
                                    "Foglalasok száma": "2",
                                    "Részösszeg": "1425",
                                    "Végösszeg": "2951"
                                },
                                {
                                    "SZOBA_FK": "166",
                                    "Foglalás éve": "2017",
                                    "Foglalasok száma": "1",
                                    "Részösszeg": "1526",
                                    "Végösszeg": "2951"
                                },
                                {
                                    "SZOBA_FK": "167",
                                    "Foglalás éve": "2016",
                                    "Foglalasok száma": "1",
                                    "Részösszeg": "854",
                                    "Végösszeg": "2268"
                                },
                                {
                                    "SZOBA_FK": "167",
                                    "Foglalás éve": "2017",
                                    "Foglalasok száma": "1",
                                    "Részösszeg": "1414",
                                    "Végösszeg": "2268"
                                },
                                {
                                    "SZOBA_FK": "168",
                                    "Foglalás éve": "2016",
                                    "Foglalasok száma": "5",
                                    "Részösszeg": "5031",
                                    "Végösszeg": "5031"
                                },
                                {
                                    "SZOBA_FK": "169",
                                    "Foglalás éve": "2016",
                                    "Foglalasok száma": "5",
                                    "Részösszeg": "4308",
                                    "Végösszeg": "5735"
                                },
                                {
                                    "SZOBA_FK": "169",
                                    "Foglalás éve": "2017",
                                    "Foglalasok száma": "1",
                                    "Részösszeg": "1427",
                                    "Végösszeg": "5735"
                                },
                                {
                                    "SZOBA_FK": "170",
                                    "Foglalás éve": "2016",
                                    "Foglalasok száma": "5",
                                    "Részösszeg": "5314",
                                    "Végösszeg": "5314"
                                },
                                {
                                    "SZOBA_FK": "171",
                                    "Foglalás éve": "2016",
                                    "Foglalasok száma": "4",
                                    "Részösszeg": "4065",
                                    "Végösszeg": "5632"
                                },
                                {
                                    "SZOBA_FK": "171",
                                    "Foglalás éve": "2017",
                                    "Foglalasok száma": "1",
                                    "Részösszeg": "1567",
                                    "Végösszeg": "5632"
                                },
                                {
                                    "SZOBA_FK": "172",
                                    "Foglalás éve": "2016",
                                    "Foglalasok száma": "7",
                                    "Részösszeg": "6930",
                                    "Végösszeg": "9842"
                                },
                                {
                                    "SZOBA_FK": "172",
                                    "Foglalás éve": "2017",
                                    "Foglalasok száma": "2",
                                    "Részösszeg": "2912",
                                    "Végösszeg": "9842"
                                },
                                {
                                    "SZOBA_FK": "173",
                                    "Foglalás éve": "2016",
                                    "Foglalasok száma": "3",
                                    "Részösszeg": "2932",
                                    "Végösszeg": "4361"
                                },
                                {
                                    "SZOBA_FK": "173",
                                    "Foglalás éve": "2017",
                                    "Foglalasok száma": "1",
                                    "Részösszeg": "1429",
                                    "Végösszeg": "4361"
                                },
                                {
                                    "SZOBA_FK": "174",
                                    "Foglalás éve": "2016",
                                    "Foglalasok száma": "4",
                                    "Részösszeg": "3890",
                                    "Végösszeg": "3890"
                                },
                                {
                                    "SZOBA_FK": "175",
                                    "Foglalás éve": "2016",
                                    "Foglalasok száma": "5",
                                    "Részösszeg": "5300",
                                    "Végösszeg": "5300"
                                },
                                {
                                    "SZOBA_FK": "176",
                                    "Foglalás éve": "2016",
                                    "Foglalasok száma": "4",
                                    "Részösszeg": "4396",
                                    "Végösszeg": "7477"
                                },
                                {
                                    "SZOBA_FK": "176",
                                    "Foglalás éve": "2017",
                                    "Foglalasok száma": "2",
                                    "Részösszeg": "3081",
                                    "Végösszeg": "7477"
                                },
                                {
                                    "SZOBA_FK": "177",
                                    "Foglalás éve": "2016",
                                    "Foglalasok száma": "3",
                                    "Részösszeg": "2792",
                                    "Végösszeg": "4295"
                                },
                                {
                                    "SZOBA_FK": "177",
                                    "Foglalás éve": "2017",
                                    "Foglalasok száma": "1",
                                    "Részösszeg": "1503",
                                    "Végösszeg": "4295"
                                },
                                {
                                    "SZOBA_FK": "178",
                                    "Foglalás éve": "2016",
                                    "Foglalasok száma": "4",
                                    "Részösszeg": "4260",
                                    "Végösszeg": "4260"
                                },
                                {
                                    "SZOBA_FK": "179",
                                    "Foglalás éve": "2016",
                                    "Foglalasok száma": "2",
                                    "Részösszeg": "1683",
                                    "Végösszeg": "3180"
                                },
                                {
                                    "SZOBA_FK": "179",
                                    "Foglalás éve": "2017",
                                    "Foglalasok száma": "1",
                                    "Részösszeg": "1497",
                                    "Végösszeg": "3180"
                                },
                                {
                                    "SZOBA_FK": "180",
                                    "Foglalás éve": "2016",
                                    "Foglalasok száma": "1",
                                    "Részösszeg": "905",
                                    "Végösszeg": "4027"
                                },
                                {
                                    "SZOBA_FK": "180",
                                    "Foglalás éve": "2017",
                                    "Foglalasok száma": "2",
                                    "Részösszeg": "3122",
                                    "Végösszeg": "4027"
                                },
                                {
                                    "SZOBA_FK": "181",
                                    "Foglalás éve": "2016",
                                    "Foglalasok száma": "6",
                                    "Részösszeg": "5671",
                                    "Végösszeg": "5671"
                                },
                                {
                                    "SZOBA_FK": "182",
                                    "Foglalás éve": "2016",
                                    "Foglalasok száma": "10",
                                    "Részösszeg": "10847",
                                    "Végösszeg": "13679"
                                },
                                {
                                    "SZOBA_FK": "182",
                                    "Foglalás éve": "2017",
                                    "Foglalasok száma": "2",
                                    "Részösszeg": "2832",
                                    "Végösszeg": "13679"
                                },
                                {
                                    "SZOBA_FK": "183",
                                    "Foglalás éve": "2016",
                                    "Foglalasok száma": "3",
                                    "Részösszeg": "3153",
                                    "Végösszeg": "4590"
                                },
                                {
                                    "SZOBA_FK": "183",
                                    "Foglalás éve": "2017",
                                    "Foglalasok száma": "1",
                                    "Részösszeg": "1437",
                                    "Végösszeg": "4590"
                                },
                                {
                                    "SZOBA_FK": "184",
                                    "Foglalás éve": "2016",
                                    "Foglalasok száma": "4",
                                    "Részösszeg": "3423",
                                    "Végösszeg": "3423"
                                },
                                {
                                    "SZOBA_FK": "185",
                                    "Foglalás éve": "2016",
                                    "Foglalasok száma": "10",
                                    "Részösszeg": "8327",
                                    "Végösszeg": "11231"
                                },
                                {
                                    "SZOBA_FK": "185",
                                    "Foglalás éve": "2017",
                                    "Foglalasok száma": "2",
                                    "Részösszeg": "2904",
                                    "Végösszeg": "11231"
                                },
                                {
                                    "SZOBA_FK": "186",
                                    "Foglalás éve": "2016",
                                    "Foglalasok száma": "3",
                                    "Részösszeg": "3016",
                                    "Végösszeg": "4483"
                                },
                                {
                                    "SZOBA_FK": "186",
                                    "Foglalás éve": "2017",
                                    "Foglalasok száma": "1",
                                    "Részösszeg": "1467",
                                    "Végösszeg": "4483"
                                },
                                {
                                    "SZOBA_FK": "187",
                                    "Foglalás éve": "2016",
                                    "Foglalasok száma": "7",
                                    "Részösszeg": "6066",
                                    "Végösszeg": "6066"
                                },
                                {
                                    "SZOBA_FK": "188",
                                    "Foglalás éve": "2016",
                                    "Foglalasok száma": "6",
                                    "Részösszeg": "5479",
                                    "Végösszeg": "5479"
                                },
                                {
                                    "SZOBA_FK": "189",
                                    "Foglalás éve": "2016",
                                    "Foglalasok száma": "3",
                                    "Részösszeg": "2656",
                                    "Végösszeg": "5681"
                                },
                                {
                                    "SZOBA_FK": "189",
                                    "Foglalás éve": "2017",
                                    "Foglalasok száma": "2",
                                    "Részösszeg": "3025",
                                    "Végösszeg": "5681"
                                },
                                {
                                    "SZOBA_FK": "190",
                                    "Foglalás éve": "2016",
                                    "Foglalasok száma": "4",
                                    "Részösszeg": "3380",
                                    "Végösszeg": "4897"
                                },
                                {
                                    "SZOBA_FK": "190",
                                    "Foglalás éve": "2017",
                                    "Foglalasok száma": "1",
                                    "Részösszeg": "1517",
                                    "Végösszeg": "4897"
                                },
                                {
                                    "SZOBA_FK": "191",
                                    "Foglalás éve": "2016",
                                    "Foglalasok száma": "3",
                                    "Részösszeg": "3664",
                                    "Végösszeg": "6674"
                                },
                                {
                                    "SZOBA_FK": "191",
                                    "Foglalás éve": "2017",
                                    "Foglalasok száma": "2",
                                    "Részösszeg": "3010",
                                    "Végösszeg": "6674"
                                },
                                {
                                    "SZOBA_FK": "192",
                                    "Foglalás éve": "2016",
                                    "Foglalasok száma": "2",
                                    "Részösszeg": "1583",
                                    "Végösszeg": "1583"
                                },
                                {
                                    "SZOBA_FK": "193",
                                    "Foglalás éve": "2016",
                                    "Foglalasok száma": "7",
                                    "Részösszeg": "6328",
                                    "Végösszeg": "6328"
                                },
                                {
                                    "SZOBA_FK": "194",
                                    "Foglalás éve": "2016",
                                    "Foglalasok száma": "1",
                                    "Részösszeg": "1095",
                                    "Végösszeg": "1095"
                                },
                                {
                                    "SZOBA_FK": "195",
                                    "Foglalás éve": "2016",
                                    "Foglalasok száma": "4",
                                    "Részösszeg": "3821",
                                    "Végösszeg": "6778"
                                },
                                {
                                    "SZOBA_FK": "195",
                                    "Foglalás éve": "2017",
                                    "Foglalasok száma": "2",
                                    "Részösszeg": "2957",
                                    "Végösszeg": "6778"
                                },
                                {
                                    "SZOBA_FK": "196",
                                    "Foglalás éve": "2016",
                                    "Foglalasok száma": "4",
                                    "Részösszeg": "4279",
                                    "Végösszeg": "4279"
                                },
                                {
                                    "SZOBA_FK": "197",
                                    "Foglalás éve": "2016",
                                    "Foglalasok száma": "6",
                                    "Részösszeg": "6711",
                                    "Végösszeg": "6711"
                                },
                                {
                                    "SZOBA_FK": "198",
                                    "Foglalás éve": "2016",
                                    "Foglalasok száma": "7",
                                    "Részösszeg": "7685",
                                    "Végösszeg": "9105"
                                },
                                {
                                    "SZOBA_FK": "198",
                                    "Foglalás éve": "2017",
                                    "Foglalasok száma": "1",
                                    "Részösszeg": "1420",
                                    "Végösszeg": "9105"
                                }
                            ]
                        },
                        "text/html": [
                            "<table>",
                            "<tr><th>SZOBA_FK</th><th>Foglalás éve</th><th>Foglalasok száma</th><th>Részösszeg</th><th>Végösszeg</th></tr>",
                            "<tr><td>1</td><td>2016</td><td>8</td><td>8007</td><td>8007</td></tr>",
                            "<tr><td>2</td><td>2016</td><td>4</td><td>4259</td><td>4259</td></tr>",
                            "<tr><td>3</td><td>2016</td><td>6</td><td>5382</td><td>8360</td></tr>",
                            "<tr><td>3</td><td>2017</td><td>2</td><td>2978</td><td>8360</td></tr>",
                            "<tr><td>4</td><td>2016</td><td>5</td><td>4857</td><td>6349</td></tr>",
                            "<tr><td>4</td><td>2017</td><td>1</td><td>1492</td><td>6349</td></tr>",
                            "<tr><td>5</td><td>2016</td><td>4</td><td>3859</td><td>3859</td></tr>",
                            "<tr><td>6</td><td>2016</td><td>6</td><td>5144</td><td>5144</td></tr>",
                            "<tr><td>7</td><td>2016</td><td>6</td><td>6061</td><td>6061</td></tr>",
                            "<tr><td>8</td><td>2016</td><td>5</td><td>4173</td><td>4173</td></tr>",
                            "<tr><td>9</td><td>2016</td><td>4</td><td>4246</td><td>7206</td></tr>",
                            "<tr><td>9</td><td>2017</td><td>2</td><td>2960</td><td>7206</td></tr>",
                            "<tr><td>10</td><td>2016</td><td>4</td><td>3473</td><td>3473</td></tr>",
                            "<tr><td>11</td><td>2016</td><td>3</td><td>3277</td><td>4800</td></tr>",
                            "<tr><td>11</td><td>2017</td><td>1</td><td>1523</td><td>4800</td></tr>",
                            "<tr><td>12</td><td>2016</td><td>8</td><td>7593</td><td>9023</td></tr>",
                            "<tr><td>12</td><td>2017</td><td>1</td><td>1430</td><td>9023</td></tr>",
                            "<tr><td>13</td><td>2016</td><td>3</td><td>3154</td><td>4623</td></tr>",
                            "<tr><td>13</td><td>2017</td><td>1</td><td>1469</td><td>4623</td></tr>",
                            "<tr><td>14</td><td>2016</td><td>2</td><td>1476</td><td>3018</td></tr>",
                            "<tr><td>14</td><td>2017</td><td>1</td><td>1542</td><td>3018</td></tr>",
                            "<tr><td>15</td><td>2016</td><td>4</td><td>4192</td><td>7052</td></tr>",
                            "<tr><td>15</td><td>2017</td><td>2</td><td>2860</td><td>7052</td></tr>",
                            "<tr><td>16</td><td>2016</td><td>4</td><td>3412</td><td>4910</td></tr>",
                            "<tr><td>16</td><td>2017</td><td>1</td><td>1498</td><td>4910</td></tr>",
                            "<tr><td>17</td><td>2016</td><td>5</td><td>4291</td><td>5840</td></tr>",
                            "<tr><td>17</td><td>2017</td><td>1</td><td>1549</td><td>5840</td></tr>",
                            "<tr><td>18</td><td>2016</td><td>5</td><td>4799</td><td>6304</td></tr>",
                            "<tr><td>18</td><td>2017</td><td>1</td><td>1505</td><td>6304</td></tr>",
                            "<tr><td>19</td><td>2016</td><td>5</td><td>4798</td><td>6331</td></tr>",
                            "<tr><td>19</td><td>2017</td><td>1</td><td>1533</td><td>6331</td></tr>",
                            "<tr><td>20</td><td>2016</td><td>5</td><td>4865</td><td>4865</td></tr>",
                            "<tr><td>21</td><td>2016</td><td>4</td><td>3243</td><td>3243</td></tr>",
                            "<tr><td>22</td><td>2016</td><td>6</td><td>6729</td><td>6729</td></tr>",
                            "<tr><td>23</td><td>2016</td><td>3</td><td>2727</td><td>2727</td></tr>",
                            "<tr><td>24</td><td>2016</td><td>2</td><td>2019</td><td>3434</td></tr>",
                            "<tr><td>24</td><td>2017</td><td>1</td><td>1415</td><td>3434</td></tr>",
                            "<tr><td>25</td><td>2016</td><td>2</td><td>2414</td><td>2414</td></tr>",
                            "<tr><td>26</td><td>2016</td><td>2</td><td>2546</td><td>2546</td></tr>",
                            "<tr><td>27</td><td>2016</td><td>6</td><td>6330</td><td>7806</td></tr>",
                            "<tr><td>27</td><td>2017</td><td>1</td><td>1476</td><td>7806</td></tr>",
                            "<tr><td>28</td><td>2016</td><td>5</td><td>4534</td><td>5993</td></tr>",
                            "<tr><td>28</td><td>2017</td><td>1</td><td>1459</td><td>5993</td></tr>",
                            "<tr><td>29</td><td>2016</td><td>5</td><td>5001</td><td>6569</td></tr>",
                            "<tr><td>29</td><td>2017</td><td>1</td><td>1568</td><td>6569</td></tr>",
                            "<tr><td>30</td><td>2016</td><td>3</td><td>2763</td><td>2763</td></tr>",
                            "<tr><td>31</td><td>2016</td><td>3</td><td>1932</td><td>1932</td></tr>",
                            "<tr><td>32</td><td>2016</td><td>1</td><td>920</td><td>920</td></tr>",
                            "<tr><td>33</td><td>2016</td><td>6</td><td>6735</td><td>6735</td></tr>",
                            "<tr><td>34</td><td>2016</td><td>4</td><td>3372</td><td>3372</td></tr>",
                            "<tr><td>35</td><td>2016</td><td>6</td><td>5652</td><td>10028</td></tr>",
                            "<tr><td>35</td><td>2017</td><td>3</td><td>4376</td><td>10028</td></tr>",
                            "<tr><td>36</td><td>2016</td><td>6</td><td>5300</td><td>5300</td></tr>",
                            "<tr><td>37</td><td>2016</td><td>3</td><td>2728</td><td>2728</td></tr>",
                            "<tr><td>38</td><td>2016</td><td>5</td><td>5149</td><td>9599</td></tr>",
                            "<tr><td>38</td><td>2017</td><td>3</td><td>4450</td><td>9599</td></tr>",
                            "<tr><td>39</td><td>2016</td><td>4</td><td>4094</td><td>8521</td></tr>",
                            "<tr><td>39</td><td>2017</td><td>3</td><td>4427</td><td>8521</td></tr>",
                            "<tr><td>40</td><td>2016</td><td>4</td><td>3992</td><td>3992</td></tr>",
                            "<tr><td>41</td><td>2016</td><td>2</td><td>2104</td><td>2104</td></tr>",
                            "<tr><td>42</td><td>2016</td><td>5</td><td>4081</td><td>5525</td></tr>",
                            "<tr><td>42</td><td>2017</td><td>1</td><td>1444</td><td>5525</td></tr>",
                            "<tr><td>43</td><td>2016</td><td>6</td><td>6481</td><td>9558</td></tr>",
                            "<tr><td>43</td><td>2017</td><td>2</td><td>3077</td><td>9558</td></tr>",
                            "<tr><td>44</td><td>2016</td><td>4</td><td>3365</td><td>6342</td></tr>",
                            "<tr><td>44</td><td>2017</td><td>2</td><td>2977</td><td>6342</td></tr>",
                            "<tr><td>45</td><td>2016</td><td>5</td><td>4886</td><td>4886</td></tr>",
                            "<tr><td>46</td><td>2016</td><td>3</td><td>3230</td><td>4745</td></tr>",
                            "<tr><td>46</td><td>2017</td><td>1</td><td>1515</td><td>4745</td></tr>",
                            "<tr><td>47</td><td>2016</td><td>2</td><td>2011</td><td>2011</td></tr>",
                            "<tr><td>48</td><td>2016</td><td>6</td><td>5198</td><td>9872</td></tr>",
                            "<tr><td>48</td><td>2017</td><td>3</td><td>4674</td><td>9872</td></tr>",
                            "<tr><td>49</td><td>2016</td><td>6</td><td>5994</td><td>7530</td></tr>",
                            "<tr><td>49</td><td>2017</td><td>1</td><td>1536</td><td>7530</td></tr>",
                            "<tr><td>50</td><td>2016</td><td>4</td><td>4346</td><td>4346</td></tr>",
                            "<tr><td>51</td><td>2016</td><td>3</td><td>2841</td><td>5868</td></tr>",
                            "<tr><td>51</td><td>2017</td><td>2</td><td>3027</td><td>5868</td></tr>",
                            "<tr><td>52</td><td>2016</td><td>3</td><td>3282</td><td>6247</td></tr>",
                            "<tr><td>52</td><td>2017</td><td>2</td><td>2965</td><td>6247</td></tr>",
                            "<tr><td>53</td><td>2016</td><td>2</td><td>1842</td><td>1842</td></tr>",
                            "<tr><td>54</td><td>2016</td><td>6</td><td>5245</td><td>5245</td></tr>",
                            "<tr><td>55</td><td>2016</td><td>6</td><td>6928</td><td>9960</td></tr>",
                            "<tr><td>55</td><td>2017</td><td>2</td><td>3032</td><td>9960</td></tr>",
                            "<tr><td>56</td><td>2016</td><td>2</td><td>1773</td><td>1773</td></tr>",
                            "<tr><td>57</td><td>2016</td><td>2</td><td>2737</td><td>5707</td></tr>",
                            "<tr><td>57</td><td>2017</td><td>2</td><td>2970</td><td>5707</td></tr>",
                            "<tr><td>58</td><td>2016</td><td>12</td><td>13605</td><td>15056</td></tr>",
                            "<tr><td>58</td><td>2017</td><td>1</td><td>1451</td><td>15056</td></tr>",
                            "<tr><td>59</td><td>2016</td><td>6</td><td>7052</td><td>8625</td></tr>",
                            "<tr><td>59</td><td>2017</td><td>1</td><td>1573</td><td>8625</td></tr>",
                            "<tr><td>60</td><td>2016</td><td>1</td><td>676</td><td>676</td></tr>",
                            "<tr><td>61</td><td>2016</td><td>4</td><td>3823</td><td>5319</td></tr>",
                            "<tr><td>61</td><td>2017</td><td>1</td><td>1496</td><td>5319</td></tr>",
                            "<tr><td>62</td><td>2016</td><td>4</td><td>3657</td><td>5083</td></tr>",
                            "<tr><td>62</td><td>2017</td><td>1</td><td>1426</td><td>5083</td></tr>",
                            "<tr><td>63</td><td>2016</td><td>4</td><td>3130</td><td>3130</td></tr>",
                            "<tr><td>64</td><td>2016</td><td>3</td><td>3230</td><td>7723</td></tr>",
                            "<tr><td>64</td><td>2017</td><td>3</td><td>4493</td><td>7723</td></tr>",
                            "<tr><td>65</td><td>2016</td><td>1</td><td>650</td><td>650</td></tr>",
                            "<tr><td>66</td><td>2016</td><td>4</td><td>4184</td><td>4184</td></tr>",
                            "<tr><td>67</td><td>2016</td><td>4</td><td>3539</td><td>6703</td></tr>",
                            "<tr><td>67</td><td>2017</td><td>2</td><td>3164</td><td>6703</td></tr>",
                            "<tr><td>68</td><td>2016</td><td>3</td><td>2914</td><td>2914</td></tr>",
                            "<tr><td>69</td><td>2016</td><td>4</td><td>4411</td><td>4411</td></tr>",
                            "<tr><td>70</td><td>2016</td><td>10</td><td>10210</td><td>11667</td></tr>",
                            "<tr><td>70</td><td>2017</td><td>1</td><td>1457</td><td>11667</td></tr>",
                            "<tr><td>71</td><td>2016</td><td>3</td><td>2402</td><td>2402</td></tr>",
                            "<tr><td>72</td><td>2016</td><td>4</td><td>4577</td><td>4577</td></tr>",
                            "<tr><td>73</td><td>2016</td><td>4</td><td>4204</td><td>4204</td></tr>",
                            "<tr><td>74</td><td>2016</td><td>9</td><td>8121</td><td>8121</td></tr>",
                            "<tr><td>75</td><td>2016</td><td>1</td><td>1013</td><td>3883</td></tr>",
                            "<tr><td>75</td><td>2017</td><td>2</td><td>2870</td><td>3883</td></tr>",
                            "<tr><td>76</td><td>2016</td><td>2</td><td>1659</td><td>3216</td></tr>",
                            "<tr><td>76</td><td>2017</td><td>1</td><td>1557</td><td>3216</td></tr>",
                            "<tr><td>77</td><td>2016</td><td>4</td><td>3377</td><td>6277</td></tr>",
                            "<tr><td>77</td><td>2017</td><td>2</td><td>2900</td><td>6277</td></tr>",
                            "<tr><td>78</td><td>2016</td><td>5</td><td>4463</td><td>6040</td></tr>",
                            "<tr><td>78</td><td>2017</td><td>1</td><td>1577</td><td>6040</td></tr>",
                            "<tr><td>79</td><td>2016</td><td>4</td><td>4211</td><td>5658</td></tr>",
                            "<tr><td>79</td><td>2017</td><td>1</td><td>1447</td><td>5658</td></tr>",
                            "<tr><td>80</td><td>2016</td><td>7</td><td>7183</td><td>7183</td></tr>",
                            "<tr><td>81</td><td>2016</td><td>1</td><td>1366</td><td>7341</td></tr>",
                            "<tr><td>81</td><td>2017</td><td>4</td><td>5975</td><td>7341</td></tr>",
                            "<tr><td>82</td><td>2016</td><td>6</td><td>6754</td><td>6754</td></tr>",
                            "<tr><td>83</td><td>2016</td><td>8</td><td>7284</td><td>7284</td></tr>",
                            "<tr><td>84</td><td>2016</td><td>4</td><td>4533</td><td>4533</td></tr>",
                            "<tr><td>85</td><td>2016</td><td>3</td><td>3026</td><td>4539</td></tr>",
                            "<tr><td>85</td><td>2017</td><td>1</td><td>1513</td><td>4539</td></tr>",
                            "<tr><td>86</td><td>2016</td><td>4</td><td>4103</td><td>5556</td></tr>",
                            "<tr><td>86</td><td>2017</td><td>1</td><td>1453</td><td>5556</td></tr>",
                            "<tr><td>87</td><td>2016</td><td>4</td><td>3854</td><td>5310</td></tr>",
                            "<tr><td>87</td><td>2017</td><td>1</td><td>1456</td><td>5310</td></tr>",
                            "<tr><td>88</td><td>2016</td><td>6</td><td>6751</td><td>9874</td></tr>",
                            "<tr><td>88</td><td>2017</td><td>2</td><td>3123</td><td>9874</td></tr>",
                            "<tr><td>89</td><td>2016</td><td>7</td><td>8065</td><td>9586</td></tr>",
                            "<tr><td>89</td><td>2017</td><td>1</td><td>1521</td><td>9586</td></tr>",
                            "<tr><td>90</td><td>2016</td><td>4</td><td>4607</td><td>4607</td></tr>",
                            "<tr><td>91</td><td>2016</td><td>4</td><td>3978</td><td>3978</td></tr>",
                            "<tr><td>92</td><td>2016</td><td>4</td><td>3608</td><td>6690</td></tr>",
                            "<tr><td>92</td><td>2017</td><td>2</td><td>3082</td><td>6690</td></tr>",
                            "<tr><td>93</td><td>2016</td><td>5</td><td>5873</td><td>5873</td></tr>",
                            "<tr><td>94</td><td>2016</td><td>8</td><td>8209</td><td>11291</td></tr>",
                            "<tr><td>94</td><td>2017</td><td>2</td><td>3082</td><td>11291</td></tr>",
                            "<tr><td>95</td><td>2016</td><td>3</td><td>2801</td><td>4344</td></tr>",
                            "<tr><td>95</td><td>2017</td><td>1</td><td>1543</td><td>4344</td></tr>",
                            "<tr><td>96</td><td>2016</td><td>5</td><td>4059</td><td>7066</td></tr>",
                            "<tr><td>96</td><td>2017</td><td>2</td><td>3007</td><td>7066</td></tr>",
                            "<tr><td>97</td><td>2016</td><td>5</td><td>4310</td><td>7255</td></tr>",
                            "<tr><td>97</td><td>2017</td><td>2</td><td>2945</td><td>7255</td></tr>",
                            "<tr><td>98</td><td>2016</td><td>4</td><td>3967</td><td>3967</td></tr>",
                            "<tr><td>99</td><td>2016</td><td>4</td><td>3803</td><td>5289</td></tr>",
                            "<tr><td>99</td><td>2017</td><td>1</td><td>1486</td><td>5289</td></tr>",
                            "<tr><td>100</td><td>2016</td><td>3</td><td>2549</td><td>4031</td></tr>",
                            "<tr><td>100</td><td>2017</td><td>1</td><td>1482</td><td>4031</td></tr>",
                            "<tr><td>101</td><td>2016</td><td>2</td><td>2047</td><td>3563</td></tr>",
                            "<tr><td>101</td><td>2017</td><td>1</td><td>1516</td><td>3563</td></tr>",
                            "<tr><td>102</td><td>2016</td><td>2</td><td>2032</td><td>2032</td></tr>",
                            "<tr><td>103</td><td>2016</td><td>3</td><td>3362</td><td>4847</td></tr>",
                            "<tr><td>103</td><td>2017</td><td>1</td><td>1485</td><td>4847</td></tr>",
                            "<tr><td>104</td><td>2016</td><td>2</td><td>2017</td><td>5071</td></tr>",
                            "<tr><td>104</td><td>2017</td><td>2</td><td>3054</td><td>5071</td></tr>",
                            "<tr><td>105</td><td>2016</td><td>1</td><td>618</td><td>2143</td></tr>",
                            "<tr><td>105</td><td>2017</td><td>1</td><td>1525</td><td>2143</td></tr>",
                            "<tr><td>106</td><td>2016</td><td>5</td><td>5189</td><td>6699</td></tr>",
                            "<tr><td>106</td><td>2017</td><td>1</td><td>1510</td><td>6699</td></tr>",
                            "<tr><td>107</td><td>2016</td><td>3</td><td>3190</td><td>6136</td></tr>",
                            "<tr><td>107</td><td>2017</td><td>2</td><td>2946</td><td>6136</td></tr>",
                            "<tr><td>108</td><td>2016</td><td>2</td><td>2494</td><td>2494</td></tr>",
                            "<tr><td>109</td><td>2016</td><td>6</td><td>5080</td><td>6640</td></tr>",
                            "<tr><td>109</td><td>2017</td><td>1</td><td>1560</td><td>6640</td></tr>",
                            "<tr><td>110</td><td>2016</td><td>6</td><td>5892</td><td>8805</td></tr>",
                            "<tr><td>110</td><td>2017</td><td>2</td><td>2913</td><td>8805</td></tr>",
                            "<tr><td>111</td><td>2016</td><td>5</td><td>4999</td><td>4999</td></tr>",
                            "<tr><td>112</td><td>2016</td><td>4</td><td>3622</td><td>5152</td></tr>",
                            "<tr><td>112</td><td>2017</td><td>1</td><td>1530</td><td>5152</td></tr>",
                            "<tr><td>113</td><td>2016</td><td>3</td><td>3377</td><td>6371</td></tr>",
                            "<tr><td>113</td><td>2017</td><td>2</td><td>2994</td><td>6371</td></tr>",
                            "<tr><td>114</td><td>2016</td><td>3</td><td>2530</td><td>4070</td></tr>",
                            "<tr><td>114</td><td>2017</td><td>1</td><td>1540</td><td>4070</td></tr>",
                            "<tr><td>115</td><td>2016</td><td>5</td><td>5166</td><td>8286</td></tr>",
                            "<tr><td>115</td><td>2017</td><td>2</td><td>3120</td><td>8286</td></tr>",
                            "<tr><td>116</td><td>2017</td><td>2</td><td>2956</td><td>2956</td></tr>",
                            "<tr><td>117</td><td>2016</td><td>7</td><td>6585</td><td>8053</td></tr>",
                            "<tr><td>117</td><td>2017</td><td>1</td><td>1468</td><td>8053</td></tr>",
                            "<tr><td>118</td><td>2016</td><td>5</td><td>4944</td><td>7897</td></tr>",
                            "<tr><td>118</td><td>2017</td><td>2</td><td>2953</td><td>7897</td></tr>",
                            "<tr><td>119</td><td>2016</td><td>3</td><td>2454</td><td>5355</td></tr>",
                            "<tr><td>119</td><td>2017</td><td>2</td><td>2901</td><td>5355</td></tr>",
                            "<tr><td>120</td><td>2016</td><td>4</td><td>4188</td><td>7164</td></tr>",
                            "<tr><td>120</td><td>2017</td><td>2</td><td>2976</td><td>7164</td></tr>",
                            "<tr><td>121</td><td>2016</td><td>8</td><td>8490</td><td>8490</td></tr>",
                            "<tr><td>122</td><td>2016</td><td>8</td><td>9447</td><td>10887</td></tr>",
                            "<tr><td>122</td><td>2017</td><td>1</td><td>1440</td><td>10887</td></tr>",
                            "<tr><td>123</td><td>2016</td><td>5</td><td>4982</td><td>4982</td></tr>",
                            "<tr><td>124</td><td>2016</td><td>4</td><td>4804</td><td>7754</td></tr>",
                            "<tr><td>124</td><td>2017</td><td>2</td><td>2950</td><td>7754</td></tr>",
                            "<tr><td>125</td><td>2016</td><td>1</td><td>576</td><td>576</td></tr>",
                            "<tr><td>126</td><td>2016</td><td>4</td><td>4058</td><td>6986</td></tr>",
                            "<tr><td>126</td><td>2017</td><td>2</td><td>2928</td><td>6986</td></tr>",
                            "<tr><td>127</td><td>2016</td><td>6</td><td>5921</td><td>7500</td></tr>",
                            "<tr><td>127</td><td>2017</td><td>1</td><td>1579</td><td>7500</td></tr>",
                            "<tr><td>128</td><td>2016</td><td>3</td><td>2822</td><td>5979</td></tr>",
                            "<tr><td>128</td><td>2017</td><td>2</td><td>3157</td><td>5979</td></tr>",
                            "<tr><td>129</td><td>2016</td><td>2</td><td>2083</td><td>5037</td></tr>",
                            "<tr><td>129</td><td>2017</td><td>2</td><td>2954</td><td>5037</td></tr>",
                            "<tr><td>130</td><td>2016</td><td>5</td><td>3922</td><td>5397</td></tr>",
                            "<tr><td>130</td><td>2017</td><td>1</td><td>1475</td><td>5397</td></tr>",
                            "<tr><td>131</td><td>2016</td><td>4</td><td>2855</td><td>4329</td></tr>",
                            "<tr><td>131</td><td>2017</td><td>1</td><td>1474</td><td>4329</td></tr>",
                            "<tr><td>132</td><td>2016</td><td>5</td><td>5120</td><td>6639</td></tr>",
                            "<tr><td>132</td><td>2017</td><td>1</td><td>1519</td><td>6639</td></tr>",
                            "<tr><td>133</td><td>2016</td><td>5</td><td>5715</td><td>7124</td></tr>",
                            "<tr><td>133</td><td>2017</td><td>1</td><td>1409</td><td>7124</td></tr>",
                            "<tr><td>134</td><td>2016</td><td>5</td><td>5470</td><td>7005</td></tr>",
                            "<tr><td>134</td><td>2017</td><td>1</td><td>1535</td><td>7005</td></tr>",
                            "<tr><td>135</td><td>2016</td><td>3</td><td>2862</td><td>2862</td></tr>",
                            "<tr><td>136</td><td>2016</td><td>3</td><td>2291</td><td>2291</td></tr>",
                            "<tr><td>137</td><td>2016</td><td>6</td><td>5383</td><td>5383</td></tr>",
                            "<tr><td>138</td><td>2016</td><td>7</td><td>8125</td><td>8125</td></tr>",
                            "<tr><td>139</td><td>2016</td><td>5</td><td>4181</td><td>7064</td></tr>",
                            "<tr><td>139</td><td>2017</td><td>2</td><td>2883</td><td>7064</td></tr>",
                            "<tr><td>140</td><td>2016</td><td>8</td><td>9250</td><td>9250</td></tr>",
                            "<tr><td>141</td><td>2016</td><td>6</td><td>5673</td><td>5673</td></tr>",
                            "<tr><td>142</td><td>2016</td><td>1</td><td>1369</td><td>2914</td></tr>",
                            "<tr><td>142</td><td>2017</td><td>1</td><td>1545</td><td>2914</td></tr>",
                            "<tr><td>143</td><td>2016</td><td>6</td><td>7257</td><td>8705</td></tr>",
                            "<tr><td>143</td><td>2017</td><td>1</td><td>1448</td><td>8705</td></tr>",
                            "<tr><td>144</td><td>2016</td><td>4</td><td>4164</td><td>5736</td></tr>",
                            "<tr><td>144</td><td>2017</td><td>1</td><td>1572</td><td>5736</td></tr>",
                            "<tr><td>145</td><td>2016</td><td>5</td><td>5383</td><td>6854</td></tr>",
                            "<tr><td>145</td><td>2017</td><td>1</td><td>1471</td><td>6854</td></tr>",
                            "<tr><td>146</td><td>2016</td><td>5</td><td>4179</td><td>5658</td></tr>",
                            "<tr><td>146</td><td>2017</td><td>1</td><td>1479</td><td>5658</td></tr>",
                            "<tr><td>147</td><td>2016</td><td>1</td><td>771</td><td>771</td></tr>",
                            "<tr><td>148</td><td>2016</td><td>5</td><td>3846</td><td>5424</td></tr>",
                            "<tr><td>148</td><td>2017</td><td>1</td><td>1578</td><td>5424</td></tr>",
                            "<tr><td>149</td><td>2016</td><td>6</td><td>4899</td><td>6413</td></tr>",
                            "<tr><td>149</td><td>2017</td><td>1</td><td>1514</td><td>6413</td></tr>",
                            "<tr><td>150</td><td>2016</td><td>5</td><td>5226</td><td>6658</td></tr>",
                            "<tr><td>150</td><td>2017</td><td>1</td><td>1432</td><td>6658</td></tr>",
                            "<tr><td>151</td><td>2016</td><td>3</td><td>3066</td><td>3066</td></tr>",
                            "<tr><td>152</td><td>2016</td><td>3</td><td>3087</td><td>4645</td></tr>",
                            "<tr><td>152</td><td>2017</td><td>1</td><td>1558</td><td>4645</td></tr>",
                            "<tr><td>153</td><td>2016</td><td>2</td><td>1563</td><td>6000</td></tr>",
                            "<tr><td>153</td><td>2017</td><td>3</td><td>4437</td><td>6000</td></tr>",
                            "<tr><td>154</td><td>2016</td><td>4</td><td>4459</td><td>5998</td></tr>",
                            "<tr><td>154</td><td>2017</td><td>1</td><td>1539</td><td>5998</td></tr>",
                            "<tr><td>155</td><td>2016</td><td>4</td><td>3574</td><td>5115</td></tr>",
                            "<tr><td>155</td><td>2017</td><td>1</td><td>1541</td><td>5115</td></tr>",
                            "<tr><td>156</td><td>2016</td><td>4</td><td>3143</td><td>7656</td></tr>",
                            "<tr><td>156</td><td>2017</td><td>3</td><td>4513</td><td>7656</td></tr>",
                            "<tr><td>157</td><td>2016</td><td>4</td><td>3960</td><td>5511</td></tr>",
                            "<tr><td>157</td><td>2017</td><td>1</td><td>1551</td><td>5511</td></tr>",
                            "<tr><td>158</td><td>2016</td><td>3</td><td>2782</td><td>2782</td></tr>",
                            "<tr><td>160</td><td>2016</td><td>4</td><td>3502</td><td>5067</td></tr>",
                            "<tr><td>160</td><td>2017</td><td>1</td><td>1565</td><td>5067</td></tr>",
                            "<tr><td>161</td><td>2016</td><td>5</td><td>4461</td><td>6032</td></tr>",
                            "<tr><td>161</td><td>2017</td><td>1</td><td>1571</td><td>6032</td></tr>",
                            "<tr><td>162</td><td>2016</td><td>3</td><td>3204</td><td>3204</td></tr>",
                            "<tr><td>163</td><td>2016</td><td>6</td><td>5800</td><td>7287</td></tr>",
                            "<tr><td>163</td><td>2017</td><td>1</td><td>1487</td><td>7287</td></tr>",
                            "<tr><td>164</td><td>2016</td><td>5</td><td>4898</td><td>4898</td></tr>",
                            "<tr><td>165</td><td>2016</td><td>7</td><td>6702</td><td>6702</td></tr>",
                            "<tr><td>166</td><td>2016</td><td>2</td><td>1425</td><td>2951</td></tr>",
                            "<tr><td>166</td><td>2017</td><td>1</td><td>1526</td><td>2951</td></tr>",
                            "<tr><td>167</td><td>2016</td><td>1</td><td>854</td><td>2268</td></tr>",
                            "<tr><td>167</td><td>2017</td><td>1</td><td>1414</td><td>2268</td></tr>",
                            "<tr><td>168</td><td>2016</td><td>5</td><td>5031</td><td>5031</td></tr>",
                            "<tr><td>169</td><td>2016</td><td>5</td><td>4308</td><td>5735</td></tr>",
                            "<tr><td>169</td><td>2017</td><td>1</td><td>1427</td><td>5735</td></tr>",
                            "<tr><td>170</td><td>2016</td><td>5</td><td>5314</td><td>5314</td></tr>",
                            "<tr><td>171</td><td>2016</td><td>4</td><td>4065</td><td>5632</td></tr>",
                            "<tr><td>171</td><td>2017</td><td>1</td><td>1567</td><td>5632</td></tr>",
                            "<tr><td>172</td><td>2016</td><td>7</td><td>6930</td><td>9842</td></tr>",
                            "<tr><td>172</td><td>2017</td><td>2</td><td>2912</td><td>9842</td></tr>",
                            "<tr><td>173</td><td>2016</td><td>3</td><td>2932</td><td>4361</td></tr>",
                            "<tr><td>173</td><td>2017</td><td>1</td><td>1429</td><td>4361</td></tr>",
                            "<tr><td>174</td><td>2016</td><td>4</td><td>3890</td><td>3890</td></tr>",
                            "<tr><td>175</td><td>2016</td><td>5</td><td>5300</td><td>5300</td></tr>",
                            "<tr><td>176</td><td>2016</td><td>4</td><td>4396</td><td>7477</td></tr>",
                            "<tr><td>176</td><td>2017</td><td>2</td><td>3081</td><td>7477</td></tr>",
                            "<tr><td>177</td><td>2016</td><td>3</td><td>2792</td><td>4295</td></tr>",
                            "<tr><td>177</td><td>2017</td><td>1</td><td>1503</td><td>4295</td></tr>",
                            "<tr><td>178</td><td>2016</td><td>4</td><td>4260</td><td>4260</td></tr>",
                            "<tr><td>179</td><td>2016</td><td>2</td><td>1683</td><td>3180</td></tr>",
                            "<tr><td>179</td><td>2017</td><td>1</td><td>1497</td><td>3180</td></tr>",
                            "<tr><td>180</td><td>2016</td><td>1</td><td>905</td><td>4027</td></tr>",
                            "<tr><td>180</td><td>2017</td><td>2</td><td>3122</td><td>4027</td></tr>",
                            "<tr><td>181</td><td>2016</td><td>6</td><td>5671</td><td>5671</td></tr>",
                            "<tr><td>182</td><td>2016</td><td>10</td><td>10847</td><td>13679</td></tr>",
                            "<tr><td>182</td><td>2017</td><td>2</td><td>2832</td><td>13679</td></tr>",
                            "<tr><td>183</td><td>2016</td><td>3</td><td>3153</td><td>4590</td></tr>",
                            "<tr><td>183</td><td>2017</td><td>1</td><td>1437</td><td>4590</td></tr>",
                            "<tr><td>184</td><td>2016</td><td>4</td><td>3423</td><td>3423</td></tr>",
                            "<tr><td>185</td><td>2016</td><td>10</td><td>8327</td><td>11231</td></tr>",
                            "<tr><td>185</td><td>2017</td><td>2</td><td>2904</td><td>11231</td></tr>",
                            "<tr><td>186</td><td>2016</td><td>3</td><td>3016</td><td>4483</td></tr>",
                            "<tr><td>186</td><td>2017</td><td>1</td><td>1467</td><td>4483</td></tr>",
                            "<tr><td>187</td><td>2016</td><td>7</td><td>6066</td><td>6066</td></tr>",
                            "<tr><td>188</td><td>2016</td><td>6</td><td>5479</td><td>5479</td></tr>",
                            "<tr><td>189</td><td>2016</td><td>3</td><td>2656</td><td>5681</td></tr>",
                            "<tr><td>189</td><td>2017</td><td>2</td><td>3025</td><td>5681</td></tr>",
                            "<tr><td>190</td><td>2016</td><td>4</td><td>3380</td><td>4897</td></tr>",
                            "<tr><td>190</td><td>2017</td><td>1</td><td>1517</td><td>4897</td></tr>",
                            "<tr><td>191</td><td>2016</td><td>3</td><td>3664</td><td>6674</td></tr>",
                            "<tr><td>191</td><td>2017</td><td>2</td><td>3010</td><td>6674</td></tr>",
                            "<tr><td>192</td><td>2016</td><td>2</td><td>1583</td><td>1583</td></tr>",
                            "<tr><td>193</td><td>2016</td><td>7</td><td>6328</td><td>6328</td></tr>",
                            "<tr><td>194</td><td>2016</td><td>1</td><td>1095</td><td>1095</td></tr>",
                            "<tr><td>195</td><td>2016</td><td>4</td><td>3821</td><td>6778</td></tr>",
                            "<tr><td>195</td><td>2017</td><td>2</td><td>2957</td><td>6778</td></tr>",
                            "<tr><td>196</td><td>2016</td><td>4</td><td>4279</td><td>4279</td></tr>",
                            "<tr><td>197</td><td>2016</td><td>6</td><td>6711</td><td>6711</td></tr>",
                            "<tr><td>198</td><td>2016</td><td>7</td><td>7685</td><td>9105</td></tr>",
                            "<tr><td>198</td><td>2017</td><td>1</td><td>1420</td><td>9105</td></tr>",
                            "</table>"
                        ]
                    }
                }
            ],
            "execution_count": 13
        },
        {
            "cell_type": "code",
            "source": [
                "SELECT sz.SZOBA_ID,\r\n",
                "        f.FOGLALAS_PK,\r\n",
                "        DATEDIFF(day, METTOL, MEDDIG) AS 'Foglalás időtartalma',\r\n",
                "        LAG(SZOBA_ID, 1, 0) OVER(PARTITION BY DATEDIFF(day, METTOL, MEDDIG) ORDER BY SZOBA_ID) AS 'Előző foglalás hossza'\r\n",
                "FROM Szoba sz JOIN foglalas f ON sz.SZOBA_ID = f.SZOBA_FK\r\n",
                ""
            ],
            "metadata": {
                "azdata_cell_guid": "55221dc2-b0ae-4bb5-bb28-157ba88b1523",
                "language": "sql"
            },
            "outputs": [
                {
                    "output_type": "display_data",
                    "data": {
                        "text/html": "(1027 rows affected)"
                    },
                    "metadata": {}
                },
                {
                    "output_type": "display_data",
                    "data": {
                        "text/html": "Total execution time: 00:00:00.019"
                    },
                    "metadata": {}
                },
                {
                    "output_type": "execute_result",
                    "metadata": {},
                    "execution_count": 24,
                    "data": {
                        "application/vnd.dataresource+json": {
                            "schema": {
                                "fields": [
                                    {
                                        "name": "SZOBA_ID"
                                    },
                                    {
                                        "name": "FOGLALAS_PK"
                                    },
                                    {
                                        "name": "Foglalás időtartalma"
                                    },
                                    {
                                        "name": "Előző foglalás hossza"
                                    }
                                ]
                            },
                            "data": [
                                {
                                    "SZOBA_ID": "1",
                                    "FOGLALAS_PK": "949",
                                    "Foglalás időtartalma": "1",
                                    "Előző foglalás hossza": "0"
                                },
                                {
                                    "SZOBA_ID": "1",
                                    "FOGLALAS_PK": "1152",
                                    "Foglalás időtartalma": "1",
                                    "Előző foglalás hossza": "1"
                                },
                                {
                                    "SZOBA_ID": "1",
                                    "FOGLALAS_PK": "1274",
                                    "Foglalás időtartalma": "1",
                                    "Előző foglalás hossza": "1"
                                },
                                {
                                    "SZOBA_ID": "2",
                                    "FOGLALAS_PK": "1051",
                                    "Foglalás időtartalma": "1",
                                    "Előző foglalás hossza": "1"
                                },
                                {
                                    "SZOBA_ID": "3",
                                    "FOGLALAS_PK": "1151",
                                    "Foglalás időtartalma": "1",
                                    "Előző foglalás hossza": "2"
                                },
                                {
                                    "SZOBA_ID": "7",
                                    "FOGLALAS_PK": "1131",
                                    "Foglalás időtartalma": "1",
                                    "Előző foglalás hossza": "3"
                                },
                                {
                                    "SZOBA_ID": "8",
                                    "FOGLALAS_PK": "882",
                                    "Foglalás időtartalma": "1",
                                    "Előző foglalás hossza": "7"
                                },
                                {
                                    "SZOBA_ID": "11",
                                    "FOGLALAS_PK": "1236",
                                    "Foglalás időtartalma": "1",
                                    "Előző foglalás hossza": "8"
                                },
                                {
                                    "SZOBA_ID": "11",
                                    "FOGLALAS_PK": "1523",
                                    "Foglalás időtartalma": "1",
                                    "Előző foglalás hossza": "11"
                                },
                                {
                                    "SZOBA_ID": "14",
                                    "FOGLALAS_PK": "663",
                                    "Foglalás időtartalma": "1",
                                    "Előző foglalás hossza": "11"
                                },
                                {
                                    "SZOBA_ID": "15",
                                    "FOGLALAS_PK": "1244",
                                    "Foglalás időtartalma": "1",
                                    "Előző foglalás hossza": "14"
                                },
                                {
                                    "SZOBA_ID": "16",
                                    "FOGLALAS_PK": "896",
                                    "Foglalás időtartalma": "1",
                                    "Előző foglalás hossza": "15"
                                },
                                {
                                    "SZOBA_ID": "16",
                                    "FOGLALAS_PK": "973",
                                    "Foglalás időtartalma": "1",
                                    "Előző foglalás hossza": "16"
                                },
                                {
                                    "SZOBA_ID": "17",
                                    "FOGLALAS_PK": "744",
                                    "Foglalás időtartalma": "1",
                                    "Előző foglalás hossza": "16"
                                },
                                {
                                    "SZOBA_ID": "19",
                                    "FOGLALAS_PK": "778",
                                    "Foglalás időtartalma": "1",
                                    "Előző foglalás hossza": "17"
                                },
                                {
                                    "SZOBA_ID": "19",
                                    "FOGLALAS_PK": "696",
                                    "Foglalás időtartalma": "1",
                                    "Előző foglalás hossza": "19"
                                },
                                {
                                    "SZOBA_ID": "19",
                                    "FOGLALAS_PK": "1237",
                                    "Foglalás időtartalma": "1",
                                    "Előző foglalás hossza": "19"
                                },
                                {
                                    "SZOBA_ID": "19",
                                    "FOGLALAS_PK": "1533",
                                    "Foglalás időtartalma": "1",
                                    "Előző foglalás hossza": "19"
                                },
                                {
                                    "SZOBA_ID": "20",
                                    "FOGLALAS_PK": "820",
                                    "Foglalás időtartalma": "1",
                                    "Előző foglalás hossza": "19"
                                },
                                {
                                    "SZOBA_ID": "20",
                                    "FOGLALAS_PK": "1070",
                                    "Foglalás időtartalma": "1",
                                    "Előző foglalás hossza": "20"
                                },
                                {
                                    "SZOBA_ID": "21",
                                    "FOGLALAS_PK": "805",
                                    "Foglalás időtartalma": "1",
                                    "Előző foglalás hossza": "20"
                                },
                                {
                                    "SZOBA_ID": "22",
                                    "FOGLALAS_PK": "906",
                                    "Foglalás időtartalma": "1",
                                    "Előző foglalás hossza": "21"
                                },
                                {
                                    "SZOBA_ID": "22",
                                    "FOGLALAS_PK": "1130",
                                    "Foglalás időtartalma": "1",
                                    "Előző foglalás hossza": "22"
                                },
                                {
                                    "SZOBA_ID": "23",
                                    "FOGLALAS_PK": "848",
                                    "Foglalás időtartalma": "1",
                                    "Előző foglalás hossza": "22"
                                },
                                {
                                    "SZOBA_ID": "23",
                                    "FOGLALAS_PK": "934",
                                    "Foglalás időtartalma": "1",
                                    "Előző foglalás hossza": "23"
                                },
                                {
                                    "SZOBA_ID": "24",
                                    "FOGLALAS_PK": "1167",
                                    "Foglalás időtartalma": "1",
                                    "Előző foglalás hossza": "23"
                                },
                                {
                                    "SZOBA_ID": "27",
                                    "FOGLALAS_PK": "1377",
                                    "Foglalás időtartalma": "1",
                                    "Előző foglalás hossza": "24"
                                },
                                {
                                    "SZOBA_ID": "27",
                                    "FOGLALAS_PK": "1476",
                                    "Foglalás időtartalma": "1",
                                    "Előző foglalás hossza": "27"
                                },
                                {
                                    "SZOBA_ID": "29",
                                    "FOGLALAS_PK": "894",
                                    "Foglalás időtartalma": "1",
                                    "Előző foglalás hossza": "27"
                                },
                                {
                                    "SZOBA_ID": "31",
                                    "FOGLALAS_PK": "606",
                                    "Foglalás időtartalma": "1",
                                    "Előző foglalás hossza": "29"
                                },
                                {
                                    "SZOBA_ID": "33",
                                    "FOGLALAS_PK": "1053",
                                    "Foglalás időtartalma": "1",
                                    "Előző foglalás hossza": "31"
                                },
                                {
                                    "SZOBA_ID": "34",
                                    "FOGLALAS_PK": "821",
                                    "Foglalás időtartalma": "1",
                                    "Előző foglalás hossza": "33"
                                },
                                {
                                    "SZOBA_ID": "35",
                                    "FOGLALAS_PK": "1436",
                                    "Foglalás időtartalma": "1",
                                    "Előző foglalás hossza": "34"
                                },
                                {
                                    "SZOBA_ID": "35",
                                    "FOGLALAS_PK": "1411",
                                    "Foglalás időtartalma": "1",
                                    "Előző foglalás hossza": "35"
                                },
                                {
                                    "SZOBA_ID": "36",
                                    "FOGLALAS_PK": "919",
                                    "Foglalás időtartalma": "1",
                                    "Előző foglalás hossza": "35"
                                },
                                {
                                    "SZOBA_ID": "39",
                                    "FOGLALAS_PK": "1454",
                                    "Foglalás időtartalma": "1",
                                    "Előző foglalás hossza": "36"
                                },
                                {
                                    "SZOBA_ID": "41",
                                    "FOGLALAS_PK": "1144",
                                    "Foglalás időtartalma": "1",
                                    "Előző foglalás hossza": "39"
                                },
                                {
                                    "SZOBA_ID": "43",
                                    "FOGLALAS_PK": "1207",
                                    "Foglalás időtartalma": "1",
                                    "Előző foglalás hossza": "41"
                                },
                                {
                                    "SZOBA_ID": "43",
                                    "FOGLALAS_PK": "1524",
                                    "Foglalás időtartalma": "1",
                                    "Előző foglalás hossza": "43"
                                },
                                {
                                    "SZOBA_ID": "47",
                                    "FOGLALAS_PK": "955",
                                    "Foglalás időtartalma": "1",
                                    "Előző foglalás hossza": "43"
                                },
                                {
                                    "SZOBA_ID": "48",
                                    "FOGLALAS_PK": "1547",
                                    "Foglalás időtartalma": "1",
                                    "Előző foglalás hossza": "47"
                                },
                                {
                                    "SZOBA_ID": "50",
                                    "FOGLALAS_PK": "1224",
                                    "Foglalás időtartalma": "1",
                                    "Előző foglalás hossza": "48"
                                },
                                {
                                    "SZOBA_ID": "50",
                                    "FOGLALAS_PK": "1272",
                                    "Foglalás időtartalma": "1",
                                    "Előző foglalás hossza": "50"
                                },
                                {
                                    "SZOBA_ID": "51",
                                    "FOGLALAS_PK": "1550",
                                    "Foglalás időtartalma": "1",
                                    "Előző foglalás hossza": "50"
                                },
                                {
                                    "SZOBA_ID": "53",
                                    "FOGLALAS_PK": "855",
                                    "Foglalás időtartalma": "1",
                                    "Előző foglalás hossza": "51"
                                },
                                {
                                    "SZOBA_ID": "54",
                                    "FOGLALAS_PK": "668",
                                    "Foglalás időtartalma": "1",
                                    "Előző foglalás hossza": "53"
                                },
                                {
                                    "SZOBA_ID": "55",
                                    "FOGLALAS_PK": "1520",
                                    "Foglalás időtartalma": "1",
                                    "Előző foglalás hossza": "54"
                                },
                                {
                                    "SZOBA_ID": "55",
                                    "FOGLALAS_PK": "1512",
                                    "Foglalás időtartalma": "1",
                                    "Előző foglalás hossza": "55"
                                },
                                {
                                    "SZOBA_ID": "57",
                                    "FOGLALAS_PK": "1389",
                                    "Foglalás időtartalma": "1",
                                    "Előző foglalás hossza": "55"
                                },
                                {
                                    "SZOBA_ID": "57",
                                    "FOGLALAS_PK": "1348",
                                    "Foglalás időtartalma": "1",
                                    "Előző foglalás hossza": "57"
                                },
                                {
                                    "SZOBA_ID": "59",
                                    "FOGLALAS_PK": "1573",
                                    "Foglalás időtartalma": "1",
                                    "Előző foglalás hossza": "57"
                                },
                                {
                                    "SZOBA_ID": "59",
                                    "FOGLALAS_PK": "1080",
                                    "Foglalás időtartalma": "1",
                                    "Előző foglalás hossza": "59"
                                },
                                {
                                    "SZOBA_ID": "62",
                                    "FOGLALAS_PK": "938",
                                    "Foglalás időtartalma": "1",
                                    "Előző foglalás hossza": "59"
                                },
                                {
                                    "SZOBA_ID": "63",
                                    "FOGLALAS_PK": "845",
                                    "Foglalás időtartalma": "1",
                                    "Előző foglalás hossza": "62"
                                },
                                {
                                    "SZOBA_ID": "64",
                                    "FOGLALAS_PK": "1582",
                                    "Foglalás időtartalma": "1",
                                    "Előző foglalás hossza": "63"
                                },
                                {
                                    "SZOBA_ID": "67",
                                    "FOGLALAS_PK": "1584",
                                    "Foglalás időtartalma": "1",
                                    "Előző foglalás hossza": "64"
                                },
                                {
                                    "SZOBA_ID": "67",
                                    "FOGLALAS_PK": "1382",
                                    "Foglalás időtartalma": "1",
                                    "Előző foglalás hossza": "67"
                                },
                                {
                                    "SZOBA_ID": "69",
                                    "FOGLALAS_PK": "885",
                                    "Foglalás időtartalma": "1",
                                    "Előző foglalás hossza": "67"
                                },
                                {
                                    "SZOBA_ID": "71",
                                    "FOGLALAS_PK": "1009",
                                    "Foglalás időtartalma": "1",
                                    "Előző foglalás hossza": "69"
                                },
                                {
                                    "SZOBA_ID": "71",
                                    "FOGLALAS_PK": "712",
                                    "Foglalás időtartalma": "1",
                                    "Előző foglalás hossza": "71"
                                },
                                {
                                    "SZOBA_ID": "74",
                                    "FOGLALAS_PK": "830",
                                    "Foglalás időtartalma": "1",
                                    "Előző foglalás hossza": "71"
                                },
                                {
                                    "SZOBA_ID": "74",
                                    "FOGLALAS_PK": "963",
                                    "Foglalás időtartalma": "1",
                                    "Előző foglalás hossza": "74"
                                },
                                {
                                    "SZOBA_ID": "75",
                                    "FOGLALAS_PK": "1458",
                                    "Foglalás időtartalma": "1",
                                    "Előző foglalás hossza": "74"
                                },
                                {
                                    "SZOBA_ID": "77",
                                    "FOGLALAS_PK": "1104",
                                    "Foglalás időtartalma": "1",
                                    "Előző foglalás hossza": "75"
                                },
                                {
                                    "SZOBA_ID": "78",
                                    "FOGLALAS_PK": "568",
                                    "Foglalás időtartalma": "1",
                                    "Előző foglalás hossza": "77"
                                },
                                {
                                    "SZOBA_ID": "79",
                                    "FOGLALAS_PK": "1054",
                                    "Foglalás időtartalma": "1",
                                    "Előző foglalás hossza": "78"
                                },
                                {
                                    "SZOBA_ID": "82",
                                    "FOGLALAS_PK": "1406",
                                    "Foglalás időtartalma": "1",
                                    "Előző foglalás hossza": "79"
                                },
                                {
                                    "SZOBA_ID": "85",
                                    "FOGLALAS_PK": "1320",
                                    "Foglalás időtartalma": "1",
                                    "Előző foglalás hossza": "82"
                                },
                                {
                                    "SZOBA_ID": "86",
                                    "FOGLALAS_PK": "1453",
                                    "Foglalás időtartalma": "1",
                                    "Előző foglalás hossza": "85"
                                },
                                {
                                    "SZOBA_ID": "86",
                                    "FOGLALAS_PK": "1108",
                                    "Foglalás időtartalma": "1",
                                    "Előző foglalás hossza": "86"
                                },
                                {
                                    "SZOBA_ID": "86",
                                    "FOGLALAS_PK": "859",
                                    "Foglalás időtartalma": "1",
                                    "Előző foglalás hossza": "86"
                                },
                                {
                                    "SZOBA_ID": "87",
                                    "FOGLALAS_PK": "844",
                                    "Foglalás időtartalma": "1",
                                    "Előző foglalás hossza": "86"
                                },
                                {
                                    "SZOBA_ID": "93",
                                    "FOGLALAS_PK": "1217",
                                    "Foglalás időtartalma": "1",
                                    "Előző foglalás hossza": "87"
                                },
                                {
                                    "SZOBA_ID": "94",
                                    "FOGLALAS_PK": "1368",
                                    "Foglalás időtartalma": "1",
                                    "Előző foglalás hossza": "93"
                                },
                                {
                                    "SZOBA_ID": "96",
                                    "FOGLALAS_PK": "780",
                                    "Foglalás időtartalma": "1",
                                    "Előző foglalás hossza": "94"
                                },
                                {
                                    "SZOBA_ID": "97",
                                    "FOGLALAS_PK": "1395",
                                    "Foglalás időtartalma": "1",
                                    "Előző foglalás hossza": "96"
                                },
                                {
                                    "SZOBA_ID": "99",
                                    "FOGLALAS_PK": "1408",
                                    "Foglalás időtartalma": "1",
                                    "Előző foglalás hossza": "97"
                                },
                                {
                                    "SZOBA_ID": "99",
                                    "FOGLALAS_PK": "632",
                                    "Foglalás időtartalma": "1",
                                    "Előző foglalás hossza": "99"
                                },
                                {
                                    "SZOBA_ID": "99",
                                    "FOGLALAS_PK": "1072",
                                    "Foglalás időtartalma": "1",
                                    "Előző foglalás hossza": "99"
                                },
                                {
                                    "SZOBA_ID": "100",
                                    "FOGLALAS_PK": "597",
                                    "Foglalás időtartalma": "1",
                                    "Előző foglalás hossza": "99"
                                },
                                {
                                    "SZOBA_ID": "103",
                                    "FOGLALAS_PK": "1398",
                                    "Foglalás időtartalma": "1",
                                    "Előző foglalás hossza": "100"
                                },
                                {
                                    "SZOBA_ID": "104",
                                    "FOGLALAS_PK": "1180",
                                    "Foglalás időtartalma": "1",
                                    "Előző foglalás hossza": "103"
                                },
                                {
                                    "SZOBA_ID": "105",
                                    "FOGLALAS_PK": "618",
                                    "Foglalás időtartalma": "1",
                                    "Előző foglalás hossza": "104"
                                },
                                {
                                    "SZOBA_ID": "107",
                                    "FOGLALAS_PK": "1354",
                                    "Foglalás időtartalma": "1",
                                    "Előző foglalás hossza": "105"
                                },
                                {
                                    "SZOBA_ID": "108",
                                    "FOGLALAS_PK": "1102",
                                    "Foglalás időtartalma": "1",
                                    "Előző foglalás hossza": "107"
                                },
                                {
                                    "SZOBA_ID": "109",
                                    "FOGLALAS_PK": "1083",
                                    "Foglalás időtartalma": "1",
                                    "Előző foglalás hossza": "108"
                                },
                                {
                                    "SZOBA_ID": "109",
                                    "FOGLALAS_PK": "1560",
                                    "Foglalás időtartalma": "1",
                                    "Előző foglalás hossza": "109"
                                },
                                {
                                    "SZOBA_ID": "110",
                                    "FOGLALAS_PK": "1424",
                                    "Foglalás időtartalma": "1",
                                    "Előző foglalás hossza": "109"
                                },
                                {
                                    "SZOBA_ID": "110",
                                    "FOGLALAS_PK": "685",
                                    "Foglalás időtartalma": "1",
                                    "Előző foglalás hossza": "110"
                                },
                                {
                                    "SZOBA_ID": "112",
                                    "FOGLALAS_PK": "921",
                                    "Foglalás időtartalma": "1",
                                    "Előző foglalás hossza": "110"
                                },
                                {
                                    "SZOBA_ID": "113",
                                    "FOGLALAS_PK": "1263",
                                    "Foglalás időtartalma": "1",
                                    "Előző foglalás hossza": "112"
                                },
                                {
                                    "SZOBA_ID": "115",
                                    "FOGLALAS_PK": "1566",
                                    "Foglalás időtartalma": "1",
                                    "Előző foglalás hossza": "113"
                                },
                                {
                                    "SZOBA_ID": "117",
                                    "FOGLALAS_PK": "1002",
                                    "Foglalás időtartalma": "1",
                                    "Előző foglalás hossza": "115"
                                },
                                {
                                    "SZOBA_ID": "118",
                                    "FOGLALAS_PK": "716",
                                    "Foglalás időtartalma": "1",
                                    "Előző foglalás hossza": "117"
                                },
                                {
                                    "SZOBA_ID": "119",
                                    "FOGLALAS_PK": "722",
                                    "Foglalás időtartalma": "1",
                                    "Előző foglalás hossza": "118"
                                },
                                {
                                    "SZOBA_ID": "120",
                                    "FOGLALAS_PK": "1483",
                                    "Foglalás időtartalma": "1",
                                    "Előző foglalás hossza": "119"
                                },
                                {
                                    "SZOBA_ID": "122",
                                    "FOGLALAS_PK": "1209",
                                    "Foglalás időtartalma": "1",
                                    "Előző foglalás hossza": "120"
                                },
                                {
                                    "SZOBA_ID": "123",
                                    "FOGLALAS_PK": "1223",
                                    "Foglalás időtartalma": "1",
                                    "Előző foglalás hossza": "122"
                                },
                                {
                                    "SZOBA_ID": "124",
                                    "FOGLALAS_PK": "861",
                                    "Foglalás időtartalma": "1",
                                    "Előző foglalás hossza": "123"
                                },
                                {
                                    "SZOBA_ID": "125",
                                    "FOGLALAS_PK": "576",
                                    "Foglalás időtartalma": "1",
                                    "Előző foglalás hossza": "124"
                                },
                                {
                                    "SZOBA_ID": "126",
                                    "FOGLALAS_PK": "1134",
                                    "Foglalás időtartalma": "1",
                                    "Előző foglalás hossza": "125"
                                },
                                {
                                    "SZOBA_ID": "127",
                                    "FOGLALAS_PK": "1286",
                                    "Foglalás időtartalma": "1",
                                    "Előző foglalás hossza": "126"
                                },
                                {
                                    "SZOBA_ID": "128",
                                    "FOGLALAS_PK": "1290",
                                    "Foglalás időtartalma": "1",
                                    "Előző foglalás hossza": "127"
                                },
                                {
                                    "SZOBA_ID": "128",
                                    "FOGLALAS_PK": "1574",
                                    "Foglalás időtartalma": "1",
                                    "Előző foglalás hossza": "128"
                                },
                                {
                                    "SZOBA_ID": "128",
                                    "FOGLALAS_PK": "815",
                                    "Foglalás időtartalma": "1",
                                    "Előző foglalás hossza": "128"
                                },
                                {
                                    "SZOBA_ID": "130",
                                    "FOGLALAS_PK": "1040",
                                    "Foglalás időtartalma": "1",
                                    "Előző foglalás hossza": "128"
                                },
                                {
                                    "SZOBA_ID": "131",
                                    "FOGLALAS_PK": "655",
                                    "Foglalás időtartalma": "1",
                                    "Előző foglalás hossza": "130"
                                },
                                {
                                    "SZOBA_ID": "133",
                                    "FOGLALAS_PK": "1409",
                                    "Foglalás időtartalma": "1",
                                    "Előző foglalás hossza": "131"
                                },
                                {
                                    "SZOBA_ID": "134",
                                    "FOGLALAS_PK": "1024",
                                    "Foglalás időtartalma": "1",
                                    "Előző foglalás hossza": "133"
                                },
                                {
                                    "SZOBA_ID": "137",
                                    "FOGLALAS_PK": "1014",
                                    "Foglalás időtartalma": "1",
                                    "Előző foglalás hossza": "134"
                                },
                                {
                                    "SZOBA_ID": "139",
                                    "FOGLALAS_PK": "745",
                                    "Foglalás időtartalma": "1",
                                    "Előző foglalás hossza": "137"
                                },
                                {
                                    "SZOBA_ID": "140",
                                    "FOGLALAS_PK": "733",
                                    "Foglalás időtartalma": "1",
                                    "Előző foglalás hossza": "139"
                                },
                                {
                                    "SZOBA_ID": "140",
                                    "FOGLALAS_PK": "1371",
                                    "Foglalás időtartalma": "1",
                                    "Előző foglalás hossza": "140"
                                },
                                {
                                    "SZOBA_ID": "144",
                                    "FOGLALAS_PK": "1297",
                                    "Foglalás időtartalma": "1",
                                    "Előző foglalás hossza": "140"
                                },
                                {
                                    "SZOBA_ID": "145",
                                    "FOGLALAS_PK": "1471",
                                    "Foglalás időtartalma": "1",
                                    "Előző foglalás hossza": "144"
                                },
                                {
                                    "SZOBA_ID": "145",
                                    "FOGLALAS_PK": "1077",
                                    "Foglalás időtartalma": "1",
                                    "Előző foglalás hossza": "145"
                                },
                                {
                                    "SZOBA_ID": "145",
                                    "FOGLALAS_PK": "1120",
                                    "Foglalás időtartalma": "1",
                                    "Előző foglalás hossza": "145"
                                },
                                {
                                    "SZOBA_ID": "149",
                                    "FOGLALAS_PK": "652",
                                    "Foglalás időtartalma": "1",
                                    "Előző foglalás hossza": "145"
                                },
                                {
                                    "SZOBA_ID": "149",
                                    "FOGLALAS_PK": "591",
                                    "Foglalás időtartalma": "1",
                                    "Előző foglalás hossza": "149"
                                },
                                {
                                    "SZOBA_ID": "150",
                                    "FOGLALAS_PK": "1105",
                                    "Foglalás időtartalma": "1",
                                    "Előző foglalás hossza": "149"
                                },
                                {
                                    "SZOBA_ID": "150",
                                    "FOGLALAS_PK": "1177",
                                    "Foglalás időtartalma": "1",
                                    "Előző foglalás hossza": "150"
                                },
                                {
                                    "SZOBA_ID": "154",
                                    "FOGLALAS_PK": "1262",
                                    "Foglalás időtartalma": "1",
                                    "Előző foglalás hossza": "150"
                                },
                                {
                                    "SZOBA_ID": "154",
                                    "FOGLALAS_PK": "968",
                                    "Foglalás időtartalma": "1",
                                    "Előző foglalás hossza": "154"
                                },
                                {
                                    "SZOBA_ID": "155",
                                    "FOGLALAS_PK": "575",
                                    "Foglalás időtartalma": "1",
                                    "Előző foglalás hossza": "154"
                                },
                                {
                                    "SZOBA_ID": "155",
                                    "FOGLALAS_PK": "1310",
                                    "Foglalás időtartalma": "1",
                                    "Előző foglalás hossza": "155"
                                },
                                {
                                    "SZOBA_ID": "155",
                                    "FOGLALAS_PK": "1541",
                                    "Foglalás időtartalma": "1",
                                    "Előző foglalás hossza": "155"
                                },
                                {
                                    "SZOBA_ID": "156",
                                    "FOGLALAS_PK": "1490",
                                    "Foglalás időtartalma": "1",
                                    "Előző foglalás hossza": "155"
                                },
                                {
                                    "SZOBA_ID": "162",
                                    "FOGLALAS_PK": "1400",
                                    "Foglalás időtartalma": "1",
                                    "Előző foglalás hossza": "156"
                                },
                                {
                                    "SZOBA_ID": "163",
                                    "FOGLALAS_PK": "941",
                                    "Foglalás időtartalma": "1",
                                    "Előző foglalás hossza": "162"
                                },
                                {
                                    "SZOBA_ID": "165",
                                    "FOGLALAS_PK": "1141",
                                    "Foglalás időtartalma": "1",
                                    "Előző foglalás hossza": "163"
                                },
                                {
                                    "SZOBA_ID": "169",
                                    "FOGLALAS_PK": "1427",
                                    "Foglalás időtartalma": "1",
                                    "Előző foglalás hossza": "165"
                                },
                                {
                                    "SZOBA_ID": "169",
                                    "FOGLALAS_PK": "974",
                                    "Foglalás időtartalma": "1",
                                    "Előző foglalás hossza": "169"
                                },
                                {
                                    "SZOBA_ID": "173",
                                    "FOGLALAS_PK": "913",
                                    "Foglalás időtartalma": "1",
                                    "Előző foglalás hossza": "169"
                                },
                                {
                                    "SZOBA_ID": "174",
                                    "FOGLALAS_PK": "1276",
                                    "Foglalás időtartalma": "1",
                                    "Előző foglalás hossza": "173"
                                },
                                {
                                    "SZOBA_ID": "178",
                                    "FOGLALAS_PK": "1242",
                                    "Foglalás időtartalma": "1",
                                    "Előző foglalás hossza": "174"
                                },
                                {
                                    "SZOBA_ID": "179",
                                    "FOGLALAS_PK": "1497",
                                    "Foglalás időtartalma": "1",
                                    "Előző foglalás hossza": "178"
                                },
                                {
                                    "SZOBA_ID": "179",
                                    "FOGLALAS_PK": "1021",
                                    "Foglalás időtartalma": "1",
                                    "Előző foglalás hossza": "179"
                                },
                                {
                                    "SZOBA_ID": "181",
                                    "FOGLALAS_PK": "1022",
                                    "Foglalás időtartalma": "1",
                                    "Előző foglalás hossza": "179"
                                },
                                {
                                    "SZOBA_ID": "182",
                                    "FOGLALAS_PK": "1188",
                                    "Foglalás időtartalma": "1",
                                    "Előző foglalás hossza": "181"
                                },
                                {
                                    "SZOBA_ID": "182",
                                    "FOGLALAS_PK": "1308",
                                    "Foglalás időtartalma": "1",
                                    "Előző foglalás hossza": "182"
                                },
                                {
                                    "SZOBA_ID": "187",
                                    "FOGLALAS_PK": "766",
                                    "Foglalás időtartalma": "1",
                                    "Előző foglalás hossza": "182"
                                },
                                {
                                    "SZOBA_ID": "188",
                                    "FOGLALAS_PK": "912",
                                    "Foglalás időtartalma": "1",
                                    "Előző foglalás hossza": "187"
                                },
                                {
                                    "SZOBA_ID": "189",
                                    "FOGLALAS_PK": "753",
                                    "Foglalás időtartalma": "1",
                                    "Előző foglalás hossza": "188"
                                },
                                {
                                    "SZOBA_ID": "190",
                                    "FOGLALAS_PK": "1017",
                                    "Foglalás időtartalma": "1",
                                    "Előző foglalás hossza": "189"
                                },
                                {
                                    "SZOBA_ID": "190",
                                    "FOGLALAS_PK": "989",
                                    "Foglalás időtartalma": "1",
                                    "Előző foglalás hossza": "190"
                                },
                                {
                                    "SZOBA_ID": "191",
                                    "FOGLALAS_PK": "1302",
                                    "Foglalás időtartalma": "1",
                                    "Előző foglalás hossza": "190"
                                },
                                {
                                    "SZOBA_ID": "193",
                                    "FOGLALAS_PK": "926",
                                    "Foglalás időtartalma": "1",
                                    "Előző foglalás hossza": "191"
                                },
                                {
                                    "SZOBA_ID": "195",
                                    "FOGLALAS_PK": "1484",
                                    "Foglalás időtartalma": "1",
                                    "Előző foglalás hossza": "193"
                                },
                                {
                                    "SZOBA_ID": "198",
                                    "FOGLALAS_PK": "978",
                                    "Foglalás időtartalma": "1",
                                    "Előző foglalás hossza": "195"
                                },
                                {
                                    "SZOBA_ID": "198",
                                    "FOGLALAS_PK": "1116",
                                    "Foglalás időtartalma": "1",
                                    "Előző foglalás hossza": "198"
                                },
                                {
                                    "SZOBA_ID": "1",
                                    "FOGLALAS_PK": "1137",
                                    "Foglalás időtartalma": "2",
                                    "Előző foglalás hossza": "0"
                                },
                                {
                                    "SZOBA_ID": "5",
                                    "FOGLALAS_PK": "564",
                                    "Foglalás időtartalma": "2",
                                    "Előző foglalás hossza": "1"
                                },
                                {
                                    "SZOBA_ID": "6",
                                    "FOGLALAS_PK": "850",
                                    "Foglalás időtartalma": "2",
                                    "Előző foglalás hossza": "5"
                                },
                                {
                                    "SZOBA_ID": "7",
                                    "FOGLALAS_PK": "1252",
                                    "Foglalás időtartalma": "2",
                                    "Előző foglalás hossza": "6"
                                },
                                {
                                    "SZOBA_ID": "9",
                                    "FOGLALAS_PK": "609",
                                    "Foglalás időtartalma": "2",
                                    "Előző foglalás hossza": "7"
                                },
                                {
                                    "SZOBA_ID": "12",
                                    "FOGLALAS_PK": "697",
                                    "Foglalás időtartalma": "2",
                                    "Előző foglalás hossza": "9"
                                },
                                {
                                    "SZOBA_ID": "12",
                                    "FOGLALAS_PK": "970",
                                    "Foglalás időtartalma": "2",
                                    "Előző foglalás hossza": "12"
                                },
                                {
                                    "SZOBA_ID": "12",
                                    "FOGLALAS_PK": "1430",
                                    "Foglalás időtartalma": "2",
                                    "Előző foglalás hossza": "12"
                                },
                                {
                                    "SZOBA_ID": "13",
                                    "FOGLALAS_PK": "1469",
                                    "Foglalás időtartalma": "2",
                                    "Előző foglalás hossza": "12"
                                },
                                {
                                    "SZOBA_ID": "15",
                                    "FOGLALAS_PK": "1028",
                                    "Foglalás időtartalma": "2",
                                    "Előző foglalás hossza": "13"
                                },
                                {
                                    "SZOBA_ID": "17",
                                    "FOGLALAS_PK": "916",
                                    "Foglalás időtartalma": "2",
                                    "Előző foglalás hossza": "15"
                                },
                                {
                                    "SZOBA_ID": "19",
                                    "FOGLALAS_PK": "948",
                                    "Foglalás időtartalma": "2",
                                    "Előző foglalás hossza": "17"
                                },
                                {
                                    "SZOBA_ID": "20",
                                    "FOGLALAS_PK": "1106",
                                    "Foglalás időtartalma": "2",
                                    "Előző foglalás hossza": "19"
                                },
                                {
                                    "SZOBA_ID": "24",
                                    "FOGLALAS_PK": "852",
                                    "Foglalás időtartalma": "2",
                                    "Előző foglalás hossza": "20"
                                },
                                {
                                    "SZOBA_ID": "25",
                                    "FOGLALAS_PK": "1362",
                                    "Foglalás időtartalma": "2",
                                    "Előző foglalás hossza": "24"
                                },
                                {
                                    "SZOBA_ID": "26",
                                    "FOGLALAS_PK": "1158",
                                    "Foglalás időtartalma": "2",
                                    "Előző foglalás hossza": "25"
                                },
                                {
                                    "SZOBA_ID": "27",
                                    "FOGLALAS_PK": "1031",
                                    "Foglalás időtartalma": "2",
                                    "Előző foglalás hossza": "26"
                                },
                                {
                                    "SZOBA_ID": "27",
                                    "FOGLALAS_PK": "807",
                                    "Foglalás időtartalma": "2",
                                    "Előző foglalás hossza": "27"
                                },
                                {
                                    "SZOBA_ID": "28",
                                    "FOGLALAS_PK": "1459",
                                    "Foglalás időtartalma": "2",
                                    "Előző foglalás hossza": "27"
                                },
                                {
                                    "SZOBA_ID": "30",
                                    "FOGLALAS_PK": "604",
                                    "Foglalás időtartalma": "2",
                                    "Előző foglalás hossza": "28"
                                },
                                {
                                    "SZOBA_ID": "31",
                                    "FOGLALAS_PK": "598",
                                    "Foglalás időtartalma": "2",
                                    "Előző foglalás hossza": "30"
                                },
                                {
                                    "SZOBA_ID": "34",
                                    "FOGLALAS_PK": "904",
                                    "Foglalás időtartalma": "2",
                                    "Előző foglalás hossza": "31"
                                },
                                {
                                    "SZOBA_ID": "35",
                                    "FOGLALAS_PK": "829",
                                    "Foglalás időtartalma": "2",
                                    "Előző foglalás hossza": "34"
                                },
                                {
                                    "SZOBA_ID": "35",
                                    "FOGLALAS_PK": "707",
                                    "Foglalás időtartalma": "2",
                                    "Előző foglalás hossza": "35"
                                },
                                {
                                    "SZOBA_ID": "36",
                                    "FOGLALAS_PK": "748",
                                    "Foglalás időtartalma": "2",
                                    "Előző foglalás hossza": "35"
                                },
                                {
                                    "SZOBA_ID": "37",
                                    "FOGLALAS_PK": "688",
                                    "Foglalás időtartalma": "2",
                                    "Előző foglalás hossza": "36"
                                },
                                {
                                    "SZOBA_ID": "38",
                                    "FOGLALAS_PK": "1033",
                                    "Foglalás időtartalma": "2",
                                    "Előző foglalás hossza": "37"
                                },
                                {
                                    "SZOBA_ID": "38",
                                    "FOGLALAS_PK": "1060",
                                    "Foglalás időtartalma": "2",
                                    "Előző foglalás hossza": "38"
                                },
                                {
                                    "SZOBA_ID": "39",
                                    "FOGLALAS_PK": "1538",
                                    "Foglalás időtartalma": "2",
                                    "Előző foglalás hossza": "38"
                                },
                                {
                                    "SZOBA_ID": "42",
                                    "FOGLALAS_PK": "1309",
                                    "Foglalás időtartalma": "2",
                                    "Előző foglalás hossza": "39"
                                },
                                {
                                    "SZOBA_ID": "43",
                                    "FOGLALAS_PK": "1088",
                                    "Foglalás időtartalma": "2",
                                    "Előző foglalás hossza": "42"
                                },
                                {
                                    "SZOBA_ID": "44",
                                    "FOGLALAS_PK": "589",
                                    "Foglalás időtartalma": "2",
                                    "Előző foglalás hossza": "43"
                                },
                                {
                                    "SZOBA_ID": "44",
                                    "FOGLALAS_PK": "823",
                                    "Foglalás időtartalma": "2",
                                    "Előző foglalás hossza": "44"
                                },
                                {
                                    "SZOBA_ID": "44",
                                    "FOGLALAS_PK": "1295",
                                    "Foglalás időtartalma": "2",
                                    "Előző foglalás hossza": "44"
                                },
                                {
                                    "SZOBA_ID": "44",
                                    "FOGLALAS_PK": "1552",
                                    "Foglalás időtartalma": "2",
                                    "Előző foglalás hossza": "44"
                                },
                                {
                                    "SZOBA_ID": "44",
                                    "FOGLALAS_PK": "1425",
                                    "Foglalás időtartalma": "2",
                                    "Előző foglalás hossza": "44"
                                },
                                {
                                    "SZOBA_ID": "45",
                                    "FOGLALAS_PK": "1303",
                                    "Foglalás időtartalma": "2",
                                    "Előző foglalás hossza": "44"
                                },
                                {
                                    "SZOBA_ID": "48",
                                    "FOGLALAS_PK": "824",
                                    "Foglalás időtartalma": "2",
                                    "Előző foglalás hossza": "45"
                                },
                                {
                                    "SZOBA_ID": "48",
                                    "FOGLALAS_PK": "628",
                                    "Foglalás időtartalma": "2",
                                    "Előző foglalás hossza": "48"
                                },
                                {
                                    "SZOBA_ID": "49",
                                    "FOGLALAS_PK": "1221",
                                    "Foglalás időtartalma": "2",
                                    "Előző foglalás hossza": "48"
                                },
                                {
                                    "SZOBA_ID": "50",
                                    "FOGLALAS_PK": "1063",
                                    "Foglalás időtartalma": "2",
                                    "Előző foglalás hossza": "49"
                                },
                                {
                                    "SZOBA_ID": "51",
                                    "FOGLALAS_PK": "811",
                                    "Foglalás időtartalma": "2",
                                    "Előző foglalás hossza": "50"
                                },
                                {
                                    "SZOBA_ID": "52",
                                    "FOGLALAS_PK": "1202",
                                    "Foglalás időtartalma": "2",
                                    "Előző foglalás hossza": "51"
                                },
                                {
                                    "SZOBA_ID": "54",
                                    "FOGLALAS_PK": "889",
                                    "Foglalás időtartalma": "2",
                                    "Előző foglalás hossza": "52"
                                },
                                {
                                    "SZOBA_ID": "55",
                                    "FOGLALAS_PK": "1163",
                                    "Foglalás időtartalma": "2",
                                    "Előző foglalás hossza": "54"
                                },
                                {
                                    "SZOBA_ID": "55",
                                    "FOGLALAS_PK": "1386",
                                    "Foglalás időtartalma": "2",
                                    "Előző foglalás hossza": "55"
                                },
                                {
                                    "SZOBA_ID": "56",
                                    "FOGLALAS_PK": "838",
                                    "Foglalás időtartalma": "2",
                                    "Előző foglalás hossza": "55"
                                },
                                {
                                    "SZOBA_ID": "58",
                                    "FOGLALAS_PK": "773",
                                    "Foglalás időtartalma": "2",
                                    "Előző foglalás hossza": "56"
                                },
                                {
                                    "SZOBA_ID": "59",
                                    "FOGLALAS_PK": "1084",
                                    "Foglalás időtartalma": "2",
                                    "Előző foglalás hossza": "58"
                                },
                                {
                                    "SZOBA_ID": "59",
                                    "FOGLALAS_PK": "1239",
                                    "Foglalás időtartalma": "2",
                                    "Előző foglalás hossza": "59"
                                },
                                {
                                    "SZOBA_ID": "60",
                                    "FOGLALAS_PK": "676",
                                    "Foglalás időtartalma": "2",
                                    "Előző foglalás hossza": "59"
                                },
                                {
                                    "SZOBA_ID": "61",
                                    "FOGLALAS_PK": "701",
                                    "Foglalás időtartalma": "2",
                                    "Előző foglalás hossza": "60"
                                },
                                {
                                    "SZOBA_ID": "61",
                                    "FOGLALAS_PK": "1218",
                                    "Foglalás időtartalma": "2",
                                    "Előző foglalás hossza": "61"
                                },
                                {
                                    "SZOBA_ID": "64",
                                    "FOGLALAS_PK": "875",
                                    "Foglalás időtartalma": "2",
                                    "Előző foglalás hossza": "61"
                                },
                                {
                                    "SZOBA_ID": "70",
                                    "FOGLALAS_PK": "860",
                                    "Foglalás időtartalma": "2",
                                    "Előző foglalás hossza": "64"
                                },
                                {
                                    "SZOBA_ID": "72",
                                    "FOGLALAS_PK": "1318",
                                    "Foglalás időtartalma": "2",
                                    "Előző foglalás hossza": "70"
                                },
                                {
                                    "SZOBA_ID": "75",
                                    "FOGLALAS_PK": "1412",
                                    "Foglalás időtartalma": "2",
                                    "Előző foglalás hossza": "72"
                                },
                                {
                                    "SZOBA_ID": "76",
                                    "FOGLALAS_PK": "976",
                                    "Foglalás időtartalma": "2",
                                    "Előző foglalás hossza": "75"
                                },
                                {
                                    "SZOBA_ID": "78",
                                    "FOGLALAS_PK": "1268",
                                    "Foglalás időtartalma": "2",
                                    "Előző foglalás hossza": "76"
                                },
                                {
                                    "SZOBA_ID": "80",
                                    "FOGLALAS_PK": "929",
                                    "Foglalás időtartalma": "2",
                                    "Előző foglalás hossza": "78"
                                },
                                {
                                    "SZOBA_ID": "82",
                                    "FOGLALAS_PK": "1341",
                                    "Foglalás időtartalma": "2",
                                    "Előző foglalás hossza": "80"
                                },
                                {
                                    "SZOBA_ID": "84",
                                    "FOGLALAS_PK": "819",
                                    "Foglalás időtartalma": "2",
                                    "Előző foglalás hossza": "82"
                                },
                                {
                                    "SZOBA_ID": "88",
                                    "FOGLALAS_PK": "866",
                                    "Foglalás időtartalma": "2",
                                    "Előző foglalás hossza": "84"
                                },
                                {
                                    "SZOBA_ID": "88",
                                    "FOGLALAS_PK": "1359",
                                    "Foglalás időtartalma": "2",
                                    "Előző foglalás hossza": "88"
                                },
                                {
                                    "SZOBA_ID": "89",
                                    "FOGLALAS_PK": "1399",
                                    "Foglalás időtartalma": "2",
                                    "Előző foglalás hossza": "88"
                                },
                                {
                                    "SZOBA_ID": "89",
                                    "FOGLALAS_PK": "1269",
                                    "Foglalás időtartalma": "2",
                                    "Előző foglalás hossza": "89"
                                },
                                {
                                    "SZOBA_ID": "89",
                                    "FOGLALAS_PK": "1253",
                                    "Foglalás időtartalma": "2",
                                    "Előző foglalás hossza": "89"
                                },
                                {
                                    "SZOBA_ID": "90",
                                    "FOGLALAS_PK": "729",
                                    "Foglalás időtartalma": "2",
                                    "Előző foglalás hossza": "89"
                                },
                                {
                                    "SZOBA_ID": "92",
                                    "FOGLALAS_PK": "1016",
                                    "Foglalás időtartalma": "2",
                                    "Előző foglalás hossza": "90"
                                },
                                {
                                    "SZOBA_ID": "92",
                                    "FOGLALAS_PK": "1527",
                                    "Foglalás időtartalma": "2",
                                    "Előző foglalás hossza": "92"
                                },
                                {
                                    "SZOBA_ID": "93",
                                    "FOGLALAS_PK": "1355",
                                    "Foglalás időtartalma": "2",
                                    "Előző foglalás hossza": "92"
                                },
                                {
                                    "SZOBA_ID": "94",
                                    "FOGLALAS_PK": "1305",
                                    "Foglalás időtartalma": "2",
                                    "Előző foglalás hossza": "93"
                                },
                                {
                                    "SZOBA_ID": "94",
                                    "FOGLALAS_PK": "1518",
                                    "Foglalás időtartalma": "2",
                                    "Előző foglalás hossza": "94"
                                },
                                {
                                    "SZOBA_ID": "96",
                                    "FOGLALAS_PK": "1438",
                                    "Foglalás időtartalma": "2",
                                    "Előző foglalás hossza": "94"
                                },
                                {
                                    "SZOBA_ID": "97",
                                    "FOGLALAS_PK": "1528",
                                    "Foglalás időtartalma": "2",
                                    "Előző foglalás hossza": "96"
                                },
                                {
                                    "SZOBA_ID": "97",
                                    "FOGLALAS_PK": "836",
                                    "Foglalás időtartalma": "2",
                                    "Előző foglalás hossza": "97"
                                },
                                {
                                    "SZOBA_ID": "98",
                                    "FOGLALAS_PK": "1402",
                                    "Foglalás időtartalma": "2",
                                    "Előző foglalás hossza": "97"
                                },
                                {
                                    "SZOBA_ID": "102",
                                    "FOGLALAS_PK": "1343",
                                    "Foglalás időtartalma": "2",
                                    "Előző foglalás hossza": "98"
                                },
                                {
                                    "SZOBA_ID": "103",
                                    "FOGLALAS_PK": "972",
                                    "Foglalás időtartalma": "2",
                                    "Előző foglalás hossza": "102"
                                },
                                {
                                    "SZOBA_ID": "104",
                                    "FOGLALAS_PK": "1522",
                                    "Foglalás időtartalma": "2",
                                    "Előző foglalás hossza": "103"
                                },
                                {
                                    "SZOBA_ID": "107",
                                    "FOGLALAS_PK": "1494",
                                    "Foglalás időtartalma": "2",
                                    "Előző foglalás hossza": "104"
                                },
                                {
                                    "SZOBA_ID": "109",
                                    "FOGLALAS_PK": "810",
                                    "Foglalás időtartalma": "2",
                                    "Előző foglalás hossza": "107"
                                },
                                {
                                    "SZOBA_ID": "110",
                                    "FOGLALAS_PK": "1162",
                                    "Foglalás időtartalma": "2",
                                    "Előző foglalás hossza": "109"
                                },
                                {
                                    "SZOBA_ID": "113",
                                    "FOGLALAS_PK": "1499",
                                    "Foglalás időtartalma": "2",
                                    "Előző foglalás hossza": "110"
                                },
                                {
                                    "SZOBA_ID": "114",
                                    "FOGLALAS_PK": "737",
                                    "Foglalás időtartalma": "2",
                                    "Előző foglalás hossza": "113"
                                },
                                {
                                    "SZOBA_ID": "116",
                                    "FOGLALAS_PK": "1455",
                                    "Foglalás időtartalma": "2",
                                    "Előző foglalás hossza": "114"
                                },
                                {
                                    "SZOBA_ID": "117",
                                    "FOGLALAS_PK": "1192",
                                    "Foglalás időtartalma": "2",
                                    "Előző foglalás hossza": "116"
                                },
                                {
                                    "SZOBA_ID": "117",
                                    "FOGLALAS_PK": "612",
                                    "Foglalás időtartalma": "2",
                                    "Előző foglalás hossza": "117"
                                },
                                {
                                    "SZOBA_ID": "119",
                                    "FOGLALAS_PK": "706",
                                    "Foglalás időtartalma": "2",
                                    "Előző foglalás hossza": "117"
                                },
                                {
                                    "SZOBA_ID": "122",
                                    "FOGLALAS_PK": "1036",
                                    "Foglalás időtartalma": "2",
                                    "Előző foglalás hossza": "119"
                                },
                                {
                                    "SZOBA_ID": "122",
                                    "FOGLALAS_PK": "1007",
                                    "Foglalás időtartalma": "2",
                                    "Előző foglalás hossza": "122"
                                },
                                {
                                    "SZOBA_ID": "122",
                                    "FOGLALAS_PK": "1245",
                                    "Foglalás időtartalma": "2",
                                    "Előző foglalás hossza": "122"
                                },
                                {
                                    "SZOBA_ID": "122",
                                    "FOGLALAS_PK": "1337",
                                    "Foglalás időtartalma": "2",
                                    "Előző foglalás hossza": "122"
                                },
                                {
                                    "SZOBA_ID": "127",
                                    "FOGLALAS_PK": "879",
                                    "Foglalás időtartalma": "2",
                                    "Előző foglalás hossza": "122"
                                },
                                {
                                    "SZOBA_ID": "127",
                                    "FOGLALAS_PK": "643",
                                    "Foglalás időtartalma": "2",
                                    "Előző foglalás hossza": "127"
                                },
                                {
                                    "SZOBA_ID": "128",
                                    "FOGLALAS_PK": "717",
                                    "Foglalás időtartalma": "2",
                                    "Előző foglalás hossza": "127"
                                },
                                {
                                    "SZOBA_ID": "130",
                                    "FOGLALAS_PK": "910",
                                    "Foglalás időtartalma": "2",
                                    "Előző foglalás hossza": "128"
                                },
                                {
                                    "SZOBA_ID": "131",
                                    "FOGLALAS_PK": "559",
                                    "Foglalás időtartalma": "2",
                                    "Előző foglalás hossza": "130"
                                },
                                {
                                    "SZOBA_ID": "132",
                                    "FOGLALAS_PK": "1301",
                                    "Foglalás időtartalma": "2",
                                    "Előző foglalás hossza": "131"
                                },
                                {
                                    "SZOBA_ID": "132",
                                    "FOGLALAS_PK": "1519",
                                    "Foglalás időtartalma": "2",
                                    "Előző foglalás hossza": "132"
                                },
                                {
                                    "SZOBA_ID": "134",
                                    "FOGLALAS_PK": "1045",
                                    "Foglalás időtartalma": "2",
                                    "Előző foglalás hossza": "132"
                                },
                                {
                                    "SZOBA_ID": "136",
                                    "FOGLALAS_PK": "584",
                                    "Foglalás időtartalma": "2",
                                    "Előző foglalás hossza": "134"
                                },
                                {
                                    "SZOBA_ID": "138",
                                    "FOGLALAS_PK": "1283",
                                    "Foglalás időtartalma": "2",
                                    "Előző foglalás hossza": "136"
                                },
                                {
                                    "SZOBA_ID": "139",
                                    "FOGLALAS_PK": "579",
                                    "Foglalás időtartalma": "2",
                                    "Előző foglalás hossza": "138"
                                },
                                {
                                    "SZOBA_ID": "139",
                                    "FOGLALAS_PK": "1042",
                                    "Foglalás időtartalma": "2",
                                    "Előző foglalás hossza": "139"
                                },
                                {
                                    "SZOBA_ID": "140",
                                    "FOGLALAS_PK": "1098",
                                    "Foglalás időtartalma": "2",
                                    "Előző foglalás hossza": "139"
                                },
                                {
                                    "SZOBA_ID": "140",
                                    "FOGLALAS_PK": "915",
                                    "Foglalás időtartalma": "2",
                                    "Előző foglalás hossza": "140"
                                },
                                {
                                    "SZOBA_ID": "141",
                                    "FOGLALAS_PK": "908",
                                    "Foglalás időtartalma": "2",
                                    "Előző foglalás hossza": "140"
                                },
                                {
                                    "SZOBA_ID": "143",
                                    "FOGLALAS_PK": "1222",
                                    "Foglalás időtartalma": "2",
                                    "Előző foglalás hossza": "141"
                                },
                                {
                                    "SZOBA_ID": "144",
                                    "FOGLALAS_PK": "1572",
                                    "Foglalás időtartalma": "2",
                                    "Előző foglalás hossza": "143"
                                },
                                {
                                    "SZOBA_ID": "144",
                                    "FOGLALAS_PK": "1087",
                                    "Foglalás időtartalma": "2",
                                    "Előző foglalás hossza": "144"
                                },
                                {
                                    "SZOBA_ID": "145",
                                    "FOGLALAS_PK": "1338",
                                    "Foglalás időtartalma": "2",
                                    "Előző foglalás hossza": "144"
                                },
                                {
                                    "SZOBA_ID": "148",
                                    "FOGLALAS_PK": "808",
                                    "Foglalás időtartalma": "2",
                                    "Előző foglalás hossza": "145"
                                },
                                {
                                    "SZOBA_ID": "149",
                                    "FOGLALAS_PK": "833",
                                    "Foglalás időtartalma": "2",
                                    "Előző foglalás hossza": "148"
                                },
                                {
                                    "SZOBA_ID": "152",
                                    "FOGLALAS_PK": "730",
                                    "Foglalás időtartalma": "2",
                                    "Előző foglalás hossza": "149"
                                },
                                {
                                    "SZOBA_ID": "152",
                                    "FOGLALAS_PK": "1558",
                                    "Foglalás időtartalma": "2",
                                    "Előző foglalás hossza": "152"
                                },
                                {
                                    "SZOBA_ID": "154",
                                    "FOGLALAS_PK": "1539",
                                    "Foglalás időtartalma": "2",
                                    "Előző foglalás hossza": "152"
                                },
                                {
                                    "SZOBA_ID": "160",
                                    "FOGLALAS_PK": "720",
                                    "Foglalás időtartalma": "2",
                                    "Előző foglalás hossza": "154"
                                },
                                {
                                    "SZOBA_ID": "160",
                                    "FOGLALAS_PK": "922",
                                    "Foglalás időtartalma": "2",
                                    "Előző foglalás hossza": "160"
                                },
                                {
                                    "SZOBA_ID": "163",
                                    "FOGLALAS_PK": "630",
                                    "Foglalás időtartalma": "2",
                                    "Előző foglalás hossza": "160"
                                },
                                {
                                    "SZOBA_ID": "164",
                                    "FOGLALAS_PK": "1010",
                                    "Foglalás időtartalma": "2",
                                    "Előző foglalás hossza": "163"
                                },
                                {
                                    "SZOBA_ID": "164",
                                    "FOGLALAS_PK": "1292",
                                    "Foglalás időtartalma": "2",
                                    "Előző foglalás hossza": "164"
                                },
                                {
                                    "SZOBA_ID": "166",
                                    "FOGLALAS_PK": "1526",
                                    "Foglalás időtartalma": "2",
                                    "Előző foglalás hossza": "164"
                                },
                                {
                                    "SZOBA_ID": "171",
                                    "FOGLALAS_PK": "574",
                                    "Foglalás időtartalma": "2",
                                    "Előző foglalás hossza": "166"
                                },
                                {
                                    "SZOBA_ID": "172",
                                    "FOGLALAS_PK": "1491",
                                    "Foglalás időtartalma": "2",
                                    "Előző foglalás hossza": "171"
                                },
                                {
                                    "SZOBA_ID": "174",
                                    "FOGLALAS_PK": "917",
                                    "Foglalás időtartalma": "2",
                                    "Előző foglalás hossza": "172"
                                },
                                {
                                    "SZOBA_ID": "175",
                                    "FOGLALAS_PK": "1133",
                                    "Foglalás időtartalma": "2",
                                    "Előző foglalás hossza": "174"
                                },
                                {
                                    "SZOBA_ID": "176",
                                    "FOGLALAS_PK": "1511",
                                    "Foglalás időtartalma": "2",
                                    "Előző foglalás hossza": "175"
                                },
                                {
                                    "SZOBA_ID": "179",
                                    "FOGLALAS_PK": "662",
                                    "Foglalás időtartalma": "2",
                                    "Előző foglalás hossza": "176"
                                },
                                {
                                    "SZOBA_ID": "182",
                                    "FOGLALAS_PK": "571",
                                    "Foglalás időtartalma": "2",
                                    "Előző foglalás hossza": "179"
                                },
                                {
                                    "SZOBA_ID": "182",
                                    "FOGLALAS_PK": "928",
                                    "Foglalás időtartalma": "2",
                                    "Előző foglalás hossza": "182"
                                },
                                {
                                    "SZOBA_ID": "184",
                                    "FOGLALAS_PK": "608",
                                    "Foglalás időtartalma": "2",
                                    "Előző foglalás hossza": "182"
                                },
                                {
                                    "SZOBA_ID": "185",
                                    "FOGLALAS_PK": "693",
                                    "Foglalás időtartalma": "2",
                                    "Előző foglalás hossza": "184"
                                },
                                {
                                    "SZOBA_ID": "186",
                                    "FOGLALAS_PK": "1248",
                                    "Foglalás időtartalma": "2",
                                    "Előző foglalás hossza": "185"
                                },
                                {
                                    "SZOBA_ID": "187",
                                    "FOGLALAS_PK": "1404",
                                    "Foglalás időtartalma": "2",
                                    "Előző foglalás hossza": "186"
                                },
                                {
                                    "SZOBA_ID": "187",
                                    "FOGLALAS_PK": "743",
                                    "Foglalás időtartalma": "2",
                                    "Előző foglalás hossza": "187"
                                },
                                {
                                    "SZOBA_ID": "189",
                                    "FOGLALAS_PK": "699",
                                    "Foglalás időtartalma": "2",
                                    "Előző foglalás hossza": "187"
                                },
                                {
                                    "SZOBA_ID": "189",
                                    "FOGLALAS_PK": "1204",
                                    "Foglalás időtartalma": "2",
                                    "Előző foglalás hossza": "189"
                                },
                                {
                                    "SZOBA_ID": "189",
                                    "FOGLALAS_PK": "1449",
                                    "Foglalás időtartalma": "2",
                                    "Előző foglalás hossza": "189"
                                },
                                {
                                    "SZOBA_ID": "191",
                                    "FOGLALAS_PK": "1502",
                                    "Foglalás időtartalma": "2",
                                    "Előző foglalás hossza": "189"
                                },
                                {
                                    "SZOBA_ID": "193",
                                    "FOGLALAS_PK": "675",
                                    "Foglalás időtartalma": "2",
                                    "Előző foglalás hossza": "191"
                                },
                                {
                                    "SZOBA_ID": "193",
                                    "FOGLALAS_PK": "835",
                                    "Foglalás időtartalma": "2",
                                    "Előző foglalás hossza": "193"
                                },
                                {
                                    "SZOBA_ID": "193",
                                    "FOGLALAS_PK": "977",
                                    "Foglalás időtartalma": "2",
                                    "Előző foglalás hossza": "193"
                                },
                                {
                                    "SZOBA_ID": "2",
                                    "FOGLALAS_PK": "828",
                                    "Foglalás időtartalma": "3",
                                    "Előző foglalás hossza": "0"
                                },
                                {
                                    "SZOBA_ID": "3",
                                    "FOGLALAS_PK": "1038",
                                    "Foglalás időtartalma": "3",
                                    "Előző foglalás hossza": "2"
                                },
                                {
                                    "SZOBA_ID": "4",
                                    "FOGLALAS_PK": "1127",
                                    "Foglalás időtartalma": "3",
                                    "Előző foglalás hossza": "3"
                                },
                                {
                                    "SZOBA_ID": "5",
                                    "FOGLALAS_PK": "1257",
                                    "Foglalás időtartalma": "3",
                                    "Előző foglalás hossza": "4"
                                },
                                {
                                    "SZOBA_ID": "6",
                                    "FOGLALAS_PK": "873",
                                    "Foglalás időtartalma": "3",
                                    "Előző foglalás hossza": "5"
                                },
                                {
                                    "SZOBA_ID": "8",
                                    "FOGLALAS_PK": "947",
                                    "Foglalás időtartalma": "3",
                                    "Előző foglalás hossza": "6"
                                },
                                {
                                    "SZOBA_ID": "9",
                                    "FOGLALAS_PK": "1220",
                                    "Foglalás időtartalma": "3",
                                    "Előző foglalás hossza": "8"
                                },
                                {
                                    "SZOBA_ID": "9",
                                    "FOGLALAS_PK": "1537",
                                    "Foglalás időtartalma": "3",
                                    "Előző foglalás hossza": "9"
                                },
                                {
                                    "SZOBA_ID": "9",
                                    "FOGLALAS_PK": "1423",
                                    "Foglalás időtartalma": "3",
                                    "Előző foglalás hossza": "9"
                                },
                                {
                                    "SZOBA_ID": "10",
                                    "FOGLALAS_PK": "569",
                                    "Foglalás időtartalma": "3",
                                    "Előző foglalás hossza": "9"
                                },
                                {
                                    "SZOBA_ID": "12",
                                    "FOGLALAS_PK": "951",
                                    "Foglalás időtartalma": "3",
                                    "Előző foglalás hossza": "10"
                                },
                                {
                                    "SZOBA_ID": "12",
                                    "FOGLALAS_PK": "1140",
                                    "Foglalás időtartalma": "3",
                                    "Előző foglalás hossza": "12"
                                },
                                {
                                    "SZOBA_ID": "13",
                                    "FOGLALAS_PK": "1347",
                                    "Foglalás időtartalma": "3",
                                    "Előző foglalás hossza": "12"
                                },
                                {
                                    "SZOBA_ID": "14",
                                    "FOGLALAS_PK": "813",
                                    "Foglalás időtartalma": "3",
                                    "Előző foglalás hossza": "13"
                                },
                                {
                                    "SZOBA_ID": "15",
                                    "FOGLALAS_PK": "1442",
                                    "Foglalás időtartalma": "3",
                                    "Előző foglalás hossza": "14"
                                },
                                {
                                    "SZOBA_ID": "16",
                                    "FOGLALAS_PK": "687",
                                    "Foglalás időtartalma": "3",
                                    "Előző foglalás hossza": "15"
                                },
                                {
                                    "SZOBA_ID": "17",
                                    "FOGLALAS_PK": "1549",
                                    "Foglalás időtartalma": "3",
                                    "Előző foglalás hossza": "16"
                                },
                                {
                                    "SZOBA_ID": "18",
                                    "FOGLALAS_PK": "767",
                                    "Foglalás időtartalma": "3",
                                    "Előző foglalás hossza": "17"
                                },
                                {
                                    "SZOBA_ID": "18",
                                    "FOGLALAS_PK": "626",
                                    "Foglalás időtartalma": "3",
                                    "Előző foglalás hossza": "18"
                                },
                                {
                                    "SZOBA_ID": "22",
                                    "FOGLALAS_PK": "1005",
                                    "Foglalás időtartalma": "3",
                                    "Előző foglalás hossza": "18"
                                },
                                {
                                    "SZOBA_ID": "22",
                                    "FOGLALAS_PK": "1287",
                                    "Foglalás időtartalma": "3",
                                    "Előző foglalás hossza": "22"
                                },
                                {
                                    "SZOBA_ID": "24",
                                    "FOGLALAS_PK": "1415",
                                    "Foglalás időtartalma": "3",
                                    "Előző foglalás hossza": "22"
                                },
                                {
                                    "SZOBA_ID": "25",
                                    "FOGLALAS_PK": "1052",
                                    "Foglalás időtartalma": "3",
                                    "Előző foglalás hossza": "24"
                                },
                                {
                                    "SZOBA_ID": "26",
                                    "FOGLALAS_PK": "1388",
                                    "Foglalás időtartalma": "3",
                                    "Előző foglalás hossza": "25"
                                },
                                {
                                    "SZOBA_ID": "27",
                                    "FOGLALAS_PK": "758",
                                    "Foglalás időtartalma": "3",
                                    "Előző foglalás hossza": "26"
                                },
                                {
                                    "SZOBA_ID": "34",
                                    "FOGLALAS_PK": "777",
                                    "Foglalás időtartalma": "3",
                                    "Előző foglalás hossza": "27"
                                },
                                {
                                    "SZOBA_ID": "35",
                                    "FOGLALAS_PK": "971",
                                    "Foglalás időtartalma": "3",
                                    "Előző foglalás hossza": "34"
                                },
                                {
                                    "SZOBA_ID": "42",
                                    "FOGLALAS_PK": "770",
                                    "Foglalás időtartalma": "3",
                                    "Előző foglalás hossza": "35"
                                },
                                {
                                    "SZOBA_ID": "45",
                                    "FOGLALAS_PK": "846",
                                    "Foglalás időtartalma": "3",
                                    "Előző foglalás hossza": "42"
                                },
                                {
                                    "SZOBA_ID": "45",
                                    "FOGLALAS_PK": "1135",
                                    "Foglalás időtartalma": "3",
                                    "Előző foglalás hossza": "45"
                                },
                                {
                                    "SZOBA_ID": "46",
                                    "FOGLALAS_PK": "1291",
                                    "Foglalás időtartalma": "3",
                                    "Előző foglalás hossza": "45"
                                },
                                {
                                    "SZOBA_ID": "48",
                                    "FOGLALAS_PK": "1546",
                                    "Foglalás időtartalma": "3",
                                    "Előző foglalás hossza": "46"
                                },
                                {
                                    "SZOBA_ID": "48",
                                    "FOGLALAS_PK": "603",
                                    "Foglalás időtartalma": "3",
                                    "Előző foglalás hossza": "48"
                                },
                                {
                                    "SZOBA_ID": "50",
                                    "FOGLALAS_PK": "787",
                                    "Foglalás időtartalma": "3",
                                    "Előző foglalás hossza": "48"
                                },
                                {
                                    "SZOBA_ID": "58",
                                    "FOGLALAS_PK": "719",
                                    "Foglalás időtartalma": "3",
                                    "Előző foglalás hossza": "50"
                                },
                                {
                                    "SZOBA_ID": "58",
                                    "FOGLALAS_PK": "1113",
                                    "Foglalás időtartalma": "3",
                                    "Előző foglalás hossza": "58"
                                },
                                {
                                    "SZOBA_ID": "58",
                                    "FOGLALAS_PK": "1293",
                                    "Foglalás időtartalma": "3",
                                    "Előző foglalás hossza": "58"
                                },
                                {
                                    "SZOBA_ID": "58",
                                    "FOGLALAS_PK": "1322",
                                    "Foglalás időtartalma": "3",
                                    "Előző foglalás hossza": "58"
                                },
                                {
                                    "SZOBA_ID": "59",
                                    "FOGLALAS_PK": "1288",
                                    "Foglalás időtartalma": "3",
                                    "Előző foglalás hossza": "58"
                                },
                                {
                                    "SZOBA_ID": "61",
                                    "FOGLALAS_PK": "1148",
                                    "Foglalás időtartalma": "3",
                                    "Előző foglalás hossza": "59"
                                },
                                {
                                    "SZOBA_ID": "62",
                                    "FOGLALAS_PK": "936",
                                    "Foglalás időtartalma": "3",
                                    "Előző foglalás hossza": "61"
                                },
                                {
                                    "SZOBA_ID": "63",
                                    "FOGLALAS_PK": "625",
                                    "Foglalás időtartalma": "3",
                                    "Előző foglalás hossza": "62"
                                },
                                {
                                    "SZOBA_ID": "66",
                                    "FOGLALAS_PK": "736",
                                    "Foglalás időtartalma": "3",
                                    "Előző foglalás hossza": "63"
                                },
                                {
                                    "SZOBA_ID": "66",
                                    "FOGLALAS_PK": "950",
                                    "Foglalás időtartalma": "3",
                                    "Előző foglalás hossza": "66"
                                },
                                {
                                    "SZOBA_ID": "66",
                                    "FOGLALAS_PK": "1234",
                                    "Foglalás időtartalma": "3",
                                    "Előző foglalás hossza": "66"
                                },
                                {
                                    "SZOBA_ID": "70",
                                    "FOGLALAS_PK": "1126",
                                    "Foglalás időtartalma": "3",
                                    "Előző foglalás hossza": "66"
                                },
                                {
                                    "SZOBA_ID": "70",
                                    "FOGLALAS_PK": "1365",
                                    "Foglalás időtartalma": "3",
                                    "Előző foglalás hossza": "70"
                                },
                                {
                                    "SZOBA_ID": "70",
                                    "FOGLALAS_PK": "1092",
                                    "Foglalás időtartalma": "3",
                                    "Előző foglalás hossza": "70"
                                },
                                {
                                    "SZOBA_ID": "70",
                                    "FOGLALAS_PK": "1006",
                                    "Foglalás időtartalma": "3",
                                    "Előző foglalás hossza": "70"
                                },
                                {
                                    "SZOBA_ID": "70",
                                    "FOGLALAS_PK": "704",
                                    "Foglalás időtartalma": "3",
                                    "Előző foglalás hossza": "70"
                                },
                                {
                                    "SZOBA_ID": "70",
                                    "FOGLALAS_PK": "814",
                                    "Foglalás időtartalma": "3",
                                    "Előző foglalás hossza": "70"
                                },
                                {
                                    "SZOBA_ID": "71",
                                    "FOGLALAS_PK": "681",
                                    "Foglalás időtartalma": "3",
                                    "Előző foglalás hossza": "70"
                                },
                                {
                                    "SZOBA_ID": "72",
                                    "FOGLALAS_PK": "1396",
                                    "Foglalás időtartalma": "3",
                                    "Előző foglalás hossza": "71"
                                },
                                {
                                    "SZOBA_ID": "74",
                                    "FOGLALAS_PK": "847",
                                    "Foglalás időtartalma": "3",
                                    "Előző foglalás hossza": "72"
                                },
                                {
                                    "SZOBA_ID": "76",
                                    "FOGLALAS_PK": "1557",
                                    "Foglalás időtartalma": "3",
                                    "Előző foglalás hossza": "74"
                                },
                                {
                                    "SZOBA_ID": "77",
                                    "FOGLALAS_PK": "982",
                                    "Foglalás időtartalma": "3",
                                    "Előző foglalás hossza": "76"
                                },
                                {
                                    "SZOBA_ID": "77",
                                    "FOGLALAS_PK": "593",
                                    "Foglalás időtartalma": "3",
                                    "Előző foglalás hossza": "77"
                                },
                                {
                                    "SZOBA_ID": "78",
                                    "FOGLALAS_PK": "646",
                                    "Foglalás időtartalma": "3",
                                    "Előző foglalás hossza": "77"
                                },
                                {
                                    "SZOBA_ID": "78",
                                    "FOGLALAS_PK": "1281",
                                    "Foglalás időtartalma": "3",
                                    "Előző foglalás hossza": "78"
                                },
                                {
                                    "SZOBA_ID": "79",
                                    "FOGLALAS_PK": "1345",
                                    "Foglalás időtartalma": "3",
                                    "Előző foglalás hossza": "78"
                                },
                                {
                                    "SZOBA_ID": "80",
                                    "FOGLALAS_PK": "1367",
                                    "Foglalás időtartalma": "3",
                                    "Előző foglalás hossza": "79"
                                },
                                {
                                    "SZOBA_ID": "81",
                                    "FOGLALAS_PK": "1562",
                                    "Foglalás időtartalma": "3",
                                    "Előző foglalás hossza": "80"
                                },
                                {
                                    "SZOBA_ID": "81",
                                    "FOGLALAS_PK": "1506",
                                    "Foglalás időtartalma": "3",
                                    "Előző foglalás hossza": "81"
                                },
                                {
                                    "SZOBA_ID": "85",
                                    "FOGLALAS_PK": "647",
                                    "Foglalás időtartalma": "3",
                                    "Előző foglalás hossza": "81"
                                },
                                {
                                    "SZOBA_ID": "85",
                                    "FOGLALAS_PK": "1059",
                                    "Foglalás időtartalma": "3",
                                    "Előző foglalás hossza": "85"
                                },
                                {
                                    "SZOBA_ID": "87",
                                    "FOGLALAS_PK": "1103",
                                    "Foglalás időtartalma": "3",
                                    "Előző foglalás hossza": "85"
                                },
                                {
                                    "SZOBA_ID": "88",
                                    "FOGLALAS_PK": "1300",
                                    "Foglalás időtartalma": "3",
                                    "Előző foglalás hossza": "87"
                                },
                                {
                                    "SZOBA_ID": "88",
                                    "FOGLALAS_PK": "1196",
                                    "Foglalás időtartalma": "3",
                                    "Előző foglalás hossza": "88"
                                },
                                {
                                    "SZOBA_ID": "89",
                                    "FOGLALAS_PK": "817",
                                    "Foglalás időtartalma": "3",
                                    "Előző foglalás hossza": "88"
                                },
                                {
                                    "SZOBA_ID": "91",
                                    "FOGLALAS_PK": "1213",
                                    "Foglalás időtartalma": "3",
                                    "Előző foglalás hossza": "89"
                                },
                                {
                                    "SZOBA_ID": "92",
                                    "FOGLALAS_PK": "809",
                                    "Foglalás időtartalma": "3",
                                    "Előző foglalás hossza": "91"
                                },
                                {
                                    "SZOBA_ID": "94",
                                    "FOGLALAS_PK": "727",
                                    "Foglalás időtartalma": "3",
                                    "Előző foglalás hossza": "92"
                                },
                                {
                                    "SZOBA_ID": "94",
                                    "FOGLALAS_PK": "1312",
                                    "Foglalás időtartalma": "3",
                                    "Előző foglalás hossza": "94"
                                },
                                {
                                    "SZOBA_ID": "95",
                                    "FOGLALAS_PK": "1048",
                                    "Foglalás időtartalma": "3",
                                    "Előző foglalás hossza": "94"
                                },
                                {
                                    "SZOBA_ID": "96",
                                    "FOGLALAS_PK": "1378",
                                    "Foglalás időtartalma": "3",
                                    "Előző foglalás hossza": "95"
                                },
                                {
                                    "SZOBA_ID": "97",
                                    "FOGLALAS_PK": "635",
                                    "Foglalás időtartalma": "3",
                                    "Előző foglalás hossza": "96"
                                },
                                {
                                    "SZOBA_ID": "101",
                                    "FOGLALAS_PK": "715",
                                    "Foglalás időtartalma": "3",
                                    "Előző foglalás hossza": "97"
                                },
                                {
                                    "SZOBA_ID": "104",
                                    "FOGLALAS_PK": "1532",
                                    "Foglalás időtartalma": "3",
                                    "Előző foglalás hossza": "101"
                                },
                                {
                                    "SZOBA_ID": "106",
                                    "FOGLALAS_PK": "610",
                                    "Foglalás időtartalma": "3",
                                    "Előző foglalás hossza": "104"
                                },
                                {
                                    "SZOBA_ID": "110",
                                    "FOGLALAS_PK": "1041",
                                    "Foglalás időtartalma": "3",
                                    "Előző foglalás hossza": "106"
                                },
                                {
                                    "SZOBA_ID": "111",
                                    "FOGLALAS_PK": "1296",
                                    "Foglalás időtartalma": "3",
                                    "Előző foglalás hossza": "110"
                                },
                                {
                                    "SZOBA_ID": "114",
                                    "FOGLALAS_PK": "1540",
                                    "Foglalás időtartalma": "3",
                                    "Előző foglalás hossza": "111"
                                },
                                {
                                    "SZOBA_ID": "115",
                                    "FOGLALAS_PK": "1554",
                                    "Foglalás időtartalma": "3",
                                    "Előző foglalás hossza": "114"
                                },
                                {
                                    "SZOBA_ID": "115",
                                    "FOGLALAS_PK": "1352",
                                    "Foglalás időtartalma": "3",
                                    "Előző foglalás hossza": "115"
                                },
                                {
                                    "SZOBA_ID": "117",
                                    "FOGLALAS_PK": "1247",
                                    "Foglalás időtartalma": "3",
                                    "Előző foglalás hossza": "115"
                                },
                                {
                                    "SZOBA_ID": "117",
                                    "FOGLALAS_PK": "617",
                                    "Foglalás időtartalma": "3",
                                    "Előző foglalás hossza": "117"
                                },
                                {
                                    "SZOBA_ID": "118",
                                    "FOGLALAS_PK": "996",
                                    "Foglalás időtartalma": "3",
                                    "Előző foglalás hossza": "117"
                                },
                                {
                                    "SZOBA_ID": "118",
                                    "FOGLALAS_PK": "1481",
                                    "Foglalás időtartalma": "3",
                                    "Előző foglalás hossza": "118"
                                },
                                {
                                    "SZOBA_ID": "119",
                                    "FOGLALAS_PK": "1488",
                                    "Foglalás időtartalma": "3",
                                    "Előző foglalás hossza": "118"
                                },
                                {
                                    "SZOBA_ID": "119",
                                    "FOGLALAS_PK": "1413",
                                    "Foglalás időtartalma": "3",
                                    "Előző foglalás hossza": "119"
                                },
                                {
                                    "SZOBA_ID": "119",
                                    "FOGLALAS_PK": "1026",
                                    "Foglalás időtartalma": "3",
                                    "Előző foglalás hossza": "119"
                                },
                                {
                                    "SZOBA_ID": "120",
                                    "FOGLALAS_PK": "998",
                                    "Foglalás időtartalma": "3",
                                    "Előző foglalás hossza": "119"
                                },
                                {
                                    "SZOBA_ID": "120",
                                    "FOGLALAS_PK": "762",
                                    "Foglalás időtartalma": "3",
                                    "Előző foglalás hossza": "120"
                                },
                                {
                                    "SZOBA_ID": "121",
                                    "FOGLALAS_PK": "1049",
                                    "Foglalás időtartalma": "3",
                                    "Előző foglalás hossza": "120"
                                },
                                {
                                    "SZOBA_ID": "122",
                                    "FOGLALAS_PK": "1062",
                                    "Foglalás időtartalma": "3",
                                    "Előző foglalás hossza": "121"
                                },
                                {
                                    "SZOBA_ID": "122",
                                    "FOGLALAS_PK": "1440",
                                    "Foglalás időtartalma": "3",
                                    "Előző foglalás hossza": "122"
                                },
                                {
                                    "SZOBA_ID": "124",
                                    "FOGLALAS_PK": "1419",
                                    "Foglalás időtartalma": "3",
                                    "Előző foglalás hossza": "122"
                                },
                                {
                                    "SZOBA_ID": "130",
                                    "FOGLALAS_PK": "613",
                                    "Foglalás időtartalma": "3",
                                    "Előző foglalás hossza": "124"
                                },
                                {
                                    "SZOBA_ID": "130",
                                    "FOGLALAS_PK": "580",
                                    "Foglalás időtartalma": "3",
                                    "Előző foglalás hossza": "130"
                                },
                                {
                                    "SZOBA_ID": "132",
                                    "FOGLALAS_PK": "1111",
                                    "Foglalás időtartalma": "3",
                                    "Előző foglalás hossza": "130"
                                },
                                {
                                    "SZOBA_ID": "133",
                                    "FOGLALAS_PK": "988",
                                    "Foglalás időtartalma": "3",
                                    "Előző foglalás hossza": "132"
                                },
                                {
                                    "SZOBA_ID": "133",
                                    "FOGLALAS_PK": "1306",
                                    "Foglalás időtartalma": "3",
                                    "Előző foglalás hossza": "133"
                                },
                                {
                                    "SZOBA_ID": "135",
                                    "FOGLALAS_PK": "1289",
                                    "Foglalás időtartalma": "3",
                                    "Előző foglalás hossza": "133"
                                },
                                {
                                    "SZOBA_ID": "137",
                                    "FOGLALAS_PK": "1280",
                                    "Foglalás időtartalma": "3",
                                    "Előző foglalás hossza": "135"
                                },
                                {
                                    "SZOBA_ID": "137",
                                    "FOGLALAS_PK": "582",
                                    "Foglalás időtartalma": "3",
                                    "Előző foglalás hossza": "137"
                                },
                                {
                                    "SZOBA_ID": "140",
                                    "FOGLALAS_PK": "1361",
                                    "Foglalás időtartalma": "3",
                                    "Előző foglalás hossza": "137"
                                },
                                {
                                    "SZOBA_ID": "140",
                                    "FOGLALAS_PK": "1156",
                                    "Foglalás időtartalma": "3",
                                    "Előző foglalás hossza": "140"
                                },
                                {
                                    "SZOBA_ID": "141",
                                    "FOGLALAS_PK": "761",
                                    "Foglalás időtartalma": "3",
                                    "Előző foglalás hossza": "140"
                                },
                                {
                                    "SZOBA_ID": "142",
                                    "FOGLALAS_PK": "1545",
                                    "Foglalás időtartalma": "3",
                                    "Előző foglalás hossza": "141"
                                },
                                {
                                    "SZOBA_ID": "143",
                                    "FOGLALAS_PK": "1394",
                                    "Foglalás időtartalma": "3",
                                    "Előző foglalás hossza": "142"
                                },
                                {
                                    "SZOBA_ID": "143",
                                    "FOGLALAS_PK": "980",
                                    "Foglalás időtartalma": "3",
                                    "Előző foglalás hossza": "143"
                                },
                                {
                                    "SZOBA_ID": "146",
                                    "FOGLALAS_PK": "890",
                                    "Foglalás időtartalma": "3",
                                    "Előző foglalás hossza": "143"
                                },
                                {
                                    "SZOBA_ID": "146",
                                    "FOGLALAS_PK": "664",
                                    "Foglalás időtartalma": "3",
                                    "Előző foglalás hossza": "146"
                                },
                                {
                                    "SZOBA_ID": "148",
                                    "FOGLALAS_PK": "765",
                                    "Foglalás időtartalma": "3",
                                    "Előző foglalás hossza": "146"
                                },
                                {
                                    "SZOBA_ID": "150",
                                    "FOGLALAS_PK": "641",
                                    "Foglalás időtartalma": "3",
                                    "Előző foglalás hossza": "148"
                                },
                                {
                                    "SZOBA_ID": "150",
                                    "FOGLALAS_PK": "1432",
                                    "Foglalás időtartalma": "3",
                                    "Előző foglalás hossza": "150"
                                },
                                {
                                    "SZOBA_ID": "151",
                                    "FOGLALAS_PK": "893",
                                    "Foglalás időtartalma": "3",
                                    "Előző foglalás hossza": "150"
                                },
                                {
                                    "SZOBA_ID": "151",
                                    "FOGLALAS_PK": "1115",
                                    "Foglalás időtartalma": "3",
                                    "Előző foglalás hossza": "151"
                                },
                                {
                                    "SZOBA_ID": "151",
                                    "FOGLALAS_PK": "1058",
                                    "Foglalás időtartalma": "3",
                                    "Előző foglalás hossza": "151"
                                },
                                {
                                    "SZOBA_ID": "153",
                                    "FOGLALAS_PK": "594",
                                    "Foglalás időtartalma": "3",
                                    "Előző foglalás hossza": "151"
                                },
                                {
                                    "SZOBA_ID": "153",
                                    "FOGLALAS_PK": "1460",
                                    "Foglalás időtartalma": "3",
                                    "Előző foglalás hossza": "153"
                                },
                                {
                                    "SZOBA_ID": "153",
                                    "FOGLALAS_PK": "1507",
                                    "Foglalás időtartalma": "3",
                                    "Előző foglalás hossza": "153"
                                },
                                {
                                    "SZOBA_ID": "155",
                                    "FOGLALAS_PK": "577",
                                    "Foglalás időtartalma": "3",
                                    "Előző foglalás hossza": "153"
                                },
                                {
                                    "SZOBA_ID": "156",
                                    "FOGLALAS_PK": "907",
                                    "Foglalás időtartalma": "3",
                                    "Előző foglalás hossza": "155"
                                },
                                {
                                    "SZOBA_ID": "157",
                                    "FOGLALAS_PK": "1025",
                                    "Foglalás időtartalma": "3",
                                    "Előző foglalás hossza": "156"
                                },
                                {
                                    "SZOBA_ID": "157",
                                    "FOGLALAS_PK": "1551",
                                    "Foglalás időtartalma": "3",
                                    "Előző foglalás hossza": "157"
                                },
                                {
                                    "SZOBA_ID": "158",
                                    "FOGLALAS_PK": "1117",
                                    "Foglalás időtartalma": "3",
                                    "Előző foglalás hossza": "157"
                                },
                                {
                                    "SZOBA_ID": "160",
                                    "FOGLALAS_PK": "1565",
                                    "Foglalás időtartalma": "3",
                                    "Előző foglalás hossza": "158"
                                },
                                {
                                    "SZOBA_ID": "163",
                                    "FOGLALAS_PK": "1487",
                                    "Foglalás időtartalma": "3",
                                    "Előző foglalás hossza": "160"
                                },
                                {
                                    "SZOBA_ID": "163",
                                    "FOGLALAS_PK": "1107",
                                    "Foglalás időtartalma": "3",
                                    "Előző foglalás hossza": "163"
                                },
                                {
                                    "SZOBA_ID": "163",
                                    "FOGLALAS_PK": "782",
                                    "Foglalás időtartalma": "3",
                                    "Előző foglalás hossza": "163"
                                },
                                {
                                    "SZOBA_ID": "165",
                                    "FOGLALAS_PK": "640",
                                    "Foglalás időtartalma": "3",
                                    "Előző foglalás hossza": "163"
                                },
                                {
                                    "SZOBA_ID": "165",
                                    "FOGLALAS_PK": "892",
                                    "Foglalás időtartalma": "3",
                                    "Előző foglalás hossza": "165"
                                },
                                {
                                    "SZOBA_ID": "167",
                                    "FOGLALAS_PK": "1414",
                                    "Foglalás időtartalma": "3",
                                    "Előző foglalás hossza": "165"
                                },
                                {
                                    "SZOBA_ID": "168",
                                    "FOGLALAS_PK": "930",
                                    "Foglalás időtartalma": "3",
                                    "Előző foglalás hossza": "167"
                                },
                                {
                                    "SZOBA_ID": "168",
                                    "FOGLALAS_PK": "792",
                                    "Foglalás időtartalma": "3",
                                    "Előző foglalás hossza": "168"
                                },
                                {
                                    "SZOBA_ID": "173",
                                    "FOGLALAS_PK": "1350",
                                    "Foglalás időtartalma": "3",
                                    "Előző foglalás hossza": "168"
                                },
                                {
                                    "SZOBA_ID": "174",
                                    "FOGLALAS_PK": "682",
                                    "Foglalás időtartalma": "3",
                                    "Előző foglalás hossza": "173"
                                },
                                {
                                    "SZOBA_ID": "176",
                                    "FOGLALAS_PK": "1570",
                                    "Foglalás időtartalma": "3",
                                    "Előző foglalás hossza": "174"
                                },
                                {
                                    "SZOBA_ID": "177",
                                    "FOGLALAS_PK": "1503",
                                    "Foglalás időtartalma": "3",
                                    "Előző foglalás hossza": "176"
                                },
                                {
                                    "SZOBA_ID": "177",
                                    "FOGLALAS_PK": "1176",
                                    "Foglalás időtartalma": "3",
                                    "Előző foglalás hossza": "177"
                                },
                                {
                                    "SZOBA_ID": "177",
                                    "FOGLALAS_PK": "785",
                                    "Foglalás időtartalma": "3",
                                    "Előző foglalás hossza": "177"
                                },
                                {
                                    "SZOBA_ID": "178",
                                    "FOGLALAS_PK": "1211",
                                    "Foglalás időtartalma": "3",
                                    "Előző foglalás hossza": "177"
                                },
                                {
                                    "SZOBA_ID": "180",
                                    "FOGLALAS_PK": "1559",
                                    "Foglalás időtartalma": "3",
                                    "Előző foglalás hossza": "178"
                                },
                                {
                                    "SZOBA_ID": "181",
                                    "FOGLALAS_PK": "937",
                                    "Foglalás időtartalma": "3",
                                    "Előző foglalás hossza": "180"
                                },
                                {
                                    "SZOBA_ID": "182",
                                    "FOGLALAS_PK": "740",
                                    "Foglalás időtartalma": "3",
                                    "Előző foglalás hossza": "181"
                                },
                                {
                                    "SZOBA_ID": "182",
                                    "FOGLALAS_PK": "1422",
                                    "Foglalás időtartalma": "3",
                                    "Előző foglalás hossza": "182"
                                },
                                {
                                    "SZOBA_ID": "182",
                                    "FOGLALAS_PK": "1317",
                                    "Foglalás időtartalma": "3",
                                    "Előző foglalás hossza": "182"
                                },
                                {
                                    "SZOBA_ID": "184",
                                    "FOGLALAS_PK": "684",
                                    "Foglalás időtartalma": "3",
                                    "Előző foglalás hossza": "182"
                                },
                                {
                                    "SZOBA_ID": "185",
                                    "FOGLALAS_PK": "672",
                                    "Foglalás időtartalma": "3",
                                    "Előző foglalás hossza": "184"
                                },
                                {
                                    "SZOBA_ID": "185",
                                    "FOGLALAS_PK": "711",
                                    "Foglalás időtartalma": "3",
                                    "Előző foglalás hossza": "185"
                                },
                                {
                                    "SZOBA_ID": "185",
                                    "FOGLALAS_PK": "1125",
                                    "Foglalás időtartalma": "3",
                                    "Előző foglalás hossza": "185"
                                },
                                {
                                    "SZOBA_ID": "186",
                                    "FOGLALAS_PK": "615",
                                    "Foglalás időtartalma": "3",
                                    "Előző foglalás hossza": "185"
                                },
                                {
                                    "SZOBA_ID": "186",
                                    "FOGLALAS_PK": "1153",
                                    "Foglalás időtartalma": "3",
                                    "Előző foglalás hossza": "186"
                                },
                                {
                                    "SZOBA_ID": "186",
                                    "FOGLALAS_PK": "1467",
                                    "Foglalás időtartalma": "3",
                                    "Előző foglalás hossza": "186"
                                },
                                {
                                    "SZOBA_ID": "188",
                                    "FOGLALAS_PK": "747",
                                    "Foglalás időtartalma": "3",
                                    "Előző foglalás hossza": "186"
                                },
                                {
                                    "SZOBA_ID": "189",
                                    "FOGLALAS_PK": "1576",
                                    "Foglalás időtartalma": "3",
                                    "Előző foglalás hossza": "188"
                                },
                                {
                                    "SZOBA_ID": "196",
                                    "FOGLALAS_PK": "952",
                                    "Foglalás időtartalma": "3",
                                    "Előző foglalás hossza": "189"
                                },
                                {
                                    "SZOBA_ID": "197",
                                    "FOGLALAS_PK": "1387",
                                    "Foglalás időtartalma": "3",
                                    "Előző foglalás hossza": "196"
                                },
                                {
                                    "SZOBA_ID": "198",
                                    "FOGLALAS_PK": "1065",
                                    "Foglalás időtartalma": "3",
                                    "Előző foglalás hossza": "197"
                                },
                                {
                                    "SZOBA_ID": "1",
                                    "FOGLALAS_PK": "803",
                                    "Foglalás időtartalma": "4",
                                    "Előző foglalás hossza": "0"
                                },
                                {
                                    "SZOBA_ID": "1",
                                    "FOGLALAS_PK": "1334",
                                    "Foglalás időtartalma": "4",
                                    "Előző foglalás hossza": "1"
                                },
                                {
                                    "SZOBA_ID": "3",
                                    "FOGLALAS_PK": "629",
                                    "Foglalás időtartalma": "4",
                                    "Előző foglalás hossza": "1"
                                },
                                {
                                    "SZOBA_ID": "6",
                                    "FOGLALAS_PK": "1099",
                                    "Foglalás időtartalma": "4",
                                    "Előző foglalás hossza": "3"
                                },
                                {
                                    "SZOBA_ID": "6",
                                    "FOGLALAS_PK": "990",
                                    "Foglalás időtartalma": "4",
                                    "Előző foglalás hossza": "6"
                                },
                                {
                                    "SZOBA_ID": "7",
                                    "FOGLALAS_PK": "562",
                                    "Foglalás időtartalma": "4",
                                    "Előző foglalás hossza": "6"
                                },
                                {
                                    "SZOBA_ID": "7",
                                    "FOGLALAS_PK": "1175",
                                    "Foglalás időtartalma": "4",
                                    "Előző foglalás hossza": "7"
                                },
                                {
                                    "SZOBA_ID": "7",
                                    "FOGLALAS_PK": "1182",
                                    "Foglalás időtartalma": "4",
                                    "Előző foglalás hossza": "7"
                                },
                                {
                                    "SZOBA_ID": "8",
                                    "FOGLALAS_PK": "694",
                                    "Foglalás időtartalma": "4",
                                    "Előző foglalás hossza": "7"
                                },
                                {
                                    "SZOBA_ID": "8",
                                    "FOGLALAS_PK": "818",
                                    "Foglalás időtartalma": "4",
                                    "Előző foglalás hossza": "8"
                                },
                                {
                                    "SZOBA_ID": "8",
                                    "FOGLALAS_PK": "832",
                                    "Foglalás időtartalma": "4",
                                    "Előző foglalás hossza": "8"
                                },
                                {
                                    "SZOBA_ID": "10",
                                    "FOGLALAS_PK": "795",
                                    "Foglalás időtartalma": "4",
                                    "Előző foglalás hossza": "8"
                                },
                                {
                                    "SZOBA_ID": "12",
                                    "FOGLALAS_PK": "775",
                                    "Foglalás időtartalma": "4",
                                    "Előző foglalás hossza": "10"
                                },
                                {
                                    "SZOBA_ID": "13",
                                    "FOGLALAS_PK": "763",
                                    "Foglalás időtartalma": "4",
                                    "Előző foglalás hossza": "12"
                                },
                                {
                                    "SZOBA_ID": "14",
                                    "FOGLALAS_PK": "1542",
                                    "Foglalás időtartalma": "4",
                                    "Előző foglalás hossza": "13"
                                },
                                {
                                    "SZOBA_ID": "15",
                                    "FOGLALAS_PK": "1418",
                                    "Foglalás időtartalma": "4",
                                    "Előző foglalás hossza": "14"
                                },
                                {
                                    "SZOBA_ID": "15",
                                    "FOGLALAS_PK": "1129",
                                    "Foglalás időtartalma": "4",
                                    "Előző foglalás hossza": "15"
                                },
                                {
                                    "SZOBA_ID": "18",
                                    "FOGLALAS_PK": "1198",
                                    "Foglalás időtartalma": "4",
                                    "Előző foglalás hossza": "15"
                                },
                                {
                                    "SZOBA_ID": "28",
                                    "FOGLALAS_PK": "886",
                                    "Foglalás időtartalma": "4",
                                    "Előző foglalás hossza": "18"
                                },
                                {
                                    "SZOBA_ID": "28",
                                    "FOGLALAS_PK": "901",
                                    "Foglalás időtartalma": "4",
                                    "Előző foglalás hossza": "28"
                                },
                                {
                                    "SZOBA_ID": "31",
                                    "FOGLALAS_PK": "728",
                                    "Foglalás időtartalma": "4",
                                    "Előző foglalás hossza": "28"
                                },
                                {
                                    "SZOBA_ID": "32",
                                    "FOGLALAS_PK": "920",
                                    "Foglalás időtartalma": "4",
                                    "Előző foglalás hossza": "31"
                                },
                                {
                                    "SZOBA_ID": "33",
                                    "FOGLALAS_PK": "1321",
                                    "Foglalás időtartalma": "4",
                                    "Előző foglalás hossza": "32"
                                },
                                {
                                    "SZOBA_ID": "35",
                                    "FOGLALAS_PK": "1529",
                                    "Foglalás időtartalma": "4",
                                    "Előző foglalás hossza": "33"
                                },
                                {
                                    "SZOBA_ID": "36",
                                    "FOGLALAS_PK": "1003",
                                    "Foglalás időtartalma": "4",
                                    "Előző foglalás hossza": "35"
                                },
                                {
                                    "SZOBA_ID": "37",
                                    "FOGLALAS_PK": "705",
                                    "Foglalás időtartalma": "4",
                                    "Előző foglalás hossza": "36"
                                },
                                {
                                    "SZOBA_ID": "38",
                                    "FOGLALAS_PK": "1478",
                                    "Foglalás időtartalma": "4",
                                    "Előző foglalás hossza": "37"
                                },
                                {
                                    "SZOBA_ID": "38",
                                    "FOGLALAS_PK": "1351",
                                    "Foglalás időtartalma": "4",
                                    "Előző foglalás hossza": "38"
                                },
                                {
                                    "SZOBA_ID": "42",
                                    "FOGLALAS_PK": "561",
                                    "Foglalás időtartalma": "4",
                                    "Előző foglalás hossza": "38"
                                },
                                {
                                    "SZOBA_ID": "43",
                                    "FOGLALAS_PK": "670",
                                    "Foglalás időtartalma": "4",
                                    "Előző foglalás hossza": "42"
                                },
                                {
                                    "SZOBA_ID": "43",
                                    "FOGLALAS_PK": "1019",
                                    "Foglalás időtartalma": "4",
                                    "Előző foglalás hossza": "43"
                                },
                                {
                                    "SZOBA_ID": "43",
                                    "FOGLALAS_PK": "1270",
                                    "Foglalás időtartalma": "4",
                                    "Előző foglalás hossza": "43"
                                },
                                {
                                    "SZOBA_ID": "46",
                                    "FOGLALAS_PK": "1515",
                                    "Foglalás időtartalma": "4",
                                    "Előző foglalás hossza": "43"
                                },
                                {
                                    "SZOBA_ID": "49",
                                    "FOGLALAS_PK": "826",
                                    "Foglalás időtartalma": "4",
                                    "Előző foglalás hossza": "46"
                                },
                                {
                                    "SZOBA_ID": "53",
                                    "FOGLALAS_PK": "987",
                                    "Foglalás időtartalma": "4",
                                    "Előző foglalás hossza": "49"
                                },
                                {
                                    "SZOBA_ID": "54",
                                    "FOGLALAS_PK": "1096",
                                    "Foglalás időtartalma": "4",
                                    "Előző foglalás hossza": "53"
                                },
                                {
                                    "SZOBA_ID": "54",
                                    "FOGLALAS_PK": "1328",
                                    "Foglalás időtartalma": "4",
                                    "Előző foglalás hossza": "54"
                                },
                                {
                                    "SZOBA_ID": "56",
                                    "FOGLALAS_PK": "935",
                                    "Foglalás időtartalma": "4",
                                    "Előző foglalás hossza": "54"
                                },
                                {
                                    "SZOBA_ID": "57",
                                    "FOGLALAS_PK": "1504",
                                    "Foglalás időtartalma": "4",
                                    "Előző foglalás hossza": "56"
                                },
                                {
                                    "SZOBA_ID": "62",
                                    "FOGLALAS_PK": "1426",
                                    "Foglalás időtartalma": "4",
                                    "Előző foglalás hossza": "57"
                                },
                                {
                                    "SZOBA_ID": "64",
                                    "FOGLALAS_PK": "1465",
                                    "Foglalás időtartalma": "4",
                                    "Előző foglalás hossza": "62"
                                },
                                {
                                    "SZOBA_ID": "64",
                                    "FOGLALAS_PK": "1122",
                                    "Foglalás időtartalma": "4",
                                    "Előző foglalás hossza": "64"
                                },
                                {
                                    "SZOBA_ID": "66",
                                    "FOGLALAS_PK": "1264",
                                    "Foglalás időtartalma": "4",
                                    "Előző foglalás hossza": "64"
                                },
                                {
                                    "SZOBA_ID": "68",
                                    "FOGLALAS_PK": "1324",
                                    "Foglalás időtartalma": "4",
                                    "Előző foglalás hossza": "66"
                                },
                                {
                                    "SZOBA_ID": "73",
                                    "FOGLALAS_PK": "1331",
                                    "Foglalás időtartalma": "4",
                                    "Előző foglalás hossza": "68"
                                },
                                {
                                    "SZOBA_ID": "73",
                                    "FOGLALAS_PK": "1000",
                                    "Foglalás időtartalma": "4",
                                    "Előző foglalás hossza": "73"
                                },
                                {
                                    "SZOBA_ID": "74",
                                    "FOGLALAS_PK": "877",
                                    "Foglalás időtartalma": "4",
                                    "Előző foglalás hossza": "73"
                                },
                                {
                                    "SZOBA_ID": "77",
                                    "FOGLALAS_PK": "698",
                                    "Foglalás időtartalma": "4",
                                    "Előző foglalás hossza": "74"
                                },
                                {
                                    "SZOBA_ID": "77",
                                    "FOGLALAS_PK": "1461",
                                    "Foglalás időtartalma": "4",
                                    "Előző foglalás hossza": "77"
                                },
                                {
                                    "SZOBA_ID": "79",
                                    "FOGLALAS_PK": "1447",
                                    "Foglalás időtartalma": "4",
                                    "Előző foglalás hossza": "77"
                                },
                                {
                                    "SZOBA_ID": "80",
                                    "FOGLALAS_PK": "1071",
                                    "Foglalás időtartalma": "4",
                                    "Előző foglalás hossza": "79"
                                },
                                {
                                    "SZOBA_ID": "82",
                                    "FOGLALAS_PK": "862",
                                    "Foglalás időtartalma": "4",
                                    "Előző foglalás hossza": "80"
                                },
                                {
                                    "SZOBA_ID": "83",
                                    "FOGLALAS_PK": "674",
                                    "Foglalás időtartalma": "4",
                                    "Előző foglalás hossza": "82"
                                },
                                {
                                    "SZOBA_ID": "83",
                                    "FOGLALAS_PK": "798",
                                    "Foglalás időtartalma": "4",
                                    "Előző foglalás hossza": "83"
                                },
                                {
                                    "SZOBA_ID": "86",
                                    "FOGLALAS_PK": "1079",
                                    "Foglalás időtartalma": "4",
                                    "Előző foglalás hossza": "83"
                                },
                                {
                                    "SZOBA_ID": "87",
                                    "FOGLALAS_PK": "558",
                                    "Foglalás időtartalma": "4",
                                    "Előző foglalás hossza": "86"
                                },
                                {
                                    "SZOBA_ID": "91",
                                    "FOGLALAS_PK": "732",
                                    "Foglalás időtartalma": "4",
                                    "Előző foglalás hossza": "87"
                                },
                                {
                                    "SZOBA_ID": "91",
                                    "FOGLALAS_PK": "1397",
                                    "Foglalás időtartalma": "4",
                                    "Előző foglalás hossza": "91"
                                },
                                {
                                    "SZOBA_ID": "92",
                                    "FOGLALAS_PK": "1555",
                                    "Foglalás időtartalma": "4",
                                    "Előző foglalás hossza": "91"
                                },
                                {
                                    "SZOBA_ID": "93",
                                    "FOGLALAS_PK": "1391",
                                    "Foglalás időtartalma": "4",
                                    "Előző foglalás hossza": "92"
                                },
                                {
                                    "SZOBA_ID": "93",
                                    "FOGLALAS_PK": "1169",
                                    "Foglalás időtartalma": "4",
                                    "Előző foglalás hossza": "93"
                                },
                                {
                                    "SZOBA_ID": "94",
                                    "FOGLALAS_PK": "616",
                                    "Foglalás időtartalma": "4",
                                    "Előző foglalás hossza": "93"
                                },
                                {
                                    "SZOBA_ID": "95",
                                    "FOGLALAS_PK": "1097",
                                    "Foglalás időtartalma": "4",
                                    "Előző foglalás hossza": "94"
                                },
                                {
                                    "SZOBA_ID": "96",
                                    "FOGLALAS_PK": "607",
                                    "Foglalás időtartalma": "4",
                                    "Előző foglalás hossza": "95"
                                },
                                {
                                    "SZOBA_ID": "96",
                                    "FOGLALAS_PK": "671",
                                    "Foglalás időtartalma": "4",
                                    "Előző foglalás hossza": "96"
                                },
                                {
                                    "SZOBA_ID": "97",
                                    "FOGLALAS_PK": "726",
                                    "Foglalás időtartalma": "4",
                                    "Előző foglalás hossza": "96"
                                },
                                {
                                    "SZOBA_ID": "101",
                                    "FOGLALAS_PK": "1516",
                                    "Foglalás időtartalma": "4",
                                    "Előző foglalás hossza": "97"
                                },
                                {
                                    "SZOBA_ID": "103",
                                    "FOGLALAS_PK": "1485",
                                    "Foglalás időtartalma": "4",
                                    "Előző foglalás hossza": "101"
                                },
                                {
                                    "SZOBA_ID": "104",
                                    "FOGLALAS_PK": "837",
                                    "Foglalás időtartalma": "4",
                                    "Előző foglalás hossza": "103"
                                },
                                {
                                    "SZOBA_ID": "107",
                                    "FOGLALAS_PK": "1250",
                                    "Foglalás időtartalma": "4",
                                    "Előző foglalás hossza": "104"
                                },
                                {
                                    "SZOBA_ID": "109",
                                    "FOGLALAS_PK": "1298",
                                    "Foglalás időtartalma": "4",
                                    "Előző foglalás hossza": "107"
                                },
                                {
                                    "SZOBA_ID": "109",
                                    "FOGLALAS_PK": "614",
                                    "Foglalás időtartalma": "4",
                                    "Előző foglalás hossza": "109"
                                },
                                {
                                    "SZOBA_ID": "111",
                                    "FOGLALAS_PK": "786",
                                    "Foglalás időtartalma": "4",
                                    "Előző foglalás hossza": "109"
                                },
                                {
                                    "SZOBA_ID": "112",
                                    "FOGLALAS_PK": "776",
                                    "Foglalás időtartalma": "4",
                                    "Előző foglalás hossza": "111"
                                },
                                {
                                    "SZOBA_ID": "113",
                                    "FOGLALAS_PK": "1085",
                                    "Foglalás időtartalma": "4",
                                    "Előző foglalás hossza": "112"
                                },
                                {
                                    "SZOBA_ID": "115",
                                    "FOGLALAS_PK": "1154",
                                    "Foglalás időtartalma": "4",
                                    "Előző foglalás hossza": "113"
                                },
                                {
                                    "SZOBA_ID": "116",
                                    "FOGLALAS_PK": "1501",
                                    "Foglalás időtartalma": "4",
                                    "Előző foglalás hossza": "115"
                                },
                                {
                                    "SZOBA_ID": "117",
                                    "FOGLALAS_PK": "962",
                                    "Foglalás időtartalma": "4",
                                    "Előző foglalás hossza": "116"
                                },
                                {
                                    "SZOBA_ID": "121",
                                    "FOGLALAS_PK": "1128",
                                    "Foglalás időtartalma": "4",
                                    "Előző foglalás hossza": "117"
                                },
                                {
                                    "SZOBA_ID": "121",
                                    "FOGLALAS_PK": "1215",
                                    "Foglalás időtartalma": "4",
                                    "Előző foglalás hossza": "121"
                                },
                                {
                                    "SZOBA_ID": "122",
                                    "FOGLALAS_PK": "1166",
                                    "Foglalás időtartalma": "4",
                                    "Előző foglalás hossza": "121"
                                },
                                {
                                    "SZOBA_ID": "123",
                                    "FOGLALAS_PK": "923",
                                    "Foglalás időtartalma": "4",
                                    "Előző foglalás hossza": "122"
                                },
                                {
                                    "SZOBA_ID": "124",
                                    "FOGLALAS_PK": "1210",
                                    "Foglalás időtartalma": "4",
                                    "Előző foglalás hossza": "123"
                                },
                                {
                                    "SZOBA_ID": "126",
                                    "FOGLALAS_PK": "1500",
                                    "Foglalás időtartalma": "4",
                                    "Előző foglalás hossza": "124"
                                },
                                {
                                    "SZOBA_ID": "126",
                                    "FOGLALAS_PK": "754",
                                    "Foglalás időtartalma": "4",
                                    "Előző foglalás hossza": "126"
                                },
                                {
                                    "SZOBA_ID": "128",
                                    "FOGLALAS_PK": "1583",
                                    "Foglalás időtartalma": "4",
                                    "Előző foglalás hossza": "126"
                                },
                                {
                                    "SZOBA_ID": "131",
                                    "FOGLALAS_PK": "760",
                                    "Foglalás időtartalma": "4",
                                    "Előző foglalás hossza": "128"
                                },
                                {
                                    "SZOBA_ID": "133",
                                    "FOGLALAS_PK": "909",
                                    "Foglalás időtartalma": "4",
                                    "Előző foglalás hossza": "131"
                                },
                                {
                                    "SZOBA_ID": "136",
                                    "FOGLALAS_PK": "1046",
                                    "Foglalás időtartalma": "4",
                                    "Előző foglalás hossza": "133"
                                },
                                {
                                    "SZOBA_ID": "138",
                                    "FOGLALAS_PK": "796",
                                    "Foglalás időtartalma": "4",
                                    "Előző foglalás hossza": "136"
                                },
                                {
                                    "SZOBA_ID": "138",
                                    "FOGLALAS_PK": "1256",
                                    "Foglalás időtartalma": "4",
                                    "Előző foglalás hossza": "138"
                                },
                                {
                                    "SZOBA_ID": "139",
                                    "FOGLALAS_PK": "751",
                                    "Foglalás időtartalma": "4",
                                    "Előző foglalás hossza": "138"
                                },
                                {
                                    "SZOBA_ID": "140",
                                    "FOGLALAS_PK": "1357",
                                    "Foglalás időtartalma": "4",
                                    "Előző foglalás hossza": "139"
                                },
                                {
                                    "SZOBA_ID": "141",
                                    "FOGLALAS_PK": "1254",
                                    "Foglalás időtartalma": "4",
                                    "Előző foglalás hossza": "140"
                                },
                                {
                                    "SZOBA_ID": "143",
                                    "FOGLALAS_PK": "1313",
                                    "Foglalás időtartalma": "4",
                                    "Előző foglalás hossza": "141"
                                },
                                {
                                    "SZOBA_ID": "144",
                                    "FOGLALAS_PK": "581",
                                    "Foglalás időtartalma": "4",
                                    "Előző foglalás hossza": "143"
                                },
                                {
                                    "SZOBA_ID": "145",
                                    "FOGLALAS_PK": "703",
                                    "Foglalás időtartalma": "4",
                                    "Előző foglalás hossza": "144"
                                },
                                {
                                    "SZOBA_ID": "145",
                                    "FOGLALAS_PK": "1145",
                                    "Foglalás időtartalma": "4",
                                    "Előző foglalás hossza": "145"
                                },
                                {
                                    "SZOBA_ID": "147",
                                    "FOGLALAS_PK": "771",
                                    "Foglalás időtartalma": "4",
                                    "Előző foglalás hossza": "145"
                                },
                                {
                                    "SZOBA_ID": "148",
                                    "FOGLALAS_PK": "678",
                                    "Foglalás időtartalma": "4",
                                    "Előző foglalás hossza": "147"
                                },
                                {
                                    "SZOBA_ID": "149",
                                    "FOGLALAS_PK": "843",
                                    "Foglalás időtartalma": "4",
                                    "Előző foglalás hossza": "148"
                                },
                                {
                                    "SZOBA_ID": "150",
                                    "FOGLALAS_PK": "1203",
                                    "Foglalás időtartalma": "4",
                                    "Előző foglalás hossza": "149"
                                },
                                {
                                    "SZOBA_ID": "155",
                                    "FOGLALAS_PK": "1112",
                                    "Foglalás időtartalma": "4",
                                    "Előző foglalás hossza": "150"
                                },
                                {
                                    "SZOBA_ID": "156",
                                    "FOGLALAS_PK": "1561",
                                    "Foglalás időtartalma": "4",
                                    "Előző foglalás hossza": "155"
                                },
                                {
                                    "SZOBA_ID": "157",
                                    "FOGLALAS_PK": "1047",
                                    "Foglalás időtartalma": "4",
                                    "Előző foglalás hossza": "156"
                                },
                                {
                                    "SZOBA_ID": "157",
                                    "FOGLALAS_PK": "648",
                                    "Foglalás időtartalma": "4",
                                    "Előző foglalás hossza": "157"
                                },
                                {
                                    "SZOBA_ID": "158",
                                    "FOGLALAS_PK": "840",
                                    "Foglalás időtartalma": "4",
                                    "Előző foglalás hossza": "157"
                                },
                                {
                                    "SZOBA_ID": "158",
                                    "FOGLALAS_PK": "825",
                                    "Foglalás időtartalma": "4",
                                    "Előző foglalás hossza": "158"
                                },
                                {
                                    "SZOBA_ID": "160",
                                    "FOGLALAS_PK": "927",
                                    "Foglalás időtartalma": "4",
                                    "Előző foglalás hossza": "158"
                                },
                                {
                                    "SZOBA_ID": "160",
                                    "FOGLALAS_PK": "933",
                                    "Foglalás időtartalma": "4",
                                    "Előző foglalás hossza": "160"
                                },
                                {
                                    "SZOBA_ID": "161",
                                    "FOGLALAS_PK": "911",
                                    "Foglalás időtartalma": "4",
                                    "Előző foglalás hossza": "160"
                                },
                                {
                                    "SZOBA_ID": "161",
                                    "FOGLALAS_PK": "639",
                                    "Foglalás időtartalma": "4",
                                    "Előző foglalás hossza": "161"
                                },
                                {
                                    "SZOBA_ID": "161",
                                    "FOGLALAS_PK": "1571",
                                    "Foglalás időtartalma": "4",
                                    "Előző foglalás hossza": "161"
                                },
                                {
                                    "SZOBA_ID": "162",
                                    "FOGLALAS_PK": "599",
                                    "Foglalás időtartalma": "4",
                                    "Előző foglalás hossza": "161"
                                },
                                {
                                    "SZOBA_ID": "163",
                                    "FOGLALAS_PK": "1075",
                                    "Foglalás időtartalma": "4",
                                    "Előző foglalás hossza": "162"
                                },
                                {
                                    "SZOBA_ID": "164",
                                    "FOGLALAS_PK": "1284",
                                    "Foglalás időtartalma": "4",
                                    "Előző foglalás hossza": "163"
                                },
                                {
                                    "SZOBA_ID": "165",
                                    "FOGLALAS_PK": "1375",
                                    "Foglalás időtartalma": "4",
                                    "Előző foglalás hossza": "164"
                                },
                                {
                                    "SZOBA_ID": "168",
                                    "FOGLALAS_PK": "1249",
                                    "Foglalás időtartalma": "4",
                                    "Előző foglalás hossza": "165"
                                },
                                {
                                    "SZOBA_ID": "168",
                                    "FOGLALAS_PK": "1266",
                                    "Foglalás időtartalma": "4",
                                    "Előző foglalás hossza": "168"
                                },
                                {
                                    "SZOBA_ID": "168",
                                    "FOGLALAS_PK": "794",
                                    "Foglalás időtartalma": "4",
                                    "Előző foglalás hossza": "168"
                                },
                                {
                                    "SZOBA_ID": "169",
                                    "FOGLALAS_PK": "1356",
                                    "Foglalás időtartalma": "4",
                                    "Előző foglalás hossza": "168"
                                },
                                {
                                    "SZOBA_ID": "170",
                                    "FOGLALAS_PK": "1194",
                                    "Foglalás időtartalma": "4",
                                    "Előző foglalás hossza": "169"
                                },
                                {
                                    "SZOBA_ID": "170",
                                    "FOGLALAS_PK": "944",
                                    "Foglalás időtartalma": "4",
                                    "Előző foglalás hossza": "170"
                                },
                                {
                                    "SZOBA_ID": "171",
                                    "FOGLALAS_PK": "981",
                                    "Foglalás időtartalma": "4",
                                    "Előző foglalás hossza": "170"
                                },
                                {
                                    "SZOBA_ID": "172",
                                    "FOGLALAS_PK": "984",
                                    "Foglalás időtartalma": "4",
                                    "Előző foglalás hossza": "171"
                                },
                                {
                                    "SZOBA_ID": "172",
                                    "FOGLALAS_PK": "1142",
                                    "Foglalás időtartalma": "4",
                                    "Előző foglalás hossza": "172"
                                },
                                {
                                    "SZOBA_ID": "173",
                                    "FOGLALAS_PK": "1429",
                                    "Foglalás időtartalma": "4",
                                    "Előző foglalás hossza": "172"
                                },
                                {
                                    "SZOBA_ID": "175",
                                    "FOGLALAS_PK": "799",
                                    "Foglalás időtartalma": "4",
                                    "Előző foglalás hossza": "173"
                                },
                                {
                                    "SZOBA_ID": "176",
                                    "FOGLALAS_PK": "1383",
                                    "Foglalás időtartalma": "4",
                                    "Előző foglalás hossza": "175"
                                },
                                {
                                    "SZOBA_ID": "178",
                                    "FOGLALAS_PK": "816",
                                    "Foglalás időtartalma": "4",
                                    "Előző foglalás hossza": "176"
                                },
                                {
                                    "SZOBA_ID": "181",
                                    "FOGLALAS_PK": "677",
                                    "Foglalás időtartalma": "4",
                                    "Előző foglalás hossza": "178"
                                },
                                {
                                    "SZOBA_ID": "182",
                                    "FOGLALAS_PK": "1410",
                                    "Foglalás időtartalma": "4",
                                    "Előző foglalás hossza": "181"
                                },
                                {
                                    "SZOBA_ID": "182",
                                    "FOGLALAS_PK": "1326",
                                    "Foglalás időtartalma": "4",
                                    "Előző foglalás hossza": "182"
                                },
                                {
                                    "SZOBA_ID": "182",
                                    "FOGLALAS_PK": "1231",
                                    "Foglalás időtartalma": "4",
                                    "Előző foglalás hossza": "182"
                                },
                                {
                                    "SZOBA_ID": "183",
                                    "FOGLALAS_PK": "1147",
                                    "Foglalás időtartalma": "4",
                                    "Előző foglalás hossza": "182"
                                },
                                {
                                    "SZOBA_ID": "183",
                                    "FOGLALAS_PK": "1437",
                                    "Foglalás időtartalma": "4",
                                    "Előző foglalás hossza": "183"
                                },
                                {
                                    "SZOBA_ID": "183",
                                    "FOGLALAS_PK": "939",
                                    "Foglalás időtartalma": "4",
                                    "Előző foglalás hossza": "183"
                                },
                                {
                                    "SZOBA_ID": "184",
                                    "FOGLALAS_PK": "880",
                                    "Foglalás időtartalma": "4",
                                    "Előző foglalás hossza": "183"
                                },
                                {
                                    "SZOBA_ID": "184",
                                    "FOGLALAS_PK": "1251",
                                    "Foglalás időtartalma": "4",
                                    "Előző foglalás hossza": "184"
                                },
                                {
                                    "SZOBA_ID": "185",
                                    "FOGLALAS_PK": "898",
                                    "Foglalás időtartalma": "4",
                                    "Előző foglalás hossza": "184"
                                },
                                {
                                    "SZOBA_ID": "185",
                                    "FOGLALAS_PK": "863",
                                    "Foglalás időtartalma": "4",
                                    "Előző foglalás hossza": "185"
                                },
                                {
                                    "SZOBA_ID": "187",
                                    "FOGLALAS_PK": "868",
                                    "Foglalás időtartalma": "4",
                                    "Előző foglalás hossza": "185"
                                },
                                {
                                    "SZOBA_ID": "187",
                                    "FOGLALAS_PK": "957",
                                    "Foglalás időtartalma": "4",
                                    "Előző foglalás hossza": "187"
                                },
                                {
                                    "SZOBA_ID": "188",
                                    "FOGLALAS_PK": "1030",
                                    "Foglalás időtartalma": "4",
                                    "Előző foglalás hossza": "187"
                                },
                                {
                                    "SZOBA_ID": "188",
                                    "FOGLALAS_PK": "690",
                                    "Foglalás időtartalma": "4",
                                    "Előző foglalás hossza": "188"
                                },
                                {
                                    "SZOBA_ID": "192",
                                    "FOGLALAS_PK": "680",
                                    "Foglalás időtartalma": "4",
                                    "Előző foglalás hossza": "188"
                                },
                                {
                                    "SZOBA_ID": "195",
                                    "FOGLALAS_PK": "842",
                                    "Foglalás időtartalma": "4",
                                    "Előző foglalás hossza": "192"
                                },
                                {
                                    "SZOBA_ID": "195",
                                    "FOGLALAS_PK": "721",
                                    "Foglalás időtartalma": "4",
                                    "Előző foglalás hossza": "195"
                                },
                                {
                                    "SZOBA_ID": "1",
                                    "FOGLALAS_PK": "620",
                                    "Foglalás időtartalma": "5",
                                    "Előző foglalás hossza": "0"
                                },
                                {
                                    "SZOBA_ID": "3",
                                    "FOGLALAS_PK": "1434",
                                    "Foglalás időtartalma": "5",
                                    "Előző foglalás hossza": "1"
                                },
                                {
                                    "SZOBA_ID": "3",
                                    "FOGLALAS_PK": "1544",
                                    "Foglalás időtartalma": "5",
                                    "Előző foglalás hossza": "3"
                                },
                                {
                                    "SZOBA_ID": "4",
                                    "FOGLALAS_PK": "946",
                                    "Foglalás időtartalma": "5",
                                    "Előző foglalás hossza": "3"
                                },
                                {
                                    "SZOBA_ID": "5",
                                    "FOGLALAS_PK": "1073",
                                    "Foglalás időtartalma": "5",
                                    "Előző foglalás hossza": "4"
                                },
                                {
                                    "SZOBA_ID": "10",
                                    "FOGLALAS_PK": "790",
                                    "Foglalás időtartalma": "5",
                                    "Előző foglalás hossza": "5"
                                },
                                {
                                    "SZOBA_ID": "11",
                                    "FOGLALAS_PK": "1123",
                                    "Foglalás időtartalma": "5",
                                    "Előző foglalás hossza": "10"
                                },
                                {
                                    "SZOBA_ID": "12",
                                    "FOGLALAS_PK": "1020",
                                    "Foglalás időtartalma": "5",
                                    "Előző foglalás hossza": "11"
                                },
                                {
                                    "SZOBA_ID": "12",
                                    "FOGLALAS_PK": "1164",
                                    "Foglalás időtartalma": "5",
                                    "Előző foglalás hossza": "12"
                                },
                                {
                                    "SZOBA_ID": "15",
                                    "FOGLALAS_PK": "791",
                                    "Foglalás időtartalma": "5",
                                    "Előző foglalás hossza": "12"
                                },
                                {
                                    "SZOBA_ID": "17",
                                    "FOGLALAS_PK": "1316",
                                    "Foglalás időtartalma": "5",
                                    "Előző foglalás hossza": "15"
                                },
                                {
                                    "SZOBA_ID": "20",
                                    "FOGLALAS_PK": "1114",
                                    "Foglalás időtartalma": "5",
                                    "Előző foglalás hossza": "17"
                                },
                                {
                                    "SZOBA_ID": "21",
                                    "FOGLALAS_PK": "660",
                                    "Foglalás időtartalma": "5",
                                    "Előző foglalás hossza": "20"
                                },
                                {
                                    "SZOBA_ID": "27",
                                    "FOGLALAS_PK": "1082",
                                    "Foglalás időtartalma": "5",
                                    "Előző foglalás hossza": "21"
                                },
                                {
                                    "SZOBA_ID": "28",
                                    "FOGLALAS_PK": "872",
                                    "Foglalás időtartalma": "5",
                                    "Előző foglalás hossza": "27"
                                },
                                {
                                    "SZOBA_ID": "28",
                                    "FOGLALAS_PK": "725",
                                    "Foglalás időtartalma": "5",
                                    "Előző foglalás hossza": "28"
                                },
                                {
                                    "SZOBA_ID": "29",
                                    "FOGLALAS_PK": "611",
                                    "Foglalás időtartalma": "5",
                                    "Előző foglalás hossza": "28"
                                },
                                {
                                    "SZOBA_ID": "29",
                                    "FOGLALAS_PK": "1185",
                                    "Foglalás időtartalma": "5",
                                    "Előző foglalás hossza": "29"
                                },
                                {
                                    "SZOBA_ID": "30",
                                    "FOGLALAS_PK": "1136",
                                    "Foglalás időtartalma": "5",
                                    "Előző foglalás hossza": "29"
                                },
                                {
                                    "SZOBA_ID": "33",
                                    "FOGLALAS_PK": "1344",
                                    "Foglalás időtartalma": "5",
                                    "Előző foglalás hossza": "30"
                                },
                                {
                                    "SZOBA_ID": "36",
                                    "FOGLALAS_PK": "895",
                                    "Foglalás időtartalma": "5",
                                    "Előző foglalás hossza": "33"
                                },
                                {
                                    "SZOBA_ID": "38",
                                    "FOGLALAS_PK": "1416",
                                    "Foglalás időtartalma": "5",
                                    "Előző foglalás hossza": "36"
                                },
                                {
                                    "SZOBA_ID": "39",
                                    "FOGLALAS_PK": "1380",
                                    "Foglalás időtartalma": "5",
                                    "Előző foglalás hossza": "38"
                                },
                                {
                                    "SZOBA_ID": "39",
                                    "FOGLALAS_PK": "1214",
                                    "Foglalás időtartalma": "5",
                                    "Előző foglalás hossza": "39"
                                },
                                {
                                    "SZOBA_ID": "40",
                                    "FOGLALAS_PK": "924",
                                    "Foglalás időtartalma": "5",
                                    "Előző foglalás hossza": "39"
                                },
                                {
                                    "SZOBA_ID": "40",
                                    "FOGLALAS_PK": "1118",
                                    "Foglalás időtartalma": "5",
                                    "Előző foglalás hossza": "40"
                                },
                                {
                                    "SZOBA_ID": "40",
                                    "FOGLALAS_PK": "1018",
                                    "Foglalás időtartalma": "5",
                                    "Előző foglalás hossza": "40"
                                },
                                {
                                    "SZOBA_ID": "42",
                                    "FOGLALAS_PK": "590",
                                    "Foglalás időtartalma": "5",
                                    "Előző foglalás hossza": "40"
                                },
                                {
                                    "SZOBA_ID": "43",
                                    "FOGLALAS_PK": "1227",
                                    "Foglalás időtartalma": "5",
                                    "Előző foglalás hossza": "42"
                                },
                                {
                                    "SZOBA_ID": "43",
                                    "FOGLALAS_PK": "1553",
                                    "Foglalás időtartalma": "5",
                                    "Előző foglalás hossza": "43"
                                },
                                {
                                    "SZOBA_ID": "45",
                                    "FOGLALAS_PK": "800",
                                    "Foglalás időtartalma": "5",
                                    "Előző foglalás hossza": "43"
                                },
                                {
                                    "SZOBA_ID": "46",
                                    "FOGLALAS_PK": "752",
                                    "Foglalás időtartalma": "5",
                                    "Előző foglalás hossza": "45"
                                },
                                {
                                    "SZOBA_ID": "48",
                                    "FOGLALAS_PK": "986",
                                    "Foglalás időtartalma": "5",
                                    "Előző foglalás hossza": "46"
                                },
                                {
                                    "SZOBA_ID": "48",
                                    "FOGLALAS_PK": "914",
                                    "Foglalás időtartalma": "5",
                                    "Előző foglalás hossza": "48"
                                },
                                {
                                    "SZOBA_ID": "48",
                                    "FOGLALAS_PK": "1581",
                                    "Foglalás időtartalma": "5",
                                    "Előző foglalás hossza": "48"
                                },
                                {
                                    "SZOBA_ID": "51",
                                    "FOGLALAS_PK": "1165",
                                    "Foglalás időtartalma": "5",
                                    "Előző foglalás hossza": "48"
                                },
                                {
                                    "SZOBA_ID": "52",
                                    "FOGLALAS_PK": "1258",
                                    "Foglalás időtartalma": "5",
                                    "Előző foglalás hossza": "51"
                                },
                                {
                                    "SZOBA_ID": "52",
                                    "FOGLALAS_PK": "1534",
                                    "Foglalás időtartalma": "5",
                                    "Előző foglalás hossza": "52"
                                },
                                {
                                    "SZOBA_ID": "52",
                                    "FOGLALAS_PK": "1431",
                                    "Foglalás időtartalma": "5",
                                    "Előző foglalás hossza": "52"
                                },
                                {
                                    "SZOBA_ID": "54",
                                    "FOGLALAS_PK": "642",
                                    "Foglalás időtartalma": "5",
                                    "Előző foglalás hossza": "52"
                                },
                                {
                                    "SZOBA_ID": "55",
                                    "FOGLALAS_PK": "1086",
                                    "Foglalás időtartalma": "5",
                                    "Előző foglalás hossza": "54"
                                },
                                {
                                    "SZOBA_ID": "58",
                                    "FOGLALAS_PK": "883",
                                    "Foglalás időtartalma": "5",
                                    "Előző foglalás hossza": "55"
                                },
                                {
                                    "SZOBA_ID": "59",
                                    "FOGLALAS_PK": "1170",
                                    "Foglalás időtartalma": "5",
                                    "Előző foglalás hossza": "58"
                                },
                                {
                                    "SZOBA_ID": "62",
                                    "FOGLALAS_PK": "702",
                                    "Foglalás időtartalma": "5",
                                    "Előző foglalás hossza": "59"
                                },
                                {
                                    "SZOBA_ID": "63",
                                    "FOGLALAS_PK": "769",
                                    "Foglalás időtartalma": "5",
                                    "Előző foglalás hossza": "62"
                                },
                                {
                                    "SZOBA_ID": "67",
                                    "FOGLALAS_PK": "638",
                                    "Foglalás időtartalma": "5",
                                    "Előző foglalás hossza": "63"
                                },
                                {
                                    "SZOBA_ID": "67",
                                    "FOGLALAS_PK": "1580",
                                    "Foglalás időtartalma": "5",
                                    "Előző foglalás hossza": "67"
                                },
                                {
                                    "SZOBA_ID": "68",
                                    "FOGLALAS_PK": "563",
                                    "Foglalás időtartalma": "5",
                                    "Előző foglalás hossza": "67"
                                },
                                {
                                    "SZOBA_ID": "69",
                                    "FOGLALAS_PK": "1055",
                                    "Foglalás időtartalma": "5",
                                    "Előző foglalás hossza": "68"
                                },
                                {
                                    "SZOBA_ID": "69",
                                    "FOGLALAS_PK": "1225",
                                    "Foglalás időtartalma": "5",
                                    "Előző foglalás hossza": "69"
                                },
                                {
                                    "SZOBA_ID": "70",
                                    "FOGLALAS_PK": "585",
                                    "Foglalás időtartalma": "5",
                                    "Előző foglalás hossza": "69"
                                },
                                {
                                    "SZOBA_ID": "72",
                                    "FOGLALAS_PK": "902",
                                    "Foglalás időtartalma": "5",
                                    "Előző foglalás hossza": "70"
                                },
                                {
                                    "SZOBA_ID": "73",
                                    "FOGLALAS_PK": "1159",
                                    "Foglalás időtartalma": "5",
                                    "Előző foglalás hossza": "72"
                                },
                                {
                                    "SZOBA_ID": "74",
                                    "FOGLALAS_PK": "940",
                                    "Foglalás időtartalma": "5",
                                    "Előző foglalás hossza": "73"
                                },
                                {
                                    "SZOBA_ID": "74",
                                    "FOGLALAS_PK": "797",
                                    "Foglalás időtartalma": "5",
                                    "Előző foglalás hossza": "74"
                                },
                                {
                                    "SZOBA_ID": "75",
                                    "FOGLALAS_PK": "1013",
                                    "Foglalás időtartalma": "5",
                                    "Előző foglalás hossza": "74"
                                },
                                {
                                    "SZOBA_ID": "78",
                                    "FOGLALAS_PK": "700",
                                    "Foglalás időtartalma": "5",
                                    "Előző foglalás hossza": "75"
                                },
                                {
                                    "SZOBA_ID": "80",
                                    "FOGLALAS_PK": "1279",
                                    "Foglalás időtartalma": "5",
                                    "Előző foglalás hossza": "78"
                                },
                                {
                                    "SZOBA_ID": "81",
                                    "FOGLALAS_PK": "1366",
                                    "Foglalás időtartalma": "5",
                                    "Előző foglalás hossza": "80"
                                },
                                {
                                    "SZOBA_ID": "82",
                                    "FOGLALAS_PK": "1277",
                                    "Foglalás időtartalma": "5",
                                    "Előző foglalás hossza": "81"
                                },
                                {
                                    "SZOBA_ID": "82",
                                    "FOGLALAS_PK": "871",
                                    "Foglalás időtartalma": "5",
                                    "Előző foglalás hossza": "82"
                                },
                                {
                                    "SZOBA_ID": "83",
                                    "FOGLALAS_PK": "995",
                                    "Foglalás időtartalma": "5",
                                    "Előző foglalás hossza": "82"
                                },
                                {
                                    "SZOBA_ID": "84",
                                    "FOGLALAS_PK": "954",
                                    "Foglalás időtartalma": "5",
                                    "Előző foglalás hossza": "83"
                                },
                                {
                                    "SZOBA_ID": "84",
                                    "FOGLALAS_PK": "1376",
                                    "Foglalás időtartalma": "5",
                                    "Előző foglalás hossza": "84"
                                },
                                {
                                    "SZOBA_ID": "86",
                                    "FOGLALAS_PK": "1057",
                                    "Foglalás időtartalma": "5",
                                    "Előző foglalás hossza": "84"
                                },
                                {
                                    "SZOBA_ID": "87",
                                    "FOGLALAS_PK": "1349",
                                    "Foglalás időtartalma": "5",
                                    "Előző foglalás hossza": "86"
                                },
                                {
                                    "SZOBA_ID": "87",
                                    "FOGLALAS_PK": "1456",
                                    "Foglalás időtartalma": "5",
                                    "Előző foglalás hossza": "87"
                                },
                                {
                                    "SZOBA_ID": "89",
                                    "FOGLALAS_PK": "1101",
                                    "Foglalás időtartalma": "5",
                                    "Előző foglalás hossza": "87"
                                },
                                {
                                    "SZOBA_ID": "90",
                                    "FOGLALAS_PK": "1405",
                                    "Foglalás időtartalma": "5",
                                    "Előző foglalás hossza": "89"
                                },
                                {
                                    "SZOBA_ID": "94",
                                    "FOGLALAS_PK": "975",
                                    "Foglalás időtartalma": "5",
                                    "Előző foglalás hossza": "90"
                                },
                                {
                                    "SZOBA_ID": "98",
                                    "FOGLALAS_PK": "884",
                                    "Foglalás időtartalma": "5",
                                    "Előző foglalás hossza": "94"
                                },
                                {
                                    "SZOBA_ID": "99",
                                    "FOGLALAS_PK": "691",
                                    "Foglalás időtartalma": "5",
                                    "Előző foglalás hossza": "98"
                                },
                                {
                                    "SZOBA_ID": "99",
                                    "FOGLALAS_PK": "1486",
                                    "Foglalás időtartalma": "5",
                                    "Előző foglalás hossza": "99"
                                },
                                {
                                    "SZOBA_ID": "100",
                                    "FOGLALAS_PK": "1315",
                                    "Foglalás időtartalma": "5",
                                    "Előző foglalás hossza": "99"
                                },
                                {
                                    "SZOBA_ID": "100",
                                    "FOGLALAS_PK": "637",
                                    "Foglalás időtartalma": "5",
                                    "Előző foglalás hossza": "100"
                                },
                                {
                                    "SZOBA_ID": "102",
                                    "FOGLALAS_PK": "689",
                                    "Foglalás időtartalma": "5",
                                    "Előző foglalás hossza": "100"
                                },
                                {
                                    "SZOBA_ID": "105",
                                    "FOGLALAS_PK": "1525",
                                    "Foglalás időtartalma": "5",
                                    "Előző foglalás hossza": "102"
                                },
                                {
                                    "SZOBA_ID": "106",
                                    "FOGLALAS_PK": "1271",
                                    "Foglalás időtartalma": "5",
                                    "Előző foglalás hossza": "105"
                                },
                                {
                                    "SZOBA_ID": "109",
                                    "FOGLALAS_PK": "654",
                                    "Foglalás időtartalma": "5",
                                    "Előző foglalás hossza": "106"
                                },
                                {
                                    "SZOBA_ID": "110",
                                    "FOGLALAS_PK": "931",
                                    "Foglalás időtartalma": "5",
                                    "Előző foglalás hossza": "109"
                                },
                                {
                                    "SZOBA_ID": "110",
                                    "FOGLALAS_PK": "1109",
                                    "Foglalás időtartalma": "5",
                                    "Előző foglalás hossza": "110"
                                },
                                {
                                    "SZOBA_ID": "111",
                                    "FOGLALAS_PK": "1353",
                                    "Foglalás időtartalma": "5",
                                    "Előző foglalás hossza": "110"
                                },
                                {
                                    "SZOBA_ID": "112",
                                    "FOGLALAS_PK": "801",
                                    "Foglalás időtartalma": "5",
                                    "Előző foglalás hossza": "111"
                                },
                                {
                                    "SZOBA_ID": "113",
                                    "FOGLALAS_PK": "1029",
                                    "Foglalás időtartalma": "5",
                                    "Előző foglalás hossza": "112"
                                },
                                {
                                    "SZOBA_ID": "117",
                                    "FOGLALAS_PK": "953",
                                    "Foglalás időtartalma": "5",
                                    "Előző foglalás hossza": "113"
                                },
                                {
                                    "SZOBA_ID": "118",
                                    "FOGLALAS_PK": "1374",
                                    "Foglalás időtartalma": "5",
                                    "Előző foglalás hossza": "117"
                                },
                                {
                                    "SZOBA_ID": "121",
                                    "FOGLALAS_PK": "1373",
                                    "Foglalás időtartalma": "5",
                                    "Előző foglalás hossza": "118"
                                },
                                {
                                    "SZOBA_ID": "121",
                                    "FOGLALAS_PK": "858",
                                    "Foglalás időtartalma": "5",
                                    "Előző foglalás hossza": "121"
                                },
                                {
                                    "SZOBA_ID": "122",
                                    "FOGLALAS_PK": "1385",
                                    "Foglalás időtartalma": "5",
                                    "Előző foglalás hossza": "121"
                                },
                                {
                                    "SZOBA_ID": "123",
                                    "FOGLALAS_PK": "967",
                                    "Foglalás időtartalma": "5",
                                    "Előző foglalás hossza": "122"
                                },
                                {
                                    "SZOBA_ID": "127",
                                    "FOGLALAS_PK": "853",
                                    "Foglalás időtartalma": "5",
                                    "Előző foglalás hossza": "123"
                                },
                                {
                                    "SZOBA_ID": "127",
                                    "FOGLALAS_PK": "1226",
                                    "Foglalás időtartalma": "5",
                                    "Előző foglalás hossza": "127"
                                },
                                {
                                    "SZOBA_ID": "127",
                                    "FOGLALAS_PK": "1579",
                                    "Foglalás időtartalma": "5",
                                    "Előző foglalás hossza": "127"
                                },
                                {
                                    "SZOBA_ID": "131",
                                    "FOGLALAS_PK": "1474",
                                    "Foglalás időtartalma": "5",
                                    "Előző foglalás hossza": "127"
                                },
                                {
                                    "SZOBA_ID": "133",
                                    "FOGLALAS_PK": "1363",
                                    "Foglalás időtartalma": "5",
                                    "Előző foglalás hossza": "131"
                                },
                                {
                                    "SZOBA_ID": "134",
                                    "FOGLALAS_PK": "1004",
                                    "Foglalás időtartalma": "5",
                                    "Előző foglalás hossza": "133"
                                },
                                {
                                    "SZOBA_ID": "136",
                                    "FOGLALAS_PK": "661",
                                    "Foglalás időtartalma": "5",
                                    "Előző foglalás hossza": "134"
                                },
                                {
                                    "SZOBA_ID": "137",
                                    "FOGLALAS_PK": "649",
                                    "Foglalás időtartalma": "5",
                                    "Előző foglalás hossza": "136"
                                },
                                {
                                    "SZOBA_ID": "138",
                                    "FOGLALAS_PK": "1370",
                                    "Foglalás időtartalma": "5",
                                    "Előző foglalás hossza": "137"
                                },
                                {
                                    "SZOBA_ID": "138",
                                    "FOGLALAS_PK": "1294",
                                    "Foglalás időtartalma": "5",
                                    "Előző foglalás hossza": "138"
                                },
                                {
                                    "SZOBA_ID": "146",
                                    "FOGLALAS_PK": "1032",
                                    "Foglalás időtartalma": "5",
                                    "Előző foglalás hossza": "138"
                                },
                                {
                                    "SZOBA_ID": "149",
                                    "FOGLALAS_PK": "834",
                                    "Foglalás időtartalma": "5",
                                    "Előző foglalás hossza": "146"
                                },
                                {
                                    "SZOBA_ID": "149",
                                    "FOGLALAS_PK": "1514",
                                    "Foglalás időtartalma": "5",
                                    "Előző foglalás hossza": "149"
                                },
                                {
                                    "SZOBA_ID": "150",
                                    "FOGLALAS_PK": "1100",
                                    "Foglalás időtartalma": "5",
                                    "Előző foglalás hossza": "149"
                                },
                                {
                                    "SZOBA_ID": "153",
                                    "FOGLALAS_PK": "1470",
                                    "Foglalás időtartalma": "5",
                                    "Előző foglalás hossza": "150"
                                },
                                {
                                    "SZOBA_ID": "163",
                                    "FOGLALAS_PK": "1265",
                                    "Foglalás időtartalma": "5",
                                    "Előző foglalás hossza": "153"
                                },
                                {
                                    "SZOBA_ID": "165",
                                    "FOGLALAS_PK": "857",
                                    "Foglalás időtartalma": "5",
                                    "Előző foglalás hossza": "163"
                                },
                                {
                                    "SZOBA_ID": "169",
                                    "FOGLALAS_PK": "573",
                                    "Foglalás időtartalma": "5",
                                    "Előző foglalás hossza": "165"
                                },
                                {
                                    "SZOBA_ID": "171",
                                    "FOGLALAS_PK": "1329",
                                    "Foglalás időtartalma": "5",
                                    "Előző foglalás hossza": "169"
                                },
                                {
                                    "SZOBA_ID": "172",
                                    "FOGLALAS_PK": "1336",
                                    "Foglalás időtartalma": "5",
                                    "Előző foglalás hossza": "171"
                                },
                                {
                                    "SZOBA_ID": "172",
                                    "FOGLALAS_PK": "1171",
                                    "Foglalás időtartalma": "5",
                                    "Előző foglalás hossza": "172"
                                },
                                {
                                    "SZOBA_ID": "172",
                                    "FOGLALAS_PK": "1421",
                                    "Foglalás időtartalma": "5",
                                    "Előző foglalás hossza": "172"
                                },
                                {
                                    "SZOBA_ID": "172",
                                    "FOGLALAS_PK": "839",
                                    "Foglalás időtartalma": "5",
                                    "Előző foglalás hossza": "172"
                                },
                                {
                                    "SZOBA_ID": "172",
                                    "FOGLALAS_PK": "709",
                                    "Foglalás időtartalma": "5",
                                    "Előző foglalás hossza": "172"
                                },
                                {
                                    "SZOBA_ID": "174",
                                    "FOGLALAS_PK": "1015",
                                    "Foglalás időtartalma": "5",
                                    "Előző foglalás hossza": "172"
                                },
                                {
                                    "SZOBA_ID": "175",
                                    "FOGLALAS_PK": "1094",
                                    "Foglalás időtartalma": "5",
                                    "Előző foglalás hossza": "174"
                                },
                                {
                                    "SZOBA_ID": "176",
                                    "FOGLALAS_PK": "592",
                                    "Foglalás időtartalma": "5",
                                    "Előző foglalás hossza": "175"
                                },
                                {
                                    "SZOBA_ID": "180",
                                    "FOGLALAS_PK": "905",
                                    "Foglalás időtartalma": "5",
                                    "Előző foglalás hossza": "176"
                                },
                                {
                                    "SZOBA_ID": "181",
                                    "FOGLALAS_PK": "958",
                                    "Foglalás időtartalma": "5",
                                    "Előző foglalás hossza": "180"
                                },
                                {
                                    "SZOBA_ID": "185",
                                    "FOGLALAS_PK": "679",
                                    "Foglalás időtartalma": "5",
                                    "Előző foglalás hossza": "181"
                                },
                                {
                                    "SZOBA_ID": "185",
                                    "FOGLALAS_PK": "1183",
                                    "Foglalás időtartalma": "5",
                                    "Előző foglalás hossza": "185"
                                },
                                {
                                    "SZOBA_ID": "188",
                                    "FOGLALAS_PK": "1390",
                                    "Foglalás időtartalma": "5",
                                    "Előző foglalás hossza": "185"
                                },
                                {
                                    "SZOBA_ID": "190",
                                    "FOGLALAS_PK": "1517",
                                    "Foglalás időtartalma": "5",
                                    "Előző foglalás hossza": "188"
                                },
                                {
                                    "SZOBA_ID": "190",
                                    "FOGLALAS_PK": "774",
                                    "Foglalás időtartalma": "5",
                                    "Előző foglalás hossza": "190"
                                },
                                {
                                    "SZOBA_ID": "194",
                                    "FOGLALAS_PK": "1095",
                                    "Foglalás időtartalma": "5",
                                    "Előző foglalás hossza": "190"
                                },
                                {
                                    "SZOBA_ID": "195",
                                    "FOGLALAS_PK": "1184",
                                    "Foglalás időtartalma": "5",
                                    "Előző foglalás hossza": "194"
                                },
                                {
                                    "SZOBA_ID": "196",
                                    "FOGLALAS_PK": "1340",
                                    "Foglalás időtartalma": "5",
                                    "Előző foglalás hossza": "195"
                                },
                                {
                                    "SZOBA_ID": "196",
                                    "FOGLALAS_PK": "1314",
                                    "Foglalás időtartalma": "5",
                                    "Előző foglalás hossza": "196"
                                },
                                {
                                    "SZOBA_ID": "196",
                                    "FOGLALAS_PK": "673",
                                    "Foglalás időtartalma": "5",
                                    "Előző foglalás hossza": "196"
                                },
                                {
                                    "SZOBA_ID": "198",
                                    "FOGLALAS_PK": "1161",
                                    "Foglalás időtartalma": "5",
                                    "Előző foglalás hossza": "196"
                                },
                                {
                                    "SZOBA_ID": "198",
                                    "FOGLALAS_PK": "1138",
                                    "Foglalás időtartalma": "5",
                                    "Előző foglalás hossza": "198"
                                },
                                {
                                    "SZOBA_ID": "198",
                                    "FOGLALAS_PK": "1420",
                                    "Foglalás időtartalma": "5",
                                    "Előző foglalás hossza": "198"
                                },
                                {
                                    "SZOBA_ID": "3",
                                    "FOGLALAS_PK": "666",
                                    "Foglalás időtartalma": "6",
                                    "Előző foglalás hossza": "0"
                                },
                                {
                                    "SZOBA_ID": "3",
                                    "FOGLALAS_PK": "788",
                                    "Foglalás időtartalma": "6",
                                    "Előző foglalás hossza": "3"
                                },
                                {
                                    "SZOBA_ID": "4",
                                    "FOGLALAS_PK": "1492",
                                    "Foglalás időtartalma": "6",
                                    "Előző foglalás hossza": "3"
                                },
                                {
                                    "SZOBA_ID": "4",
                                    "FOGLALAS_PK": "1132",
                                    "Foglalás időtartalma": "6",
                                    "Előző foglalás hossza": "4"
                                },
                                {
                                    "SZOBA_ID": "6",
                                    "FOGLALAS_PK": "772",
                                    "Foglalás időtartalma": "6",
                                    "Előző foglalás hossza": "4"
                                },
                                {
                                    "SZOBA_ID": "6",
                                    "FOGLALAS_PK": "560",
                                    "Foglalás időtartalma": "6",
                                    "Előző foglalás hossza": "6"
                                },
                                {
                                    "SZOBA_ID": "9",
                                    "FOGLALAS_PK": "1157",
                                    "Foglalás időtartalma": "6",
                                    "Előző foglalás hossza": "6"
                                },
                                {
                                    "SZOBA_ID": "9",
                                    "FOGLALAS_PK": "1260",
                                    "Foglalás időtartalma": "6",
                                    "Előző foglalás hossza": "9"
                                },
                                {
                                    "SZOBA_ID": "10",
                                    "FOGLALAS_PK": "1319",
                                    "Foglalás időtartalma": "6",
                                    "Előző foglalás hossza": "9"
                                },
                                {
                                    "SZOBA_ID": "11",
                                    "FOGLALAS_PK": "918",
                                    "Foglalás időtartalma": "6",
                                    "Előző foglalás hossza": "10"
                                },
                                {
                                    "SZOBA_ID": "13",
                                    "FOGLALAS_PK": "1044",
                                    "Foglalás időtartalma": "6",
                                    "Előző foglalás hossza": "11"
                                },
                                {
                                    "SZOBA_ID": "16",
                                    "FOGLALAS_PK": "856",
                                    "Foglalás időtartalma": "6",
                                    "Előző foglalás hossza": "13"
                                },
                                {
                                    "SZOBA_ID": "17",
                                    "FOGLALAS_PK": "602",
                                    "Foglalás időtartalma": "6",
                                    "Előző foglalás hossza": "16"
                                },
                                {
                                    "SZOBA_ID": "17",
                                    "FOGLALAS_PK": "713",
                                    "Foglalás időtartalma": "6",
                                    "Előző foglalás hossza": "17"
                                },
                                {
                                    "SZOBA_ID": "18",
                                    "FOGLALAS_PK": "1035",
                                    "Foglalás időtartalma": "6",
                                    "Előző foglalás hossza": "17"
                                },
                                {
                                    "SZOBA_ID": "18",
                                    "FOGLALAS_PK": "1173",
                                    "Foglalás időtartalma": "6",
                                    "Előző foglalás hossza": "18"
                                },
                                {
                                    "SZOBA_ID": "18",
                                    "FOGLALAS_PK": "1505",
                                    "Foglalás időtartalma": "6",
                                    "Előző foglalás hossza": "18"
                                },
                                {
                                    "SZOBA_ID": "20",
                                    "FOGLALAS_PK": "755",
                                    "Foglalás időtartalma": "6",
                                    "Előző foglalás hossza": "18"
                                },
                                {
                                    "SZOBA_ID": "21",
                                    "FOGLALAS_PK": "566",
                                    "Foglalás időtartalma": "6",
                                    "Előző foglalás hossza": "20"
                                },
                                {
                                    "SZOBA_ID": "21",
                                    "FOGLALAS_PK": "1212",
                                    "Foglalás időtartalma": "6",
                                    "Előző foglalás hossza": "21"
                                },
                                {
                                    "SZOBA_ID": "22",
                                    "FOGLALAS_PK": "1195",
                                    "Foglalás időtartalma": "6",
                                    "Előző foglalás hossza": "21"
                                },
                                {
                                    "SZOBA_ID": "27",
                                    "FOGLALAS_PK": "1275",
                                    "Foglalás időtartalma": "6",
                                    "Előző foglalás hossza": "22"
                                },
                                {
                                    "SZOBA_ID": "28",
                                    "FOGLALAS_PK": "1150",
                                    "Foglalás időtartalma": "6",
                                    "Előző foglalás hossza": "27"
                                },
                                {
                                    "SZOBA_ID": "33",
                                    "FOGLALAS_PK": "1381",
                                    "Foglalás időtartalma": "6",
                                    "Előző foglalás hossza": "28"
                                },
                                {
                                    "SZOBA_ID": "33",
                                    "FOGLALAS_PK": "624",
                                    "Foglalás időtartalma": "6",
                                    "Előző foglalás hossza": "33"
                                },
                                {
                                    "SZOBA_ID": "34",
                                    "FOGLALAS_PK": "870",
                                    "Foglalás időtartalma": "6",
                                    "Előző foglalás hossza": "33"
                                },
                                {
                                    "SZOBA_ID": "35",
                                    "FOGLALAS_PK": "686",
                                    "Foglalás időtartalma": "6",
                                    "Előző foglalás hossza": "34"
                                },
                                {
                                    "SZOBA_ID": "36",
                                    "FOGLALAS_PK": "750",
                                    "Foglalás időtartalma": "6",
                                    "Előző foglalás hossza": "35"
                                },
                                {
                                    "SZOBA_ID": "36",
                                    "FOGLALAS_PK": "985",
                                    "Foglalás időtartalma": "6",
                                    "Előző foglalás hossza": "36"
                                },
                                {
                                    "SZOBA_ID": "38",
                                    "FOGLALAS_PK": "627",
                                    "Foglalás időtartalma": "6",
                                    "Előző foglalás hossza": "36"
                                },
                                {
                                    "SZOBA_ID": "38",
                                    "FOGLALAS_PK": "1556",
                                    "Foglalás időtartalma": "6",
                                    "Előző foglalás hossza": "38"
                                },
                                {
                                    "SZOBA_ID": "39",
                                    "FOGLALAS_PK": "601",
                                    "Foglalás időtartalma": "6",
                                    "Előző foglalás hossza": "38"
                                },
                                {
                                    "SZOBA_ID": "39",
                                    "FOGLALAS_PK": "899",
                                    "Foglalás időtartalma": "6",
                                    "Előző foglalás hossza": "39"
                                },
                                {
                                    "SZOBA_ID": "40",
                                    "FOGLALAS_PK": "932",
                                    "Foglalás időtartalma": "6",
                                    "Előző foglalás hossza": "39"
                                },
                                {
                                    "SZOBA_ID": "41",
                                    "FOGLALAS_PK": "960",
                                    "Foglalás időtartalma": "6",
                                    "Előző foglalás hossza": "40"
                                },
                                {
                                    "SZOBA_ID": "42",
                                    "FOGLALAS_PK": "1444",
                                    "Foglalás időtartalma": "6",
                                    "Előző foglalás hossza": "41"
                                },
                                {
                                    "SZOBA_ID": "44",
                                    "FOGLALAS_PK": "658",
                                    "Foglalás időtartalma": "6",
                                    "Előző foglalás hossza": "42"
                                },
                                {
                                    "SZOBA_ID": "48",
                                    "FOGLALAS_PK": "1243",
                                    "Foglalás időtartalma": "6",
                                    "Előző foglalás hossza": "44"
                                },
                                {
                                    "SZOBA_ID": "49",
                                    "FOGLALAS_PK": "1536",
                                    "Foglalás időtartalma": "6",
                                    "Előző foglalás hossza": "48"
                                },
                                {
                                    "SZOBA_ID": "49",
                                    "FOGLALAS_PK": "793",
                                    "Foglalás időtartalma": "6",
                                    "Előző foglalás hossza": "49"
                                },
                                {
                                    "SZOBA_ID": "51",
                                    "FOGLALAS_PK": "1477",
                                    "Foglalás időtartalma": "6",
                                    "Előző foglalás hossza": "49"
                                },
                                {
                                    "SZOBA_ID": "55",
                                    "FOGLALAS_PK": "1327",
                                    "Foglalás időtartalma": "6",
                                    "Előző foglalás hossza": "51"
                                },
                                {
                                    "SZOBA_ID": "55",
                                    "FOGLALAS_PK": "734",
                                    "Foglalás időtartalma": "6",
                                    "Előző foglalás hossza": "55"
                                },
                                {
                                    "SZOBA_ID": "58",
                                    "FOGLALAS_PK": "1307",
                                    "Foglalás időtartalma": "6",
                                    "Előző foglalás hossza": "55"
                                },
                                {
                                    "SZOBA_ID": "58",
                                    "FOGLALAS_PK": "1261",
                                    "Foglalás időtartalma": "6",
                                    "Előző foglalás hossza": "58"
                                },
                                {
                                    "SZOBA_ID": "58",
                                    "FOGLALAS_PK": "1208",
                                    "Foglalás időtartalma": "6",
                                    "Előző foglalás hossza": "58"
                                },
                                {
                                    "SZOBA_ID": "58",
                                    "FOGLALAS_PK": "1186",
                                    "Foglalás időtartalma": "6",
                                    "Előző foglalás hossza": "58"
                                },
                                {
                                    "SZOBA_ID": "58",
                                    "FOGLALAS_PK": "1451",
                                    "Foglalás időtartalma": "6",
                                    "Előző foglalás hossza": "58"
                                },
                                {
                                    "SZOBA_ID": "59",
                                    "FOGLALAS_PK": "1191",
                                    "Foglalás időtartalma": "6",
                                    "Előző foglalás hossza": "58"
                                },
                                {
                                    "SZOBA_ID": "61",
                                    "FOGLALAS_PK": "756",
                                    "Foglalás időtartalma": "6",
                                    "Előző foglalás hossza": "59"
                                },
                                {
                                    "SZOBA_ID": "63",
                                    "FOGLALAS_PK": "891",
                                    "Foglalás időtartalma": "6",
                                    "Előző foglalás hossza": "61"
                                },
                                {
                                    "SZOBA_ID": "64",
                                    "FOGLALAS_PK": "1446",
                                    "Foglalás időtartalma": "6",
                                    "Előző foglalás hossza": "63"
                                },
                                {
                                    "SZOBA_ID": "65",
                                    "FOGLALAS_PK": "650",
                                    "Foglalás időtartalma": "6",
                                    "Előző foglalás hossza": "64"
                                },
                                {
                                    "SZOBA_ID": "67",
                                    "FOGLALAS_PK": "645",
                                    "Foglalás időtartalma": "6",
                                    "Előző foglalás hossza": "65"
                                },
                                {
                                    "SZOBA_ID": "67",
                                    "FOGLALAS_PK": "874",
                                    "Foglalás időtartalma": "6",
                                    "Előző foglalás hossza": "67"
                                },
                                {
                                    "SZOBA_ID": "70",
                                    "FOGLALAS_PK": "1333",
                                    "Foglalás időtartalma": "6",
                                    "Előző foglalás hossza": "67"
                                },
                                {
                                    "SZOBA_ID": "72",
                                    "FOGLALAS_PK": "961",
                                    "Foglalás időtartalma": "6",
                                    "Előző foglalás hossza": "70"
                                },
                                {
                                    "SZOBA_ID": "74",
                                    "FOGLALAS_PK": "1093",
                                    "Foglalás időtartalma": "6",
                                    "Előző foglalás hossza": "72"
                                },
                                {
                                    "SZOBA_ID": "77",
                                    "FOGLALAS_PK": "1439",
                                    "Foglalás időtartalma": "6",
                                    "Előző foglalás hossza": "74"
                                },
                                {
                                    "SZOBA_ID": "79",
                                    "FOGLALAS_PK": "583",
                                    "Foglalás időtartalma": "6",
                                    "Előző foglalás hossza": "77"
                                },
                                {
                                    "SZOBA_ID": "80",
                                    "FOGLALAS_PK": "667",
                                    "Foglalás időtartalma": "6",
                                    "Előző foglalás hossza": "79"
                                },
                                {
                                    "SZOBA_ID": "80",
                                    "FOGLALAS_PK": "983",
                                    "Foglalás időtartalma": "6",
                                    "Előző foglalás hossza": "80"
                                },
                                {
                                    "SZOBA_ID": "80",
                                    "FOGLALAS_PK": "887",
                                    "Foglalás időtartalma": "6",
                                    "Előző foglalás hossza": "80"
                                },
                                {
                                    "SZOBA_ID": "82",
                                    "FOGLALAS_PK": "997",
                                    "Foglalás időtartalma": "6",
                                    "Előző foglalás hossza": "80"
                                },
                                {
                                    "SZOBA_ID": "83",
                                    "FOGLALAS_PK": "1119",
                                    "Foglalás időtartalma": "6",
                                    "Előző foglalás hossza": "82"
                                },
                                {
                                    "SZOBA_ID": "83",
                                    "FOGLALAS_PK": "878",
                                    "Foglalás időtartalma": "6",
                                    "Előző foglalás hossza": "83"
                                },
                                {
                                    "SZOBA_ID": "83",
                                    "FOGLALAS_PK": "869",
                                    "Foglalás időtartalma": "6",
                                    "Előző foglalás hossza": "83"
                                },
                                {
                                    "SZOBA_ID": "88",
                                    "FOGLALAS_PK": "1575",
                                    "Foglalás időtartalma": "6",
                                    "Előző foglalás hossza": "83"
                                },
                                {
                                    "SZOBA_ID": "89",
                                    "FOGLALAS_PK": "1189",
                                    "Foglalás időtartalma": "6",
                                    "Előző foglalás hossza": "88"
                                },
                                {
                                    "SZOBA_ID": "90",
                                    "FOGLALAS_PK": "1299",
                                    "Foglalás időtartalma": "6",
                                    "Előző foglalás hossza": "89"
                                },
                                {
                                    "SZOBA_ID": "91",
                                    "FOGLALAS_PK": "636",
                                    "Foglalás időtartalma": "6",
                                    "Előző foglalás hossza": "90"
                                },
                                {
                                    "SZOBA_ID": "92",
                                    "FOGLALAS_PK": "841",
                                    "Foglalás időtartalma": "6",
                                    "Előző foglalás hossza": "91"
                                },
                                {
                                    "SZOBA_ID": "92",
                                    "FOGLALAS_PK": "942",
                                    "Foglalás időtartalma": "6",
                                    "Előző foglalás hossza": "92"
                                },
                                {
                                    "SZOBA_ID": "98",
                                    "FOGLALAS_PK": "1050",
                                    "Foglalás időtartalma": "6",
                                    "Előző foglalás hossza": "92"
                                },
                                {
                                    "SZOBA_ID": "98",
                                    "FOGLALAS_PK": "631",
                                    "Foglalás időtartalma": "6",
                                    "Előző foglalás hossza": "98"
                                },
                                {
                                    "SZOBA_ID": "101",
                                    "FOGLALAS_PK": "1332",
                                    "Foglalás időtartalma": "6",
                                    "Előző foglalás hossza": "98"
                                },
                                {
                                    "SZOBA_ID": "106",
                                    "FOGLALAS_PK": "1510",
                                    "Foglalás időtartalma": "6",
                                    "Előző foglalás hossza": "101"
                                },
                                {
                                    "SZOBA_ID": "107",
                                    "FOGLALAS_PK": "1452",
                                    "Foglalás időtartalma": "6",
                                    "Előző foglalás hossza": "106"
                                },
                                {
                                    "SZOBA_ID": "107",
                                    "FOGLALAS_PK": "586",
                                    "Foglalás időtartalma": "6",
                                    "Előző foglalás hossza": "107"
                                },
                                {
                                    "SZOBA_ID": "108",
                                    "FOGLALAS_PK": "1392",
                                    "Foglalás időtartalma": "6",
                                    "Előző foglalás hossza": "107"
                                },
                                {
                                    "SZOBA_ID": "110",
                                    "FOGLALAS_PK": "1489",
                                    "Foglalás időtartalma": "6",
                                    "Előző foglalás hossza": "108"
                                },
                                {
                                    "SZOBA_ID": "110",
                                    "FOGLALAS_PK": "964",
                                    "Foglalás időtartalma": "6",
                                    "Előző foglalás hossza": "110"
                                },
                                {
                                    "SZOBA_ID": "112",
                                    "FOGLALAS_PK": "1124",
                                    "Foglalás időtartalma": "6",
                                    "Előző foglalás hossza": "110"
                                },
                                {
                                    "SZOBA_ID": "112",
                                    "FOGLALAS_PK": "1530",
                                    "Foglalás időtartalma": "6",
                                    "Előző foglalás hossza": "112"
                                },
                                {
                                    "SZOBA_ID": "114",
                                    "FOGLALAS_PK": "966",
                                    "Foglalás időtartalma": "6",
                                    "Előző foglalás hossza": "112"
                                },
                                {
                                    "SZOBA_ID": "118",
                                    "FOGLALAS_PK": "864",
                                    "Foglalás időtartalma": "6",
                                    "Előző foglalás hossza": "114"
                                },
                                {
                                    "SZOBA_ID": "118",
                                    "FOGLALAS_PK": "1472",
                                    "Foglalás időtartalma": "6",
                                    "Előző foglalás hossza": "118"
                                },
                                {
                                    "SZOBA_ID": "120",
                                    "FOGLALAS_PK": "1339",
                                    "Foglalás időtartalma": "6",
                                    "Előző foglalás hossza": "118"
                                },
                                {
                                    "SZOBA_ID": "120",
                                    "FOGLALAS_PK": "1089",
                                    "Foglalás időtartalma": "6",
                                    "Előző foglalás hossza": "120"
                                },
                                {
                                    "SZOBA_ID": "121",
                                    "FOGLALAS_PK": "739",
                                    "Foglalás időtartalma": "6",
                                    "Előző foglalás hossza": "120"
                                },
                                {
                                    "SZOBA_ID": "121",
                                    "FOGLALAS_PK": "735",
                                    "Foglalás időtartalma": "6",
                                    "Előző foglalás hossza": "121"
                                },
                                {
                                    "SZOBA_ID": "121",
                                    "FOGLALAS_PK": "1393",
                                    "Foglalás időtartalma": "6",
                                    "Előző foglalás hossza": "121"
                                },
                                {
                                    "SZOBA_ID": "123",
                                    "FOGLALAS_PK": "1282",
                                    "Foglalás időtartalma": "6",
                                    "Előző foglalás hossza": "121"
                                },
                                {
                                    "SZOBA_ID": "124",
                                    "FOGLALAS_PK": "1403",
                                    "Foglalás időtartalma": "6",
                                    "Előző foglalás hossza": "123"
                                },
                                {
                                    "SZOBA_ID": "124",
                                    "FOGLALAS_PK": "1531",
                                    "Foglalás időtartalma": "6",
                                    "Előző foglalás hossza": "124"
                                },
                                {
                                    "SZOBA_ID": "126",
                                    "FOGLALAS_PK": "1364",
                                    "Foglalás időtartalma": "6",
                                    "Előző foglalás hossza": "124"
                                },
                                {
                                    "SZOBA_ID": "126",
                                    "FOGLALAS_PK": "806",
                                    "Foglalás időtartalma": "6",
                                    "Előző foglalás hossza": "126"
                                },
                                {
                                    "SZOBA_ID": "127",
                                    "FOGLALAS_PK": "1034",
                                    "Foglalás időtartalma": "6",
                                    "Előző foglalás hossza": "126"
                                },
                                {
                                    "SZOBA_ID": "129",
                                    "FOGLALAS_PK": "1360",
                                    "Foglalás időtartalma": "6",
                                    "Előző foglalás hossza": "127"
                                },
                                {
                                    "SZOBA_ID": "129",
                                    "FOGLALAS_PK": "1509",
                                    "Foglalás időtartalma": "6",
                                    "Előző foglalás hossza": "129"
                                },
                                {
                                    "SZOBA_ID": "130",
                                    "FOGLALAS_PK": "779",
                                    "Foglalás időtartalma": "6",
                                    "Előző foglalás hossza": "129"
                                },
                                {
                                    "SZOBA_ID": "131",
                                    "FOGLALAS_PK": "881",
                                    "Foglalás időtartalma": "6",
                                    "Előző foglalás hossza": "130"
                                },
                                {
                                    "SZOBA_ID": "132",
                                    "FOGLALAS_PK": "999",
                                    "Foglalás időtartalma": "6",
                                    "Előző foglalás hossza": "131"
                                },
                                {
                                    "SZOBA_ID": "134",
                                    "FOGLALAS_PK": "1219",
                                    "Foglalás időtartalma": "6",
                                    "Előző foglalás hossza": "132"
                                },
                                {
                                    "SZOBA_ID": "135",
                                    "FOGLALAS_PK": "724",
                                    "Foglalás időtartalma": "6",
                                    "Előző foglalás hossza": "134"
                                },
                                {
                                    "SZOBA_ID": "137",
                                    "FOGLALAS_PK": "657",
                                    "Foglalás időtartalma": "6",
                                    "Előző foglalás hossza": "135"
                                },
                                {
                                    "SZOBA_ID": "137",
                                    "FOGLALAS_PK": "1201",
                                    "Foglalás időtartalma": "6",
                                    "Előző foglalás hossza": "137"
                                },
                                {
                                    "SZOBA_ID": "138",
                                    "FOGLALAS_PK": "768",
                                    "Foglalás időtartalma": "6",
                                    "Előző foglalás hossza": "137"
                                },
                                {
                                    "SZOBA_ID": "139",
                                    "FOGLALAS_PK": "1064",
                                    "Foglalás időtartalma": "6",
                                    "Előző foglalás hossza": "138"
                                },
                                {
                                    "SZOBA_ID": "139",
                                    "FOGLALAS_PK": "1433",
                                    "Foglalás időtartalma": "6",
                                    "Előző foglalás hossza": "139"
                                },
                                {
                                    "SZOBA_ID": "141",
                                    "FOGLALAS_PK": "1401",
                                    "Foglalás időtartalma": "6",
                                    "Előző foglalás hossza": "139"
                                },
                                {
                                    "SZOBA_ID": "141",
                                    "FOGLALAS_PK": "565",
                                    "Foglalás időtartalma": "6",
                                    "Előző foglalás hossza": "141"
                                },
                                {
                                    "SZOBA_ID": "142",
                                    "FOGLALAS_PK": "1369",
                                    "Foglalás időtartalma": "6",
                                    "Előző foglalás hossza": "141"
                                },
                                {
                                    "SZOBA_ID": "143",
                                    "FOGLALAS_PK": "1193",
                                    "Foglalás időtartalma": "6",
                                    "Előző foglalás hossza": "142"
                                },
                                {
                                    "SZOBA_ID": "143",
                                    "FOGLALAS_PK": "1448",
                                    "Foglalás időtartalma": "6",
                                    "Előző foglalás hossza": "143"
                                },
                                {
                                    "SZOBA_ID": "146",
                                    "FOGLALAS_PK": "1479",
                                    "Foglalás időtartalma": "6",
                                    "Előző foglalás hossza": "143"
                                },
                                {
                                    "SZOBA_ID": "148",
                                    "FOGLALAS_PK": "812",
                                    "Foglalás időtartalma": "6",
                                    "Előző foglalás hossza": "146"
                                },
                                {
                                    "SZOBA_ID": "149",
                                    "FOGLALAS_PK": "1146",
                                    "Foglalás időtartalma": "6",
                                    "Előző foglalás hossza": "148"
                                },
                                {
                                    "SZOBA_ID": "152",
                                    "FOGLALAS_PK": "1197",
                                    "Foglalás időtartalma": "6",
                                    "Előző foglalás hossza": "149"
                                },
                                {
                                    "SZOBA_ID": "153",
                                    "FOGLALAS_PK": "969",
                                    "Foglalás időtartalma": "6",
                                    "Előző foglalás hossza": "152"
                                },
                                {
                                    "SZOBA_ID": "154",
                                    "FOGLALAS_PK": "1168",
                                    "Foglalás időtartalma": "6",
                                    "Előző foglalás hossza": "153"
                                },
                                {
                                    "SZOBA_ID": "156",
                                    "FOGLALAS_PK": "956",
                                    "Foglalás időtartalma": "6",
                                    "Előző foglalás hossza": "154"
                                },
                                {
                                    "SZOBA_ID": "156",
                                    "FOGLALAS_PK": "692",
                                    "Foglalás időtartalma": "6",
                                    "Előző foglalás hossza": "156"
                                },
                                {
                                    "SZOBA_ID": "161",
                                    "FOGLALAS_PK": "1068",
                                    "Foglalás időtartalma": "6",
                                    "Előző foglalás hossza": "156"
                                },
                                {
                                    "SZOBA_ID": "162",
                                    "FOGLALAS_PK": "1205",
                                    "Foglalás időtartalma": "6",
                                    "Előző foglalás hossza": "161"
                                },
                                {
                                    "SZOBA_ID": "164",
                                    "FOGLALAS_PK": "742",
                                    "Foglalás időtartalma": "6",
                                    "Előző foglalás hossza": "162"
                                },
                                {
                                    "SZOBA_ID": "165",
                                    "FOGLALAS_PK": "897",
                                    "Foglalás időtartalma": "6",
                                    "Előző foglalás hossza": "164"
                                },
                                {
                                    "SZOBA_ID": "165",
                                    "FOGLALAS_PK": "900",
                                    "Foglalás időtartalma": "6",
                                    "Előző foglalás hossza": "165"
                                },
                                {
                                    "SZOBA_ID": "169",
                                    "FOGLALAS_PK": "659",
                                    "Foglalás időtartalma": "6",
                                    "Előző foglalás hossza": "165"
                                },
                                {
                                    "SZOBA_ID": "170",
                                    "FOGLALAS_PK": "1342",
                                    "Foglalás időtartalma": "6",
                                    "Előző foglalás hossza": "169"
                                },
                                {
                                    "SZOBA_ID": "171",
                                    "FOGLALAS_PK": "1181",
                                    "Foglalás időtartalma": "6",
                                    "Előző foglalás hossza": "170"
                                },
                                {
                                    "SZOBA_ID": "171",
                                    "FOGLALAS_PK": "1567",
                                    "Foglalás időtartalma": "6",
                                    "Előző foglalás hossza": "171"
                                },
                                {
                                    "SZOBA_ID": "172",
                                    "FOGLALAS_PK": "749",
                                    "Foglalás időtartalma": "6",
                                    "Előző foglalás hossza": "171"
                                },
                                {
                                    "SZOBA_ID": "175",
                                    "FOGLALAS_PK": "867",
                                    "Foglalás időtartalma": "6",
                                    "Előző foglalás hossza": "172"
                                },
                                {
                                    "SZOBA_ID": "176",
                                    "FOGLALAS_PK": "1143",
                                    "Foglalás időtartalma": "6",
                                    "Előző foglalás hossza": "175"
                                },
                                {
                                    "SZOBA_ID": "176",
                                    "FOGLALAS_PK": "1278",
                                    "Foglalás időtartalma": "6",
                                    "Előző foglalás hossza": "176"
                                },
                                {
                                    "SZOBA_ID": "180",
                                    "FOGLALAS_PK": "1563",
                                    "Foglalás időtartalma": "6",
                                    "Előző foglalás hossza": "176"
                                },
                                {
                                    "SZOBA_ID": "181",
                                    "FOGLALAS_PK": "1346",
                                    "Foglalás időtartalma": "6",
                                    "Előző foglalás hossza": "180"
                                },
                                {
                                    "SZOBA_ID": "181",
                                    "FOGLALAS_PK": "731",
                                    "Foglalás időtartalma": "6",
                                    "Előző foglalás hossza": "181"
                                },
                                {
                                    "SZOBA_ID": "182",
                                    "FOGLALAS_PK": "1008",
                                    "Foglalás időtartalma": "6",
                                    "Előző foglalás hossza": "181"
                                },
                                {
                                    "SZOBA_ID": "185",
                                    "FOGLALAS_PK": "925",
                                    "Foglalás időtartalma": "6",
                                    "Előző foglalás hossza": "182"
                                },
                                {
                                    "SZOBA_ID": "185",
                                    "FOGLALAS_PK": "578",
                                    "Foglalás időtartalma": "6",
                                    "Előző foglalás hossza": "185"
                                },
                                {
                                    "SZOBA_ID": "187",
                                    "FOGLALAS_PK": "633",
                                    "Foglalás időtartalma": "6",
                                    "Előző foglalás hossza": "185"
                                },
                                {
                                    "SZOBA_ID": "187",
                                    "FOGLALAS_PK": "695",
                                    "Foglalás időtartalma": "6",
                                    "Előző foglalás hossza": "187"
                                },
                                {
                                    "SZOBA_ID": "191",
                                    "FOGLALAS_PK": "1039",
                                    "Foglalás időtartalma": "6",
                                    "Előző foglalás hossza": "187"
                                },
                                {
                                    "SZOBA_ID": "193",
                                    "FOGLALAS_PK": "1043",
                                    "Foglalás időtartalma": "6",
                                    "Előző foglalás hossza": "191"
                                },
                                {
                                    "SZOBA_ID": "193",
                                    "FOGLALAS_PK": "634",
                                    "Foglalás időtartalma": "6",
                                    "Előző foglalás hossza": "193"
                                },
                                {
                                    "SZOBA_ID": "193",
                                    "FOGLALAS_PK": "1238",
                                    "Foglalás időtartalma": "6",
                                    "Előző foglalás hossza": "193"
                                },
                                {
                                    "SZOBA_ID": "1",
                                    "FOGLALAS_PK": "738",
                                    "Foglalás időtartalma": "7",
                                    "Előző foglalás hossza": "0"
                                },
                                {
                                    "SZOBA_ID": "2",
                                    "FOGLALAS_PK": "1069",
                                    "Foglalás időtartalma": "7",
                                    "Előző foglalás hossza": "1"
                                },
                                {
                                    "SZOBA_ID": "2",
                                    "FOGLALAS_PK": "1311",
                                    "Foglalás időtartalma": "7",
                                    "Előző foglalás hossza": "2"
                                },
                                {
                                    "SZOBA_ID": "3",
                                    "FOGLALAS_PK": "1110",
                                    "Foglalás időtartalma": "7",
                                    "Előző foglalás hossza": "2"
                                },
                                {
                                    "SZOBA_ID": "4",
                                    "FOGLALAS_PK": "1001",
                                    "Foglalás időtartalma": "7",
                                    "Előző foglalás hossza": "3"
                                },
                                {
                                    "SZOBA_ID": "4",
                                    "FOGLALAS_PK": "651",
                                    "Foglalás időtartalma": "7",
                                    "Előző foglalás hossza": "4"
                                },
                                {
                                    "SZOBA_ID": "5",
                                    "FOGLALAS_PK": "965",
                                    "Foglalás időtartalma": "7",
                                    "Előző foglalás hossza": "4"
                                },
                                {
                                    "SZOBA_ID": "7",
                                    "FOGLALAS_PK": "759",
                                    "Foglalás időtartalma": "7",
                                    "Előző foglalás hossza": "5"
                                },
                                {
                                    "SZOBA_ID": "12",
                                    "FOGLALAS_PK": "876",
                                    "Foglalás időtartalma": "7",
                                    "Előző foglalás hossza": "7"
                                },
                                {
                                    "SZOBA_ID": "16",
                                    "FOGLALAS_PK": "1498",
                                    "Foglalás időtartalma": "7",
                                    "Előző foglalás hossza": "12"
                                },
                                {
                                    "SZOBA_ID": "19",
                                    "FOGLALAS_PK": "1139",
                                    "Foglalás időtartalma": "7",
                                    "Előző foglalás hossza": "16"
                                },
                                {
                                    "SZOBA_ID": "22",
                                    "FOGLALAS_PK": "1206",
                                    "Foglalás időtartalma": "7",
                                    "Előző foglalás hossza": "19"
                                },
                                {
                                    "SZOBA_ID": "23",
                                    "FOGLALAS_PK": "945",
                                    "Foglalás időtartalma": "7",
                                    "Előző foglalás hossza": "22"
                                },
                                {
                                    "SZOBA_ID": "29",
                                    "FOGLALAS_PK": "1076",
                                    "Foglalás időtartalma": "7",
                                    "Előző foglalás hossza": "23"
                                },
                                {
                                    "SZOBA_ID": "29",
                                    "FOGLALAS_PK": "1235",
                                    "Foglalás időtartalma": "7",
                                    "Előző foglalás hossza": "29"
                                },
                                {
                                    "SZOBA_ID": "29",
                                    "FOGLALAS_PK": "1568",
                                    "Foglalás időtartalma": "7",
                                    "Előző foglalás hossza": "29"
                                },
                                {
                                    "SZOBA_ID": "30",
                                    "FOGLALAS_PK": "1023",
                                    "Foglalás időtartalma": "7",
                                    "Előző foglalás hossza": "29"
                                },
                                {
                                    "SZOBA_ID": "33",
                                    "FOGLALAS_PK": "1012",
                                    "Foglalás időtartalma": "7",
                                    "Előző foglalás hossza": "30"
                                },
                                {
                                    "SZOBA_ID": "35",
                                    "FOGLALAS_PK": "979",
                                    "Foglalás időtartalma": "7",
                                    "Előző foglalás hossza": "33"
                                },
                                {
                                    "SZOBA_ID": "37",
                                    "FOGLALAS_PK": "1335",
                                    "Foglalás időtartalma": "7",
                                    "Előző foglalás hossza": "35"
                                },
                                {
                                    "SZOBA_ID": "38",
                                    "FOGLALAS_PK": "1078",
                                    "Foglalás időtartalma": "7",
                                    "Előző foglalás hossza": "37"
                                },
                                {
                                    "SZOBA_ID": "39",
                                    "FOGLALAS_PK": "1435",
                                    "Foglalás időtartalma": "7",
                                    "Előző foglalás hossza": "38"
                                },
                                {
                                    "SZOBA_ID": "42",
                                    "FOGLALAS_PK": "851",
                                    "Foglalás időtartalma": "7",
                                    "Előző foglalás hossza": "39"
                                },
                                {
                                    "SZOBA_ID": "45",
                                    "FOGLALAS_PK": "802",
                                    "Foglalás időtartalma": "7",
                                    "Előző foglalás hossza": "42"
                                },
                                {
                                    "SZOBA_ID": "46",
                                    "FOGLALAS_PK": "1187",
                                    "Foglalás időtartalma": "7",
                                    "Előző foglalás hossza": "45"
                                },
                                {
                                    "SZOBA_ID": "47",
                                    "FOGLALAS_PK": "1056",
                                    "Foglalás időtartalma": "7",
                                    "Előző foglalás hossza": "46"
                                },
                                {
                                    "SZOBA_ID": "49",
                                    "FOGLALAS_PK": "1066",
                                    "Foglalás időtartalma": "7",
                                    "Előző foglalás hossza": "47"
                                },
                                {
                                    "SZOBA_ID": "49",
                                    "FOGLALAS_PK": "888",
                                    "Foglalás időtartalma": "7",
                                    "Előző foglalás hossza": "49"
                                },
                                {
                                    "SZOBA_ID": "49",
                                    "FOGLALAS_PK": "1200",
                                    "Foglalás időtartalma": "7",
                                    "Előző foglalás hossza": "49"
                                },
                                {
                                    "SZOBA_ID": "51",
                                    "FOGLALAS_PK": "865",
                                    "Foglalás időtartalma": "7",
                                    "Előző foglalás hossza": "49"
                                },
                                {
                                    "SZOBA_ID": "52",
                                    "FOGLALAS_PK": "822",
                                    "Foglalás időtartalma": "7",
                                    "Előző foglalás hossza": "51"
                                },
                                {
                                    "SZOBA_ID": "54",
                                    "FOGLALAS_PK": "622",
                                    "Foglalás időtartalma": "7",
                                    "Előző foglalás hossza": "52"
                                },
                                {
                                    "SZOBA_ID": "55",
                                    "FOGLALAS_PK": "1232",
                                    "Foglalás időtartalma": "7",
                                    "Előző foglalás hossza": "54"
                                },
                                {
                                    "SZOBA_ID": "57",
                                    "FOGLALAS_PK": "1466",
                                    "Foglalás időtartalma": "7",
                                    "Előző foglalás hossza": "55"
                                },
                                {
                                    "SZOBA_ID": "58",
                                    "FOGLALAS_PK": "1255",
                                    "Foglalás időtartalma": "7",
                                    "Előző foglalás hossza": "57"
                                },
                                {
                                    "SZOBA_ID": "58",
                                    "FOGLALAS_PK": "1285",
                                    "Foglalás időtartalma": "7",
                                    "Előző foglalás hossza": "58"
                                },
                                {
                                    "SZOBA_ID": "61",
                                    "FOGLALAS_PK": "1496",
                                    "Foglalás időtartalma": "7",
                                    "Előző foglalás hossza": "58"
                                },
                                {
                                    "SZOBA_ID": "62",
                                    "FOGLALAS_PK": "1081",
                                    "Foglalás időtartalma": "7",
                                    "Előző foglalás hossza": "61"
                                },
                                {
                                    "SZOBA_ID": "64",
                                    "FOGLALAS_PK": "1233",
                                    "Foglalás időtartalma": "7",
                                    "Előző foglalás hossza": "62"
                                },
                                {
                                    "SZOBA_ID": "68",
                                    "FOGLALAS_PK": "1027",
                                    "Foglalás időtartalma": "7",
                                    "Előző foglalás hossza": "64"
                                },
                                {
                                    "SZOBA_ID": "69",
                                    "FOGLALAS_PK": "1246",
                                    "Foglalás időtartalma": "7",
                                    "Előző foglalás hossza": "68"
                                },
                                {
                                    "SZOBA_ID": "70",
                                    "FOGLALAS_PK": "1325",
                                    "Foglalás időtartalma": "7",
                                    "Előző foglalás hossza": "69"
                                },
                                {
                                    "SZOBA_ID": "70",
                                    "FOGLALAS_PK": "1457",
                                    "Foglalás időtartalma": "7",
                                    "Előző foglalás hossza": "70"
                                },
                                {
                                    "SZOBA_ID": "73",
                                    "FOGLALAS_PK": "714",
                                    "Foglalás időtartalma": "7",
                                    "Előző foglalás hossza": "70"
                                },
                                {
                                    "SZOBA_ID": "74",
                                    "FOGLALAS_PK": "595",
                                    "Foglalás időtartalma": "7",
                                    "Előző foglalás hossza": "73"
                                },
                                {
                                    "SZOBA_ID": "74",
                                    "FOGLALAS_PK": "1179",
                                    "Foglalás időtartalma": "7",
                                    "Előző foglalás hossza": "74"
                                },
                                {
                                    "SZOBA_ID": "76",
                                    "FOGLALAS_PK": "683",
                                    "Foglalás időtartalma": "7",
                                    "Előző foglalás hossza": "74"
                                },
                                {
                                    "SZOBA_ID": "78",
                                    "FOGLALAS_PK": "1577",
                                    "Foglalás időtartalma": "7",
                                    "Előző foglalás hossza": "76"
                                },
                                {
                                    "SZOBA_ID": "79",
                                    "FOGLALAS_PK": "1229",
                                    "Foglalás időtartalma": "7",
                                    "Előző foglalás hossza": "78"
                                },
                                {
                                    "SZOBA_ID": "81",
                                    "FOGLALAS_PK": "1464",
                                    "Foglalás időtartalma": "7",
                                    "Előző foglalás hossza": "79"
                                },
                                {
                                    "SZOBA_ID": "81",
                                    "FOGLALAS_PK": "1443",
                                    "Foglalás időtartalma": "7",
                                    "Előző foglalás hossza": "81"
                                },
                                {
                                    "SZOBA_ID": "83",
                                    "FOGLALAS_PK": "1379",
                                    "Foglalás időtartalma": "7",
                                    "Előző foglalás hossza": "81"
                                },
                                {
                                    "SZOBA_ID": "83",
                                    "FOGLALAS_PK": "572",
                                    "Foglalás időtartalma": "7",
                                    "Előző foglalás hossza": "83"
                                },
                                {
                                    "SZOBA_ID": "84",
                                    "FOGLALAS_PK": "1384",
                                    "Foglalás időtartalma": "7",
                                    "Előző foglalás hossza": "83"
                                },
                                {
                                    "SZOBA_ID": "85",
                                    "FOGLALAS_PK": "1513",
                                    "Foglalás időtartalma": "7",
                                    "Előző foglalás hossza": "84"
                                },
                                {
                                    "SZOBA_ID": "88",
                                    "FOGLALAS_PK": "1548",
                                    "Foglalás időtartalma": "7",
                                    "Előző foglalás hossza": "85"
                                },
                                {
                                    "SZOBA_ID": "88",
                                    "FOGLALAS_PK": "1273",
                                    "Foglalás időtartalma": "7",
                                    "Előző foglalás hossza": "88"
                                },
                                {
                                    "SZOBA_ID": "88",
                                    "FOGLALAS_PK": "757",
                                    "Foglalás időtartalma": "7",
                                    "Előző foglalás hossza": "88"
                                },
                                {
                                    "SZOBA_ID": "89",
                                    "FOGLALAS_PK": "1037",
                                    "Foglalás időtartalma": "7",
                                    "Előző foglalás hossza": "88"
                                },
                                {
                                    "SZOBA_ID": "89",
                                    "FOGLALAS_PK": "1521",
                                    "Foglalás időtartalma": "7",
                                    "Előző foglalás hossza": "89"
                                },
                                {
                                    "SZOBA_ID": "90",
                                    "FOGLALAS_PK": "1174",
                                    "Foglalás időtartalma": "7",
                                    "Előző foglalás hossza": "89"
                                },
                                {
                                    "SZOBA_ID": "93",
                                    "FOGLALAS_PK": "741",
                                    "Foglalás időtartalma": "7",
                                    "Előző foglalás hossza": "90"
                                },
                                {
                                    "SZOBA_ID": "94",
                                    "FOGLALAS_PK": "665",
                                    "Foglalás időtartalma": "7",
                                    "Előző foglalás hossza": "93"
                                },
                                {
                                    "SZOBA_ID": "94",
                                    "FOGLALAS_PK": "1241",
                                    "Foglalás időtartalma": "7",
                                    "Előző foglalás hossza": "94"
                                },
                                {
                                    "SZOBA_ID": "94",
                                    "FOGLALAS_PK": "1564",
                                    "Foglalás időtartalma": "7",
                                    "Előző foglalás hossza": "94"
                                },
                                {
                                    "SZOBA_ID": "95",
                                    "FOGLALAS_PK": "1543",
                                    "Foglalás időtartalma": "7",
                                    "Előző foglalás hossza": "94"
                                },
                                {
                                    "SZOBA_ID": "95",
                                    "FOGLALAS_PK": "656",
                                    "Foglalás időtartalma": "7",
                                    "Előző foglalás hossza": "95"
                                },
                                {
                                    "SZOBA_ID": "96",
                                    "FOGLALAS_PK": "623",
                                    "Foglalás időtartalma": "7",
                                    "Előző foglalás hossza": "95"
                                },
                                {
                                    "SZOBA_ID": "96",
                                    "FOGLALAS_PK": "1569",
                                    "Foglalás időtartalma": "7",
                                    "Előző foglalás hossza": "96"
                                },
                                {
                                    "SZOBA_ID": "97",
                                    "FOGLALAS_PK": "1417",
                                    "Foglalás időtartalma": "7",
                                    "Előző foglalás hossza": "96"
                                },
                                {
                                    "SZOBA_ID": "97",
                                    "FOGLALAS_PK": "718",
                                    "Foglalás időtartalma": "7",
                                    "Előző foglalás hossza": "97"
                                },
                                {
                                    "SZOBA_ID": "100",
                                    "FOGLALAS_PK": "1482",
                                    "Foglalás időtartalma": "7",
                                    "Előző foglalás hossza": "97"
                                },
                                {
                                    "SZOBA_ID": "103",
                                    "FOGLALAS_PK": "992",
                                    "Foglalás időtartalma": "7",
                                    "Előző foglalás hossza": "100"
                                },
                                {
                                    "SZOBA_ID": "106",
                                    "FOGLALAS_PK": "708",
                                    "Foglalás időtartalma": "7",
                                    "Előző foglalás hossza": "103"
                                },
                                {
                                    "SZOBA_ID": "106",
                                    "FOGLALAS_PK": "1228",
                                    "Foglalás időtartalma": "7",
                                    "Előző foglalás hossza": "106"
                                },
                                {
                                    "SZOBA_ID": "106",
                                    "FOGLALAS_PK": "1372",
                                    "Foglalás időtartalma": "7",
                                    "Előző foglalás hossza": "106"
                                },
                                {
                                    "SZOBA_ID": "109",
                                    "FOGLALAS_PK": "621",
                                    "Foglalás időtartalma": "7",
                                    "Előző foglalás hossza": "106"
                                },
                                {
                                    "SZOBA_ID": "111",
                                    "FOGLALAS_PK": "605",
                                    "Foglalás időtartalma": "7",
                                    "Előző foglalás hossza": "109"
                                },
                                {
                                    "SZOBA_ID": "111",
                                    "FOGLALAS_PK": "959",
                                    "Foglalás időtartalma": "7",
                                    "Előző foglalás hossza": "111"
                                },
                                {
                                    "SZOBA_ID": "113",
                                    "FOGLALAS_PK": "1495",
                                    "Foglalás időtartalma": "7",
                                    "Előző foglalás hossza": "111"
                                },
                                {
                                    "SZOBA_ID": "114",
                                    "FOGLALAS_PK": "827",
                                    "Foglalás időtartalma": "7",
                                    "Előző foglalás hossza": "113"
                                },
                                {
                                    "SZOBA_ID": "115",
                                    "FOGLALAS_PK": "596",
                                    "Foglalás időtartalma": "7",
                                    "Előző foglalás hossza": "114"
                                },
                                {
                                    "SZOBA_ID": "115",
                                    "FOGLALAS_PK": "943",
                                    "Foglalás időtartalma": "7",
                                    "Előző foglalás hossza": "115"
                                },
                                {
                                    "SZOBA_ID": "115",
                                    "FOGLALAS_PK": "1121",
                                    "Foglalás időtartalma": "7",
                                    "Előző foglalás hossza": "115"
                                },
                                {
                                    "SZOBA_ID": "117",
                                    "FOGLALAS_PK": "1468",
                                    "Foglalás időtartalma": "7",
                                    "Előző foglalás hossza": "115"
                                },
                                {
                                    "SZOBA_ID": "118",
                                    "FOGLALAS_PK": "994",
                                    "Foglalás időtartalma": "7",
                                    "Előző foglalás hossza": "117"
                                },
                                {
                                    "SZOBA_ID": "120",
                                    "FOGLALAS_PK": "1493",
                                    "Foglalás időtartalma": "7",
                                    "Előző foglalás hossza": "118"
                                },
                                {
                                    "SZOBA_ID": "123",
                                    "FOGLALAS_PK": "587",
                                    "Foglalás időtartalma": "7",
                                    "Előző foglalás hossza": "120"
                                },
                                {
                                    "SZOBA_ID": "124",
                                    "FOGLALAS_PK": "1330",
                                    "Foglalás időtartalma": "7",
                                    "Előző foglalás hossza": "123"
                                },
                                {
                                    "SZOBA_ID": "126",
                                    "FOGLALAS_PK": "1428",
                                    "Foglalás időtartalma": "7",
                                    "Előző foglalás hossza": "124"
                                },
                                {
                                    "SZOBA_ID": "129",
                                    "FOGLALAS_PK": "1445",
                                    "Foglalás időtartalma": "7",
                                    "Előző foglalás hossza": "126"
                                },
                                {
                                    "SZOBA_ID": "129",
                                    "FOGLALAS_PK": "723",
                                    "Foglalás időtartalma": "7",
                                    "Előző foglalás hossza": "129"
                                },
                                {
                                    "SZOBA_ID": "130",
                                    "FOGLALAS_PK": "1475",
                                    "Foglalás időtartalma": "7",
                                    "Előző foglalás hossza": "129"
                                },
                                {
                                    "SZOBA_ID": "132",
                                    "FOGLALAS_PK": "619",
                                    "Foglalás időtartalma": "7",
                                    "Előző foglalás hossza": "130"
                                },
                                {
                                    "SZOBA_ID": "132",
                                    "FOGLALAS_PK": "1090",
                                    "Foglalás időtartalma": "7",
                                    "Előző foglalás hossza": "132"
                                },
                                {
                                    "SZOBA_ID": "133",
                                    "FOGLALAS_PK": "1149",
                                    "Foglalás időtartalma": "7",
                                    "Előző foglalás hossza": "132"
                                },
                                {
                                    "SZOBA_ID": "134",
                                    "FOGLALAS_PK": "1178",
                                    "Foglalás időtartalma": "7",
                                    "Előző foglalás hossza": "133"
                                },
                                {
                                    "SZOBA_ID": "134",
                                    "FOGLALAS_PK": "1535",
                                    "Foglalás időtartalma": "7",
                                    "Előző foglalás hossza": "134"
                                },
                                {
                                    "SZOBA_ID": "135",
                                    "FOGLALAS_PK": "849",
                                    "Foglalás időtartalma": "7",
                                    "Előző foglalás hossza": "134"
                                },
                                {
                                    "SZOBA_ID": "138",
                                    "FOGLALAS_PK": "1358",
                                    "Foglalás időtartalma": "7",
                                    "Előző foglalás hossza": "135"
                                },
                                {
                                    "SZOBA_ID": "139",
                                    "FOGLALAS_PK": "1450",
                                    "Foglalás időtartalma": "7",
                                    "Előző foglalás hossza": "138"
                                },
                                {
                                    "SZOBA_ID": "140",
                                    "FOGLALAS_PK": "1259",
                                    "Foglalás időtartalma": "7",
                                    "Előző foglalás hossza": "139"
                                },
                                {
                                    "SZOBA_ID": "141",
                                    "FOGLALAS_PK": "784",
                                    "Foglalás időtartalma": "7",
                                    "Előző foglalás hossza": "140"
                                },
                                {
                                    "SZOBA_ID": "143",
                                    "FOGLALAS_PK": "1155",
                                    "Foglalás időtartalma": "7",
                                    "Előző foglalás hossza": "141"
                                },
                                {
                                    "SZOBA_ID": "144",
                                    "FOGLALAS_PK": "1199",
                                    "Foglalás időtartalma": "7",
                                    "Előző foglalás hossza": "143"
                                },
                                {
                                    "SZOBA_ID": "146",
                                    "FOGLALAS_PK": "789",
                                    "Foglalás időtartalma": "7",
                                    "Előző foglalás hossza": "144"
                                },
                                {
                                    "SZOBA_ID": "146",
                                    "FOGLALAS_PK": "804",
                                    "Foglalás időtartalma": "7",
                                    "Előző foglalás hossza": "146"
                                },
                                {
                                    "SZOBA_ID": "148",
                                    "FOGLALAS_PK": "783",
                                    "Foglalás időtartalma": "7",
                                    "Előző foglalás hossza": "146"
                                },
                                {
                                    "SZOBA_ID": "148",
                                    "FOGLALAS_PK": "1578",
                                    "Foglalás időtartalma": "7",
                                    "Előző foglalás hossza": "148"
                                },
                                {
                                    "SZOBA_ID": "152",
                                    "FOGLALAS_PK": "1160",
                                    "Foglalás időtartalma": "7",
                                    "Előző foglalás hossza": "148"
                                },
                                {
                                    "SZOBA_ID": "154",
                                    "FOGLALAS_PK": "1061",
                                    "Foglalás időtartalma": "7",
                                    "Előző foglalás hossza": "152"
                                },
                                {
                                    "SZOBA_ID": "156",
                                    "FOGLALAS_PK": "588",
                                    "Foglalás időtartalma": "7",
                                    "Előző foglalás hossza": "154"
                                },
                                {
                                    "SZOBA_ID": "156",
                                    "FOGLALAS_PK": "1462",
                                    "Foglalás időtartalma": "7",
                                    "Előző foglalás hossza": "156"
                                },
                                {
                                    "SZOBA_ID": "157",
                                    "FOGLALAS_PK": "1240",
                                    "Foglalás időtartalma": "7",
                                    "Előző foglalás hossza": "156"
                                },
                                {
                                    "SZOBA_ID": "161",
                                    "FOGLALAS_PK": "1190",
                                    "Foglalás időtartalma": "7",
                                    "Előző foglalás hossza": "157"
                                },
                                {
                                    "SZOBA_ID": "161",
                                    "FOGLALAS_PK": "653",
                                    "Foglalás időtartalma": "7",
                                    "Előző foglalás hossza": "161"
                                },
                                {
                                    "SZOBA_ID": "164",
                                    "FOGLALAS_PK": "570",
                                    "Foglalás időtartalma": "7",
                                    "Előző foglalás hossza": "161"
                                },
                                {
                                    "SZOBA_ID": "166",
                                    "FOGLALAS_PK": "644",
                                    "Foglalás időtartalma": "7",
                                    "Előző foglalás hossza": "164"
                                },
                                {
                                    "SZOBA_ID": "166",
                                    "FOGLALAS_PK": "781",
                                    "Foglalás időtartalma": "7",
                                    "Előző foglalás hossza": "166"
                                },
                                {
                                    "SZOBA_ID": "167",
                                    "FOGLALAS_PK": "854",
                                    "Foglalás időtartalma": "7",
                                    "Előző foglalás hossza": "166"
                                },
                                {
                                    "SZOBA_ID": "169",
                                    "FOGLALAS_PK": "746",
                                    "Foglalás időtartalma": "7",
                                    "Előző foglalás hossza": "167"
                                },
                                {
                                    "SZOBA_ID": "170",
                                    "FOGLALAS_PK": "567",
                                    "Foglalás időtartalma": "7",
                                    "Előző foglalás hossza": "169"
                                },
                                {
                                    "SZOBA_ID": "170",
                                    "FOGLALAS_PK": "1267",
                                    "Foglalás időtartalma": "7",
                                    "Előző foglalás hossza": "170"
                                },
                                {
                                    "SZOBA_ID": "173",
                                    "FOGLALAS_PK": "669",
                                    "Foglalás időtartalma": "7",
                                    "Előző foglalás hossza": "170"
                                },
                                {
                                    "SZOBA_ID": "175",
                                    "FOGLALAS_PK": "1407",
                                    "Foglalás időtartalma": "7",
                                    "Előző foglalás hossza": "173"
                                },
                                {
                                    "SZOBA_ID": "177",
                                    "FOGLALAS_PK": "831",
                                    "Foglalás időtartalma": "7",
                                    "Előző foglalás hossza": "175"
                                },
                                {
                                    "SZOBA_ID": "178",
                                    "FOGLALAS_PK": "991",
                                    "Foglalás időtartalma": "7",
                                    "Előző foglalás hossza": "177"
                                },
                                {
                                    "SZOBA_ID": "182",
                                    "FOGLALAS_PK": "1230",
                                    "Foglalás időtartalma": "7",
                                    "Előző foglalás hossza": "178"
                                },
                                {
                                    "SZOBA_ID": "183",
                                    "FOGLALAS_PK": "1067",
                                    "Foglalás időtartalma": "7",
                                    "Előző foglalás hossza": "182"
                                },
                                {
                                    "SZOBA_ID": "185",
                                    "FOGLALAS_PK": "1463",
                                    "Foglalás időtartalma": "7",
                                    "Előző foglalás hossza": "183"
                                },
                                {
                                    "SZOBA_ID": "185",
                                    "FOGLALAS_PK": "1441",
                                    "Foglalás időtartalma": "7",
                                    "Előző foglalás hossza": "185"
                                },
                                {
                                    "SZOBA_ID": "188",
                                    "FOGLALAS_PK": "710",
                                    "Foglalás időtartalma": "7",
                                    "Előző foglalás hossza": "185"
                                },
                                {
                                    "SZOBA_ID": "190",
                                    "FOGLALAS_PK": "600",
                                    "Foglalás időtartalma": "7",
                                    "Előző foglalás hossza": "188"
                                },
                                {
                                    "SZOBA_ID": "191",
                                    "FOGLALAS_PK": "1508",
                                    "Foglalás időtartalma": "7",
                                    "Előző foglalás hossza": "190"
                                },
                                {
                                    "SZOBA_ID": "191",
                                    "FOGLALAS_PK": "1323",
                                    "Foglalás időtartalma": "7",
                                    "Előző foglalás hossza": "191"
                                },
                                {
                                    "SZOBA_ID": "192",
                                    "FOGLALAS_PK": "903",
                                    "Foglalás időtartalma": "7",
                                    "Előző foglalás hossza": "191"
                                },
                                {
                                    "SZOBA_ID": "195",
                                    "FOGLALAS_PK": "1074",
                                    "Foglalás időtartalma": "7",
                                    "Előző foglalás hossza": "192"
                                },
                                {
                                    "SZOBA_ID": "195",
                                    "FOGLALAS_PK": "1473",
                                    "Foglalás időtartalma": "7",
                                    "Előző foglalás hossza": "195"
                                },
                                {
                                    "SZOBA_ID": "197",
                                    "FOGLALAS_PK": "1304",
                                    "Foglalás időtartalma": "7",
                                    "Előző foglalás hossza": "195"
                                },
                                {
                                    "SZOBA_ID": "197",
                                    "FOGLALAS_PK": "1172",
                                    "Foglalás időtartalma": "7",
                                    "Előző foglalás hossza": "197"
                                },
                                {
                                    "SZOBA_ID": "197",
                                    "FOGLALAS_PK": "1091",
                                    "Foglalás időtartalma": "7",
                                    "Előző foglalás hossza": "197"
                                },
                                {
                                    "SZOBA_ID": "197",
                                    "FOGLALAS_PK": "993",
                                    "Foglalás időtartalma": "7",
                                    "Előző foglalás hossza": "197"
                                },
                                {
                                    "SZOBA_ID": "197",
                                    "FOGLALAS_PK": "764",
                                    "Foglalás időtartalma": "7",
                                    "Előző foglalás hossza": "197"
                                },
                                {
                                    "SZOBA_ID": "198",
                                    "FOGLALAS_PK": "1011",
                                    "Foglalás időtartalma": "7",
                                    "Előző foglalás hossza": "197"
                                },
                                {
                                    "SZOBA_ID": "198",
                                    "FOGLALAS_PK": "1216",
                                    "Foglalás időtartalma": "7",
                                    "Előző foglalás hossza": "198"
                                },
                                {
                                    "SZOBA_ID": "35",
                                    "FOGLALAS_PK": "1480",
                                    "Foglalás időtartalma": "37",
                                    "Előző foglalás hossza": "0"
                                }
                            ]
                        },
                        "text/html": [
                            "<table>",
                            "<tr><th>SZOBA_ID</th><th>FOGLALAS_PK</th><th>Foglalás időtartalma</th><th>Előző foglalás hossza</th></tr>",
                            "<tr><td>1</td><td>949</td><td>1</td><td>0</td></tr>",
                            "<tr><td>1</td><td>1152</td><td>1</td><td>1</td></tr>",
                            "<tr><td>1</td><td>1274</td><td>1</td><td>1</td></tr>",
                            "<tr><td>2</td><td>1051</td><td>1</td><td>1</td></tr>",
                            "<tr><td>3</td><td>1151</td><td>1</td><td>2</td></tr>",
                            "<tr><td>7</td><td>1131</td><td>1</td><td>3</td></tr>",
                            "<tr><td>8</td><td>882</td><td>1</td><td>7</td></tr>",
                            "<tr><td>11</td><td>1236</td><td>1</td><td>8</td></tr>",
                            "<tr><td>11</td><td>1523</td><td>1</td><td>11</td></tr>",
                            "<tr><td>14</td><td>663</td><td>1</td><td>11</td></tr>",
                            "<tr><td>15</td><td>1244</td><td>1</td><td>14</td></tr>",
                            "<tr><td>16</td><td>896</td><td>1</td><td>15</td></tr>",
                            "<tr><td>16</td><td>973</td><td>1</td><td>16</td></tr>",
                            "<tr><td>17</td><td>744</td><td>1</td><td>16</td></tr>",
                            "<tr><td>19</td><td>778</td><td>1</td><td>17</td></tr>",
                            "<tr><td>19</td><td>696</td><td>1</td><td>19</td></tr>",
                            "<tr><td>19</td><td>1237</td><td>1</td><td>19</td></tr>",
                            "<tr><td>19</td><td>1533</td><td>1</td><td>19</td></tr>",
                            "<tr><td>20</td><td>820</td><td>1</td><td>19</td></tr>",
                            "<tr><td>20</td><td>1070</td><td>1</td><td>20</td></tr>",
                            "<tr><td>21</td><td>805</td><td>1</td><td>20</td></tr>",
                            "<tr><td>22</td><td>906</td><td>1</td><td>21</td></tr>",
                            "<tr><td>22</td><td>1130</td><td>1</td><td>22</td></tr>",
                            "<tr><td>23</td><td>848</td><td>1</td><td>22</td></tr>",
                            "<tr><td>23</td><td>934</td><td>1</td><td>23</td></tr>",
                            "<tr><td>24</td><td>1167</td><td>1</td><td>23</td></tr>",
                            "<tr><td>27</td><td>1377</td><td>1</td><td>24</td></tr>",
                            "<tr><td>27</td><td>1476</td><td>1</td><td>27</td></tr>",
                            "<tr><td>29</td><td>894</td><td>1</td><td>27</td></tr>",
                            "<tr><td>31</td><td>606</td><td>1</td><td>29</td></tr>",
                            "<tr><td>33</td><td>1053</td><td>1</td><td>31</td></tr>",
                            "<tr><td>34</td><td>821</td><td>1</td><td>33</td></tr>",
                            "<tr><td>35</td><td>1436</td><td>1</td><td>34</td></tr>",
                            "<tr><td>35</td><td>1411</td><td>1</td><td>35</td></tr>",
                            "<tr><td>36</td><td>919</td><td>1</td><td>35</td></tr>",
                            "<tr><td>39</td><td>1454</td><td>1</td><td>36</td></tr>",
                            "<tr><td>41</td><td>1144</td><td>1</td><td>39</td></tr>",
                            "<tr><td>43</td><td>1207</td><td>1</td><td>41</td></tr>",
                            "<tr><td>43</td><td>1524</td><td>1</td><td>43</td></tr>",
                            "<tr><td>47</td><td>955</td><td>1</td><td>43</td></tr>",
                            "<tr><td>48</td><td>1547</td><td>1</td><td>47</td></tr>",
                            "<tr><td>50</td><td>1224</td><td>1</td><td>48</td></tr>",
                            "<tr><td>50</td><td>1272</td><td>1</td><td>50</td></tr>",
                            "<tr><td>51</td><td>1550</td><td>1</td><td>50</td></tr>",
                            "<tr><td>53</td><td>855</td><td>1</td><td>51</td></tr>",
                            "<tr><td>54</td><td>668</td><td>1</td><td>53</td></tr>",
                            "<tr><td>55</td><td>1520</td><td>1</td><td>54</td></tr>",
                            "<tr><td>55</td><td>1512</td><td>1</td><td>55</td></tr>",
                            "<tr><td>57</td><td>1389</td><td>1</td><td>55</td></tr>",
                            "<tr><td>57</td><td>1348</td><td>1</td><td>57</td></tr>",
                            "<tr><td>59</td><td>1573</td><td>1</td><td>57</td></tr>",
                            "<tr><td>59</td><td>1080</td><td>1</td><td>59</td></tr>",
                            "<tr><td>62</td><td>938</td><td>1</td><td>59</td></tr>",
                            "<tr><td>63</td><td>845</td><td>1</td><td>62</td></tr>",
                            "<tr><td>64</td><td>1582</td><td>1</td><td>63</td></tr>",
                            "<tr><td>67</td><td>1584</td><td>1</td><td>64</td></tr>",
                            "<tr><td>67</td><td>1382</td><td>1</td><td>67</td></tr>",
                            "<tr><td>69</td><td>885</td><td>1</td><td>67</td></tr>",
                            "<tr><td>71</td><td>1009</td><td>1</td><td>69</td></tr>",
                            "<tr><td>71</td><td>712</td><td>1</td><td>71</td></tr>",
                            "<tr><td>74</td><td>830</td><td>1</td><td>71</td></tr>",
                            "<tr><td>74</td><td>963</td><td>1</td><td>74</td></tr>",
                            "<tr><td>75</td><td>1458</td><td>1</td><td>74</td></tr>",
                            "<tr><td>77</td><td>1104</td><td>1</td><td>75</td></tr>",
                            "<tr><td>78</td><td>568</td><td>1</td><td>77</td></tr>",
                            "<tr><td>79</td><td>1054</td><td>1</td><td>78</td></tr>",
                            "<tr><td>82</td><td>1406</td><td>1</td><td>79</td></tr>",
                            "<tr><td>85</td><td>1320</td><td>1</td><td>82</td></tr>",
                            "<tr><td>86</td><td>1453</td><td>1</td><td>85</td></tr>",
                            "<tr><td>86</td><td>1108</td><td>1</td><td>86</td></tr>",
                            "<tr><td>86</td><td>859</td><td>1</td><td>86</td></tr>",
                            "<tr><td>87</td><td>844</td><td>1</td><td>86</td></tr>",
                            "<tr><td>93</td><td>1217</td><td>1</td><td>87</td></tr>",
                            "<tr><td>94</td><td>1368</td><td>1</td><td>93</td></tr>",
                            "<tr><td>96</td><td>780</td><td>1</td><td>94</td></tr>",
                            "<tr><td>97</td><td>1395</td><td>1</td><td>96</td></tr>",
                            "<tr><td>99</td><td>1408</td><td>1</td><td>97</td></tr>",
                            "<tr><td>99</td><td>632</td><td>1</td><td>99</td></tr>",
                            "<tr><td>99</td><td>1072</td><td>1</td><td>99</td></tr>",
                            "<tr><td>100</td><td>597</td><td>1</td><td>99</td></tr>",
                            "<tr><td>103</td><td>1398</td><td>1</td><td>100</td></tr>",
                            "<tr><td>104</td><td>1180</td><td>1</td><td>103</td></tr>",
                            "<tr><td>105</td><td>618</td><td>1</td><td>104</td></tr>",
                            "<tr><td>107</td><td>1354</td><td>1</td><td>105</td></tr>",
                            "<tr><td>108</td><td>1102</td><td>1</td><td>107</td></tr>",
                            "<tr><td>109</td><td>1083</td><td>1</td><td>108</td></tr>",
                            "<tr><td>109</td><td>1560</td><td>1</td><td>109</td></tr>",
                            "<tr><td>110</td><td>1424</td><td>1</td><td>109</td></tr>",
                            "<tr><td>110</td><td>685</td><td>1</td><td>110</td></tr>",
                            "<tr><td>112</td><td>921</td><td>1</td><td>110</td></tr>",
                            "<tr><td>113</td><td>1263</td><td>1</td><td>112</td></tr>",
                            "<tr><td>115</td><td>1566</td><td>1</td><td>113</td></tr>",
                            "<tr><td>117</td><td>1002</td><td>1</td><td>115</td></tr>",
                            "<tr><td>118</td><td>716</td><td>1</td><td>117</td></tr>",
                            "<tr><td>119</td><td>722</td><td>1</td><td>118</td></tr>",
                            "<tr><td>120</td><td>1483</td><td>1</td><td>119</td></tr>",
                            "<tr><td>122</td><td>1209</td><td>1</td><td>120</td></tr>",
                            "<tr><td>123</td><td>1223</td><td>1</td><td>122</td></tr>",
                            "<tr><td>124</td><td>861</td><td>1</td><td>123</td></tr>",
                            "<tr><td>125</td><td>576</td><td>1</td><td>124</td></tr>",
                            "<tr><td>126</td><td>1134</td><td>1</td><td>125</td></tr>",
                            "<tr><td>127</td><td>1286</td><td>1</td><td>126</td></tr>",
                            "<tr><td>128</td><td>1290</td><td>1</td><td>127</td></tr>",
                            "<tr><td>128</td><td>1574</td><td>1</td><td>128</td></tr>",
                            "<tr><td>128</td><td>815</td><td>1</td><td>128</td></tr>",
                            "<tr><td>130</td><td>1040</td><td>1</td><td>128</td></tr>",
                            "<tr><td>131</td><td>655</td><td>1</td><td>130</td></tr>",
                            "<tr><td>133</td><td>1409</td><td>1</td><td>131</td></tr>",
                            "<tr><td>134</td><td>1024</td><td>1</td><td>133</td></tr>",
                            "<tr><td>137</td><td>1014</td><td>1</td><td>134</td></tr>",
                            "<tr><td>139</td><td>745</td><td>1</td><td>137</td></tr>",
                            "<tr><td>140</td><td>733</td><td>1</td><td>139</td></tr>",
                            "<tr><td>140</td><td>1371</td><td>1</td><td>140</td></tr>",
                            "<tr><td>144</td><td>1297</td><td>1</td><td>140</td></tr>",
                            "<tr><td>145</td><td>1471</td><td>1</td><td>144</td></tr>",
                            "<tr><td>145</td><td>1077</td><td>1</td><td>145</td></tr>",
                            "<tr><td>145</td><td>1120</td><td>1</td><td>145</td></tr>",
                            "<tr><td>149</td><td>652</td><td>1</td><td>145</td></tr>",
                            "<tr><td>149</td><td>591</td><td>1</td><td>149</td></tr>",
                            "<tr><td>150</td><td>1105</td><td>1</td><td>149</td></tr>",
                            "<tr><td>150</td><td>1177</td><td>1</td><td>150</td></tr>",
                            "<tr><td>154</td><td>1262</td><td>1</td><td>150</td></tr>",
                            "<tr><td>154</td><td>968</td><td>1</td><td>154</td></tr>",
                            "<tr><td>155</td><td>575</td><td>1</td><td>154</td></tr>",
                            "<tr><td>155</td><td>1310</td><td>1</td><td>155</td></tr>",
                            "<tr><td>155</td><td>1541</td><td>1</td><td>155</td></tr>",
                            "<tr><td>156</td><td>1490</td><td>1</td><td>155</td></tr>",
                            "<tr><td>162</td><td>1400</td><td>1</td><td>156</td></tr>",
                            "<tr><td>163</td><td>941</td><td>1</td><td>162</td></tr>",
                            "<tr><td>165</td><td>1141</td><td>1</td><td>163</td></tr>",
                            "<tr><td>169</td><td>1427</td><td>1</td><td>165</td></tr>",
                            "<tr><td>169</td><td>974</td><td>1</td><td>169</td></tr>",
                            "<tr><td>173</td><td>913</td><td>1</td><td>169</td></tr>",
                            "<tr><td>174</td><td>1276</td><td>1</td><td>173</td></tr>",
                            "<tr><td>178</td><td>1242</td><td>1</td><td>174</td></tr>",
                            "<tr><td>179</td><td>1497</td><td>1</td><td>178</td></tr>",
                            "<tr><td>179</td><td>1021</td><td>1</td><td>179</td></tr>",
                            "<tr><td>181</td><td>1022</td><td>1</td><td>179</td></tr>",
                            "<tr><td>182</td><td>1188</td><td>1</td><td>181</td></tr>",
                            "<tr><td>182</td><td>1308</td><td>1</td><td>182</td></tr>",
                            "<tr><td>187</td><td>766</td><td>1</td><td>182</td></tr>",
                            "<tr><td>188</td><td>912</td><td>1</td><td>187</td></tr>",
                            "<tr><td>189</td><td>753</td><td>1</td><td>188</td></tr>",
                            "<tr><td>190</td><td>1017</td><td>1</td><td>189</td></tr>",
                            "<tr><td>190</td><td>989</td><td>1</td><td>190</td></tr>",
                            "<tr><td>191</td><td>1302</td><td>1</td><td>190</td></tr>",
                            "<tr><td>193</td><td>926</td><td>1</td><td>191</td></tr>",
                            "<tr><td>195</td><td>1484</td><td>1</td><td>193</td></tr>",
                            "<tr><td>198</td><td>978</td><td>1</td><td>195</td></tr>",
                            "<tr><td>198</td><td>1116</td><td>1</td><td>198</td></tr>",
                            "<tr><td>1</td><td>1137</td><td>2</td><td>0</td></tr>",
                            "<tr><td>5</td><td>564</td><td>2</td><td>1</td></tr>",
                            "<tr><td>6</td><td>850</td><td>2</td><td>5</td></tr>",
                            "<tr><td>7</td><td>1252</td><td>2</td><td>6</td></tr>",
                            "<tr><td>9</td><td>609</td><td>2</td><td>7</td></tr>",
                            "<tr><td>12</td><td>697</td><td>2</td><td>9</td></tr>",
                            "<tr><td>12</td><td>970</td><td>2</td><td>12</td></tr>",
                            "<tr><td>12</td><td>1430</td><td>2</td><td>12</td></tr>",
                            "<tr><td>13</td><td>1469</td><td>2</td><td>12</td></tr>",
                            "<tr><td>15</td><td>1028</td><td>2</td><td>13</td></tr>",
                            "<tr><td>17</td><td>916</td><td>2</td><td>15</td></tr>",
                            "<tr><td>19</td><td>948</td><td>2</td><td>17</td></tr>",
                            "<tr><td>20</td><td>1106</td><td>2</td><td>19</td></tr>",
                            "<tr><td>24</td><td>852</td><td>2</td><td>20</td></tr>",
                            "<tr><td>25</td><td>1362</td><td>2</td><td>24</td></tr>",
                            "<tr><td>26</td><td>1158</td><td>2</td><td>25</td></tr>",
                            "<tr><td>27</td><td>1031</td><td>2</td><td>26</td></tr>",
                            "<tr><td>27</td><td>807</td><td>2</td><td>27</td></tr>",
                            "<tr><td>28</td><td>1459</td><td>2</td><td>27</td></tr>",
                            "<tr><td>30</td><td>604</td><td>2</td><td>28</td></tr>",
                            "<tr><td>31</td><td>598</td><td>2</td><td>30</td></tr>",
                            "<tr><td>34</td><td>904</td><td>2</td><td>31</td></tr>",
                            "<tr><td>35</td><td>829</td><td>2</td><td>34</td></tr>",
                            "<tr><td>35</td><td>707</td><td>2</td><td>35</td></tr>",
                            "<tr><td>36</td><td>748</td><td>2</td><td>35</td></tr>",
                            "<tr><td>37</td><td>688</td><td>2</td><td>36</td></tr>",
                            "<tr><td>38</td><td>1033</td><td>2</td><td>37</td></tr>",
                            "<tr><td>38</td><td>1060</td><td>2</td><td>38</td></tr>",
                            "<tr><td>39</td><td>1538</td><td>2</td><td>38</td></tr>",
                            "<tr><td>42</td><td>1309</td><td>2</td><td>39</td></tr>",
                            "<tr><td>43</td><td>1088</td><td>2</td><td>42</td></tr>",
                            "<tr><td>44</td><td>589</td><td>2</td><td>43</td></tr>",
                            "<tr><td>44</td><td>823</td><td>2</td><td>44</td></tr>",
                            "<tr><td>44</td><td>1295</td><td>2</td><td>44</td></tr>",
                            "<tr><td>44</td><td>1552</td><td>2</td><td>44</td></tr>",
                            "<tr><td>44</td><td>1425</td><td>2</td><td>44</td></tr>",
                            "<tr><td>45</td><td>1303</td><td>2</td><td>44</td></tr>",
                            "<tr><td>48</td><td>824</td><td>2</td><td>45</td></tr>",
                            "<tr><td>48</td><td>628</td><td>2</td><td>48</td></tr>",
                            "<tr><td>49</td><td>1221</td><td>2</td><td>48</td></tr>",
                            "<tr><td>50</td><td>1063</td><td>2</td><td>49</td></tr>",
                            "<tr><td>51</td><td>811</td><td>2</td><td>50</td></tr>",
                            "<tr><td>52</td><td>1202</td><td>2</td><td>51</td></tr>",
                            "<tr><td>54</td><td>889</td><td>2</td><td>52</td></tr>",
                            "<tr><td>55</td><td>1163</td><td>2</td><td>54</td></tr>",
                            "<tr><td>55</td><td>1386</td><td>2</td><td>55</td></tr>",
                            "<tr><td>56</td><td>838</td><td>2</td><td>55</td></tr>",
                            "<tr><td>58</td><td>773</td><td>2</td><td>56</td></tr>",
                            "<tr><td>59</td><td>1084</td><td>2</td><td>58</td></tr>",
                            "<tr><td>59</td><td>1239</td><td>2</td><td>59</td></tr>",
                            "<tr><td>60</td><td>676</td><td>2</td><td>59</td></tr>",
                            "<tr><td>61</td><td>701</td><td>2</td><td>60</td></tr>",
                            "<tr><td>61</td><td>1218</td><td>2</td><td>61</td></tr>",
                            "<tr><td>64</td><td>875</td><td>2</td><td>61</td></tr>",
                            "<tr><td>70</td><td>860</td><td>2</td><td>64</td></tr>",
                            "<tr><td>72</td><td>1318</td><td>2</td><td>70</td></tr>",
                            "<tr><td>75</td><td>1412</td><td>2</td><td>72</td></tr>",
                            "<tr><td>76</td><td>976</td><td>2</td><td>75</td></tr>",
                            "<tr><td>78</td><td>1268</td><td>2</td><td>76</td></tr>",
                            "<tr><td>80</td><td>929</td><td>2</td><td>78</td></tr>",
                            "<tr><td>82</td><td>1341</td><td>2</td><td>80</td></tr>",
                            "<tr><td>84</td><td>819</td><td>2</td><td>82</td></tr>",
                            "<tr><td>88</td><td>866</td><td>2</td><td>84</td></tr>",
                            "<tr><td>88</td><td>1359</td><td>2</td><td>88</td></tr>",
                            "<tr><td>89</td><td>1399</td><td>2</td><td>88</td></tr>",
                            "<tr><td>89</td><td>1269</td><td>2</td><td>89</td></tr>",
                            "<tr><td>89</td><td>1253</td><td>2</td><td>89</td></tr>",
                            "<tr><td>90</td><td>729</td><td>2</td><td>89</td></tr>",
                            "<tr><td>92</td><td>1016</td><td>2</td><td>90</td></tr>",
                            "<tr><td>92</td><td>1527</td><td>2</td><td>92</td></tr>",
                            "<tr><td>93</td><td>1355</td><td>2</td><td>92</td></tr>",
                            "<tr><td>94</td><td>1305</td><td>2</td><td>93</td></tr>",
                            "<tr><td>94</td><td>1518</td><td>2</td><td>94</td></tr>",
                            "<tr><td>96</td><td>1438</td><td>2</td><td>94</td></tr>",
                            "<tr><td>97</td><td>1528</td><td>2</td><td>96</td></tr>",
                            "<tr><td>97</td><td>836</td><td>2</td><td>97</td></tr>",
                            "<tr><td>98</td><td>1402</td><td>2</td><td>97</td></tr>",
                            "<tr><td>102</td><td>1343</td><td>2</td><td>98</td></tr>",
                            "<tr><td>103</td><td>972</td><td>2</td><td>102</td></tr>",
                            "<tr><td>104</td><td>1522</td><td>2</td><td>103</td></tr>",
                            "<tr><td>107</td><td>1494</td><td>2</td><td>104</td></tr>",
                            "<tr><td>109</td><td>810</td><td>2</td><td>107</td></tr>",
                            "<tr><td>110</td><td>1162</td><td>2</td><td>109</td></tr>",
                            "<tr><td>113</td><td>1499</td><td>2</td><td>110</td></tr>",
                            "<tr><td>114</td><td>737</td><td>2</td><td>113</td></tr>",
                            "<tr><td>116</td><td>1455</td><td>2</td><td>114</td></tr>",
                            "<tr><td>117</td><td>1192</td><td>2</td><td>116</td></tr>",
                            "<tr><td>117</td><td>612</td><td>2</td><td>117</td></tr>",
                            "<tr><td>119</td><td>706</td><td>2</td><td>117</td></tr>",
                            "<tr><td>122</td><td>1036</td><td>2</td><td>119</td></tr>",
                            "<tr><td>122</td><td>1007</td><td>2</td><td>122</td></tr>",
                            "<tr><td>122</td><td>1245</td><td>2</td><td>122</td></tr>",
                            "<tr><td>122</td><td>1337</td><td>2</td><td>122</td></tr>",
                            "<tr><td>127</td><td>879</td><td>2</td><td>122</td></tr>",
                            "<tr><td>127</td><td>643</td><td>2</td><td>127</td></tr>",
                            "<tr><td>128</td><td>717</td><td>2</td><td>127</td></tr>",
                            "<tr><td>130</td><td>910</td><td>2</td><td>128</td></tr>",
                            "<tr><td>131</td><td>559</td><td>2</td><td>130</td></tr>",
                            "<tr><td>132</td><td>1301</td><td>2</td><td>131</td></tr>",
                            "<tr><td>132</td><td>1519</td><td>2</td><td>132</td></tr>",
                            "<tr><td>134</td><td>1045</td><td>2</td><td>132</td></tr>",
                            "<tr><td>136</td><td>584</td><td>2</td><td>134</td></tr>",
                            "<tr><td>138</td><td>1283</td><td>2</td><td>136</td></tr>",
                            "<tr><td>139</td><td>579</td><td>2</td><td>138</td></tr>",
                            "<tr><td>139</td><td>1042</td><td>2</td><td>139</td></tr>",
                            "<tr><td>140</td><td>1098</td><td>2</td><td>139</td></tr>",
                            "<tr><td>140</td><td>915</td><td>2</td><td>140</td></tr>",
                            "<tr><td>141</td><td>908</td><td>2</td><td>140</td></tr>",
                            "<tr><td>143</td><td>1222</td><td>2</td><td>141</td></tr>",
                            "<tr><td>144</td><td>1572</td><td>2</td><td>143</td></tr>",
                            "<tr><td>144</td><td>1087</td><td>2</td><td>144</td></tr>",
                            "<tr><td>145</td><td>1338</td><td>2</td><td>144</td></tr>",
                            "<tr><td>148</td><td>808</td><td>2</td><td>145</td></tr>",
                            "<tr><td>149</td><td>833</td><td>2</td><td>148</td></tr>",
                            "<tr><td>152</td><td>730</td><td>2</td><td>149</td></tr>",
                            "<tr><td>152</td><td>1558</td><td>2</td><td>152</td></tr>",
                            "<tr><td>154</td><td>1539</td><td>2</td><td>152</td></tr>",
                            "<tr><td>160</td><td>720</td><td>2</td><td>154</td></tr>",
                            "<tr><td>160</td><td>922</td><td>2</td><td>160</td></tr>",
                            "<tr><td>163</td><td>630</td><td>2</td><td>160</td></tr>",
                            "<tr><td>164</td><td>1010</td><td>2</td><td>163</td></tr>",
                            "<tr><td>164</td><td>1292</td><td>2</td><td>164</td></tr>",
                            "<tr><td>166</td><td>1526</td><td>2</td><td>164</td></tr>",
                            "<tr><td>171</td><td>574</td><td>2</td><td>166</td></tr>",
                            "<tr><td>172</td><td>1491</td><td>2</td><td>171</td></tr>",
                            "<tr><td>174</td><td>917</td><td>2</td><td>172</td></tr>",
                            "<tr><td>175</td><td>1133</td><td>2</td><td>174</td></tr>",
                            "<tr><td>176</td><td>1511</td><td>2</td><td>175</td></tr>",
                            "<tr><td>179</td><td>662</td><td>2</td><td>176</td></tr>",
                            "<tr><td>182</td><td>571</td><td>2</td><td>179</td></tr>",
                            "<tr><td>182</td><td>928</td><td>2</td><td>182</td></tr>",
                            "<tr><td>184</td><td>608</td><td>2</td><td>182</td></tr>",
                            "<tr><td>185</td><td>693</td><td>2</td><td>184</td></tr>",
                            "<tr><td>186</td><td>1248</td><td>2</td><td>185</td></tr>",
                            "<tr><td>187</td><td>1404</td><td>2</td><td>186</td></tr>",
                            "<tr><td>187</td><td>743</td><td>2</td><td>187</td></tr>",
                            "<tr><td>189</td><td>699</td><td>2</td><td>187</td></tr>",
                            "<tr><td>189</td><td>1204</td><td>2</td><td>189</td></tr>",
                            "<tr><td>189</td><td>1449</td><td>2</td><td>189</td></tr>",
                            "<tr><td>191</td><td>1502</td><td>2</td><td>189</td></tr>",
                            "<tr><td>193</td><td>675</td><td>2</td><td>191</td></tr>",
                            "<tr><td>193</td><td>835</td><td>2</td><td>193</td></tr>",
                            "<tr><td>193</td><td>977</td><td>2</td><td>193</td></tr>",
                            "<tr><td>2</td><td>828</td><td>3</td><td>0</td></tr>",
                            "<tr><td>3</td><td>1038</td><td>3</td><td>2</td></tr>",
                            "<tr><td>4</td><td>1127</td><td>3</td><td>3</td></tr>",
                            "<tr><td>5</td><td>1257</td><td>3</td><td>4</td></tr>",
                            "<tr><td>6</td><td>873</td><td>3</td><td>5</td></tr>",
                            "<tr><td>8</td><td>947</td><td>3</td><td>6</td></tr>",
                            "<tr><td>9</td><td>1220</td><td>3</td><td>8</td></tr>",
                            "<tr><td>9</td><td>1537</td><td>3</td><td>9</td></tr>",
                            "<tr><td>9</td><td>1423</td><td>3</td><td>9</td></tr>",
                            "<tr><td>10</td><td>569</td><td>3</td><td>9</td></tr>",
                            "<tr><td>12</td><td>951</td><td>3</td><td>10</td></tr>",
                            "<tr><td>12</td><td>1140</td><td>3</td><td>12</td></tr>",
                            "<tr><td>13</td><td>1347</td><td>3</td><td>12</td></tr>",
                            "<tr><td>14</td><td>813</td><td>3</td><td>13</td></tr>",
                            "<tr><td>15</td><td>1442</td><td>3</td><td>14</td></tr>",
                            "<tr><td>16</td><td>687</td><td>3</td><td>15</td></tr>",
                            "<tr><td>17</td><td>1549</td><td>3</td><td>16</td></tr>",
                            "<tr><td>18</td><td>767</td><td>3</td><td>17</td></tr>",
                            "<tr><td>18</td><td>626</td><td>3</td><td>18</td></tr>",
                            "<tr><td>22</td><td>1005</td><td>3</td><td>18</td></tr>",
                            "<tr><td>22</td><td>1287</td><td>3</td><td>22</td></tr>",
                            "<tr><td>24</td><td>1415</td><td>3</td><td>22</td></tr>",
                            "<tr><td>25</td><td>1052</td><td>3</td><td>24</td></tr>",
                            "<tr><td>26</td><td>1388</td><td>3</td><td>25</td></tr>",
                            "<tr><td>27</td><td>758</td><td>3</td><td>26</td></tr>",
                            "<tr><td>34</td><td>777</td><td>3</td><td>27</td></tr>",
                            "<tr><td>35</td><td>971</td><td>3</td><td>34</td></tr>",
                            "<tr><td>42</td><td>770</td><td>3</td><td>35</td></tr>",
                            "<tr><td>45</td><td>846</td><td>3</td><td>42</td></tr>",
                            "<tr><td>45</td><td>1135</td><td>3</td><td>45</td></tr>",
                            "<tr><td>46</td><td>1291</td><td>3</td><td>45</td></tr>",
                            "<tr><td>48</td><td>1546</td><td>3</td><td>46</td></tr>",
                            "<tr><td>48</td><td>603</td><td>3</td><td>48</td></tr>",
                            "<tr><td>50</td><td>787</td><td>3</td><td>48</td></tr>",
                            "<tr><td>58</td><td>719</td><td>3</td><td>50</td></tr>",
                            "<tr><td>58</td><td>1113</td><td>3</td><td>58</td></tr>",
                            "<tr><td>58</td><td>1293</td><td>3</td><td>58</td></tr>",
                            "<tr><td>58</td><td>1322</td><td>3</td><td>58</td></tr>",
                            "<tr><td>59</td><td>1288</td><td>3</td><td>58</td></tr>",
                            "<tr><td>61</td><td>1148</td><td>3</td><td>59</td></tr>",
                            "<tr><td>62</td><td>936</td><td>3</td><td>61</td></tr>",
                            "<tr><td>63</td><td>625</td><td>3</td><td>62</td></tr>",
                            "<tr><td>66</td><td>736</td><td>3</td><td>63</td></tr>",
                            "<tr><td>66</td><td>950</td><td>3</td><td>66</td></tr>",
                            "<tr><td>66</td><td>1234</td><td>3</td><td>66</td></tr>",
                            "<tr><td>70</td><td>1126</td><td>3</td><td>66</td></tr>",
                            "<tr><td>70</td><td>1365</td><td>3</td><td>70</td></tr>",
                            "<tr><td>70</td><td>1092</td><td>3</td><td>70</td></tr>",
                            "<tr><td>70</td><td>1006</td><td>3</td><td>70</td></tr>",
                            "<tr><td>70</td><td>704</td><td>3</td><td>70</td></tr>",
                            "<tr><td>70</td><td>814</td><td>3</td><td>70</td></tr>",
                            "<tr><td>71</td><td>681</td><td>3</td><td>70</td></tr>",
                            "<tr><td>72</td><td>1396</td><td>3</td><td>71</td></tr>",
                            "<tr><td>74</td><td>847</td><td>3</td><td>72</td></tr>",
                            "<tr><td>76</td><td>1557</td><td>3</td><td>74</td></tr>",
                            "<tr><td>77</td><td>982</td><td>3</td><td>76</td></tr>",
                            "<tr><td>77</td><td>593</td><td>3</td><td>77</td></tr>",
                            "<tr><td>78</td><td>646</td><td>3</td><td>77</td></tr>",
                            "<tr><td>78</td><td>1281</td><td>3</td><td>78</td></tr>",
                            "<tr><td>79</td><td>1345</td><td>3</td><td>78</td></tr>",
                            "<tr><td>80</td><td>1367</td><td>3</td><td>79</td></tr>",
                            "<tr><td>81</td><td>1562</td><td>3</td><td>80</td></tr>",
                            "<tr><td>81</td><td>1506</td><td>3</td><td>81</td></tr>",
                            "<tr><td>85</td><td>647</td><td>3</td><td>81</td></tr>",
                            "<tr><td>85</td><td>1059</td><td>3</td><td>85</td></tr>",
                            "<tr><td>87</td><td>1103</td><td>3</td><td>85</td></tr>",
                            "<tr><td>88</td><td>1300</td><td>3</td><td>87</td></tr>",
                            "<tr><td>88</td><td>1196</td><td>3</td><td>88</td></tr>",
                            "<tr><td>89</td><td>817</td><td>3</td><td>88</td></tr>",
                            "<tr><td>91</td><td>1213</td><td>3</td><td>89</td></tr>",
                            "<tr><td>92</td><td>809</td><td>3</td><td>91</td></tr>",
                            "<tr><td>94</td><td>727</td><td>3</td><td>92</td></tr>",
                            "<tr><td>94</td><td>1312</td><td>3</td><td>94</td></tr>",
                            "<tr><td>95</td><td>1048</td><td>3</td><td>94</td></tr>",
                            "<tr><td>96</td><td>1378</td><td>3</td><td>95</td></tr>",
                            "<tr><td>97</td><td>635</td><td>3</td><td>96</td></tr>",
                            "<tr><td>101</td><td>715</td><td>3</td><td>97</td></tr>",
                            "<tr><td>104</td><td>1532</td><td>3</td><td>101</td></tr>",
                            "<tr><td>106</td><td>610</td><td>3</td><td>104</td></tr>",
                            "<tr><td>110</td><td>1041</td><td>3</td><td>106</td></tr>",
                            "<tr><td>111</td><td>1296</td><td>3</td><td>110</td></tr>",
                            "<tr><td>114</td><td>1540</td><td>3</td><td>111</td></tr>",
                            "<tr><td>115</td><td>1554</td><td>3</td><td>114</td></tr>",
                            "<tr><td>115</td><td>1352</td><td>3</td><td>115</td></tr>",
                            "<tr><td>117</td><td>1247</td><td>3</td><td>115</td></tr>",
                            "<tr><td>117</td><td>617</td><td>3</td><td>117</td></tr>",
                            "<tr><td>118</td><td>996</td><td>3</td><td>117</td></tr>",
                            "<tr><td>118</td><td>1481</td><td>3</td><td>118</td></tr>",
                            "<tr><td>119</td><td>1488</td><td>3</td><td>118</td></tr>",
                            "<tr><td>119</td><td>1413</td><td>3</td><td>119</td></tr>",
                            "<tr><td>119</td><td>1026</td><td>3</td><td>119</td></tr>",
                            "<tr><td>120</td><td>998</td><td>3</td><td>119</td></tr>",
                            "<tr><td>120</td><td>762</td><td>3</td><td>120</td></tr>",
                            "<tr><td>121</td><td>1049</td><td>3</td><td>120</td></tr>",
                            "<tr><td>122</td><td>1062</td><td>3</td><td>121</td></tr>",
                            "<tr><td>122</td><td>1440</td><td>3</td><td>122</td></tr>",
                            "<tr><td>124</td><td>1419</td><td>3</td><td>122</td></tr>",
                            "<tr><td>130</td><td>613</td><td>3</td><td>124</td></tr>",
                            "<tr><td>130</td><td>580</td><td>3</td><td>130</td></tr>",
                            "<tr><td>132</td><td>1111</td><td>3</td><td>130</td></tr>",
                            "<tr><td>133</td><td>988</td><td>3</td><td>132</td></tr>",
                            "<tr><td>133</td><td>1306</td><td>3</td><td>133</td></tr>",
                            "<tr><td>135</td><td>1289</td><td>3</td><td>133</td></tr>",
                            "<tr><td>137</td><td>1280</td><td>3</td><td>135</td></tr>",
                            "<tr><td>137</td><td>582</td><td>3</td><td>137</td></tr>",
                            "<tr><td>140</td><td>1361</td><td>3</td><td>137</td></tr>",
                            "<tr><td>140</td><td>1156</td><td>3</td><td>140</td></tr>",
                            "<tr><td>141</td><td>761</td><td>3</td><td>140</td></tr>",
                            "<tr><td>142</td><td>1545</td><td>3</td><td>141</td></tr>",
                            "<tr><td>143</td><td>1394</td><td>3</td><td>142</td></tr>",
                            "<tr><td>143</td><td>980</td><td>3</td><td>143</td></tr>",
                            "<tr><td>146</td><td>890</td><td>3</td><td>143</td></tr>",
                            "<tr><td>146</td><td>664</td><td>3</td><td>146</td></tr>",
                            "<tr><td>148</td><td>765</td><td>3</td><td>146</td></tr>",
                            "<tr><td>150</td><td>641</td><td>3</td><td>148</td></tr>",
                            "<tr><td>150</td><td>1432</td><td>3</td><td>150</td></tr>",
                            "<tr><td>151</td><td>893</td><td>3</td><td>150</td></tr>",
                            "<tr><td>151</td><td>1115</td><td>3</td><td>151</td></tr>",
                            "<tr><td>151</td><td>1058</td><td>3</td><td>151</td></tr>",
                            "<tr><td>153</td><td>594</td><td>3</td><td>151</td></tr>",
                            "<tr><td>153</td><td>1460</td><td>3</td><td>153</td></tr>",
                            "<tr><td>153</td><td>1507</td><td>3</td><td>153</td></tr>",
                            "<tr><td>155</td><td>577</td><td>3</td><td>153</td></tr>",
                            "<tr><td>156</td><td>907</td><td>3</td><td>155</td></tr>",
                            "<tr><td>157</td><td>1025</td><td>3</td><td>156</td></tr>",
                            "<tr><td>157</td><td>1551</td><td>3</td><td>157</td></tr>",
                            "<tr><td>158</td><td>1117</td><td>3</td><td>157</td></tr>",
                            "<tr><td>160</td><td>1565</td><td>3</td><td>158</td></tr>",
                            "<tr><td>163</td><td>1487</td><td>3</td><td>160</td></tr>",
                            "<tr><td>163</td><td>1107</td><td>3</td><td>163</td></tr>",
                            "<tr><td>163</td><td>782</td><td>3</td><td>163</td></tr>",
                            "<tr><td>165</td><td>640</td><td>3</td><td>163</td></tr>",
                            "<tr><td>165</td><td>892</td><td>3</td><td>165</td></tr>",
                            "<tr><td>167</td><td>1414</td><td>3</td><td>165</td></tr>",
                            "<tr><td>168</td><td>930</td><td>3</td><td>167</td></tr>",
                            "<tr><td>168</td><td>792</td><td>3</td><td>168</td></tr>",
                            "<tr><td>173</td><td>1350</td><td>3</td><td>168</td></tr>",
                            "<tr><td>174</td><td>682</td><td>3</td><td>173</td></tr>",
                            "<tr><td>176</td><td>1570</td><td>3</td><td>174</td></tr>",
                            "<tr><td>177</td><td>1503</td><td>3</td><td>176</td></tr>",
                            "<tr><td>177</td><td>1176</td><td>3</td><td>177</td></tr>",
                            "<tr><td>177</td><td>785</td><td>3</td><td>177</td></tr>",
                            "<tr><td>178</td><td>1211</td><td>3</td><td>177</td></tr>",
                            "<tr><td>180</td><td>1559</td><td>3</td><td>178</td></tr>",
                            "<tr><td>181</td><td>937</td><td>3</td><td>180</td></tr>",
                            "<tr><td>182</td><td>740</td><td>3</td><td>181</td></tr>",
                            "<tr><td>182</td><td>1422</td><td>3</td><td>182</td></tr>",
                            "<tr><td>182</td><td>1317</td><td>3</td><td>182</td></tr>",
                            "<tr><td>184</td><td>684</td><td>3</td><td>182</td></tr>",
                            "<tr><td>185</td><td>672</td><td>3</td><td>184</td></tr>",
                            "<tr><td>185</td><td>711</td><td>3</td><td>185</td></tr>",
                            "<tr><td>185</td><td>1125</td><td>3</td><td>185</td></tr>",
                            "<tr><td>186</td><td>615</td><td>3</td><td>185</td></tr>",
                            "<tr><td>186</td><td>1153</td><td>3</td><td>186</td></tr>",
                            "<tr><td>186</td><td>1467</td><td>3</td><td>186</td></tr>",
                            "<tr><td>188</td><td>747</td><td>3</td><td>186</td></tr>",
                            "<tr><td>189</td><td>1576</td><td>3</td><td>188</td></tr>",
                            "<tr><td>196</td><td>952</td><td>3</td><td>189</td></tr>",
                            "<tr><td>197</td><td>1387</td><td>3</td><td>196</td></tr>",
                            "<tr><td>198</td><td>1065</td><td>3</td><td>197</td></tr>",
                            "<tr><td>1</td><td>803</td><td>4</td><td>0</td></tr>",
                            "<tr><td>1</td><td>1334</td><td>4</td><td>1</td></tr>",
                            "<tr><td>3</td><td>629</td><td>4</td><td>1</td></tr>",
                            "<tr><td>6</td><td>1099</td><td>4</td><td>3</td></tr>",
                            "<tr><td>6</td><td>990</td><td>4</td><td>6</td></tr>",
                            "<tr><td>7</td><td>562</td><td>4</td><td>6</td></tr>",
                            "<tr><td>7</td><td>1175</td><td>4</td><td>7</td></tr>",
                            "<tr><td>7</td><td>1182</td><td>4</td><td>7</td></tr>",
                            "<tr><td>8</td><td>694</td><td>4</td><td>7</td></tr>",
                            "<tr><td>8</td><td>818</td><td>4</td><td>8</td></tr>",
                            "<tr><td>8</td><td>832</td><td>4</td><td>8</td></tr>",
                            "<tr><td>10</td><td>795</td><td>4</td><td>8</td></tr>",
                            "<tr><td>12</td><td>775</td><td>4</td><td>10</td></tr>",
                            "<tr><td>13</td><td>763</td><td>4</td><td>12</td></tr>",
                            "<tr><td>14</td><td>1542</td><td>4</td><td>13</td></tr>",
                            "<tr><td>15</td><td>1418</td><td>4</td><td>14</td></tr>",
                            "<tr><td>15</td><td>1129</td><td>4</td><td>15</td></tr>",
                            "<tr><td>18</td><td>1198</td><td>4</td><td>15</td></tr>",
                            "<tr><td>28</td><td>886</td><td>4</td><td>18</td></tr>",
                            "<tr><td>28</td><td>901</td><td>4</td><td>28</td></tr>",
                            "<tr><td>31</td><td>728</td><td>4</td><td>28</td></tr>",
                            "<tr><td>32</td><td>920</td><td>4</td><td>31</td></tr>",
                            "<tr><td>33</td><td>1321</td><td>4</td><td>32</td></tr>",
                            "<tr><td>35</td><td>1529</td><td>4</td><td>33</td></tr>",
                            "<tr><td>36</td><td>1003</td><td>4</td><td>35</td></tr>",
                            "<tr><td>37</td><td>705</td><td>4</td><td>36</td></tr>",
                            "<tr><td>38</td><td>1478</td><td>4</td><td>37</td></tr>",
                            "<tr><td>38</td><td>1351</td><td>4</td><td>38</td></tr>",
                            "<tr><td>42</td><td>561</td><td>4</td><td>38</td></tr>",
                            "<tr><td>43</td><td>670</td><td>4</td><td>42</td></tr>",
                            "<tr><td>43</td><td>1019</td><td>4</td><td>43</td></tr>",
                            "<tr><td>43</td><td>1270</td><td>4</td><td>43</td></tr>",
                            "<tr><td>46</td><td>1515</td><td>4</td><td>43</td></tr>",
                            "<tr><td>49</td><td>826</td><td>4</td><td>46</td></tr>",
                            "<tr><td>53</td><td>987</td><td>4</td><td>49</td></tr>",
                            "<tr><td>54</td><td>1096</td><td>4</td><td>53</td></tr>",
                            "<tr><td>54</td><td>1328</td><td>4</td><td>54</td></tr>",
                            "<tr><td>56</td><td>935</td><td>4</td><td>54</td></tr>",
                            "<tr><td>57</td><td>1504</td><td>4</td><td>56</td></tr>",
                            "<tr><td>62</td><td>1426</td><td>4</td><td>57</td></tr>",
                            "<tr><td>64</td><td>1465</td><td>4</td><td>62</td></tr>",
                            "<tr><td>64</td><td>1122</td><td>4</td><td>64</td></tr>",
                            "<tr><td>66</td><td>1264</td><td>4</td><td>64</td></tr>",
                            "<tr><td>68</td><td>1324</td><td>4</td><td>66</td></tr>",
                            "<tr><td>73</td><td>1331</td><td>4</td><td>68</td></tr>",
                            "<tr><td>73</td><td>1000</td><td>4</td><td>73</td></tr>",
                            "<tr><td>74</td><td>877</td><td>4</td><td>73</td></tr>",
                            "<tr><td>77</td><td>698</td><td>4</td><td>74</td></tr>",
                            "<tr><td>77</td><td>1461</td><td>4</td><td>77</td></tr>",
                            "<tr><td>79</td><td>1447</td><td>4</td><td>77</td></tr>",
                            "<tr><td>80</td><td>1071</td><td>4</td><td>79</td></tr>",
                            "<tr><td>82</td><td>862</td><td>4</td><td>80</td></tr>",
                            "<tr><td>83</td><td>674</td><td>4</td><td>82</td></tr>",
                            "<tr><td>83</td><td>798</td><td>4</td><td>83</td></tr>",
                            "<tr><td>86</td><td>1079</td><td>4</td><td>83</td></tr>",
                            "<tr><td>87</td><td>558</td><td>4</td><td>86</td></tr>",
                            "<tr><td>91</td><td>732</td><td>4</td><td>87</td></tr>",
                            "<tr><td>91</td><td>1397</td><td>4</td><td>91</td></tr>",
                            "<tr><td>92</td><td>1555</td><td>4</td><td>91</td></tr>",
                            "<tr><td>93</td><td>1391</td><td>4</td><td>92</td></tr>",
                            "<tr><td>93</td><td>1169</td><td>4</td><td>93</td></tr>",
                            "<tr><td>94</td><td>616</td><td>4</td><td>93</td></tr>",
                            "<tr><td>95</td><td>1097</td><td>4</td><td>94</td></tr>",
                            "<tr><td>96</td><td>607</td><td>4</td><td>95</td></tr>",
                            "<tr><td>96</td><td>671</td><td>4</td><td>96</td></tr>",
                            "<tr><td>97</td><td>726</td><td>4</td><td>96</td></tr>",
                            "<tr><td>101</td><td>1516</td><td>4</td><td>97</td></tr>",
                            "<tr><td>103</td><td>1485</td><td>4</td><td>101</td></tr>",
                            "<tr><td>104</td><td>837</td><td>4</td><td>103</td></tr>",
                            "<tr><td>107</td><td>1250</td><td>4</td><td>104</td></tr>",
                            "<tr><td>109</td><td>1298</td><td>4</td><td>107</td></tr>",
                            "<tr><td>109</td><td>614</td><td>4</td><td>109</td></tr>",
                            "<tr><td>111</td><td>786</td><td>4</td><td>109</td></tr>",
                            "<tr><td>112</td><td>776</td><td>4</td><td>111</td></tr>",
                            "<tr><td>113</td><td>1085</td><td>4</td><td>112</td></tr>",
                            "<tr><td>115</td><td>1154</td><td>4</td><td>113</td></tr>",
                            "<tr><td>116</td><td>1501</td><td>4</td><td>115</td></tr>",
                            "<tr><td>117</td><td>962</td><td>4</td><td>116</td></tr>",
                            "<tr><td>121</td><td>1128</td><td>4</td><td>117</td></tr>",
                            "<tr><td>121</td><td>1215</td><td>4</td><td>121</td></tr>",
                            "<tr><td>122</td><td>1166</td><td>4</td><td>121</td></tr>",
                            "<tr><td>123</td><td>923</td><td>4</td><td>122</td></tr>",
                            "<tr><td>124</td><td>1210</td><td>4</td><td>123</td></tr>",
                            "<tr><td>126</td><td>1500</td><td>4</td><td>124</td></tr>",
                            "<tr><td>126</td><td>754</td><td>4</td><td>126</td></tr>",
                            "<tr><td>128</td><td>1583</td><td>4</td><td>126</td></tr>",
                            "<tr><td>131</td><td>760</td><td>4</td><td>128</td></tr>",
                            "<tr><td>133</td><td>909</td><td>4</td><td>131</td></tr>",
                            "<tr><td>136</td><td>1046</td><td>4</td><td>133</td></tr>",
                            "<tr><td>138</td><td>796</td><td>4</td><td>136</td></tr>",
                            "<tr><td>138</td><td>1256</td><td>4</td><td>138</td></tr>",
                            "<tr><td>139</td><td>751</td><td>4</td><td>138</td></tr>",
                            "<tr><td>140</td><td>1357</td><td>4</td><td>139</td></tr>",
                            "<tr><td>141</td><td>1254</td><td>4</td><td>140</td></tr>",
                            "<tr><td>143</td><td>1313</td><td>4</td><td>141</td></tr>",
                            "<tr><td>144</td><td>581</td><td>4</td><td>143</td></tr>",
                            "<tr><td>145</td><td>703</td><td>4</td><td>144</td></tr>",
                            "<tr><td>145</td><td>1145</td><td>4</td><td>145</td></tr>",
                            "<tr><td>147</td><td>771</td><td>4</td><td>145</td></tr>",
                            "<tr><td>148</td><td>678</td><td>4</td><td>147</td></tr>",
                            "<tr><td>149</td><td>843</td><td>4</td><td>148</td></tr>",
                            "<tr><td>150</td><td>1203</td><td>4</td><td>149</td></tr>",
                            "<tr><td>155</td><td>1112</td><td>4</td><td>150</td></tr>",
                            "<tr><td>156</td><td>1561</td><td>4</td><td>155</td></tr>",
                            "<tr><td>157</td><td>1047</td><td>4</td><td>156</td></tr>",
                            "<tr><td>157</td><td>648</td><td>4</td><td>157</td></tr>",
                            "<tr><td>158</td><td>840</td><td>4</td><td>157</td></tr>",
                            "<tr><td>158</td><td>825</td><td>4</td><td>158</td></tr>",
                            "<tr><td>160</td><td>927</td><td>4</td><td>158</td></tr>",
                            "<tr><td>160</td><td>933</td><td>4</td><td>160</td></tr>",
                            "<tr><td>161</td><td>911</td><td>4</td><td>160</td></tr>",
                            "<tr><td>161</td><td>639</td><td>4</td><td>161</td></tr>",
                            "<tr><td>161</td><td>1571</td><td>4</td><td>161</td></tr>",
                            "<tr><td>162</td><td>599</td><td>4</td><td>161</td></tr>",
                            "<tr><td>163</td><td>1075</td><td>4</td><td>162</td></tr>",
                            "<tr><td>164</td><td>1284</td><td>4</td><td>163</td></tr>",
                            "<tr><td>165</td><td>1375</td><td>4</td><td>164</td></tr>",
                            "<tr><td>168</td><td>1249</td><td>4</td><td>165</td></tr>",
                            "<tr><td>168</td><td>1266</td><td>4</td><td>168</td></tr>",
                            "<tr><td>168</td><td>794</td><td>4</td><td>168</td></tr>",
                            "<tr><td>169</td><td>1356</td><td>4</td><td>168</td></tr>",
                            "<tr><td>170</td><td>1194</td><td>4</td><td>169</td></tr>",
                            "<tr><td>170</td><td>944</td><td>4</td><td>170</td></tr>",
                            "<tr><td>171</td><td>981</td><td>4</td><td>170</td></tr>",
                            "<tr><td>172</td><td>984</td><td>4</td><td>171</td></tr>",
                            "<tr><td>172</td><td>1142</td><td>4</td><td>172</td></tr>",
                            "<tr><td>173</td><td>1429</td><td>4</td><td>172</td></tr>",
                            "<tr><td>175</td><td>799</td><td>4</td><td>173</td></tr>",
                            "<tr><td>176</td><td>1383</td><td>4</td><td>175</td></tr>",
                            "<tr><td>178</td><td>816</td><td>4</td><td>176</td></tr>",
                            "<tr><td>181</td><td>677</td><td>4</td><td>178</td></tr>",
                            "<tr><td>182</td><td>1410</td><td>4</td><td>181</td></tr>",
                            "<tr><td>182</td><td>1326</td><td>4</td><td>182</td></tr>",
                            "<tr><td>182</td><td>1231</td><td>4</td><td>182</td></tr>",
                            "<tr><td>183</td><td>1147</td><td>4</td><td>182</td></tr>",
                            "<tr><td>183</td><td>1437</td><td>4</td><td>183</td></tr>",
                            "<tr><td>183</td><td>939</td><td>4</td><td>183</td></tr>",
                            "<tr><td>184</td><td>880</td><td>4</td><td>183</td></tr>",
                            "<tr><td>184</td><td>1251</td><td>4</td><td>184</td></tr>",
                            "<tr><td>185</td><td>898</td><td>4</td><td>184</td></tr>",
                            "<tr><td>185</td><td>863</td><td>4</td><td>185</td></tr>",
                            "<tr><td>187</td><td>868</td><td>4</td><td>185</td></tr>",
                            "<tr><td>187</td><td>957</td><td>4</td><td>187</td></tr>",
                            "<tr><td>188</td><td>1030</td><td>4</td><td>187</td></tr>",
                            "<tr><td>188</td><td>690</td><td>4</td><td>188</td></tr>",
                            "<tr><td>192</td><td>680</td><td>4</td><td>188</td></tr>",
                            "<tr><td>195</td><td>842</td><td>4</td><td>192</td></tr>",
                            "<tr><td>195</td><td>721</td><td>4</td><td>195</td></tr>",
                            "<tr><td>1</td><td>620</td><td>5</td><td>0</td></tr>",
                            "<tr><td>3</td><td>1434</td><td>5</td><td>1</td></tr>",
                            "<tr><td>3</td><td>1544</td><td>5</td><td>3</td></tr>",
                            "<tr><td>4</td><td>946</td><td>5</td><td>3</td></tr>",
                            "<tr><td>5</td><td>1073</td><td>5</td><td>4</td></tr>",
                            "<tr><td>10</td><td>790</td><td>5</td><td>5</td></tr>",
                            "<tr><td>11</td><td>1123</td><td>5</td><td>10</td></tr>",
                            "<tr><td>12</td><td>1020</td><td>5</td><td>11</td></tr>",
                            "<tr><td>12</td><td>1164</td><td>5</td><td>12</td></tr>",
                            "<tr><td>15</td><td>791</td><td>5</td><td>12</td></tr>",
                            "<tr><td>17</td><td>1316</td><td>5</td><td>15</td></tr>",
                            "<tr><td>20</td><td>1114</td><td>5</td><td>17</td></tr>",
                            "<tr><td>21</td><td>660</td><td>5</td><td>20</td></tr>",
                            "<tr><td>27</td><td>1082</td><td>5</td><td>21</td></tr>",
                            "<tr><td>28</td><td>872</td><td>5</td><td>27</td></tr>",
                            "<tr><td>28</td><td>725</td><td>5</td><td>28</td></tr>",
                            "<tr><td>29</td><td>611</td><td>5</td><td>28</td></tr>",
                            "<tr><td>29</td><td>1185</td><td>5</td><td>29</td></tr>",
                            "<tr><td>30</td><td>1136</td><td>5</td><td>29</td></tr>",
                            "<tr><td>33</td><td>1344</td><td>5</td><td>30</td></tr>",
                            "<tr><td>36</td><td>895</td><td>5</td><td>33</td></tr>",
                            "<tr><td>38</td><td>1416</td><td>5</td><td>36</td></tr>",
                            "<tr><td>39</td><td>1380</td><td>5</td><td>38</td></tr>",
                            "<tr><td>39</td><td>1214</td><td>5</td><td>39</td></tr>",
                            "<tr><td>40</td><td>924</td><td>5</td><td>39</td></tr>",
                            "<tr><td>40</td><td>1118</td><td>5</td><td>40</td></tr>",
                            "<tr><td>40</td><td>1018</td><td>5</td><td>40</td></tr>",
                            "<tr><td>42</td><td>590</td><td>5</td><td>40</td></tr>",
                            "<tr><td>43</td><td>1227</td><td>5</td><td>42</td></tr>",
                            "<tr><td>43</td><td>1553</td><td>5</td><td>43</td></tr>",
                            "<tr><td>45</td><td>800</td><td>5</td><td>43</td></tr>",
                            "<tr><td>46</td><td>752</td><td>5</td><td>45</td></tr>",
                            "<tr><td>48</td><td>986</td><td>5</td><td>46</td></tr>",
                            "<tr><td>48</td><td>914</td><td>5</td><td>48</td></tr>",
                            "<tr><td>48</td><td>1581</td><td>5</td><td>48</td></tr>",
                            "<tr><td>51</td><td>1165</td><td>5</td><td>48</td></tr>",
                            "<tr><td>52</td><td>1258</td><td>5</td><td>51</td></tr>",
                            "<tr><td>52</td><td>1534</td><td>5</td><td>52</td></tr>",
                            "<tr><td>52</td><td>1431</td><td>5</td><td>52</td></tr>",
                            "<tr><td>54</td><td>642</td><td>5</td><td>52</td></tr>",
                            "<tr><td>55</td><td>1086</td><td>5</td><td>54</td></tr>",
                            "<tr><td>58</td><td>883</td><td>5</td><td>55</td></tr>",
                            "<tr><td>59</td><td>1170</td><td>5</td><td>58</td></tr>",
                            "<tr><td>62</td><td>702</td><td>5</td><td>59</td></tr>",
                            "<tr><td>63</td><td>769</td><td>5</td><td>62</td></tr>",
                            "<tr><td>67</td><td>638</td><td>5</td><td>63</td></tr>",
                            "<tr><td>67</td><td>1580</td><td>5</td><td>67</td></tr>",
                            "<tr><td>68</td><td>563</td><td>5</td><td>67</td></tr>",
                            "<tr><td>69</td><td>1055</td><td>5</td><td>68</td></tr>",
                            "<tr><td>69</td><td>1225</td><td>5</td><td>69</td></tr>",
                            "<tr><td>70</td><td>585</td><td>5</td><td>69</td></tr>",
                            "<tr><td>72</td><td>902</td><td>5</td><td>70</td></tr>",
                            "<tr><td>73</td><td>1159</td><td>5</td><td>72</td></tr>",
                            "<tr><td>74</td><td>940</td><td>5</td><td>73</td></tr>",
                            "<tr><td>74</td><td>797</td><td>5</td><td>74</td></tr>",
                            "<tr><td>75</td><td>1013</td><td>5</td><td>74</td></tr>",
                            "<tr><td>78</td><td>700</td><td>5</td><td>75</td></tr>",
                            "<tr><td>80</td><td>1279</td><td>5</td><td>78</td></tr>",
                            "<tr><td>81</td><td>1366</td><td>5</td><td>80</td></tr>",
                            "<tr><td>82</td><td>1277</td><td>5</td><td>81</td></tr>",
                            "<tr><td>82</td><td>871</td><td>5</td><td>82</td></tr>",
                            "<tr><td>83</td><td>995</td><td>5</td><td>82</td></tr>",
                            "<tr><td>84</td><td>954</td><td>5</td><td>83</td></tr>",
                            "<tr><td>84</td><td>1376</td><td>5</td><td>84</td></tr>",
                            "<tr><td>86</td><td>1057</td><td>5</td><td>84</td></tr>",
                            "<tr><td>87</td><td>1349</td><td>5</td><td>86</td></tr>",
                            "<tr><td>87</td><td>1456</td><td>5</td><td>87</td></tr>",
                            "<tr><td>89</td><td>1101</td><td>5</td><td>87</td></tr>",
                            "<tr><td>90</td><td>1405</td><td>5</td><td>89</td></tr>",
                            "<tr><td>94</td><td>975</td><td>5</td><td>90</td></tr>",
                            "<tr><td>98</td><td>884</td><td>5</td><td>94</td></tr>",
                            "<tr><td>99</td><td>691</td><td>5</td><td>98</td></tr>",
                            "<tr><td>99</td><td>1486</td><td>5</td><td>99</td></tr>",
                            "<tr><td>100</td><td>1315</td><td>5</td><td>99</td></tr>",
                            "<tr><td>100</td><td>637</td><td>5</td><td>100</td></tr>",
                            "<tr><td>102</td><td>689</td><td>5</td><td>100</td></tr>",
                            "<tr><td>105</td><td>1525</td><td>5</td><td>102</td></tr>",
                            "<tr><td>106</td><td>1271</td><td>5</td><td>105</td></tr>",
                            "<tr><td>109</td><td>654</td><td>5</td><td>106</td></tr>",
                            "<tr><td>110</td><td>931</td><td>5</td><td>109</td></tr>",
                            "<tr><td>110</td><td>1109</td><td>5</td><td>110</td></tr>",
                            "<tr><td>111</td><td>1353</td><td>5</td><td>110</td></tr>",
                            "<tr><td>112</td><td>801</td><td>5</td><td>111</td></tr>",
                            "<tr><td>113</td><td>1029</td><td>5</td><td>112</td></tr>",
                            "<tr><td>117</td><td>953</td><td>5</td><td>113</td></tr>",
                            "<tr><td>118</td><td>1374</td><td>5</td><td>117</td></tr>",
                            "<tr><td>121</td><td>1373</td><td>5</td><td>118</td></tr>",
                            "<tr><td>121</td><td>858</td><td>5</td><td>121</td></tr>",
                            "<tr><td>122</td><td>1385</td><td>5</td><td>121</td></tr>",
                            "<tr><td>123</td><td>967</td><td>5</td><td>122</td></tr>",
                            "<tr><td>127</td><td>853</td><td>5</td><td>123</td></tr>",
                            "<tr><td>127</td><td>1226</td><td>5</td><td>127</td></tr>",
                            "<tr><td>127</td><td>1579</td><td>5</td><td>127</td></tr>",
                            "<tr><td>131</td><td>1474</td><td>5</td><td>127</td></tr>",
                            "<tr><td>133</td><td>1363</td><td>5</td><td>131</td></tr>",
                            "<tr><td>134</td><td>1004</td><td>5</td><td>133</td></tr>",
                            "<tr><td>136</td><td>661</td><td>5</td><td>134</td></tr>",
                            "<tr><td>137</td><td>649</td><td>5</td><td>136</td></tr>",
                            "<tr><td>138</td><td>1370</td><td>5</td><td>137</td></tr>",
                            "<tr><td>138</td><td>1294</td><td>5</td><td>138</td></tr>",
                            "<tr><td>146</td><td>1032</td><td>5</td><td>138</td></tr>",
                            "<tr><td>149</td><td>834</td><td>5</td><td>146</td></tr>",
                            "<tr><td>149</td><td>1514</td><td>5</td><td>149</td></tr>",
                            "<tr><td>150</td><td>1100</td><td>5</td><td>149</td></tr>",
                            "<tr><td>153</td><td>1470</td><td>5</td><td>150</td></tr>",
                            "<tr><td>163</td><td>1265</td><td>5</td><td>153</td></tr>",
                            "<tr><td>165</td><td>857</td><td>5</td><td>163</td></tr>",
                            "<tr><td>169</td><td>573</td><td>5</td><td>165</td></tr>",
                            "<tr><td>171</td><td>1329</td><td>5</td><td>169</td></tr>",
                            "<tr><td>172</td><td>1336</td><td>5</td><td>171</td></tr>",
                            "<tr><td>172</td><td>1171</td><td>5</td><td>172</td></tr>",
                            "<tr><td>172</td><td>1421</td><td>5</td><td>172</td></tr>",
                            "<tr><td>172</td><td>839</td><td>5</td><td>172</td></tr>",
                            "<tr><td>172</td><td>709</td><td>5</td><td>172</td></tr>",
                            "<tr><td>174</td><td>1015</td><td>5</td><td>172</td></tr>",
                            "<tr><td>175</td><td>1094</td><td>5</td><td>174</td></tr>",
                            "<tr><td>176</td><td>592</td><td>5</td><td>175</td></tr>",
                            "<tr><td>180</td><td>905</td><td>5</td><td>176</td></tr>",
                            "<tr><td>181</td><td>958</td><td>5</td><td>180</td></tr>",
                            "<tr><td>185</td><td>679</td><td>5</td><td>181</td></tr>",
                            "<tr><td>185</td><td>1183</td><td>5</td><td>185</td></tr>",
                            "<tr><td>188</td><td>1390</td><td>5</td><td>185</td></tr>",
                            "<tr><td>190</td><td>1517</td><td>5</td><td>188</td></tr>",
                            "<tr><td>190</td><td>774</td><td>5</td><td>190</td></tr>",
                            "<tr><td>194</td><td>1095</td><td>5</td><td>190</td></tr>",
                            "<tr><td>195</td><td>1184</td><td>5</td><td>194</td></tr>",
                            "<tr><td>196</td><td>1340</td><td>5</td><td>195</td></tr>",
                            "<tr><td>196</td><td>1314</td><td>5</td><td>196</td></tr>",
                            "<tr><td>196</td><td>673</td><td>5</td><td>196</td></tr>",
                            "<tr><td>198</td><td>1161</td><td>5</td><td>196</td></tr>",
                            "<tr><td>198</td><td>1138</td><td>5</td><td>198</td></tr>",
                            "<tr><td>198</td><td>1420</td><td>5</td><td>198</td></tr>",
                            "<tr><td>3</td><td>666</td><td>6</td><td>0</td></tr>",
                            "<tr><td>3</td><td>788</td><td>6</td><td>3</td></tr>",
                            "<tr><td>4</td><td>1492</td><td>6</td><td>3</td></tr>",
                            "<tr><td>4</td><td>1132</td><td>6</td><td>4</td></tr>",
                            "<tr><td>6</td><td>772</td><td>6</td><td>4</td></tr>",
                            "<tr><td>6</td><td>560</td><td>6</td><td>6</td></tr>",
                            "<tr><td>9</td><td>1157</td><td>6</td><td>6</td></tr>",
                            "<tr><td>9</td><td>1260</td><td>6</td><td>9</td></tr>",
                            "<tr><td>10</td><td>1319</td><td>6</td><td>9</td></tr>",
                            "<tr><td>11</td><td>918</td><td>6</td><td>10</td></tr>",
                            "<tr><td>13</td><td>1044</td><td>6</td><td>11</td></tr>",
                            "<tr><td>16</td><td>856</td><td>6</td><td>13</td></tr>",
                            "<tr><td>17</td><td>602</td><td>6</td><td>16</td></tr>",
                            "<tr><td>17</td><td>713</td><td>6</td><td>17</td></tr>",
                            "<tr><td>18</td><td>1035</td><td>6</td><td>17</td></tr>",
                            "<tr><td>18</td><td>1173</td><td>6</td><td>18</td></tr>",
                            "<tr><td>18</td><td>1505</td><td>6</td><td>18</td></tr>",
                            "<tr><td>20</td><td>755</td><td>6</td><td>18</td></tr>",
                            "<tr><td>21</td><td>566</td><td>6</td><td>20</td></tr>",
                            "<tr><td>21</td><td>1212</td><td>6</td><td>21</td></tr>",
                            "<tr><td>22</td><td>1195</td><td>6</td><td>21</td></tr>",
                            "<tr><td>27</td><td>1275</td><td>6</td><td>22</td></tr>",
                            "<tr><td>28</td><td>1150</td><td>6</td><td>27</td></tr>",
                            "<tr><td>33</td><td>1381</td><td>6</td><td>28</td></tr>",
                            "<tr><td>33</td><td>624</td><td>6</td><td>33</td></tr>",
                            "<tr><td>34</td><td>870</td><td>6</td><td>33</td></tr>",
                            "<tr><td>35</td><td>686</td><td>6</td><td>34</td></tr>",
                            "<tr><td>36</td><td>750</td><td>6</td><td>35</td></tr>",
                            "<tr><td>36</td><td>985</td><td>6</td><td>36</td></tr>",
                            "<tr><td>38</td><td>627</td><td>6</td><td>36</td></tr>",
                            "<tr><td>38</td><td>1556</td><td>6</td><td>38</td></tr>",
                            "<tr><td>39</td><td>601</td><td>6</td><td>38</td></tr>",
                            "<tr><td>39</td><td>899</td><td>6</td><td>39</td></tr>",
                            "<tr><td>40</td><td>932</td><td>6</td><td>39</td></tr>",
                            "<tr><td>41</td><td>960</td><td>6</td><td>40</td></tr>",
                            "<tr><td>42</td><td>1444</td><td>6</td><td>41</td></tr>",
                            "<tr><td>44</td><td>658</td><td>6</td><td>42</td></tr>",
                            "<tr><td>48</td><td>1243</td><td>6</td><td>44</td></tr>",
                            "<tr><td>49</td><td>1536</td><td>6</td><td>48</td></tr>",
                            "<tr><td>49</td><td>793</td><td>6</td><td>49</td></tr>",
                            "<tr><td>51</td><td>1477</td><td>6</td><td>49</td></tr>",
                            "<tr><td>55</td><td>1327</td><td>6</td><td>51</td></tr>",
                            "<tr><td>55</td><td>734</td><td>6</td><td>55</td></tr>",
                            "<tr><td>58</td><td>1307</td><td>6</td><td>55</td></tr>",
                            "<tr><td>58</td><td>1261</td><td>6</td><td>58</td></tr>",
                            "<tr><td>58</td><td>1208</td><td>6</td><td>58</td></tr>",
                            "<tr><td>58</td><td>1186</td><td>6</td><td>58</td></tr>",
                            "<tr><td>58</td><td>1451</td><td>6</td><td>58</td></tr>",
                            "<tr><td>59</td><td>1191</td><td>6</td><td>58</td></tr>",
                            "<tr><td>61</td><td>756</td><td>6</td><td>59</td></tr>",
                            "<tr><td>63</td><td>891</td><td>6</td><td>61</td></tr>",
                            "<tr><td>64</td><td>1446</td><td>6</td><td>63</td></tr>",
                            "<tr><td>65</td><td>650</td><td>6</td><td>64</td></tr>",
                            "<tr><td>67</td><td>645</td><td>6</td><td>65</td></tr>",
                            "<tr><td>67</td><td>874</td><td>6</td><td>67</td></tr>",
                            "<tr><td>70</td><td>1333</td><td>6</td><td>67</td></tr>",
                            "<tr><td>72</td><td>961</td><td>6</td><td>70</td></tr>",
                            "<tr><td>74</td><td>1093</td><td>6</td><td>72</td></tr>",
                            "<tr><td>77</td><td>1439</td><td>6</td><td>74</td></tr>",
                            "<tr><td>79</td><td>583</td><td>6</td><td>77</td></tr>",
                            "<tr><td>80</td><td>667</td><td>6</td><td>79</td></tr>",
                            "<tr><td>80</td><td>983</td><td>6</td><td>80</td></tr>",
                            "<tr><td>80</td><td>887</td><td>6</td><td>80</td></tr>",
                            "<tr><td>82</td><td>997</td><td>6</td><td>80</td></tr>",
                            "<tr><td>83</td><td>1119</td><td>6</td><td>82</td></tr>",
                            "<tr><td>83</td><td>878</td><td>6</td><td>83</td></tr>",
                            "<tr><td>83</td><td>869</td><td>6</td><td>83</td></tr>",
                            "<tr><td>88</td><td>1575</td><td>6</td><td>83</td></tr>",
                            "<tr><td>89</td><td>1189</td><td>6</td><td>88</td></tr>",
                            "<tr><td>90</td><td>1299</td><td>6</td><td>89</td></tr>",
                            "<tr><td>91</td><td>636</td><td>6</td><td>90</td></tr>",
                            "<tr><td>92</td><td>841</td><td>6</td><td>91</td></tr>",
                            "<tr><td>92</td><td>942</td><td>6</td><td>92</td></tr>",
                            "<tr><td>98</td><td>1050</td><td>6</td><td>92</td></tr>",
                            "<tr><td>98</td><td>631</td><td>6</td><td>98</td></tr>",
                            "<tr><td>101</td><td>1332</td><td>6</td><td>98</td></tr>",
                            "<tr><td>106</td><td>1510</td><td>6</td><td>101</td></tr>",
                            "<tr><td>107</td><td>1452</td><td>6</td><td>106</td></tr>",
                            "<tr><td>107</td><td>586</td><td>6</td><td>107</td></tr>",
                            "<tr><td>108</td><td>1392</td><td>6</td><td>107</td></tr>",
                            "<tr><td>110</td><td>1489</td><td>6</td><td>108</td></tr>",
                            "<tr><td>110</td><td>964</td><td>6</td><td>110</td></tr>",
                            "<tr><td>112</td><td>1124</td><td>6</td><td>110</td></tr>",
                            "<tr><td>112</td><td>1530</td><td>6</td><td>112</td></tr>",
                            "<tr><td>114</td><td>966</td><td>6</td><td>112</td></tr>",
                            "<tr><td>118</td><td>864</td><td>6</td><td>114</td></tr>",
                            "<tr><td>118</td><td>1472</td><td>6</td><td>118</td></tr>",
                            "<tr><td>120</td><td>1339</td><td>6</td><td>118</td></tr>",
                            "<tr><td>120</td><td>1089</td><td>6</td><td>120</td></tr>",
                            "<tr><td>121</td><td>739</td><td>6</td><td>120</td></tr>",
                            "<tr><td>121</td><td>735</td><td>6</td><td>121</td></tr>",
                            "<tr><td>121</td><td>1393</td><td>6</td><td>121</td></tr>",
                            "<tr><td>123</td><td>1282</td><td>6</td><td>121</td></tr>",
                            "<tr><td>124</td><td>1403</td><td>6</td><td>123</td></tr>",
                            "<tr><td>124</td><td>1531</td><td>6</td><td>124</td></tr>",
                            "<tr><td>126</td><td>1364</td><td>6</td><td>124</td></tr>",
                            "<tr><td>126</td><td>806</td><td>6</td><td>126</td></tr>",
                            "<tr><td>127</td><td>1034</td><td>6</td><td>126</td></tr>",
                            "<tr><td>129</td><td>1360</td><td>6</td><td>127</td></tr>",
                            "<tr><td>129</td><td>1509</td><td>6</td><td>129</td></tr>",
                            "<tr><td>130</td><td>779</td><td>6</td><td>129</td></tr>",
                            "<tr><td>131</td><td>881</td><td>6</td><td>130</td></tr>",
                            "<tr><td>132</td><td>999</td><td>6</td><td>131</td></tr>",
                            "<tr><td>134</td><td>1219</td><td>6</td><td>132</td></tr>",
                            "<tr><td>135</td><td>724</td><td>6</td><td>134</td></tr>",
                            "<tr><td>137</td><td>657</td><td>6</td><td>135</td></tr>",
                            "<tr><td>137</td><td>1201</td><td>6</td><td>137</td></tr>",
                            "<tr><td>138</td><td>768</td><td>6</td><td>137</td></tr>",
                            "<tr><td>139</td><td>1064</td><td>6</td><td>138</td></tr>",
                            "<tr><td>139</td><td>1433</td><td>6</td><td>139</td></tr>",
                            "<tr><td>141</td><td>1401</td><td>6</td><td>139</td></tr>",
                            "<tr><td>141</td><td>565</td><td>6</td><td>141</td></tr>",
                            "<tr><td>142</td><td>1369</td><td>6</td><td>141</td></tr>",
                            "<tr><td>143</td><td>1193</td><td>6</td><td>142</td></tr>",
                            "<tr><td>143</td><td>1448</td><td>6</td><td>143</td></tr>",
                            "<tr><td>146</td><td>1479</td><td>6</td><td>143</td></tr>",
                            "<tr><td>148</td><td>812</td><td>6</td><td>146</td></tr>",
                            "<tr><td>149</td><td>1146</td><td>6</td><td>148</td></tr>",
                            "<tr><td>152</td><td>1197</td><td>6</td><td>149</td></tr>",
                            "<tr><td>153</td><td>969</td><td>6</td><td>152</td></tr>",
                            "<tr><td>154</td><td>1168</td><td>6</td><td>153</td></tr>",
                            "<tr><td>156</td><td>956</td><td>6</td><td>154</td></tr>",
                            "<tr><td>156</td><td>692</td><td>6</td><td>156</td></tr>",
                            "<tr><td>161</td><td>1068</td><td>6</td><td>156</td></tr>",
                            "<tr><td>162</td><td>1205</td><td>6</td><td>161</td></tr>",
                            "<tr><td>164</td><td>742</td><td>6</td><td>162</td></tr>",
                            "<tr><td>165</td><td>897</td><td>6</td><td>164</td></tr>",
                            "<tr><td>165</td><td>900</td><td>6</td><td>165</td></tr>",
                            "<tr><td>169</td><td>659</td><td>6</td><td>165</td></tr>",
                            "<tr><td>170</td><td>1342</td><td>6</td><td>169</td></tr>",
                            "<tr><td>171</td><td>1181</td><td>6</td><td>170</td></tr>",
                            "<tr><td>171</td><td>1567</td><td>6</td><td>171</td></tr>",
                            "<tr><td>172</td><td>749</td><td>6</td><td>171</td></tr>",
                            "<tr><td>175</td><td>867</td><td>6</td><td>172</td></tr>",
                            "<tr><td>176</td><td>1143</td><td>6</td><td>175</td></tr>",
                            "<tr><td>176</td><td>1278</td><td>6</td><td>176</td></tr>",
                            "<tr><td>180</td><td>1563</td><td>6</td><td>176</td></tr>",
                            "<tr><td>181</td><td>1346</td><td>6</td><td>180</td></tr>",
                            "<tr><td>181</td><td>731</td><td>6</td><td>181</td></tr>",
                            "<tr><td>182</td><td>1008</td><td>6</td><td>181</td></tr>",
                            "<tr><td>185</td><td>925</td><td>6</td><td>182</td></tr>",
                            "<tr><td>185</td><td>578</td><td>6</td><td>185</td></tr>",
                            "<tr><td>187</td><td>633</td><td>6</td><td>185</td></tr>",
                            "<tr><td>187</td><td>695</td><td>6</td><td>187</td></tr>",
                            "<tr><td>191</td><td>1039</td><td>6</td><td>187</td></tr>",
                            "<tr><td>193</td><td>1043</td><td>6</td><td>191</td></tr>",
                            "<tr><td>193</td><td>634</td><td>6</td><td>193</td></tr>",
                            "<tr><td>193</td><td>1238</td><td>6</td><td>193</td></tr>",
                            "<tr><td>1</td><td>738</td><td>7</td><td>0</td></tr>",
                            "<tr><td>2</td><td>1069</td><td>7</td><td>1</td></tr>",
                            "<tr><td>2</td><td>1311</td><td>7</td><td>2</td></tr>",
                            "<tr><td>3</td><td>1110</td><td>7</td><td>2</td></tr>",
                            "<tr><td>4</td><td>1001</td><td>7</td><td>3</td></tr>",
                            "<tr><td>4</td><td>651</td><td>7</td><td>4</td></tr>",
                            "<tr><td>5</td><td>965</td><td>7</td><td>4</td></tr>",
                            "<tr><td>7</td><td>759</td><td>7</td><td>5</td></tr>",
                            "<tr><td>12</td><td>876</td><td>7</td><td>7</td></tr>",
                            "<tr><td>16</td><td>1498</td><td>7</td><td>12</td></tr>",
                            "<tr><td>19</td><td>1139</td><td>7</td><td>16</td></tr>",
                            "<tr><td>22</td><td>1206</td><td>7</td><td>19</td></tr>",
                            "<tr><td>23</td><td>945</td><td>7</td><td>22</td></tr>",
                            "<tr><td>29</td><td>1076</td><td>7</td><td>23</td></tr>",
                            "<tr><td>29</td><td>1235</td><td>7</td><td>29</td></tr>",
                            "<tr><td>29</td><td>1568</td><td>7</td><td>29</td></tr>",
                            "<tr><td>30</td><td>1023</td><td>7</td><td>29</td></tr>",
                            "<tr><td>33</td><td>1012</td><td>7</td><td>30</td></tr>",
                            "<tr><td>35</td><td>979</td><td>7</td><td>33</td></tr>",
                            "<tr><td>37</td><td>1335</td><td>7</td><td>35</td></tr>",
                            "<tr><td>38</td><td>1078</td><td>7</td><td>37</td></tr>",
                            "<tr><td>39</td><td>1435</td><td>7</td><td>38</td></tr>",
                            "<tr><td>42</td><td>851</td><td>7</td><td>39</td></tr>",
                            "<tr><td>45</td><td>802</td><td>7</td><td>42</td></tr>",
                            "<tr><td>46</td><td>1187</td><td>7</td><td>45</td></tr>",
                            "<tr><td>47</td><td>1056</td><td>7</td><td>46</td></tr>",
                            "<tr><td>49</td><td>1066</td><td>7</td><td>47</td></tr>",
                            "<tr><td>49</td><td>888</td><td>7</td><td>49</td></tr>",
                            "<tr><td>49</td><td>1200</td><td>7</td><td>49</td></tr>",
                            "<tr><td>51</td><td>865</td><td>7</td><td>49</td></tr>",
                            "<tr><td>52</td><td>822</td><td>7</td><td>51</td></tr>",
                            "<tr><td>54</td><td>622</td><td>7</td><td>52</td></tr>",
                            "<tr><td>55</td><td>1232</td><td>7</td><td>54</td></tr>",
                            "<tr><td>57</td><td>1466</td><td>7</td><td>55</td></tr>",
                            "<tr><td>58</td><td>1255</td><td>7</td><td>57</td></tr>",
                            "<tr><td>58</td><td>1285</td><td>7</td><td>58</td></tr>",
                            "<tr><td>61</td><td>1496</td><td>7</td><td>58</td></tr>",
                            "<tr><td>62</td><td>1081</td><td>7</td><td>61</td></tr>",
                            "<tr><td>64</td><td>1233</td><td>7</td><td>62</td></tr>",
                            "<tr><td>68</td><td>1027</td><td>7</td><td>64</td></tr>",
                            "<tr><td>69</td><td>1246</td><td>7</td><td>68</td></tr>",
                            "<tr><td>70</td><td>1325</td><td>7</td><td>69</td></tr>",
                            "<tr><td>70</td><td>1457</td><td>7</td><td>70</td></tr>",
                            "<tr><td>73</td><td>714</td><td>7</td><td>70</td></tr>",
                            "<tr><td>74</td><td>595</td><td>7</td><td>73</td></tr>",
                            "<tr><td>74</td><td>1179</td><td>7</td><td>74</td></tr>",
                            "<tr><td>76</td><td>683</td><td>7</td><td>74</td></tr>",
                            "<tr><td>78</td><td>1577</td><td>7</td><td>76</td></tr>",
                            "<tr><td>79</td><td>1229</td><td>7</td><td>78</td></tr>",
                            "<tr><td>81</td><td>1464</td><td>7</td><td>79</td></tr>",
                            "<tr><td>81</td><td>1443</td><td>7</td><td>81</td></tr>",
                            "<tr><td>83</td><td>1379</td><td>7</td><td>81</td></tr>",
                            "<tr><td>83</td><td>572</td><td>7</td><td>83</td></tr>",
                            "<tr><td>84</td><td>1384</td><td>7</td><td>83</td></tr>",
                            "<tr><td>85</td><td>1513</td><td>7</td><td>84</td></tr>",
                            "<tr><td>88</td><td>1548</td><td>7</td><td>85</td></tr>",
                            "<tr><td>88</td><td>1273</td><td>7</td><td>88</td></tr>",
                            "<tr><td>88</td><td>757</td><td>7</td><td>88</td></tr>",
                            "<tr><td>89</td><td>1037</td><td>7</td><td>88</td></tr>",
                            "<tr><td>89</td><td>1521</td><td>7</td><td>89</td></tr>",
                            "<tr><td>90</td><td>1174</td><td>7</td><td>89</td></tr>",
                            "<tr><td>93</td><td>741</td><td>7</td><td>90</td></tr>",
                            "<tr><td>94</td><td>665</td><td>7</td><td>93</td></tr>",
                            "<tr><td>94</td><td>1241</td><td>7</td><td>94</td></tr>",
                            "<tr><td>94</td><td>1564</td><td>7</td><td>94</td></tr>",
                            "<tr><td>95</td><td>1543</td><td>7</td><td>94</td></tr>",
                            "<tr><td>95</td><td>656</td><td>7</td><td>95</td></tr>",
                            "<tr><td>96</td><td>623</td><td>7</td><td>95</td></tr>",
                            "<tr><td>96</td><td>1569</td><td>7</td><td>96</td></tr>",
                            "<tr><td>97</td><td>1417</td><td>7</td><td>96</td></tr>",
                            "<tr><td>97</td><td>718</td><td>7</td><td>97</td></tr>",
                            "<tr><td>100</td><td>1482</td><td>7</td><td>97</td></tr>",
                            "<tr><td>103</td><td>992</td><td>7</td><td>100</td></tr>",
                            "<tr><td>106</td><td>708</td><td>7</td><td>103</td></tr>",
                            "<tr><td>106</td><td>1228</td><td>7</td><td>106</td></tr>",
                            "<tr><td>106</td><td>1372</td><td>7</td><td>106</td></tr>",
                            "<tr><td>109</td><td>621</td><td>7</td><td>106</td></tr>",
                            "<tr><td>111</td><td>605</td><td>7</td><td>109</td></tr>",
                            "<tr><td>111</td><td>959</td><td>7</td><td>111</td></tr>",
                            "<tr><td>113</td><td>1495</td><td>7</td><td>111</td></tr>",
                            "<tr><td>114</td><td>827</td><td>7</td><td>113</td></tr>",
                            "<tr><td>115</td><td>596</td><td>7</td><td>114</td></tr>",
                            "<tr><td>115</td><td>943</td><td>7</td><td>115</td></tr>",
                            "<tr><td>115</td><td>1121</td><td>7</td><td>115</td></tr>",
                            "<tr><td>117</td><td>1468</td><td>7</td><td>115</td></tr>",
                            "<tr><td>118</td><td>994</td><td>7</td><td>117</td></tr>",
                            "<tr><td>120</td><td>1493</td><td>7</td><td>118</td></tr>",
                            "<tr><td>123</td><td>587</td><td>7</td><td>120</td></tr>",
                            "<tr><td>124</td><td>1330</td><td>7</td><td>123</td></tr>",
                            "<tr><td>126</td><td>1428</td><td>7</td><td>124</td></tr>",
                            "<tr><td>129</td><td>1445</td><td>7</td><td>126</td></tr>",
                            "<tr><td>129</td><td>723</td><td>7</td><td>129</td></tr>",
                            "<tr><td>130</td><td>1475</td><td>7</td><td>129</td></tr>",
                            "<tr><td>132</td><td>619</td><td>7</td><td>130</td></tr>",
                            "<tr><td>132</td><td>1090</td><td>7</td><td>132</td></tr>",
                            "<tr><td>133</td><td>1149</td><td>7</td><td>132</td></tr>",
                            "<tr><td>134</td><td>1178</td><td>7</td><td>133</td></tr>",
                            "<tr><td>134</td><td>1535</td><td>7</td><td>134</td></tr>",
                            "<tr><td>135</td><td>849</td><td>7</td><td>134</td></tr>",
                            "<tr><td>138</td><td>1358</td><td>7</td><td>135</td></tr>",
                            "<tr><td>139</td><td>1450</td><td>7</td><td>138</td></tr>",
                            "<tr><td>140</td><td>1259</td><td>7</td><td>139</td></tr>",
                            "<tr><td>141</td><td>784</td><td>7</td><td>140</td></tr>",
                            "<tr><td>143</td><td>1155</td><td>7</td><td>141</td></tr>",
                            "<tr><td>144</td><td>1199</td><td>7</td><td>143</td></tr>",
                            "<tr><td>146</td><td>789</td><td>7</td><td>144</td></tr>",
                            "<tr><td>146</td><td>804</td><td>7</td><td>146</td></tr>",
                            "<tr><td>148</td><td>783</td><td>7</td><td>146</td></tr>",
                            "<tr><td>148</td><td>1578</td><td>7</td><td>148</td></tr>",
                            "<tr><td>152</td><td>1160</td><td>7</td><td>148</td></tr>",
                            "<tr><td>154</td><td>1061</td><td>7</td><td>152</td></tr>",
                            "<tr><td>156</td><td>588</td><td>7</td><td>154</td></tr>",
                            "<tr><td>156</td><td>1462</td><td>7</td><td>156</td></tr>",
                            "<tr><td>157</td><td>1240</td><td>7</td><td>156</td></tr>",
                            "<tr><td>161</td><td>1190</td><td>7</td><td>157</td></tr>",
                            "<tr><td>161</td><td>653</td><td>7</td><td>161</td></tr>",
                            "<tr><td>164</td><td>570</td><td>7</td><td>161</td></tr>",
                            "<tr><td>166</td><td>644</td><td>7</td><td>164</td></tr>",
                            "<tr><td>166</td><td>781</td><td>7</td><td>166</td></tr>",
                            "<tr><td>167</td><td>854</td><td>7</td><td>166</td></tr>",
                            "<tr><td>169</td><td>746</td><td>7</td><td>167</td></tr>",
                            "<tr><td>170</td><td>567</td><td>7</td><td>169</td></tr>",
                            "<tr><td>170</td><td>1267</td><td>7</td><td>170</td></tr>",
                            "<tr><td>173</td><td>669</td><td>7</td><td>170</td></tr>",
                            "<tr><td>175</td><td>1407</td><td>7</td><td>173</td></tr>",
                            "<tr><td>177</td><td>831</td><td>7</td><td>175</td></tr>",
                            "<tr><td>178</td><td>991</td><td>7</td><td>177</td></tr>",
                            "<tr><td>182</td><td>1230</td><td>7</td><td>178</td></tr>",
                            "<tr><td>183</td><td>1067</td><td>7</td><td>182</td></tr>",
                            "<tr><td>185</td><td>1463</td><td>7</td><td>183</td></tr>",
                            "<tr><td>185</td><td>1441</td><td>7</td><td>185</td></tr>",
                            "<tr><td>188</td><td>710</td><td>7</td><td>185</td></tr>",
                            "<tr><td>190</td><td>600</td><td>7</td><td>188</td></tr>",
                            "<tr><td>191</td><td>1508</td><td>7</td><td>190</td></tr>",
                            "<tr><td>191</td><td>1323</td><td>7</td><td>191</td></tr>",
                            "<tr><td>192</td><td>903</td><td>7</td><td>191</td></tr>",
                            "<tr><td>195</td><td>1074</td><td>7</td><td>192</td></tr>",
                            "<tr><td>195</td><td>1473</td><td>7</td><td>195</td></tr>",
                            "<tr><td>197</td><td>1304</td><td>7</td><td>195</td></tr>",
                            "<tr><td>197</td><td>1172</td><td>7</td><td>197</td></tr>",
                            "<tr><td>197</td><td>1091</td><td>7</td><td>197</td></tr>",
                            "<tr><td>197</td><td>993</td><td>7</td><td>197</td></tr>",
                            "<tr><td>197</td><td>764</td><td>7</td><td>197</td></tr>",
                            "<tr><td>198</td><td>1011</td><td>7</td><td>197</td></tr>",
                            "<tr><td>198</td><td>1216</td><td>7</td><td>198</td></tr>",
                            "<tr><td>35</td><td>1480</td><td>37</td><td>0</td></tr>",
                            "</table>"
                        ]
                    }
                }
            ],
            "execution_count": 24
        },
        {
            "cell_type": "code",
            "source": [
                "SELECT UGYFEL_FK\r\n",
                "FROM Foglalas JOIN \r\n",
                ""
            ],
            "metadata": {
                "azdata_cell_guid": "b3950273-006b-4021-9e53-50ba412fbc05",
                "language": "sql"
            },
            "outputs": [],
            "execution_count": null
        }
    ]
}