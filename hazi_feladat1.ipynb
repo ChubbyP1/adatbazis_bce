{
    "metadata": {
        "kernelspec": {
            "name": "SQL",
            "display_name": "SQL",
            "language": "sql"
        },
        "language_info": {
            "name": "sql",
            "version": ""
        }
    },
    "nbformat_minor": 2,
    "nbformat": 4,
    "cells": [
        {
            "cell_type": "markdown",
            "source": [
                "Házi feladat"
            ],
            "metadata": {
                "azdata_cell_guid": "c1af343f-552c-42f3-b7ca-42013a45cfb5"
            },
            "attachments": {}
        }
    ]
}