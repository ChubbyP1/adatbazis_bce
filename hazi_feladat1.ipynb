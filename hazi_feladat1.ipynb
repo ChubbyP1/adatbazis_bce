{
    "metadata": {
        "kernelspec": {
            "name": "SQL",
            "display_name": "SQL",
            "language": "sql"
        },
        "language_info": {
            "name": "sql",
            "version": ""
        }
    },
    "nbformat_minor": 2,
    "nbformat": 4,
    "cells": [
        {
            "cell_type": "markdown",
            "source": [
                "# Házi feladat"
            ],
            "metadata": {
                "azdata_cell_guid": "c1af343f-552c-42f3-b7ca-42013a45cfb5"
            },
            "attachments": {}
        },
        {
            "cell_type": "markdown",
            "source": [
                "## Termékek tábla LISTAÁR oszolpa"
            ],
            "metadata": {
                "azdata_cell_guid": "d87decf0-a3e8-40a0-a76d-95158fce547f"
            },
            "attachments": {}
        },
        {
            "cell_type": "code",
            "source": [
                "SELECT MIN(LISTAAR) AS 'LEGOLCSÓBB ÁR',MAX(LISTAAR) AS 'LEGDRÁGÁBB ÁR', AVG(LISTAAR) AS 'ÁTLAG ÁR'\r\n",
                "FROM Termek\r\n",
                "WHERE LISTAAR IS NOT NULL"
            ],
            "metadata": {
                "azdata_cell_guid": "350ee53d-5ba5-44d0-8f31-f986716fd0a6",
                "language": "sql",
                "tags": []
            },
            "outputs": [
                {
                    "output_type": "display_data",
                    "data": {
                        "text/html": "(1 row affected)"
                    },
                    "metadata": {}
                },
                {
                    "output_type": "display_data",
                    "data": {
                        "text/html": "Total execution time: 00:00:00.047"
                    },
                    "metadata": {}
                },
                {
                    "output_type": "execute_result",
                    "metadata": {},
                    "execution_count": 1,
                    "data": {
                        "application/vnd.dataresource+json": {
                            "schema": {
                                "fields": [
                                    {
                                        "name": "LEGOLCSÓBB ÁR"
                                    },
                                    {
                                        "name": "LEGDRÁGÁBB ÁR"
                                    },
                                    {
                                        "name": "ÁTLAG ÁR"
                                    }
                                ]
                            },
                            "data": [
                                {
                                    "LEGOLCSÓBB ÁR": "0",
                                    "LEGDRÁGÁBB ÁR": "46000",
                                    "ÁTLAG ÁR": "786,2813067150635"
                                }
                            ]
                        },
                        "text/html": [
                            "<table>",
                            "<tr><th>LEGOLCSÓBB ÁR</th><th>LEGDRÁGÁBB ÁR</th><th>ÁTLAG ÁR</th></tr>",
                            "<tr><td>0</td><td>46000</td><td>786,2813067150635</td></tr>",
                            "</table>"
                        ]
                    }
                }
            ],
            "execution_count": 1
        },
        {
            "cell_type": "code",
            "source": [
                "SELECT COUNT(DISTINCT LISTAAR) AS 'Különböző értékek száma'\r\n",
                "FROM Termek\r\n",
                "WHERE LISTAAR IS NOT NULL"
            ],
            "metadata": {
                "azdata_cell_guid": "685a606f-e9aa-45f9-9120-2489414c5457",
                "language": "sql"
            },
            "outputs": [
                {
                    "output_type": "display_data",
                    "data": {
                        "text/html": "(1 row affected)"
                    },
                    "metadata": {}
                },
                {
                    "output_type": "display_data",
                    "data": {
                        "text/html": "Total execution time: 00:00:00.012"
                    },
                    "metadata": {}
                },
                {
                    "output_type": "execute_result",
                    "metadata": {},
                    "execution_count": 2,
                    "data": {
                        "application/vnd.dataresource+json": {
                            "schema": {
                                "fields": [
                                    {
                                        "name": "Különböző értékek száma"
                                    }
                                ]
                            },
                            "data": [
                                {
                                    "Különböző értékek száma": "220"
                                }
                            ]
                        },
                        "text/html": [
                            "<table>",
                            "<tr><th>Különböző értékek száma</th></tr>",
                            "<tr><td>220</td></tr>",
                            "</table>"
                        ]
                    }
                }
            ],
            "execution_count": 2
        },
        {
            "cell_type": "code",
            "source": [
                "SELECT COUNT(*) AS 'Sorok száma'\r\n",
                "FROM Termek"
            ],
            "metadata": {
                "azdata_cell_guid": "11c42689-aa2b-4b31-bb66-caa17d4b4ef9",
                "language": "sql"
            },
            "outputs": [
                {
                    "output_type": "display_data",
                    "data": {
                        "text/html": "(1 row affected)"
                    },
                    "metadata": {}
                },
                {
                    "output_type": "display_data",
                    "data": {
                        "text/html": "Total execution time: 00:00:00.008"
                    },
                    "metadata": {}
                },
                {
                    "output_type": "execute_result",
                    "metadata": {},
                    "execution_count": 3,
                    "data": {
                        "application/vnd.dataresource+json": {
                            "schema": {
                                "fields": [
                                    {
                                        "name": "Sorok száma"
                                    }
                                ]
                            },
                            "data": [
                                {
                                    "Sorok száma": "551"
                                }
                            ]
                        },
                        "text/html": [
                            "<table>",
                            "<tr><th>Sorok száma</th></tr>",
                            "<tr><td>551</td></tr>",
                            "</table>"
                        ]
                    }
                }
            ],
            "execution_count": 3
        },
        {
            "cell_type": "markdown",
            "source": [
                "## Termékek MEGNEVEZÉS oszolpa"
            ],
            "metadata": {
                "azdata_cell_guid": "87697577-d4e7-4b24-8265-8f3283889b13"
            },
            "attachments": {}
        },
        {
            "cell_type": "code",
            "source": [
                "SELECT  LEN(MEGNEVEZES) AS 'Megnevzések hossza',\r\n",
                "        count(*) AS 'db szám'\r\n",
                "FROM Termek\r\n",
                "GROUP BY LEN(MEGNEVEZES)\r\n",
                ""
            ],
            "metadata": {
                "azdata_cell_guid": "a6d3eadb-8ce9-40eb-939d-d6dffeb5ab2e",
                "language": "sql"
            },
            "outputs": [
                {
                    "output_type": "display_data",
                    "data": {
                        "text/html": "(33 rows affected)"
                    },
                    "metadata": {}
                },
                {
                    "output_type": "display_data",
                    "data": {
                        "text/html": "Total execution time: 00:00:00.011"
                    },
                    "metadata": {}
                },
                {
                    "output_type": "execute_result",
                    "metadata": {
                        "azdata_chartOptions": {
                            "type": "bar",
                            "dataDirection": "horizontal",
                            "columnsAsLabels": true,
                            "labelFirstColumn": false,
                            "legendPosition": "none"
                        }
                    },
                    "execution_count": 8,
                    "data": {
                        "application/vnd.dataresource+json": {
                            "schema": {
                                "fields": [
                                    {
                                        "name": "Megnevzések hossza"
                                    },
                                    {
                                        "name": "db szám"
                                    }
                                ]
                            },
                            "data": [
                                {
                                    "Megnevzések hossza": "3",
                                    "db szám": "2"
                                },
                                {
                                    "Megnevzések hossza": "5",
                                    "db szám": "2"
                                },
                                {
                                    "Megnevzések hossza": "6",
                                    "db szám": "1"
                                },
                                {
                                    "Megnevzések hossza": "7",
                                    "db szám": "2"
                                },
                                {
                                    "Megnevzések hossza": "8",
                                    "db szám": "5"
                                },
                                {
                                    "Megnevzések hossza": "9",
                                    "db szám": "8"
                                },
                                {
                                    "Megnevzések hossza": "10",
                                    "db szám": "15"
                                },
                                {
                                    "Megnevzések hossza": "11",
                                    "db szám": "18"
                                },
                                {
                                    "Megnevzések hossza": "12",
                                    "db szám": "23"
                                },
                                {
                                    "Megnevzések hossza": "13",
                                    "db szám": "30"
                                },
                                {
                                    "Megnevzések hossza": "14",
                                    "db szám": "35"
                                },
                                {
                                    "Megnevzések hossza": "15",
                                    "db szám": "32"
                                },
                                {
                                    "Megnevzések hossza": "16",
                                    "db szám": "42"
                                },
                                {
                                    "Megnevzések hossza": "17",
                                    "db szám": "32"
                                },
                                {
                                    "Megnevzések hossza": "18",
                                    "db szám": "38"
                                },
                                {
                                    "Megnevzések hossza": "19",
                                    "db szám": "37"
                                },
                                {
                                    "Megnevzések hossza": "20",
                                    "db szám": "35"
                                },
                                {
                                    "Megnevzések hossza": "21",
                                    "db szám": "37"
                                },
                                {
                                    "Megnevzések hossza": "22",
                                    "db szám": "26"
                                },
                                {
                                    "Megnevzések hossza": "23",
                                    "db szám": "20"
                                },
                                {
                                    "Megnevzések hossza": "24",
                                    "db szám": "29"
                                },
                                {
                                    "Megnevzések hossza": "25",
                                    "db szám": "16"
                                },
                                {
                                    "Megnevzések hossza": "26",
                                    "db szám": "12"
                                },
                                {
                                    "Megnevzések hossza": "27",
                                    "db szám": "10"
                                },
                                {
                                    "Megnevzések hossza": "28",
                                    "db szám": "8"
                                },
                                {
                                    "Megnevzések hossza": "29",
                                    "db szám": "11"
                                },
                                {
                                    "Megnevzések hossza": "30",
                                    "db szám": "11"
                                },
                                {
                                    "Megnevzések hossza": "31",
                                    "db szám": "5"
                                },
                                {
                                    "Megnevzések hossza": "32",
                                    "db szám": "1"
                                },
                                {
                                    "Megnevzések hossza": "33",
                                    "db szám": "2"
                                },
                                {
                                    "Megnevzések hossza": "36",
                                    "db szám": "2"
                                },
                                {
                                    "Megnevzések hossza": "39",
                                    "db szám": "2"
                                },
                                {
                                    "Megnevzések hossza": "40",
                                    "db szám": "2"
                                }
                            ]
                        },
                        "text/html": [
                            "<table>",
                            "<tr><th>Megnevzések hossza</th><th>db szám</th></tr>",
                            "<tr><td>3</td><td>2</td></tr>",
                            "<tr><td>5</td><td>2</td></tr>",
                            "<tr><td>6</td><td>1</td></tr>",
                            "<tr><td>7</td><td>2</td></tr>",
                            "<tr><td>8</td><td>5</td></tr>",
                            "<tr><td>9</td><td>8</td></tr>",
                            "<tr><td>10</td><td>15</td></tr>",
                            "<tr><td>11</td><td>18</td></tr>",
                            "<tr><td>12</td><td>23</td></tr>",
                            "<tr><td>13</td><td>30</td></tr>",
                            "<tr><td>14</td><td>35</td></tr>",
                            "<tr><td>15</td><td>32</td></tr>",
                            "<tr><td>16</td><td>42</td></tr>",
                            "<tr><td>17</td><td>32</td></tr>",
                            "<tr><td>18</td><td>38</td></tr>",
                            "<tr><td>19</td><td>37</td></tr>",
                            "<tr><td>20</td><td>35</td></tr>",
                            "<tr><td>21</td><td>37</td></tr>",
                            "<tr><td>22</td><td>26</td></tr>",
                            "<tr><td>23</td><td>20</td></tr>",
                            "<tr><td>24</td><td>29</td></tr>",
                            "<tr><td>25</td><td>16</td></tr>",
                            "<tr><td>26</td><td>12</td></tr>",
                            "<tr><td>27</td><td>10</td></tr>",
                            "<tr><td>28</td><td>8</td></tr>",
                            "<tr><td>29</td><td>11</td></tr>",
                            "<tr><td>30</td><td>11</td></tr>",
                            "<tr><td>31</td><td>5</td></tr>",
                            "<tr><td>32</td><td>1</td></tr>",
                            "<tr><td>33</td><td>2</td></tr>",
                            "<tr><td>36</td><td>2</td></tr>",
                            "<tr><td>39</td><td>2</td></tr>",
                            "<tr><td>40</td><td>2</td></tr>",
                            "</table>"
                        ]
                    }
                }
            ],
            "execution_count": 8
        },
        {
            "cell_type": "code",
            "source": [
                "SELECT MIN(LEN(MEGNEVEZES)) AS 'legrövidebb str', \r\n",
                "       MAX(LEN(MEGNEVEZES)) AS 'leghosszabb str', \r\n",
                "       AVG(LEN(MEGNEVEZES)) AS 'átlagos str'\r\n",
                "FROM Termek"
            ],
            "metadata": {
                "azdata_cell_guid": "c5e52d51-289b-4e36-9bf5-90856b767e0b",
                "language": "sql"
            },
            "outputs": [
                {
                    "output_type": "display_data",
                    "data": {
                        "text/html": "(1 row affected)"
                    },
                    "metadata": {}
                },
                {
                    "output_type": "display_data",
                    "data": {
                        "text/html": "Total execution time: 00:00:00.014"
                    },
                    "metadata": {}
                },
                {
                    "output_type": "execute_result",
                    "metadata": {
                        "azdata_chartOptions": {
                            "type": "bar",
                            "dataDirection": "horizontal",
                            "columnsAsLabels": true,
                            "labelFirstColumn": false,
                            "legendPosition": "none"
                        }
                    },
                    "execution_count": 9,
                    "data": {
                        "application/vnd.dataresource+json": {
                            "schema": {
                                "fields": [
                                    {
                                        "name": "legrövidebb str"
                                    },
                                    {
                                        "name": "leghosszabb str"
                                    },
                                    {
                                        "name": "átlagos str"
                                    }
                                ]
                            },
                            "data": [
                                {
                                    "legrövidebb str": "3",
                                    "leghosszabb str": "40",
                                    "átlagos str": "18"
                                }
                            ]
                        },
                        "text/html": [
                            "<table>",
                            "<tr><th>legrövidebb str</th><th>leghosszabb str</th><th>átlagos str</th></tr>",
                            "<tr><td>3</td><td>40</td><td>18</td></tr>",
                            "</table>"
                        ]
                    }
                }
            ],
            "execution_count": 9
        },
        {
            "cell_type": "code",
            "source": [
                "SELECT TOP 10 MEGNEVEZES AS str, \r\n",
                "        LEN(MEGNEVEZES) AS str_length\r\n",
                "FROM Termek\r\n",
                "GROUP BY MEGNEVEZES\r\n",
                "ORDER BY LEN(MEGNEVEZES) DESC"
            ],
            "metadata": {
                "azdata_cell_guid": "8d44b7f8-b447-4482-afc4-285cc182b479",
                "language": "sql"
            },
            "outputs": [
                {
                    "output_type": "display_data",
                    "data": {
                        "text/html": "(10 rows affected)"
                    },
                    "metadata": {}
                },
                {
                    "output_type": "display_data",
                    "data": {
                        "text/html": "Total execution time: 00:00:00.015"
                    },
                    "metadata": {}
                },
                {
                    "output_type": "execute_result",
                    "metadata": {},
                    "execution_count": 11,
                    "data": {
                        "application/vnd.dataresource+json": {
                            "schema": {
                                "fields": [
                                    {
                                        "name": "str"
                                    },
                                    {
                                        "name": "str_length"
                                    }
                                ]
                            },
                            "data": [
                                {
                                    "str": "A föld amelyen élünk - Távoli földrészek",
                                    "str_length": "40"
                                },
                                {
                                    "str": "Összefoglaló feladatgyüjtemény számtech.",
                                    "str_length": "40"
                                },
                                {
                                    "str": "A föld amelyen élünk - Hazánk földrajza",
                                    "str_length": "39"
                                },
                                {
                                    "str": "A föld amelyen élünk - Európa földrajza",
                                    "str_length": "39"
                                },
                                {
                                    "str": "G. toll betét UNI lachnok Fine SA-7C",
                                    "str_length": "36"
                                },
                                {
                                    "str": "Ragasztószalag 19 mm-es SCOTCH+ tépő",
                                    "str_length": "36"
                                },
                                {
                                    "str": "A föld amelyen élünk - munkafüzet",
                                    "str_length": "33"
                                },
                                {
                                    "str": "Díszdoboz tollnak 2 db-os keskeny",
                                    "str_length": "33"
                                },
                                {
                                    "str": "Golyóstoll + ceruza Twister 2in1",
                                    "str_length": "32"
                                },
                                {
                                    "str": "Ajándék cs. tasak italos, fólia",
                                    "str_length": "31"
                                }
                            ]
                        },
                        "text/html": [
                            "<table>",
                            "<tr><th>str</th><th>str_length</th></tr>",
                            "<tr><td>A föld amelyen élünk - Távoli földrészek</td><td>40</td></tr>",
                            "<tr><td>Összefoglaló feladatgyüjtemény számtech.</td><td>40</td></tr>",
                            "<tr><td>A föld amelyen élünk - Hazánk földrajza</td><td>39</td></tr>",
                            "<tr><td>A föld amelyen élünk - Európa földrajza</td><td>39</td></tr>",
                            "<tr><td>G. toll betét UNI lachnok Fine SA-7C</td><td>36</td></tr>",
                            "<tr><td>Ragasztószalag 19 mm-es SCOTCH+ tépő</td><td>36</td></tr>",
                            "<tr><td>A föld amelyen élünk - munkafüzet</td><td>33</td></tr>",
                            "<tr><td>Díszdoboz tollnak 2 db-os keskeny</td><td>33</td></tr>",
                            "<tr><td>Golyóstoll + ceruza Twister 2in1</td><td>32</td></tr>",
                            "<tr><td>Ajándék cs. tasak italos, fólia</td><td>31</td></tr>",
                            "</table>"
                        ]
                    }
                }
            ],
            "execution_count": 11
        }
    ]
}